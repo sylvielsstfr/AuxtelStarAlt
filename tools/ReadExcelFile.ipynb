{
 "cells": [
  {
   "cell_type": "markdown",
   "id": "50a4c2a5-ebb9-4a7b-8bcc-e2b6f8be99b4",
   "metadata": {},
   "source": [
    "# Convert excel to csv"
   ]
  },
  {
   "cell_type": "code",
   "execution_count": 8,
   "id": "77610d32-a5f5-49c0-ad89-0a0a252b933b",
   "metadata": {},
   "outputs": [],
   "source": [
    "import pandas as pd\n",
    "from astropy.coordinates import Angle\n",
    "from astropy import units as u"
   ]
  },
  {
   "cell_type": "code",
   "execution_count": 3,
   "id": "28879271-c42b-4192-ada8-f67810a9b674",
   "metadata": {},
   "outputs": [],
   "source": [
    "filename = \"../astronomical_data/openclusters_wikipedia.xlsx\""
   ]
  },
  {
   "cell_type": "code",
   "execution_count": 6,
   "id": "5e708482-455e-4224-83b5-6dbd2e5f828e",
   "metadata": {},
   "outputs": [],
   "source": [
    "#df = pd.read_excel(filename, index_col=None, header=None)  \n",
    "df = pd.read_excel(filename, index_col=None)  "
   ]
  },
  {
   "cell_type": "code",
   "execution_count": 7,
   "id": "d23e9fa6-b4f5-4f69-b5f3-0f9d62baef7b",
   "metadata": {},
   "outputs": [
    {
     "data": {
      "text/html": [
       "<div>\n",
       "<style scoped>\n",
       "    .dataframe tbody tr th:only-of-type {\n",
       "        vertical-align: middle;\n",
       "    }\n",
       "\n",
       "    .dataframe tbody tr th {\n",
       "        vertical-align: top;\n",
       "    }\n",
       "\n",
       "    .dataframe thead th {\n",
       "        text-align: right;\n",
       "    }\n",
       "</style>\n",
       "<table border=\"1\" class=\"dataframe\">\n",
       "  <thead>\n",
       "    <tr style=\"text-align: right;\">\n",
       "      <th></th>\n",
       "      <th>cluster_name</th>\n",
       "      <th>RA</th>\n",
       "      <th>DEC</th>\n",
       "      <th>constellation</th>\n",
       "      <th>distance_pc</th>\n",
       "      <th>age_myr</th>\n",
       "      <th>diameter_arcsec</th>\n",
       "      <th>magV</th>\n",
       "    </tr>\n",
       "  </thead>\n",
       "  <tbody>\n",
       "    <tr>\n",
       "      <th>0</th>\n",
       "      <td>Hyades</td>\n",
       "      <td>04h 26.9m</td>\n",
       "      <td>+15° 52′</td>\n",
       "      <td>Taurus</td>\n",
       "      <td>47.000</td>\n",
       "      <td>625</td>\n",
       "      <td>330'</td>\n",
       "      <td>0.5</td>\n",
       "    </tr>\n",
       "    <tr>\n",
       "      <th>1</th>\n",
       "      <td>Coma Star Cluster</td>\n",
       "      <td>12h 22.5m</td>\n",
       "      <td>+25° 51′</td>\n",
       "      <td>Coma Berenices</td>\n",
       "      <td>86.000</td>\n",
       "      <td>400-500</td>\n",
       "      <td>120'</td>\n",
       "      <td>1.8</td>\n",
       "    </tr>\n",
       "    <tr>\n",
       "      <th>2</th>\n",
       "      <td>Trapezium Cluster</td>\n",
       "      <td>5h 35.4m</td>\n",
       "      <td>−05° 27′</td>\n",
       "      <td>Orion</td>\n",
       "      <td>412.000</td>\n",
       "      <td>0.3</td>\n",
       "      <td>0.783'</td>\n",
       "      <td>4.0</td>\n",
       "    </tr>\n",
       "    <tr>\n",
       "      <th>3</th>\n",
       "      <td>Messier 6, Butterfly Cluster</td>\n",
       "      <td>17h 40.1m</td>\n",
       "      <td>−32° 13′</td>\n",
       "      <td>Scorpius</td>\n",
       "      <td>487.000</td>\n",
       "      <td>94</td>\n",
       "      <td>20'</td>\n",
       "      <td>4.2</td>\n",
       "    </tr>\n",
       "    <tr>\n",
       "      <th>4</th>\n",
       "      <td>Messier 7</td>\n",
       "      <td>17h 53.8m</td>\n",
       "      <td>−34° 47′</td>\n",
       "      <td>Scorpius</td>\n",
       "      <td>280.000</td>\n",
       "      <td>224</td>\n",
       "      <td>80'</td>\n",
       "      <td>3.3</td>\n",
       "    </tr>\n",
       "    <tr>\n",
       "      <th>...</th>\n",
       "      <td>...</td>\n",
       "      <td>...</td>\n",
       "      <td>...</td>\n",
       "      <td>...</td>\n",
       "      <td>...</td>\n",
       "      <td>...</td>\n",
       "      <td>...</td>\n",
       "      <td>...</td>\n",
       "    </tr>\n",
       "    <tr>\n",
       "      <th>102</th>\n",
       "      <td>NGC 3766, Pearl Cluster</td>\n",
       "      <td>11h 36.2m</td>\n",
       "      <td>−61° 37′</td>\n",
       "      <td>Centaurus</td>\n",
       "      <td>1745.000</td>\n",
       "      <td>14</td>\n",
       "      <td>12'</td>\n",
       "      <td>5.3</td>\n",
       "    </tr>\n",
       "    <tr>\n",
       "      <th>103</th>\n",
       "      <td>NGC 7419</td>\n",
       "      <td>22h 54.3m</td>\n",
       "      <td>+60° 48.9′</td>\n",
       "      <td>Cepheus</td>\n",
       "      <td>2.800</td>\n",
       "      <td>NaN</td>\n",
       "      <td>2'</td>\n",
       "      <td>13.0</td>\n",
       "    </tr>\n",
       "    <tr>\n",
       "      <th>104</th>\n",
       "      <td>NGC 7789, White Rose Cluster</td>\n",
       "      <td>23h 57.4m</td>\n",
       "      <td>+56° 43′</td>\n",
       "      <td>Cassiopeia</td>\n",
       "      <td>2.337</td>\n",
       "      <td>1.7</td>\n",
       "      <td>16'</td>\n",
       "      <td>6.7</td>\n",
       "    </tr>\n",
       "    <tr>\n",
       "      <th>105</th>\n",
       "      <td>Gaia 1</td>\n",
       "      <td>06h 45.9m</td>\n",
       "      <td>−16° 45′</td>\n",
       "      <td>Canis Major</td>\n",
       "      <td>4.600</td>\n",
       "      <td>6.3</td>\n",
       "      <td>13'</td>\n",
       "      <td>8.3</td>\n",
       "    </tr>\n",
       "    <tr>\n",
       "      <th>106</th>\n",
       "      <td>Ru 7</td>\n",
       "      <td>06h 58.9m</td>\n",
       "      <td>−13° 15′</td>\n",
       "      <td>Canis Major</td>\n",
       "      <td>NaN</td>\n",
       "      <td>NaN</td>\n",
       "      <td>NaN</td>\n",
       "      <td>NaN</td>\n",
       "    </tr>\n",
       "  </tbody>\n",
       "</table>\n",
       "<p>107 rows × 8 columns</p>\n",
       "</div>"
      ],
      "text/plain": [
       "                     cluster_name          RA         DEC   constellation  \\\n",
       "0                          Hyades  04h 26.9m     +15° 52′          Taurus   \n",
       "1               Coma Star Cluster  12h 22.5m     +25° 51′  Coma Berenices   \n",
       "2               Trapezium Cluster   5h 35.4m     −05° 27′           Orion   \n",
       "3    Messier 6, Butterfly Cluster  17h 40.1m     −32° 13′        Scorpius   \n",
       "4                       Messier 7  17h 53.8m     −34° 47′        Scorpius   \n",
       "..                            ...         ...         ...             ...   \n",
       "102       NGC 3766, Pearl Cluster  11h 36.2m     −61° 37′       Centaurus   \n",
       "103                      NGC 7419  22h 54.3m   +60° 48.9′         Cepheus   \n",
       "104  NGC 7789, White Rose Cluster  23h 57.4m     +56° 43′      Cassiopeia   \n",
       "105                        Gaia 1  06h 45.9m     −16° 45′     Canis Major   \n",
       "106                          Ru 7  06h 58.9m     −13° 15′     Canis Major   \n",
       "\n",
       "     distance_pc  age_myr diameter_arcsec  magV  \n",
       "0         47.000      625            330'   0.5  \n",
       "1         86.000  400-500            120'   1.8  \n",
       "2        412.000      0.3          0.783'   4.0  \n",
       "3        487.000       94             20'   4.2  \n",
       "4        280.000      224             80'   3.3  \n",
       "..           ...      ...             ...   ...  \n",
       "102     1745.000       14             12'   5.3  \n",
       "103        2.800      NaN              2'  13.0  \n",
       "104        2.337      1.7             16'   6.7  \n",
       "105        4.600      6.3             13'   8.3  \n",
       "106          NaN      NaN             NaN   NaN  \n",
       "\n",
       "[107 rows x 8 columns]"
      ]
     },
     "execution_count": 7,
     "metadata": {},
     "output_type": "execute_result"
    }
   ],
   "source": [
    "df"
   ]
  },
  {
   "cell_type": "code",
   "execution_count": 11,
   "id": "dae1ddfb-0aaf-4212-94b0-f4c407b6dd1d",
   "metadata": {},
   "outputs": [],
   "source": [
    "angl1 = Angle(\"04h 26.9m\")"
   ]
  },
  {
   "cell_type": "code",
   "execution_count": 12,
   "id": "2691ee9e-7c6d-4926-9f7c-3a94066b1df9",
   "metadata": {},
   "outputs": [],
   "source": [
    "angl2 = Angle(\"+15° 52′\")"
   ]
  },
  {
   "cell_type": "code",
   "execution_count": 14,
   "id": "bc3a4346-4dae-4fd1-a409-d6e4acebd3e1",
   "metadata": {},
   "outputs": [
    {
     "data": {
      "text/plain": [
       "66.725"
      ]
     },
     "execution_count": 14,
     "metadata": {},
     "output_type": "execute_result"
    }
   ],
   "source": [
    "angl1.degree"
   ]
  },
  {
   "cell_type": "code",
   "execution_count": 15,
   "id": "b23ecd3c-45f1-4499-bc5b-ed2842596b72",
   "metadata": {},
   "outputs": [
    {
     "data": {
      "text/plain": [
       "15.866666666666667"
      ]
     },
     "execution_count": 15,
     "metadata": {},
     "output_type": "execute_result"
    }
   ],
   "source": [
    "angl2.degree"
   ]
  },
  {
   "cell_type": "code",
   "execution_count": null,
   "id": "e852b078-e60d-4e1c-93fd-bdbcbe57ec04",
   "metadata": {},
   "outputs": [],
   "source": []
  }
 ],
 "metadata": {
  "kernelspec": {
   "display_name": "Python 3 (ipykernel)",
   "language": "python",
   "name": "python3"
  },
  "language_info": {
   "codemirror_mode": {
    "name": "ipython",
    "version": 3
   },
   "file_extension": ".py",
   "mimetype": "text/x-python",
   "name": "python",
   "nbconvert_exporter": "python",
   "pygments_lexer": "ipython3",
   "version": "3.9.15"
  }
 },
 "nbformat": 4,
 "nbformat_minor": 5
}
