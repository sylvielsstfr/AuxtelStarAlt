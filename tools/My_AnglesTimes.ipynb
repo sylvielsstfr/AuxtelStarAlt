{
 "cells": [
  {
   "cell_type": "markdown",
   "id": "ac7816d4",
   "metadata": {},
   "source": [
    "# Angles and Times in astronomy\n",
    "\n",
    "- Sylvie Dagoret-Campagne\n",
    "- creation date : 2022-09-10"
   ]
  },
  {
   "cell_type": "code",
   "execution_count": 1,
   "id": "f6c33f8a",
   "metadata": {},
   "outputs": [],
   "source": [
    "from astropy.coordinates import Angle\n",
    "from astropy import units as u"
   ]
  },
  {
   "cell_type": "code",
   "execution_count": 2,
   "id": "078d569f",
   "metadata": {},
   "outputs": [],
   "source": [
    "import numpy as np\n",
    "from astropy.time import Time, TimezoneInfo\n",
    "from datetime import datetime\n",
    "import pytz"
   ]
  },
  {
   "cell_type": "code",
   "execution_count": 3,
   "id": "ddb42d73",
   "metadata": {},
   "outputs": [],
   "source": [
    "from astropy.coordinates import EarthLocation"
   ]
  },
  {
   "cell_type": "markdown",
   "id": "b82d9b0f",
   "metadata": {},
   "source": [
    "## Difference between Soloar day and sideral day"
   ]
  },
  {
   "cell_type": "code",
   "execution_count": 4,
   "id": "e63d7713",
   "metadata": {},
   "outputs": [
    {
     "data": {
      "text/latex": [
       "$0^{\\mathrm{h}}03^{\\mathrm{m}}50^{\\mathrm{s}}$"
      ],
      "text/plain": [
       "<Angle 0.06388889 hourangle>"
      ]
     },
     "execution_count": 4,
     "metadata": {},
     "output_type": "execute_result"
    }
   ],
   "source": [
    "my_angle = Angle('0 3 50 hours')\n",
    "my_angle"
   ]
  },
  {
   "cell_type": "code",
   "execution_count": 5,
   "id": "11773e03",
   "metadata": {},
   "outputs": [
    {
     "data": {
      "text/latex": [
       "$0^\\circ57{}^\\prime30{}^{\\prime\\prime}$"
      ],
      "text/plain": [
       "<Angle 0.95833333 deg>"
      ]
     },
     "execution_count": 5,
     "metadata": {},
     "output_type": "execute_result"
    }
   ],
   "source": [
    "my_angle.to(u.degree)"
   ]
  },
  {
   "cell_type": "markdown",
   "id": "5b59784a",
   "metadata": {},
   "source": [
    "# Ratio angle-Solar days time during a year"
   ]
  },
  {
   "cell_type": "code",
   "execution_count": 6,
   "id": "26dce3fb",
   "metadata": {},
   "outputs": [
    {
     "data": {
      "text/latex": [
       "$360^\\circ00{}^\\prime00{}^{\\prime\\prime}$"
      ],
      "text/plain": [
       "<Angle 360. deg>"
      ]
     },
     "execution_count": 6,
     "metadata": {},
     "output_type": "execute_result"
    }
   ],
   "source": [
    "fullyear_rot_angle = Angle(360,unit=u.degree)\n",
    "fullyear_rot_angle "
   ]
  },
  {
   "cell_type": "code",
   "execution_count": 7,
   "id": "d482fad7",
   "metadata": {},
   "outputs": [
    {
     "data": {
      "text/latex": [
       "$8766^{\\mathrm{h}}00^{\\mathrm{m}}00^{\\mathrm{s}}$"
      ],
      "text/plain": [
       "<Angle 8766. hourangle>"
      ]
     },
     "execution_count": 7,
     "metadata": {},
     "output_type": "execute_result"
    }
   ],
   "source": [
    "fullyear_time = Angle(365.25*24,unit=u.hour)\n",
    "fullyear_time"
   ]
  },
  {
   "cell_type": "code",
   "execution_count": 8,
   "id": "e753dac1",
   "metadata": {},
   "outputs": [
    {
     "data": {
      "text/latex": [
       "$0.041067762 \\; \\mathrm{\\frac{{}^{\\circ}}{{}^{h}}}$"
      ],
      "text/plain": [
       "<Quantity 0.04106776 deg / hourangle>"
      ]
     },
     "execution_count": 8,
     "metadata": {},
     "output_type": "execute_result"
    }
   ],
   "source": [
    "fullyear_rot_angle/fullyear_time"
   ]
  },
  {
   "cell_type": "markdown",
   "id": "fffba87d",
   "metadata": {},
   "source": [
    "# Ratio of earth self rotation during a day"
   ]
  },
  {
   "cell_type": "code",
   "execution_count": 9,
   "id": "0201cfd7",
   "metadata": {},
   "outputs": [],
   "source": [
    "fullday_rot_angle=Angle(360,unit=u.degree)"
   ]
  },
  {
   "cell_type": "code",
   "execution_count": 10,
   "id": "9e4cee98",
   "metadata": {},
   "outputs": [],
   "source": [
    "fullday_time = Angle(24,unit=u.hour)"
   ]
  },
  {
   "cell_type": "code",
   "execution_count": 11,
   "id": "f98a76b8",
   "metadata": {},
   "outputs": [
    {
     "data": {
      "text/latex": [
       "$15 \\; \\mathrm{\\frac{{}^{\\circ}}{{}^{h}}}$"
      ],
      "text/plain": [
       "<Quantity 15. deg / hourangle>"
      ]
     },
     "execution_count": 11,
     "metadata": {},
     "output_type": "execute_result"
    }
   ],
   "source": [
    "fullday_rot_angle/fullday_time"
   ]
  },
  {
   "cell_type": "markdown",
   "id": "15fc24dd",
   "metadata": {},
   "source": [
    "# Earth Location"
   ]
  },
  {
   "cell_type": "code",
   "execution_count": 12,
   "id": "6908bce3",
   "metadata": {
    "scrolled": false
   },
   "outputs": [],
   "source": [
    "#EarthLocation.get_site_names()"
   ]
  },
  {
   "cell_type": "code",
   "execution_count": 13,
   "id": "607d7e72",
   "metadata": {},
   "outputs": [
    {
     "data": {
      "text/plain": [
       "GeodeticLocation(lon=<Longitude -70.73668333 deg>, lat=<Latitude -30.24074167 deg>, height=<Quantity 2750. m>)"
      ]
     },
     "execution_count": 13,
     "metadata": {},
     "output_type": "execute_result"
    }
   ],
   "source": [
    "lsst = EarthLocation.of_site('Cerro Pachon')\n",
    "lsst.to_geodetic()"
   ]
  },
  {
   "cell_type": "markdown",
   "id": "25f523dd",
   "metadata": {},
   "source": [
    "# Local Times in timezone"
   ]
  },
  {
   "cell_type": "markdown",
   "id": "806dfcce",
   "metadata": {},
   "source": [
    "## Timezone in astropy"
   ]
  },
  {
   "cell_type": "code",
   "execution_count": 14,
   "id": "2f5bc371",
   "metadata": {},
   "outputs": [
    {
     "data": {
      "text/plain": [
       "<astropy.time.formats.TimezoneInfo at 0x7fe6ab83b310>"
      ]
     },
     "execution_count": 14,
     "metadata": {},
     "output_type": "execute_result"
    }
   ],
   "source": [
    "utc_plus_one_hour = TimezoneInfo(utc_offset=1*u.hour)\n",
    "utc_plus_one_hour"
   ]
  },
  {
   "cell_type": "code",
   "execution_count": 15,
   "id": "39e331f6",
   "metadata": {},
   "outputs": [
    {
     "data": {
      "text/plain": [
       "<astropy.time.formats.TimezoneInfo at 0x7fe6ab83b220>"
      ]
     },
     "execution_count": 15,
     "metadata": {},
     "output_type": "execute_result"
    }
   ],
   "source": [
    "utc_plus_two_hour = TimezoneInfo(utc_offset=2*u.hour)\n",
    "utc_plus_two_hour"
   ]
  },
  {
   "cell_type": "code",
   "execution_count": 16,
   "id": "8e9602fa",
   "metadata": {},
   "outputs": [
    {
     "data": {
      "text/plain": [
       "<Time object: scale='utc' format='datetime' value=2022-09-10 16:31:46.255876>"
      ]
     },
     "execution_count": 16,
     "metadata": {},
     "output_type": "execute_result"
    }
   ],
   "source": [
    "nt = Time.now()\n",
    "nt"
   ]
  },
  {
   "cell_type": "code",
   "execution_count": 17,
   "id": "d3c0e4f5",
   "metadata": {},
   "outputs": [
    {
     "name": "stdout",
     "output_type": "stream",
     "text": [
      "Local time in Paris in summer (GMT+2) :  2022-09-10 02:00:00+02:00\n",
      "Time in UTC                           :  2022-09-10 00:00:00+00:00\n"
     ]
    }
   ],
   "source": [
    "tz_utc = TimezoneInfo() \n",
    "dt_aware = datetime(2022, 9, 10, 2, 0, 0, tzinfo=utc_plus_two_hour)\n",
    "print(\"Local time in Paris in summer (GMT+2) : \",dt_aware)\n",
    "print(\"Time in UTC                           : \",dt_aware.astimezone(tz_utc))\n"
   ]
  },
  {
   "cell_type": "markdown",
   "id": "17f977e8",
   "metadata": {},
   "source": [
    "## list of available time zones in pytz"
   ]
  },
  {
   "cell_type": "code",
   "execution_count": 18,
   "id": "88e3915d",
   "metadata": {
    "scrolled": false
   },
   "outputs": [],
   "source": [
    "# pytz.all_timezones"
   ]
  },
  {
   "cell_type": "markdown",
   "id": "eef1368c",
   "metadata": {},
   "source": [
    "## Time zone of Paris"
   ]
  },
  {
   "cell_type": "code",
   "execution_count": 19,
   "id": "80b4ebff",
   "metadata": {},
   "outputs": [
    {
     "data": {
      "text/plain": [
       "<DstTzInfo 'Europe/Paris' LMT+0:09:00 STD>"
      ]
     },
     "execution_count": 19,
     "metadata": {},
     "output_type": "execute_result"
    }
   ],
   "source": [
    "# timezone of Paris\n",
    "tz_paris = pytz.timezone(\"Europe/Paris\")\n",
    "tz_paris"
   ]
  },
  {
   "cell_type": "code",
   "execution_count": 20,
   "id": "752ff7c3",
   "metadata": {},
   "outputs": [
    {
     "data": {
      "text/plain": [
       "'2022-09-10T18:31:46.385482+02:00'"
      ]
     },
     "execution_count": 20,
     "metadata": {},
     "output_type": "execute_result"
    }
   ],
   "source": [
    "# Current official time in Paris timezone\n",
    "pt=datetime.now(tz=tz_paris)\n",
    "pt.isoformat()"
   ]
  },
  {
   "cell_type": "code",
   "execution_count": null,
   "id": "a09ededf",
   "metadata": {},
   "outputs": [],
   "source": []
  },
  {
   "cell_type": "markdown",
   "id": "a358041e",
   "metadata": {},
   "source": [
    "## Timezone of London"
   ]
  },
  {
   "cell_type": "code",
   "execution_count": 21,
   "id": "ccd906f1",
   "metadata": {},
   "outputs": [
    {
     "data": {
      "text/plain": [
       "<DstTzInfo 'Europe/London' LMT-1 day, 23:59:00 STD>"
      ]
     },
     "execution_count": 21,
     "metadata": {},
     "output_type": "execute_result"
    }
   ],
   "source": [
    "# timezone of London\n",
    "tz_london = pytz.timezone(\"Europe/London\")\n",
    "tz_london"
   ]
  },
  {
   "cell_type": "code",
   "execution_count": 22,
   "id": "d438a867",
   "metadata": {},
   "outputs": [
    {
     "data": {
      "text/plain": [
       "'2022-09-10T17:31:46.401088+01:00'"
      ]
     },
     "execution_count": 22,
     "metadata": {},
     "output_type": "execute_result"
    }
   ],
   "source": [
    "# Current official time in timezone of London\n",
    "lt=datetime.now(tz=tz_london)\n",
    "lt.isoformat()"
   ]
  },
  {
   "cell_type": "markdown",
   "id": "dfdee770",
   "metadata": {},
   "source": [
    "## Timezone UTC"
   ]
  },
  {
   "cell_type": "code",
   "execution_count": 23,
   "id": "3c204d40",
   "metadata": {},
   "outputs": [
    {
     "data": {
      "text/plain": [
       "'2022-09-10T16:31:46.408583+00:00'"
      ]
     },
     "execution_count": 23,
     "metadata": {},
     "output_type": "execute_result"
    }
   ],
   "source": [
    "utct = datetime.now(tz=pytz.UTC)\n",
    "utct.isoformat()"
   ]
  },
  {
   "cell_type": "markdown",
   "id": "0aa1866b",
   "metadata": {},
   "source": [
    "## Timezone GMT+0"
   ]
  },
  {
   "cell_type": "code",
   "execution_count": 24,
   "id": "8a84c6e1",
   "metadata": {},
   "outputs": [
    {
     "data": {
      "text/plain": [
       "<StaticTzInfo 'Etc/GMT+0'>"
      ]
     },
     "execution_count": 24,
     "metadata": {},
     "output_type": "execute_result"
    }
   ],
   "source": [
    "tz_gmt = pytz.timezone('Etc/GMT+0')\n",
    "tz_gmt"
   ]
  },
  {
   "cell_type": "markdown",
   "id": "c6303032",
   "metadata": {},
   "source": [
    "## Timezone of Santiago"
   ]
  },
  {
   "cell_type": "code",
   "execution_count": 25,
   "id": "4adc61c6",
   "metadata": {},
   "outputs": [
    {
     "data": {
      "text/plain": [
       "<DstTzInfo 'America/Santiago' LMT-1 day, 19:17:00 STD>"
      ]
     },
     "execution_count": 25,
     "metadata": {},
     "output_type": "execute_result"
    }
   ],
   "source": [
    "# timezone of Santiago\n",
    "tz_santiago = pytz.timezone('America/Santiago')\n",
    "tz_santiago"
   ]
  },
  {
   "cell_type": "code",
   "execution_count": 26,
   "id": "4de52c7d",
   "metadata": {},
   "outputs": [
    {
     "data": {
      "text/plain": [
       "'2022-09-10T13:31:46.431127-03:00'"
      ]
     },
     "execution_count": 26,
     "metadata": {},
     "output_type": "execute_result"
    }
   ],
   "source": [
    "st=datetime.now(tz=tz_santiago)\n",
    "st.isoformat()"
   ]
  },
  {
   "cell_type": "markdown",
   "id": "f54b7ca3",
   "metadata": {},
   "source": [
    "## Timezone of Chile"
   ]
  },
  {
   "cell_type": "code",
   "execution_count": 27,
   "id": "50a96e04",
   "metadata": {},
   "outputs": [
    {
     "data": {
      "text/plain": [
       "<DstTzInfo 'Chile/Continental' LMT-1 day, 19:17:00 STD>"
      ]
     },
     "execution_count": 27,
     "metadata": {},
     "output_type": "execute_result"
    }
   ],
   "source": [
    "tz_chile=pytz.timezone('Chile/Continental')\n",
    "tz_chile"
   ]
  },
  {
   "cell_type": "code",
   "execution_count": 28,
   "id": "3ea2acf4",
   "metadata": {},
   "outputs": [
    {
     "data": {
      "text/plain": [
       "'2022-09-10T13:31:46.451287-03:00'"
      ]
     },
     "execution_count": 28,
     "metadata": {},
     "output_type": "execute_result"
    }
   ],
   "source": [
    "ct=datetime.now(tz=tz_chile)\n",
    "ct.isoformat()"
   ]
  },
  {
   "cell_type": "markdown",
   "id": "d47b4f68",
   "metadata": {},
   "source": [
    "# UTC time"
   ]
  },
  {
   "cell_type": "code",
   "execution_count": 29,
   "id": "a56332e4",
   "metadata": {},
   "outputs": [
    {
     "data": {
      "text/plain": [
       "<Time object: scale='utc' format='datetime' value=2022-09-10 16:31:46.458289>"
      ]
     },
     "execution_count": 29,
     "metadata": {},
     "output_type": "execute_result"
    }
   ],
   "source": [
    "# UTC time from Time-Astropy package\n",
    "nt = Time.now()\n",
    "nt"
   ]
  },
  {
   "cell_type": "code",
   "execution_count": 30,
   "id": "7d4381ac",
   "metadata": {},
   "outputs": [
    {
     "data": {
      "text/plain": [
       "<Time object: scale='utc' format='datetime' value=2022-09-10 16:31:46.466479>"
      ]
     },
     "execution_count": 30,
     "metadata": {},
     "output_type": "execute_result"
    }
   ],
   "source": [
    "# UTC is my local time - 2H (summer)\n",
    "ut = Time(datetime.utcnow(), scale='utc')\n",
    "ut"
   ]
  },
  {
   "cell_type": "code",
   "execution_count": 31,
   "id": "33cfd38f",
   "metadata": {},
   "outputs": [
    {
     "data": {
      "text/plain": [
       "datetime.datetime(2022, 9, 10, 16, 31, 46, 474010)"
      ]
     },
     "execution_count": 31,
     "metadata": {},
     "output_type": "execute_result"
    }
   ],
   "source": [
    "# UTC is my local time - 2H (summer) from datetime package\n",
    "datetime.utcnow()"
   ]
  },
  {
   "cell_type": "markdown",
   "id": "3ecc1a91",
   "metadata": {},
   "source": [
    "# Sideral time\n",
    "\n",
    "- must specify a location"
   ]
  },
  {
   "cell_type": "code",
   "execution_count": 32,
   "id": "a06ab882",
   "metadata": {},
   "outputs": [
    {
     "data": {
      "text/latex": [
       "$18^{\\mathrm{h}}40^{\\mathrm{m}}58.73293476^{\\mathrm{s}}$"
      ],
      "text/plain": [
       "<Longitude 18.68298137 hourangle>"
      ]
     },
     "execution_count": 32,
     "metadata": {},
     "output_type": "execute_result"
    }
   ],
   "source": [
    "t_lsst = Time('2022-09-12 00:00:00.000000000', scale='utc',location=('-70.73668333d', '-30.24074167d'))\n",
    "t_lsst.sidereal_time('apparent')  "
   ]
  },
  {
   "cell_type": "code",
   "execution_count": 33,
   "id": "94cf70aa",
   "metadata": {},
   "outputs": [
    {
     "data": {
      "text/latex": [
       "$11^{\\mathrm{h}}07^{\\mathrm{m}}36.11057802^{\\mathrm{s}}$"
      ],
      "text/plain": [
       "<Longitude 11.12669738 hourangle>"
      ]
     },
     "execution_count": 33,
     "metadata": {},
     "output_type": "execute_result"
    }
   ],
   "source": [
    "t_lsst = Time(datetime.utcnow(), scale='utc',location=('-70.73668333d', '-30.24074167d'))\n",
    "t_lsst.sidereal_time('apparent')  "
   ]
  },
  {
   "cell_type": "code",
   "execution_count": 34,
   "id": "b5b0cd92",
   "metadata": {},
   "outputs": [
    {
     "data": {
      "text/latex": [
       "$15^{\\mathrm{h}}50^{\\mathrm{m}}32.91457796^{\\mathrm{s}}$"
      ],
      "text/plain": [
       "<Longitude 15.84247627 hourangle>"
      ]
     },
     "execution_count": 34,
     "metadata": {},
     "output_type": "execute_result"
    }
   ],
   "source": [
    "t_lsst.sidereal_time('apparent','greenwich')  "
   ]
  },
  {
   "cell_type": "code",
   "execution_count": 35,
   "id": "5e7a5f78",
   "metadata": {},
   "outputs": [
    {
     "data": {
      "text/latex": [
       "$15^{\\mathrm{h}}50^{\\mathrm{m}}32.9634537^{\\mathrm{s}}$"
      ],
      "text/plain": [
       "<Longitude 15.84248985 hourangle>"
      ]
     },
     "execution_count": 35,
     "metadata": {},
     "output_type": "execute_result"
    }
   ],
   "source": [
    "tt = Time(datetime.utcnow(), scale='utc',location=('0.00d','0.00d'))\n",
    "tt.sidereal_time('apparent')"
   ]
  },
  {
   "cell_type": "code",
   "execution_count": 36,
   "id": "d2d7c421",
   "metadata": {},
   "outputs": [
    {
     "data": {
      "text/latex": [
       "$15^{\\mathrm{h}}50^{\\mathrm{m}}32.97705383^{\\mathrm{s}}$"
      ],
      "text/plain": [
       "<Longitude 15.84249363 hourangle>"
      ]
     },
     "execution_count": 36,
     "metadata": {},
     "output_type": "execute_result"
    }
   ],
   "source": [
    "tt = Time(datetime.utcnow(), scale='utc',location=(0.,0.))\n",
    "tt.sidereal_time('apparent')"
   ]
  },
  {
   "cell_type": "code",
   "execution_count": 37,
   "id": "8567e3e8",
   "metadata": {},
   "outputs": [],
   "source": [
    "lat_paris = 48.8566\n",
    "lon_paris = 2.3522"
   ]
  },
  {
   "cell_type": "code",
   "execution_count": 38,
   "id": "957022e6",
   "metadata": {},
   "outputs": [],
   "source": [
    "lat_antony = 48.753681\n",
    "lon_antony = 2.297000"
   ]
  },
  {
   "cell_type": "code",
   "execution_count": 39,
   "id": "b4ee943e",
   "metadata": {},
   "outputs": [
    {
     "data": {
      "text/plain": [
       "GeodeticLocation(lon=<Longitude 2.297 deg>, lat=<Latitude 48.753681 deg>, height=<Quantity 0. m>)"
      ]
     },
     "execution_count": 39,
     "metadata": {},
     "output_type": "execute_result"
    }
   ],
   "source": [
    "loc_antony = EarthLocation(lon=lon_antony,lat=lat_antony)\n",
    "loc_antony.to_geodetic()"
   ]
  },
  {
   "cell_type": "code",
   "execution_count": 40,
   "id": "2719a394",
   "metadata": {},
   "outputs": [
    {
     "data": {
      "text/plain": [
       "GeodeticLocation(lon=<Longitude 2.3522 deg>, lat=<Latitude 48.8566 deg>, height=<Quantity -7.26053035e-10 m>)"
      ]
     },
     "execution_count": 40,
     "metadata": {},
     "output_type": "execute_result"
    }
   ],
   "source": [
    "loc_paris = EarthLocation(lon=lon_paris,lat=lat_paris)\n",
    "loc_paris.to_geodetic()"
   ]
  },
  {
   "cell_type": "code",
   "execution_count": 41,
   "id": "48ec3672",
   "metadata": {},
   "outputs": [
    {
     "data": {
      "text/plain": [
       "<Time object: scale='utc' format='datetime' value=2022-09-10 16:31:47.654293>"
      ]
     },
     "execution_count": 41,
     "metadata": {},
     "output_type": "execute_result"
    }
   ],
   "source": [
    "Time.now()"
   ]
  },
  {
   "cell_type": "code",
   "execution_count": 42,
   "id": "14b9c3c6",
   "metadata": {},
   "outputs": [],
   "source": [
    "t_antony = Time(datetime.utcnow(), scale='utc',location=loc_antony)\n",
    "t_paris = Time(datetime.utcnow(), scale='utc',location=loc_paris)"
   ]
  },
  {
   "cell_type": "code",
   "execution_count": 43,
   "id": "74a03966",
   "metadata": {},
   "outputs": [
    {
     "name": "stdout",
     "output_type": "stream",
     "text": [
      "Sideral Time Antony :  15h59m44.30874296s\n",
      "Sideral Time Paris  :  15h59m57.55702673s\n"
     ]
    }
   ],
   "source": [
    "print(\"Sideral Time Antony : \",t_antony.sidereal_time('apparent'))\n",
    "print(\"Sideral Time Paris  : \",t_paris.sidereal_time('apparent'))"
   ]
  },
  {
   "cell_type": "markdown",
   "id": "100c341e",
   "metadata": {},
   "source": [
    "## TimeDelta"
   ]
  },
  {
   "cell_type": "code",
   "execution_count": 44,
   "id": "6a3281f1",
   "metadata": {},
   "outputs": [
    {
     "data": {
      "text/plain": [
       "<TimeDelta object: scale='tai' format='jd' value=3.2754629009090763e-09>"
      ]
     },
     "execution_count": 44,
     "metadata": {},
     "output_type": "execute_result"
    }
   ],
   "source": [
    "DT = (t_paris-t_antony)\n",
    "DT"
   ]
  },
  {
   "cell_type": "code",
   "execution_count": 45,
   "id": "c7b719a0",
   "metadata": {},
   "outputs": [
    {
     "data": {
      "text/plain": [
       "0.0002829999946385442"
      ]
     },
     "execution_count": 45,
     "metadata": {},
     "output_type": "execute_result"
    }
   ],
   "source": [
    "DT.sec"
   ]
  },
  {
   "cell_type": "code",
   "execution_count": 46,
   "id": "5d41d31a",
   "metadata": {},
   "outputs": [
    {
     "data": {
      "text/plain": [
       "0.0002829999946385442"
      ]
     },
     "execution_count": 46,
     "metadata": {},
     "output_type": "execute_result"
    }
   ],
   "source": [
    "DT.jd*24*60*60"
   ]
  },
  {
   "cell_type": "markdown",
   "id": "a7b532e9",
   "metadata": {},
   "source": [
    "# Convert a local time into a sideral time\n",
    "\n",
    "$$\n",
    "LST = HA + RA\n",
    "$$\n",
    "\n",
    "- stars at the local meridian, thus $HA = 0$ this implies $RA=LST$\n",
    "\n",
    "- **the Time is Time() is in UTC, not in local time** "
   ]
  },
  {
   "cell_type": "code",
   "execution_count": 47,
   "id": "21439bc9",
   "metadata": {},
   "outputs": [
    {
     "data": {
      "text/latex": [
       "$18^{\\mathrm{h}}40^{\\mathrm{m}}58.73293476^{\\mathrm{s}}$"
      ],
      "text/plain": [
       "<Longitude 18.68298137 hourangle>"
      ]
     },
     "execution_count": 47,
     "metadata": {},
     "output_type": "execute_result"
    }
   ],
   "source": [
    "t_lsst = Time('2022-09-12 00:00:00.000000000', scale='utc',location=('-70.73668333d', '-30.24074167d'))\n",
    "t_lsst.sidereal_time('apparent') "
   ]
  },
  {
   "cell_type": "code",
   "execution_count": 48,
   "id": "9d38e6c1",
   "metadata": {},
   "outputs": [
    {
     "data": {
      "text/latex": [
       "$280^\\circ14{}^\\prime40.99402143{}^{\\prime\\prime}$"
      ],
      "text/plain": [
       "<Angle 280.24472056 deg>"
      ]
     },
     "execution_count": 48,
     "metadata": {},
     "output_type": "execute_result"
    }
   ],
   "source": [
    "Angle(t_lsst.sidereal_time('apparent')).to(u.degree)"
   ]
  },
  {
   "cell_type": "code",
   "execution_count": 49,
   "id": "7cd3b5d7",
   "metadata": {},
   "outputs": [
    {
     "data": {
      "text/latex": [
       "$21^{\\mathrm{h}}32^{\\mathrm{m}}53.12120062^{\\mathrm{s}}$"
      ],
      "text/plain": [
       "<Longitude 21.54808922 hourangle>"
      ]
     },
     "execution_count": 49,
     "metadata": {},
     "output_type": "execute_result"
    }
   ],
   "source": [
    "t_midnightantony = Time('2022-09-11 22:00:06.000000000', scale='utc',location=loc_antony)\n",
    "t_midnightantony.sidereal_time('apparent') "
   ]
  },
  {
   "cell_type": "code",
   "execution_count": 50,
   "id": "23d267dc",
   "metadata": {},
   "outputs": [
    {
     "data": {
      "text/latex": [
       "$21^{\\mathrm{h}}32^{\\mathrm{m}}53.84512358^{\\mathrm{s}}$"
      ],
      "text/plain": [
       "<Longitude 21.54829031 hourangle>"
      ]
     },
     "execution_count": 50,
     "metadata": {},
     "output_type": "execute_result"
    }
   ],
   "source": [
    "t_midnightantony.sidereal_time('mean') "
   ]
  },
  {
   "cell_type": "code",
   "execution_count": null,
   "id": "60bf8dba",
   "metadata": {},
   "outputs": [],
   "source": []
  }
 ],
 "metadata": {
  "kernelspec": {
   "display_name": "python3_base",
   "language": "python",
   "name": "python3"
  },
  "language_info": {
   "codemirror_mode": {
    "name": "ipython",
    "version": 3
   },
   "file_extension": ".py",
   "mimetype": "text/x-python",
   "name": "python",
   "nbconvert_exporter": "python",
   "pygments_lexer": "ipython3",
   "version": "3.9.12"
  },
  "toc": {
   "base_numbering": 1,
   "nav_menu": {},
   "number_sections": true,
   "sideBar": true,
   "skip_h1_title": false,
   "title_cell": "Table of Contents",
   "title_sidebar": "Contents",
   "toc_cell": false,
   "toc_position": {},
   "toc_section_display": true,
   "toc_window_display": false
  }
 },
 "nbformat": 4,
 "nbformat_minor": 5
}
