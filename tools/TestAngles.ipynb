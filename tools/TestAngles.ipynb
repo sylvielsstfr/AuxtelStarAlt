{
 "cells": [
  {
   "cell_type": "markdown",
   "id": "399af938-c4bc-415b-a663-b35002c02a2a",
   "metadata": {},
   "source": [
    "# Test Angles\n",
    "\n",
    "- documentation to deal with angles : https://het.as.utexas.edu/HET/Software/Astropy-1.0/coordinates/angles.html"
   ]
  },
  {
   "cell_type": "code",
   "execution_count": 1,
   "id": "8c21995b-0bae-45c1-aba2-59f1c5e623b5",
   "metadata": {},
   "outputs": [],
   "source": [
    "from astropy.coordinates import Longitude,Latitude\n",
    "import astropy.units as u\n",
    "from astropy.coordinates import AltAz, EarthLocation, SkyCoord\n",
    "from astropy.coordinates import Angle"
   ]
  },
  {
   "cell_type": "code",
   "execution_count": 2,
   "id": "46f243ac-3733-4e62-a122-6bb78baf2287",
   "metadata": {},
   "outputs": [],
   "source": [
    "from datetime import datetime\n",
    "import timezonefinder, pytz\n",
    "from calendar import monthrange\n",
    "import calendar"
   ]
  },
  {
   "cell_type": "code",
   "execution_count": 3,
   "id": "704864d9-56c5-4cce-8704-1c2b2671544e",
   "metadata": {},
   "outputs": [],
   "source": [
    "def CalculateBounds(theta,thetamin,thetamax):\n",
    "    \"\"\"\n",
    "    Handle the boundaries of angles\n",
    "    \n",
    "    parameters:\n",
    "        theta : the input angle in degree to test\n",
    "        thetamin: lower bound angle\n",
    "        thetamax: upper bound angle\n",
    "    \"\"\"\n",
    "    \n",
    "    theta_min_angle = Longitude(thetamin,unit=u.degree)\n",
    "    theta_max_angle = Longitude(thetamax,unit=u.degree)\n",
    "    theta_angle = Longitude(theta,unit=u.degree)\n",
    "    \n",
    "    \n",
    "    print(\"longitude angles\",theta_angle,theta_min_angle,theta_max_angle)\n",
    "    \n",
    "    \n",
    "    wrap = 0\n",
    "    \n",
    "    if theta_min_angle.degree < theta_max_angle.degree:\n",
    "        wrap = 360 * u.deg\n",
    "    else:\n",
    "        wrap = 180 * u.deg\n",
    "        \n",
    "    theta_min_angle.wrap_angle = wrap\n",
    "    theta_max_angle.wrap_angle = wrap\n",
    "    theta_angle.wrap_angle = wrap\n",
    "       \n",
    "    print(\"wrap\",wrap,\"theta=\",theta_angle,\"theta_min=\",theta_min_angle,\"theta_max\",theta_max_angle)\n",
    "    return theta_angle.is_within_bounds(theta_min_angle,theta_max_angle)\n",
    "    "
   ]
  },
  {
   "cell_type": "code",
   "execution_count": 4,
   "id": "edc9b1f2-f5ea-4b66-8533-0ff32649c4d3",
   "metadata": {},
   "outputs": [
    {
     "name": "stdout",
     "output_type": "stream",
     "text": [
      "longitude angles 0d00m00s 270d00m00s 90d00m00s\n",
      "wrap 180.0 deg theta= 0d00m00s theta_min= -90d00m00s theta_max 90d00m00s\n"
     ]
    },
    {
     "data": {
      "text/plain": [
       "True"
      ]
     },
     "execution_count": 4,
     "metadata": {},
     "output_type": "execute_result"
    }
   ],
   "source": [
    "CalculateBounds(0,-90,90)"
   ]
  },
  {
   "cell_type": "code",
   "execution_count": 5,
   "id": "330882ec-42f0-41f0-b41f-21b995066869",
   "metadata": {},
   "outputs": [
    {
     "name": "stdout",
     "output_type": "stream",
     "text": [
      "longitude angles 0d00m00s 270d00m00s 90d00m00s\n",
      "wrap 180.0 deg theta= 0d00m00s theta_min= -90d00m00s theta_max 90d00m00s\n"
     ]
    },
    {
     "data": {
      "text/plain": [
       "True"
      ]
     },
     "execution_count": 5,
     "metadata": {},
     "output_type": "execute_result"
    }
   ],
   "source": [
    "CalculateBounds(0,270,90)"
   ]
  },
  {
   "cell_type": "code",
   "execution_count": 6,
   "id": "cc2bbd91-c005-4553-847c-d1cdc3495a37",
   "metadata": {},
   "outputs": [
    {
     "name": "stdout",
     "output_type": "stream",
     "text": [
      "longitude angles 180d00m00s 90d00m00s 270d00m00s\n",
      "wrap 360.0 deg theta= 180d00m00s theta_min= 90d00m00s theta_max 270d00m00s\n"
     ]
    },
    {
     "data": {
      "text/plain": [
       "True"
      ]
     },
     "execution_count": 6,
     "metadata": {},
     "output_type": "execute_result"
    }
   ],
   "source": [
    "CalculateBounds(180.,90,270.)"
   ]
  },
  {
   "cell_type": "code",
   "execution_count": 7,
   "id": "d96b193b-2fd1-47bf-979e-c5a9b6b0b853",
   "metadata": {},
   "outputs": [
    {
     "name": "stdout",
     "output_type": "stream",
     "text": [
      "longitude angles 180d00m00s 90d00m00s 270d00m00s\n",
      "wrap 360.0 deg theta= 180d00m00s theta_min= 90d00m00s theta_max 270d00m00s\n"
     ]
    },
    {
     "data": {
      "text/plain": [
       "True"
      ]
     },
     "execution_count": 7,
     "metadata": {},
     "output_type": "execute_result"
    }
   ],
   "source": [
    "CalculateBounds(180.,90,-90)"
   ]
  },
  {
   "cell_type": "code",
   "execution_count": null,
   "id": "5fa1568f-f29c-4ae3-823a-85615a553706",
   "metadata": {},
   "outputs": [],
   "source": []
  }
 ],
 "metadata": {
  "kernelspec": {
   "display_name": "Python 3 (ipykernel)",
   "language": "python",
   "name": "python3"
  },
  "language_info": {
   "codemirror_mode": {
    "name": "ipython",
    "version": 3
   },
   "file_extension": ".py",
   "mimetype": "text/x-python",
   "name": "python",
   "nbconvert_exporter": "python",
   "pygments_lexer": "ipython3",
   "version": "3.9.13"
  }
 },
 "nbformat": 4,
 "nbformat_minor": 5
}
