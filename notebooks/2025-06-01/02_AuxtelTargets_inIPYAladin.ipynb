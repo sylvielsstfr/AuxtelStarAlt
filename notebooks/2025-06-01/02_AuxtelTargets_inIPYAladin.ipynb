{
 "cells": [
  {
   "cell_type": "markdown",
   "id": "ed0ba77f-7b51-4827-91b1-96ae40e724aa",
   "metadata": {},
   "source": [
    "# Auxtel Target with ipyaladin\n",
    "\n",
    "- author Sylvie Dagoret-Campagne\n",
    "- creation date : 2024-12-19\n",
    "- update : 2024-12-21\n",
    "- last update : 2025-01-06\n",
    "- inspired ffrom https://github.com/cds-astro/tutorials/blob/master/Past_Conferences_and_Schools/2024-11-14_ADASS/ADASS2024_ipyaladin_demo.ipynb\n",
    "\n",
    "### Useful links\n",
    "\n",
    "- [ipyaladin's documentation](https://cds-astro.github.io/ipyaladin/)\n",
    "- [ipyaladin widgets function](https://cds-astro.github.io/ipyaladin/_collections/notebooks/03_Functions.html)\n",
    "- [CDS's reporitory of tutorials](https://github.com/cds-astro/tutorials) (they showcase ipyaladin too)\n",
    "\n",
    "- It may be necessary to access ipyaladin following the instructions here to have the widgets installed : https://github.com/cds-astro/ipyaladin?tab=readme-ov-file#installation\n",
    "\n",
    "      > git clone https://github.com/cds-astro/ipyaladin.git\n",
    "      > cd ipyaladin\n",
    "      > npm install\n",
    "      > npm run dev\n",
    "In order to have the widgets installed properly "
   ]
  },
  {
   "cell_type": "code",
   "execution_count": 1,
   "id": "d2113c50-1bc6-47be-882b-17218cf17b54",
   "metadata": {},
   "outputs": [],
   "source": [
    "from ipyaladin import Aladin\n",
    "from sidecar import Sidecar\n",
    "\n",
    "import astropy.units as u\n",
    "from astropy.coordinates import Angle\n",
    "\n",
    "from astropy.coordinates import SkyCoord"
   ]
  },
  {
   "cell_type": "code",
   "execution_count": 2,
   "id": "a64a5576-04d0-427e-b71a-0c4e18f52ac5",
   "metadata": {},
   "outputs": [],
   "source": [
    "from astroquery.simbad import Simbad"
   ]
  },
  {
   "cell_type": "markdown",
   "id": "7c6522b2-9214-41ab-8153-28f7b9bafaf1",
   "metadata": {},
   "source": [
    "## 1. Configuration of Aladin"
   ]
  },
  {
   "cell_type": "code",
   "execution_count": 3,
   "id": "78ffa525-940a-4ecb-b298-1b82e46899d1",
   "metadata": {},
   "outputs": [],
   "source": [
    "aladin = Aladin()\n",
    "with Sidecar(title=\"aladin_output\"):\n",
    "    display(aladin)"
   ]
  },
  {
   "cell_type": "code",
   "execution_count": 4,
   "id": "9f065f96-a5f1-4ea6-b7bf-e492444a9daf",
   "metadata": {},
   "outputs": [],
   "source": [
    "# select the FOV of Auxtel (6.7 arcmin)\n",
    "aladin.fov = Angle(10 * u.arcmin)"
   ]
  },
  {
   "cell_type": "markdown",
   "id": "e8e14fe3-19fe-4a36-977d-a8883256610c",
   "metadata": {},
   "source": [
    "Now that the widget is opened on the side, we can resize the window as needed.\n",
    "The view can be zoomed in and out, or panned. This is a fully functionnal [Aladin Lite](https://github.com/cds-astro/aladin-lite) instance!\n",
    "\n",
    "## 2. Communication between python and ipyaladin\n",
    "\n",
    "The added benefit here is that it is connected to the python kernel. We can send information from `ipyaladin` to Python and *vice-versa*."
   ]
  },
  {
   "cell_type": "code",
   "execution_count": 5,
   "id": "089b4bd0-82d5-4a9c-8339-bd454b29b5ec",
   "metadata": {},
   "outputs": [],
   "source": [
    "coo_perseus = SkyCoord.from_name(\"Perseus Cluster\")\n",
    "aladin.target = coo_perseus"
   ]
  },
  {
   "cell_type": "markdown",
   "id": "dfc5dad0-09c3-4a50-ac5f-efb351fc1a4e",
   "metadata": {},
   "source": [
    "### Auxtel Target"
   ]
  },
  {
   "cell_type": "code",
   "execution_count": 6,
   "id": "8bec13cd-eb84-4b2e-9b44-bb138bb1c323",
   "metadata": {},
   "outputs": [],
   "source": [
    "aladin.target = \"HD2811\""
   ]
  },
  {
   "cell_type": "code",
   "execution_count": 7,
   "id": "bc2fb25c-bf35-4163-b643-7c2ce266e0de",
   "metadata": {},
   "outputs": [],
   "source": [
    "aladin.target = \"HD14943\""
   ]
  },
  {
   "cell_type": "code",
   "execution_count": 8,
   "id": "06ac3695-0c71-47df-9664-76d97837a149",
   "metadata": {},
   "outputs": [],
   "source": [
    "aladin.target = \"HD009051\""
   ]
  },
  {
   "cell_type": "code",
   "execution_count": 9,
   "id": "1a4745dc-11da-4a8b-aeb5-ff0e1832a4b3",
   "metadata": {},
   "outputs": [],
   "source": [
    "aladin.target = \"HD031128\""
   ]
  },
  {
   "cell_type": "code",
   "execution_count": 10,
   "id": "6189be93-28fd-4cf3-b9a1-ce58bfdb7aff",
   "metadata": {},
   "outputs": [],
   "source": [
    "coo_target = SkyCoord.from_name(\"LAM LEP\")\n",
    "aladin.target = coo_target"
   ]
  },
  {
   "cell_type": "code",
   "execution_count": 11,
   "id": "d901d1fe-567c-4e5d-9200-6ef6863a06a5",
   "metadata": {},
   "outputs": [],
   "source": [
    "aladin.target = \"HD37962\""
   ]
  },
  {
   "cell_type": "code",
   "execution_count": 12,
   "id": "794c09f8-c20e-45c9-9537-01173431e85c",
   "metadata": {},
   "outputs": [],
   "source": [
    "coo_target = SkyCoord.from_name(\"mu. Col\")\n",
    "aladin.target = coo_target"
   ]
  },
  {
   "cell_type": "code",
   "execution_count": 13,
   "id": "32c85f32-c818-4b83-8445-1f9f7d50617c",
   "metadata": {},
   "outputs": [],
   "source": [
    "aladin.target = \"HD38949\""
   ]
  },
  {
   "cell_type": "code",
   "execution_count": 14,
   "id": "7a59cadb-c1f3-4485-bfb6-a4b104048f3b",
   "metadata": {},
   "outputs": [],
   "source": [
    "coo_target = SkyCoord.from_name(\"eta01 Dor\")\n",
    "aladin.target = coo_target"
   ]
  },
  {
   "cell_type": "code",
   "execution_count": 15,
   "id": "6af3fd1c-90b2-4936-b151-2c0dedf59ad5",
   "metadata": {},
   "outputs": [],
   "source": [
    "aladin.target = \"HD60753\""
   ]
  },
  {
   "cell_type": "code",
   "execution_count": 16,
   "id": "2f4f472d-25df-4196-acb2-d7ca8ef4b7a6",
   "metadata": {},
   "outputs": [],
   "source": [
    "aladin.target = \"HD074000\""
   ]
  },
  {
   "cell_type": "code",
   "execution_count": 17,
   "id": "2a8f5572-02f7-4e73-9f7f-e95c71282e65",
   "metadata": {},
   "outputs": [],
   "source": [
    "aladin.target = \"HD111980\""
   ]
  },
  {
   "cell_type": "code",
   "execution_count": 18,
   "id": "b7c7c994-d334-4b00-90c1-73f521c07c63",
   "metadata": {},
   "outputs": [],
   "source": [
    "aladin.target = \"HD115169\""
   ]
  },
  {
   "cell_type": "code",
   "execution_count": 19,
   "id": "e2602e54-7b6d-4167-b6b5-298759ad0fe0",
   "metadata": {},
   "outputs": [],
   "source": [
    "coo_target = SkyCoord.from_name(\"BD-11 3759\")\n",
    "aladin.target = coo_target"
   ]
  },
  {
   "cell_type": "code",
   "execution_count": 20,
   "id": "83151b5a-74da-4a13-9387-83b453093c4c",
   "metadata": {},
   "outputs": [],
   "source": [
    "aladin.target = \"HD142331\""
   ]
  },
  {
   "cell_type": "code",
   "execution_count": 21,
   "id": "920c9b9f-27b3-4f0f-84e6-5e84737f323f",
   "metadata": {},
   "outputs": [],
   "source": [
    "coo_target = SkyCoord.from_name(\"18 SCO\")\n",
    "aladin.target = coo_target"
   ]
  },
  {
   "cell_type": "code",
   "execution_count": 22,
   "id": "e2d8359d-8eaf-42ca-bf7e-b107116d6599",
   "metadata": {},
   "outputs": [],
   "source": [
    "aladin.target = \"HD160617\""
   ]
  },
  {
   "cell_type": "code",
   "execution_count": 23,
   "id": "e508c82d-b677-44cc-a976-cff830451488",
   "metadata": {},
   "outputs": [],
   "source": [
    "aladin.target = \"HD167060\""
   ]
  },
  {
   "cell_type": "code",
   "execution_count": 24,
   "id": "3a665561-d89f-42a8-aae2-eea085cd2bdc",
   "metadata": {},
   "outputs": [],
   "source": [
    "aladin.target = \"HD185975\""
   ]
  },
  {
   "cell_type": "code",
   "execution_count": 25,
   "id": "22bda422-dc21-4889-8f26-b9d868412ce1",
   "metadata": {},
   "outputs": [],
   "source": [
    "aladin.target = \"HD200654\""
   ]
  },
  {
   "cell_type": "code",
   "execution_count": 26,
   "id": "905eebdd-ed59-4f13-92a2-271288776e53",
   "metadata": {},
   "outputs": [],
   "source": [
    "aladin.target = \"HD205905\""
   ]
  },
  {
   "cell_type": "code",
   "execution_count": 27,
   "id": "abddadd3-752a-42a4-ab62-53a742245ced",
   "metadata": {},
   "outputs": [
    {
     "data": {
      "text/latex": [
       "$0^\\circ10{}^\\prime00{}^{\\prime\\prime}$"
      ],
      "text/plain": [
       "<Angle 0.16666667 deg>"
      ]
     },
     "execution_count": 27,
     "metadata": {},
     "output_type": "execute_result"
    }
   ],
   "source": [
    "estimated_dimension = aladin.fov\n",
    "estimated_dimension"
   ]
  },
  {
   "cell_type": "markdown",
   "id": "f3738ae4-eef8-41b5-b5cf-741fec184851",
   "metadata": {},
   "source": [
    "### White Dwarves"
   ]
  },
  {
   "cell_type": "code",
   "execution_count": 32,
   "id": "6138383f-df70-4644-b434-d3b892c29c66",
   "metadata": {},
   "outputs": [],
   "source": [
    "white_dwarfs = [\"WD 0621-376\" , \"WD 0859-039\" , \"2MASS J05005185-0930549\"]\n",
    "NWD = len(white_dwarfs)\n",
    "white_dwarfs_mainid = []"
   ]
  },
  {
   "cell_type": "code",
   "execution_count": 33,
   "id": "d8354545-0751-4a0b-88bb-2e7f967c3d17",
   "metadata": {},
   "outputs": [],
   "source": [
    "for idx, wd_name in enumerate(white_dwarfs):\n",
    "    result_table = Simbad.query_object(wd_name).to_pandas()\n",
    "    main_id = result_table.iloc[0][\"MAIN_ID\"]\n",
    "    white_dwarfs_mainid.append(main_id)    "
   ]
  },
  {
   "cell_type": "code",
   "execution_count": 38,
   "id": "14b920f0-fcdd-47de-9f68-d139ca2402c9",
   "metadata": {},
   "outputs": [
    {
     "name": "stdout",
     "output_type": "stream",
     "text": [
      "['RX J0623.2-3741', 'RE J090217-040712', 'UCAC4 403-007522']\n"
     ]
    }
   ],
   "source": [
    "print(white_dwarfs_mainid)"
   ]
  },
  {
   "cell_type": "code",
   "execution_count": 39,
   "id": "d0e0ee13-e4ef-4aaa-a646-23baa3a65b1c",
   "metadata": {},
   "outputs": [],
   "source": [
    "aladin.fov = Angle(10 * u.arcmin)"
   ]
  },
  {
   "cell_type": "code",
   "execution_count": 43,
   "id": "2ad87e72-b285-4f98-9bf0-e318cc0648c0",
   "metadata": {},
   "outputs": [],
   "source": [
    "aladin.target = white_dwarfs_mainid[0]"
   ]
  },
  {
   "cell_type": "code",
   "execution_count": 46,
   "id": "d5fa2bc1-b33c-4157-b57d-e4f63cdbad2c",
   "metadata": {},
   "outputs": [],
   "source": [
    "aladin.target = white_dwarfs_mainid[1]"
   ]
  },
  {
   "cell_type": "code",
   "execution_count": 45,
   "id": "79d79f3b-10f4-4a6d-ac9b-030351f8da51",
   "metadata": {},
   "outputs": [],
   "source": [
    "aladin.target = white_dwarfs_mainid[2]"
   ]
  },
  {
   "cell_type": "code",
   "execution_count": null,
   "id": "799ec4a9-f947-4d4a-b171-4ea0ee755e6b",
   "metadata": {},
   "outputs": [],
   "source": [
    "for idx,wd_name in enumerate(white_dwarfs):\n",
    "\n",
    "    result_table = Simbad.query_object(wd_name).to_pandas()\n",
    "    main_id = result_table.iloc[0][\"MAIN_ID\"]\n",
    "\n",
    "    tab = Simbad.query_objectids(main_id)\n",
    "    values = tab[\"ID\"].data\n",
    "    NID = len(values)\n",
    "    found_gaia = False\n",
    "    found_gaia_name = None\n",
    "    for idx2 in range(NID):\n",
    "        if 'Gaia DR3' in str(values[idx2]):\n",
    "            print(idx,wd_name, \":: \\t \" , main_id , '<==>', values[idx2])\n",
    "            found_gaia_name = values[idx2]\n",
    "            found_gaia = True\n",
    "        elif 'Gaia DR2' in str(values[idx2]):\n",
    "            print(idx,wd_name, \":: \\t \" ,main_id , '<==>', values[idx2])\n",
    "            found_gaia_name = values[idx2]\n",
    "            found_gaia = True      "
   ]
  }
 ],
 "metadata": {
  "kernelspec": {
   "display_name": "conda_py313",
   "language": "python",
   "name": "conda_py313"
  },
  "language_info": {
   "codemirror_mode": {
    "name": "ipython",
    "version": 3
   },
   "file_extension": ".py",
   "mimetype": "text/x-python",
   "name": "python",
   "nbconvert_exporter": "python",
   "pygments_lexer": "ipython3",
   "version": "3.13.1"
  }
 },
 "nbformat": 4,
 "nbformat_minor": 5
}
