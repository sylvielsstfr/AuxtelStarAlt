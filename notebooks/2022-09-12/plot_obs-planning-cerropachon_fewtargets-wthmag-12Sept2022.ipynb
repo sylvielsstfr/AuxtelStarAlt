{
 "cells": [
  {
   "cell_type": "markdown",
   "metadata": {},
   "source": [
    "\n",
    "# Determining and plotting the altitude/azimuth of a celestial object including magnitudes and types of objects for September 2022\n",
    "\n",
    "This example demonstrates coordinate transformations and the creation of\n",
    "visibility curves to assist with observing run planning.\n",
    "\n",
    "In this example, we make a `~astropy.coordinates.SkyCoord` instance for M33.\n",
    "The altitude-azimuth coordinates are then found using\n",
    "`astropy.coordinates.EarthLocation` and `astropy.time.Time` objects.\n",
    "\n",
    "This example is meant to demonstrate the capabilities of the\n",
    "`astropy.coordinates` package. For more convenient and/or complex observation\n",
    "planning, consider the `astroplan <https://astroplan.readthedocs.org/>`_\n",
    "package.\n",
    "\n",
    "\n",
    "*By: Erik Tollerud, Kelle Cruz*\n",
    "\n",
    "*License: BSD*\n"
   ]
  },
  {
   "cell_type": "markdown",
   "metadata": {},
   "source": [
    "- Author Sylvie Dagoret-Campagne\n",
    "- Creation : September 12th 2022\n",
    "- Update "
   ]
  },
  {
   "cell_type": "markdown",
   "metadata": {},
   "source": [
    "Let's suppose you are planning to visit picturesque Bear Mountain State Park\n",
    "in New York, USA. You're bringing your telescope with you (of course), and\n",
    "someone told you M33 is a great target to observe there. You happen to know\n",
    "you're free at 11:00 pm local time, and you want to know if it will be up.\n",
    "Astropy can answer that.\n",
    "\n",
    "Import numpy and matplotlib. For the latter, use a nicer set of plot\n",
    "parameters and set up support for plotting/converting quantities.\n",
    "\n"
   ]
  },
  {
   "cell_type": "code",
   "execution_count": 1,
   "metadata": {
    "jupyter": {
     "outputs_hidden": false
    }
   },
   "outputs": [],
   "source": [
    "import numpy as np\n",
    "import matplotlib.pyplot as plt\n",
    "from astropy.visualization import astropy_mpl_style, quantity_support\n",
    "plt.style.use(astropy_mpl_style)\n",
    "quantity_support()\n",
    "\n",
    "%matplotlib inline"
   ]
  },
  {
   "cell_type": "markdown",
   "metadata": {},
   "source": [
    "Import the packages necessary for finding coordinates and making\n",
    "coordinate transformations\n",
    "\n"
   ]
  },
  {
   "cell_type": "code",
   "execution_count": 2,
   "metadata": {
    "jupyter": {
     "outputs_hidden": false
    }
   },
   "outputs": [],
   "source": [
    "import astropy.units as u\n",
    "from astropy.time import Time\n",
    "from astropy.coordinates import SkyCoord, EarthLocation, AltAz"
   ]
  },
  {
   "cell_type": "code",
   "execution_count": 3,
   "metadata": {},
   "outputs": [],
   "source": [
    "from astroquery.simbad import Simbad"
   ]
  },
  {
   "cell_type": "code",
   "execution_count": 4,
   "metadata": {},
   "outputs": [],
   "source": [
    "from astropy.table import Table"
   ]
  },
  {
   "cell_type": "code",
   "execution_count": 5,
   "metadata": {},
   "outputs": [],
   "source": [
    "import matplotlib.colors as colors\n",
    "import matplotlib.cm as cmx"
   ]
  },
  {
   "cell_type": "code",
   "execution_count": 6,
   "metadata": {},
   "outputs": [
    {
     "ename": "ModuleNotFoundError",
     "evalue": "No module named 'timezonefinder'",
     "output_type": "error",
     "traceback": [
      "\u001b[0;31m---------------------------------------------------------------------------\u001b[0m",
      "\u001b[0;31mModuleNotFoundError\u001b[0m                       Traceback (most recent call last)",
      "Input \u001b[0;32mIn [6]\u001b[0m, in \u001b[0;36m<cell line: 2>\u001b[0;34m()\u001b[0m\n\u001b[1;32m      1\u001b[0m \u001b[38;5;28;01mimport\u001b[39;00m \u001b[38;5;21;01mdatetime\u001b[39;00m\n\u001b[0;32m----> 2\u001b[0m \u001b[38;5;28;01mimport\u001b[39;00m \u001b[38;5;21;01mtimezonefinder\u001b[39;00m\u001b[38;5;241m,\u001b[39m \u001b[38;5;21;01mpytz\u001b[39;00m\n\u001b[1;32m      3\u001b[0m \u001b[38;5;28;01mfrom\u001b[39;00m \u001b[38;5;21;01mcalendar\u001b[39;00m \u001b[38;5;28;01mimport\u001b[39;00m monthrange\n\u001b[1;32m      4\u001b[0m \u001b[38;5;28;01mimport\u001b[39;00m \u001b[38;5;21;01mcalendar\u001b[39;00m\n",
      "\u001b[0;31mModuleNotFoundError\u001b[0m: No module named 'timezonefinder'"
     ]
    }
   ],
   "source": [
    "import datetime\n",
    "import timezonefinder, pytz\n",
    "from calendar import monthrange\n",
    "import calendar"
   ]
  },
  {
   "cell_type": "markdown",
   "metadata": {},
   "source": [
    "- label lines\n",
    "https://github.com/cphyc/matplotlib-label-lines"
   ]
  },
  {
   "cell_type": "code",
   "execution_count": null,
   "metadata": {},
   "outputs": [],
   "source": [
    "from labellines import labelLine, labelLines"
   ]
  },
  {
   "cell_type": "code",
   "execution_count": null,
   "metadata": {},
   "outputs": [],
   "source": []
  },
  {
   "cell_type": "code",
   "execution_count": null,
   "metadata": {},
   "outputs": [],
   "source": [
    "plt.rcParams[\"axes.labelsize\"]=\"large\"\n",
    "plt.rcParams[\"axes.linewidth\"]=2.0\n",
    "plt.rcParams[\"xtick.major.size\"]=8\n",
    "plt.rcParams[\"ytick.major.size\"]=8\n",
    "plt.rcParams[\"ytick.minor.size\"]=5\n",
    "plt.rcParams[\"xtick.labelsize\"]=\"large\"\n",
    "plt.rcParams[\"ytick.labelsize\"]=\"large\"\n",
    "\n",
    "plt.rcParams[\"figure.figsize\"]=(12,8)\n",
    "plt.rcParams['axes.titlesize'] = 16\n",
    "plt.rcParams['axes.titleweight'] = 'bold'\n",
    "#plt.rcParams['axes.facecolor'] = 'blue'\n",
    "plt.rcParams['xtick.direction'] = 'out'\n",
    "plt.rcParams['ytick.direction'] = 'out'\n",
    "plt.rcParams['lines.markeredgewidth'] = 0.3 # the line width around the marker symbol\n",
    "plt.rcParams['lines.markersize'] = 5  # markersize, in points\n",
    "plt.rcParams['grid.alpha'] = 0.75 # transparency, between 0.0 and 1.0\n",
    "plt.rcParams['grid.linestyle'] = '-' # simple line\n",
    "plt.rcParams['grid.linewidth'] = 0.4 # in points\n",
    "plt.rcParams['font.size'] = 13"
   ]
  },
  {
   "cell_type": "markdown",
   "metadata": {},
   "source": [
    "# Initialisation:"
   ]
  },
  {
   "cell_type": "markdown",
   "metadata": {},
   "source": [
    "## Observation location"
   ]
  },
  {
   "cell_type": "code",
   "execution_count": null,
   "metadata": {},
   "outputs": [],
   "source": [
    "LSSTNAME='Cerro Pachon'\n",
    "lsst_location=EarthLocation.of_site(LSSTNAME)\n",
    "longitude=lsst_location.lon\n",
    "latitude=lsst_location.lat\n",
    "altitude=lsst_location.height"
   ]
  },
  {
   "cell_type": "markdown",
   "metadata": {},
   "source": [
    "## Determination of UTC offset from Time zone in Chile"
   ]
  },
  {
   "cell_type": "code",
   "execution_count": null,
   "metadata": {},
   "outputs": [],
   "source": [
    "tf = timezonefinder.TimezoneFinder()"
   ]
  },
  {
   "cell_type": "code",
   "execution_count": null,
   "metadata": {},
   "outputs": [],
   "source": [
    "timezone_str = tf.certain_timezone_at(lat=latitude.degree, lng=longitude.degree)"
   ]
  },
  {
   "cell_type": "code",
   "execution_count": null,
   "metadata": {},
   "outputs": [],
   "source": [
    "timezone_str "
   ]
  },
  {
   "cell_type": "code",
   "execution_count": null,
   "metadata": {},
   "outputs": [],
   "source": [
    "if timezone_str is None:\n",
    "    print(\"Could not determine the time zone\")\n",
    "else:\n",
    "    # Display the current time in that time zone\n",
    "    \n",
    "    #tz = pytz.timezone('Europe/Berlin')\n",
    "    #berlin_now = datetime.now(tz)\n",
    "    \n",
    "    timezone = pytz.timezone(timezone_str)\n",
    "    timezone0 = pytz.timezone('UTC')\n",
    "    \n",
    "    dt = datetime.datetime.utcnow()\n",
    "    timeChile_now = datetime.datetime.now(timezone)\n",
    "    \n",
    "    print(\"The UTC Time now %s\" % dt)\n",
    "    print(\"The actual time in %s is %s\" % (timezone_str, dt + timezone.utcoffset(dt)))"
   ]
  },
  {
   "cell_type": "code",
   "execution_count": null,
   "metadata": {},
   "outputs": [],
   "source": [
    "utcoffset=timezone.utcoffset(dt).total_seconds()/60./60.\n",
    "print(\"The UTC offset in Chile is \",utcoffset,\" hours\")"
   ]
  },
  {
   "cell_type": "markdown",
   "metadata": {},
   "source": [
    "## Initialisation of Simbad"
   ]
  },
  {
   "cell_type": "code",
   "execution_count": null,
   "metadata": {},
   "outputs": [],
   "source": [
    "# to view the list of VOTABLE\n",
    "# Simbad.list_votable_fields()"
   ]
  },
  {
   "cell_type": "code",
   "execution_count": null,
   "metadata": {},
   "outputs": [],
   "source": [
    "Simbad.add_votable_fields('sptype')\n",
    "Simbad.add_votable_fields('flux(U)') # add the Vega unit Magnitude \n",
    "Simbad.add_votable_fields('flux(B)') # add the Vega unit Magnitude \n",
    "Simbad.add_votable_fields('flux(V)') # add the Vega unit Magnitude \n",
    "Simbad.add_votable_fields('flux(R)') # add the Vega unit Magnitude \n",
    "Simbad.add_votable_fields('flux(I)') # add the Vega unit Magnitude \n",
    "#Simbad.add_votable_fields('flux_unit(V)')\n",
    "#Simbad.add_votable_fields('flux_unit(I)')\n",
    "#Simbad.add_votable_fields('flux_system(V)')\n",
    "#Simbad.add_votable_fields('flux_system(I)')\n",
    "#Simbad.add_votable_fields('ubv')  # Johnson UBV system"
   ]
  },
  {
   "cell_type": "markdown",
   "metadata": {},
   "source": [
    "## Targets"
   ]
  },
  {
   "cell_type": "code",
   "execution_count": null,
   "metadata": {},
   "outputs": [],
   "source": [
    "#all_target_names= [\"hd111980\",\"hd101452\",\"hd115169\",\"hd142331\"]\n",
    "#all_target_names=['FEIGE110', 'GD108', 'GD50', 'HD009051', 'HD031128','HD074000', 'HD111980', 'HD14943', 'HD160617', 'HD185975','HD200654', 'HD205905', 'HD37962', 'HD38949', 'HD60753','LTT9491', 'NGC7293', 'SIRIUS', 'WD0308-565']\n",
    "#all_target_names=['HD009051','HD14943']\n",
    "#all_target_names=['HD002811','PNG321.0+03.9']\n",
    "#all_target_names=['HD2811','HD009051','HD14943','HD031128','LAM LEP','HD37962','mu. Col',\n",
    "#                 'HD38949','ETA1 DOR','HD60753','HD074000','HD160617','HD167060','HD185975',\n",
    "#                  'HD200654','HD205905']\n",
    "\n",
    "# february 2022\n",
    "all_target_names=['HD14943','HD031128','LAM LEP','HD37962','mu. Col','HD38949','ETA1 DOR','HD60753','HD074000',\n",
    "                 'HD111980','HD115169','BD-11 192','HD142331','18SCO','HD160617','HD167060','HD185975']\n",
    "\n",
    "NTargets=len(all_target_names)"
   ]
  },
  {
   "cell_type": "code",
   "execution_count": null,
   "metadata": {
    "jupyter": {
     "outputs_hidden": false
    }
   },
   "outputs": [],
   "source": [
    "all_target_locations = [ SkyCoord.from_name(target_name) for target_name in all_target_names]"
   ]
  },
  {
   "cell_type": "code",
   "execution_count": null,
   "metadata": {},
   "outputs": [],
   "source": [
    "all_target_locations[0]"
   ]
  },
  {
   "cell_type": "code",
   "execution_count": null,
   "metadata": {},
   "outputs": [],
   "source": [
    "all_ra=[]\n",
    "all_dec=[]\n",
    "for target_loc in all_target_locations:\n",
    "    all_ra.append(target_loc.ra)\n",
    "    all_dec.append(target_loc.dec)"
   ]
  },
  {
   "cell_type": "code",
   "execution_count": null,
   "metadata": {},
   "outputs": [],
   "source": []
  },
  {
   "cell_type": "code",
   "execution_count": null,
   "metadata": {},
   "outputs": [],
   "source": [
    "all_Vmag = []\n",
    "all_types = []\n",
    "all_target_tagnames = []\n",
    "for target_name in all_target_names:\n",
    "    result_table = Simbad.query_object(target_name)\n",
    "    all_Vmag.append(result_table['FLUX_V'][0])\n",
    "    all_types.append(result_table['SP_QUAL'][0]) \n",
    "    tagname =  target_name + \", t=\" + result_table['SP_QUAL'][0] + \", m=\" + str(result_table['FLUX_V'][0])\n",
    "    print(tagname)\n",
    "    all_target_tagnames.append(tagname)"
   ]
  },
  {
   "cell_type": "code",
   "execution_count": null,
   "metadata": {},
   "outputs": [],
   "source": [
    "# wavelength bin colors\n",
    "jet = plt.get_cmap('jet')\n",
    "cNorm = colors.Normalize(vmin=0, vmax=NTargets)\n",
    "scalarMap = cmx.ScalarMappable(norm=cNorm, cmap=jet)\n",
    "all_colors = scalarMap.to_rgba(np.arange(NTargets), alpha=1)"
   ]
  },
  {
   "cell_type": "markdown",
   "metadata": {},
   "source": [
    "## Observation Date"
   ]
  },
  {
   "cell_type": "code",
   "execution_count": null,
   "metadata": {},
   "outputs": [],
   "source": [
    "NYEAR=2022\n",
    "NMONTH=9\n",
    "NDAY=12"
   ]
  },
  {
   "cell_type": "code",
   "execution_count": null,
   "metadata": {},
   "outputs": [],
   "source": [
    "night_obs= datetime.datetime(NYEAR, NMONTH, NDAY, 0, 0)\n",
    "night_obs_midnight= datetime.datetime(NYEAR, NMONTH, NDAY, 23, 59,59)"
   ]
  },
  {
   "cell_type": "code",
   "execution_count": null,
   "metadata": {},
   "outputs": [],
   "source": [
    "night_obs_midnight"
   ]
  },
  {
   "cell_type": "code",
   "execution_count": null,
   "metadata": {},
   "outputs": [],
   "source": [
    "night_obs_str=night_obs.strftime(\"%Y-%m-%d %H:%M:%S\")\n",
    "night_obs_str"
   ]
  },
  {
   "cell_type": "code",
   "execution_count": null,
   "metadata": {},
   "outputs": [],
   "source": [
    "night_obs_midnight_str=night_obs_midnight.strftime(\"%Y-%m-%d %H:%M:%S\")\n",
    "night_obs_midnight_str"
   ]
  },
  {
   "cell_type": "markdown",
   "metadata": {},
   "source": [
    "## Time zone at observation"
   ]
  },
  {
   "cell_type": "code",
   "execution_count": null,
   "metadata": {},
   "outputs": [],
   "source": [
    "if timezone_str is None:\n",
    "    print(\"Could not determine the time zone\")\n",
    "else:\n",
    "    # Display the current time in that time zone\n",
    "    \n",
    "    #tz = pytz.timezone('Europe/Berlin')\n",
    "    #berlin_now = datetime.now(tz)\n",
    "    \n",
    "    timezone = pytz.timezone(timezone_str)\n",
    "    timezone0 = pytz.timezone('UTC')\n",
    "    \n",
    "    dt = night_obs_midnight\n",
    "    \n",
    "    print(\"The UTC Time at observation %s\" % dt)\n",
    "    print(\"The actual time in %s is %s\" % (timezone_str, dt + timezone.utcoffset(dt)))"
   ]
  },
  {
   "cell_type": "code",
   "execution_count": null,
   "metadata": {},
   "outputs": [],
   "source": [
    "utcoffset=timezone.utcoffset(dt).total_seconds()/60./60.\n",
    "print(\"The UTC offset in Chile is \",utcoffset,\" hours\")"
   ]
  },
  {
   "cell_type": "code",
   "execution_count": null,
   "metadata": {},
   "outputs": [],
   "source": [
    "utcoffset=utcoffset*u.hour  # need hours units"
   ]
  },
  {
   "cell_type": "markdown",
   "metadata": {},
   "source": [
    "## Observation Location"
   ]
  },
  {
   "cell_type": "code",
   "execution_count": null,
   "metadata": {},
   "outputs": [],
   "source": [
    "LSSTNAME='Cerro Pachon'\n",
    "lsst_location=EarthLocation.of_site(LSSTNAME)\n",
    "longitude=lsst_location.lon\n",
    "latitude=lsst_location.lat\n",
    "altitude=lsst_location.height"
   ]
  },
  {
   "cell_type": "code",
   "execution_count": null,
   "metadata": {
    "jupyter": {
     "outputs_hidden": false
    }
   },
   "outputs": [],
   "source": [
    "cerro_pachon = EarthLocation(lat=latitude.degree*u.deg, lon=longitude.degree*u.deg, height=altitude)"
   ]
  },
  {
   "cell_type": "markdown",
   "metadata": {},
   "source": [
    "## Check Position of target at midnight\n",
    "\n",
    "http://catserver.ing.iac.es/staralt/"
   ]
  },
  {
   "cell_type": "markdown",
   "metadata": {},
   "source": [
    "# Observation frame"
   ]
  },
  {
   "cell_type": "code",
   "execution_count": null,
   "metadata": {
    "jupyter": {
     "outputs_hidden": false
    }
   },
   "outputs": [],
   "source": [
    "midnight_utc = Time(night_obs_midnight_str) - utcoffset\n",
    "delta_midnight = np.linspace(-2, 10, 100)*u.hour\n",
    "frame_night = AltAz(obstime=midnight_utc+delta_midnight,location=cerro_pachon)"
   ]
  },
  {
   "cell_type": "code",
   "execution_count": null,
   "metadata": {},
   "outputs": [],
   "source": [
    "delta_midnight = np.linspace(-12, 12, 1000)*u.hour\n",
    "times_evening_to_morning = midnight_utc + delta_midnight\n",
    "frame_evening_to_morning = AltAz(obstime=times_evening_to_morning, location=cerro_pachon)"
   ]
  },
  {
   "cell_type": "markdown",
   "metadata": {},
   "source": [
    "### Sun frame"
   ]
  },
  {
   "cell_type": "code",
   "execution_count": null,
   "metadata": {
    "jupyter": {
     "outputs_hidden": false
    }
   },
   "outputs": [],
   "source": [
    "from astropy.coordinates import get_sun\n",
    "sunaltazs_evening_to_morning = get_sun(times_evening_to_morning).transform_to(frame_evening_to_morning)"
   ]
  },
  {
   "cell_type": "markdown",
   "metadata": {},
   "source": [
    "### Moon frame"
   ]
  },
  {
   "cell_type": "code",
   "execution_count": null,
   "metadata": {
    "jupyter": {
     "outputs_hidden": false
    }
   },
   "outputs": [],
   "source": [
    "from astropy.coordinates import get_moon\n",
    "moon_evening_to_morning = get_moon(times_evening_to_morning)\n",
    "moonaltazs_evening_to_morning = moon_evening_to_morning.transform_to(frame_evening_to_morning)"
   ]
  },
  {
   "cell_type": "markdown",
   "metadata": {},
   "source": [
    "### Target frame"
   ]
  },
  {
   "cell_type": "markdown",
   "metadata": {},
   "source": [
    "\n",
    "\n",
    "\n"
   ]
  },
  {
   "cell_type": "code",
   "execution_count": null,
   "metadata": {},
   "outputs": [],
   "source": [
    "all_target_altazs_evening_to_morning = [target_location.transform_to(frame_evening_to_morning) for target_location in  all_target_locations ]"
   ]
  },
  {
   "cell_type": "markdown",
   "metadata": {},
   "source": [
    "# Order according increasing maxinum rise time"
   ]
  },
  {
   "cell_type": "code",
   "execution_count": null,
   "metadata": {},
   "outputs": [],
   "source": [
    "from astropy.coordinates import Angle"
   ]
  },
  {
   "cell_type": "code",
   "execution_count": null,
   "metadata": {},
   "outputs": [],
   "source": [
    "all_timemax=np.zeros(NTargets)\n",
    "all_altitudesmax=np.zeros(NTargets)\n",
    "for idx in np.arange(NTargets):\n",
    "    altitudes=all_target_altazs_evening_to_morning[idx].alt\n",
    "    idx_max=np.where(altitudes==altitudes.max())[0][0]\n",
    "    all_timemax[idx]=delta_midnight[idx_max].value\n",
    "    all_altitudesmax[idx]=altitudes.max().degree"
   ]
  },
  {
   "cell_type": "code",
   "execution_count": null,
   "metadata": {},
   "outputs": [],
   "source": [
    "Angle(altitudes.max()).degree"
   ]
  },
  {
   "cell_type": "code",
   "execution_count": null,
   "metadata": {},
   "outputs": [],
   "source": [
    "all_timemax"
   ]
  },
  {
   "cell_type": "raw",
   "metadata": {},
   "source": [
    "sorted_indexes=np.argsort(all_timemax)"
   ]
  },
  {
   "cell_type": "code",
   "execution_count": null,
   "metadata": {},
   "outputs": [],
   "source": [
    "sorted_indexes=np.argsort(all_timemax)"
   ]
  },
  {
   "cell_type": "code",
   "execution_count": null,
   "metadata": {},
   "outputs": [],
   "source": [
    "sorted_all_timemax=sorted(all_timemax)\n",
    "sorted_all_timemax"
   ]
  },
  {
   "cell_type": "markdown",
   "metadata": {},
   "source": [
    "# Plot"
   ]
  },
  {
   "cell_type": "markdown",
   "metadata": {},
   "source": []
  },
  {
   "cell_type": "code",
   "execution_count": null,
   "metadata": {
    "jupyter": {
     "outputs_hidden": false
    }
   },
   "outputs": [],
   "source": [
    "plt.figure(figsize=(20,12))\n",
    "plt.plot(delta_midnight, sunaltazs_evening_to_morning.alt, color='r', ls=\":\",label='Sun',lw=5)\n",
    "plt.plot(delta_midnight, moonaltazs_evening_to_morning.alt, color=[0.75]*3, ls='--', label='Moon',lw=5)\n",
    "\n",
    "rank=0\n",
    "for idx in sorted_indexes:\n",
    "    label=str(rank)+\" : \"+all_target_tagnames[idx]\n",
    "    plt.plot(delta_midnight, all_target_altazs_evening_to_morning[idx].alt,label=label, lw=2.5,color=all_colors[rank])\n",
    "\n",
    "    if all_target_altazs_evening_to_morning[idx].alt[-1]>0:\n",
    "        plt.text(delta_midnight[-1], all_target_altazs_evening_to_morning[idx].alt[-1], f'{rank}',color=all_colors[rank],fontsize=20)\n",
    "    if all_target_altazs_evening_to_morning[idx].alt[0]>0:\n",
    "        plt.text(delta_midnight[0], all_target_altazs_evening_to_morning[idx].alt[0], f'{rank}',color=all_colors[rank],fontsize=20)\n",
    "    if all_altitudesmax[idx]:\n",
    "        plt.text(all_timemax[idx], all_altitudesmax[idx], f'{rank}',color=all_colors[rank],fontsize=20)\n",
    "    \n",
    "    rank+=1\n",
    "    \n",
    "#labelLines(plt.gca().get_lines(), zorder=2.5)\n",
    "#labelLines(plt.gca().get_lines(), align=False, fontsize=14)\n",
    "#xvals=sorted(all_timemax)\n",
    "#labelLines(plt.gca().get_lines(), align=False, xvals=xvals, color=\"k\")\n",
    "#labelLines(plt.gca().get_lines(), xvals=(-10., 10.), zorder=2.5)\n",
    "\n",
    "\n",
    "plt.fill_between(delta_midnight, 0*u.deg, 90*u.deg,sunaltazs_evening_to_morning.alt < -0*u.deg, color='0.5', zorder=0)\n",
    "plt.fill_between(delta_midnight, 0*u.deg, 90*u.deg,sunaltazs_evening_to_morning.alt < -18*u.deg, color='k', zorder=0)\n",
    "\n",
    "plt.legend(loc='upper left')\n",
    "plt.xlim(-12*u.hour, 12*u.hour)\n",
    "plt.xticks((np.arange(13)*2-12)*u.hour)\n",
    "plt.ylim(0*u.deg, 90*u.deg)\n",
    "plt.xlabel('Hours from Midnight local time')\n",
    "plt.ylabel('Altitude [deg]')\n",
    "title = \"Observations at AuxTel at night \" + night_obs_str.split(\" \")[0]\n",
    "plt.title(title)\n",
    "\n",
    "figname=\"AuxtelStarAlt_{:4d}_{:d}_{:d}.png\".format(NYEAR,NMONTH,NDAY)\n",
    "\n",
    "plt.savefig(figname)\n",
    "plt.show()"
   ]
  },
  {
   "cell_type": "markdown",
   "metadata": {},
   "source": [
    "# Create astropy Table"
   ]
  },
  {
   "cell_type": "code",
   "execution_count": null,
   "metadata": {},
   "outputs": [],
   "source": [
    "t = Table()"
   ]
  },
  {
   "cell_type": "code",
   "execution_count": null,
   "metadata": {},
   "outputs": [],
   "source": [
    "t[\"name\"] = all_target_names\n",
    "t[\"ra\"] = all_ra\n",
    "t[\"dec\"] = all_dec\n",
    "t[\"type\"] = all_types \n",
    "t[\"Vmag\"] = all_Vmag  \n",
    "t[\"tculmin\"] = all_timemax"
   ]
  },
  {
   "cell_type": "code",
   "execution_count": null,
   "metadata": {},
   "outputs": [],
   "source": [
    "t[\"ra\"].info.format ='5.3f'\n",
    "t[\"dec\"].info.format ='5.3f'\n",
    "t[\"Vmag\"].info.format ='5.3f'\n",
    "t[\"tculmin\"].info.format ='5.3f'"
   ]
  },
  {
   "cell_type": "code",
   "execution_count": null,
   "metadata": {},
   "outputs": [],
   "source": [
    "t.show_in_notebook()"
   ]
  },
  {
   "cell_type": "code",
   "execution_count": null,
   "metadata": {},
   "outputs": [],
   "source": [
    "t"
   ]
  },
  {
   "cell_type": "code",
   "execution_count": null,
   "metadata": {},
   "outputs": [],
   "source": []
  }
 ],
 "metadata": {
  "kernelspec": {
   "display_name": "python3_base",
   "language": "python",
   "name": "python3"
  },
  "language_info": {
   "codemirror_mode": {
    "name": "ipython",
    "version": 3
   },
   "file_extension": ".py",
   "mimetype": "text/x-python",
   "name": "python",
   "nbconvert_exporter": "python",
   "pygments_lexer": "ipython3",
   "version": "3.9.12"
  },
  "toc": {
   "base_numbering": 1,
   "nav_menu": {},
   "number_sections": true,
   "sideBar": true,
   "skip_h1_title": false,
   "title_cell": "Table of Contents",
   "title_sidebar": "Contents",
   "toc_cell": false,
   "toc_position": {},
   "toc_section_display": true,
   "toc_window_display": false
  }
 },
 "nbformat": 4,
 "nbformat_minor": 4
}
