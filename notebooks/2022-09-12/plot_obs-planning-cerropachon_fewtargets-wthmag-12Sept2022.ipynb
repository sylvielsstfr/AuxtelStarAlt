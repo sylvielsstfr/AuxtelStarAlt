{
 "cells": [
  {
   "cell_type": "markdown",
   "metadata": {},
   "source": [
    "\n",
    "# Determining and plotting the altitude/azimuth of a celestial object including magnitudes and types of objects for September 2022\n",
    "\n",
    "This example demonstrates coordinate transformations and the creation of\n",
    "visibility curves to assist with observing run planning.\n",
    "\n",
    "In this example, we make a `~astropy.coordinates.SkyCoord` instance for M33.\n",
    "The altitude-azimuth coordinates are then found using\n",
    "`astropy.coordinates.EarthLocation` and `astropy.time.Time` objects.\n",
    "\n",
    "This example is meant to demonstrate the capabilities of the\n",
    "`astropy.coordinates` package. For more convenient and/or complex observation\n",
    "planning, consider the `astroplan <https://astroplan.readthedocs.org/>`_\n",
    "package.\n",
    "\n",
    "\n",
    "*By: Erik Tollerud, Kelle Cruz*\n",
    "\n",
    "*License: BSD*\n"
   ]
  },
  {
   "cell_type": "markdown",
   "metadata": {},
   "source": [
    "- Author Sylvie Dagoret-Campagne\n",
    "- Creation : September 12th 2022\n",
    "- Update "
   ]
  },
  {
   "cell_type": "markdown",
   "metadata": {},
   "source": [
    "Let's suppose you are planning to visit picturesque Bear Mountain State Park\n",
    "in New York, USA. You're bringing your telescope with you (of course), and\n",
    "someone told you M33 is a great target to observe there. You happen to know\n",
    "you're free at 11:00 pm local time, and you want to know if it will be up.\n",
    "Astropy can answer that.\n",
    "\n",
    "Import numpy and matplotlib. For the latter, use a nicer set of plot\n",
    "parameters and set up support for plotting/converting quantities.\n",
    "\n"
   ]
  },
  {
   "cell_type": "code",
   "execution_count": 1,
   "metadata": {
    "jupyter": {
     "outputs_hidden": false
    }
   },
   "outputs": [],
   "source": [
    "import numpy as np\n",
    "import matplotlib.pyplot as plt\n",
    "from astropy.visualization import astropy_mpl_style, quantity_support\n",
    "plt.style.use(astropy_mpl_style)\n",
    "quantity_support()\n",
    "\n",
    "%matplotlib inline"
   ]
  },
  {
   "cell_type": "markdown",
   "metadata": {},
   "source": [
    "Import the packages necessary for finding coordinates and making\n",
    "coordinate transformations\n",
    "\n"
   ]
  },
  {
   "cell_type": "code",
   "execution_count": 82,
   "metadata": {
    "jupyter": {
     "outputs_hidden": false
    }
   },
   "outputs": [],
   "source": [
    "import astropy.units as u\n",
    "from astropy.coordinates import Angle\n",
    "from astropy.time import Time, TimezoneInfo\n",
    "from astropy.coordinates import SkyCoord, EarthLocation, AltAz"
   ]
  },
  {
   "cell_type": "code",
   "execution_count": 3,
   "metadata": {},
   "outputs": [],
   "source": [
    "from astroquery.simbad import Simbad"
   ]
  },
  {
   "cell_type": "code",
   "execution_count": 4,
   "metadata": {},
   "outputs": [],
   "source": [
    "from astropy.table import Table"
   ]
  },
  {
   "cell_type": "code",
   "execution_count": 5,
   "metadata": {},
   "outputs": [],
   "source": [
    "import matplotlib.colors as colors\n",
    "import matplotlib.cm as cmx"
   ]
  },
  {
   "cell_type": "code",
   "execution_count": 44,
   "metadata": {},
   "outputs": [],
   "source": [
    "from datetime import datetime\n",
    "import timezonefinder, pytz\n",
    "from calendar import monthrange\n",
    "import calendar"
   ]
  },
  {
   "cell_type": "markdown",
   "metadata": {},
   "source": [
    "- label lines\n",
    "https://github.com/cphyc/matplotlib-label-lines"
   ]
  },
  {
   "cell_type": "code",
   "execution_count": 8,
   "metadata": {},
   "outputs": [],
   "source": [
    "#from labellines import labelLine, labelLines"
   ]
  },
  {
   "cell_type": "code",
   "execution_count": 9,
   "metadata": {},
   "outputs": [],
   "source": [
    "plt.rcParams[\"axes.labelsize\"]=\"large\"\n",
    "plt.rcParams[\"axes.linewidth\"]=2.0\n",
    "plt.rcParams[\"xtick.major.size\"]=8\n",
    "plt.rcParams[\"ytick.major.size\"]=8\n",
    "plt.rcParams[\"ytick.minor.size\"]=5\n",
    "plt.rcParams[\"xtick.labelsize\"]=\"large\"\n",
    "plt.rcParams[\"ytick.labelsize\"]=\"large\"\n",
    "\n",
    "plt.rcParams[\"figure.figsize\"]=(12,8)\n",
    "plt.rcParams['axes.titlesize'] = 16\n",
    "plt.rcParams['axes.titleweight'] = 'bold'\n",
    "#plt.rcParams['axes.facecolor'] = 'blue'\n",
    "plt.rcParams['xtick.direction'] = 'out'\n",
    "plt.rcParams['ytick.direction'] = 'out'\n",
    "plt.rcParams['lines.markeredgewidth'] = 0.3 # the line width around the marker symbol\n",
    "plt.rcParams['lines.markersize'] = 5  # markersize, in points\n",
    "plt.rcParams['grid.alpha'] = 0.75 # transparency, between 0.0 and 1.0\n",
    "plt.rcParams['grid.linestyle'] = '-' # simple line\n",
    "plt.rcParams['grid.linewidth'] = 0.4 # in points\n",
    "plt.rcParams['font.size'] = 13"
   ]
  },
  {
   "cell_type": "markdown",
   "metadata": {},
   "source": [
    "# Initialisation:"
   ]
  },
  {
   "cell_type": "markdown",
   "metadata": {},
   "source": [
    "## Observation location"
   ]
  },
  {
   "cell_type": "code",
   "execution_count": 10,
   "metadata": {},
   "outputs": [],
   "source": [
    "LSSTNAME='Cerro Pachon'\n",
    "lsst_location=EarthLocation.of_site(LSSTNAME)\n",
    "longitude=lsst_location.lon\n",
    "latitude=lsst_location.lat\n",
    "altitude=lsst_location.height"
   ]
  },
  {
   "cell_type": "markdown",
   "metadata": {},
   "source": [
    "## Determination of UTC offset from Time zone in Chile"
   ]
  },
  {
   "cell_type": "code",
   "execution_count": 11,
   "metadata": {},
   "outputs": [],
   "source": [
    "tf = timezonefinder.TimezoneFinder()"
   ]
  },
  {
   "cell_type": "code",
   "execution_count": 12,
   "metadata": {},
   "outputs": [],
   "source": [
    "timezone_str = tf.certain_timezone_at(lat=latitude.degree, lng=longitude.degree)"
   ]
  },
  {
   "cell_type": "code",
   "execution_count": 13,
   "metadata": {},
   "outputs": [
    {
     "data": {
      "text/plain": [
       "'America/Santiago'"
      ]
     },
     "execution_count": 13,
     "metadata": {},
     "output_type": "execute_result"
    }
   ],
   "source": [
    "timezone_str "
   ]
  },
  {
   "cell_type": "code",
   "execution_count": 45,
   "metadata": {},
   "outputs": [
    {
     "name": "stdout",
     "output_type": "stream",
     "text": [
      "The UTC Time now 2022-09-10 18:24:21.491912\n",
      "The actual time in America/Santiago is 2022-09-10 15:24:21.491912\n"
     ]
    }
   ],
   "source": [
    "if timezone_str is None:\n",
    "    print(\"Could not determine the time zone\")\n",
    "else:\n",
    "    # Display the current time in that time zone\n",
    "    \n",
    "    #tz = pytz.timezone('Europe/Berlin')\n",
    "    #berlin_now = datetime.now(tz)\n",
    "    \n",
    "    timezone = pytz.timezone(timezone_str)\n",
    "    timezone0 = pytz.timezone('UTC')\n",
    "    \n",
    "    dt = datetime.utcnow()\n",
    "    timeChile_now = datetime.now(timezone)\n",
    "    \n",
    "    print(\"The UTC Time now %s\" % dt)\n",
    "    print(\"The actual time in %s is %s\" % (timezone_str, dt + timezone.utcoffset(dt)))"
   ]
  },
  {
   "cell_type": "code",
   "execution_count": 46,
   "metadata": {},
   "outputs": [
    {
     "name": "stdout",
     "output_type": "stream",
     "text": [
      "The UTC offset in Chile is  -3.0  hours\n"
     ]
    }
   ],
   "source": [
    "utcoffset=timezone.utcoffset(dt).total_seconds()/60./60.\n",
    "print(\"The UTC offset in Chile is \",utcoffset,\" hours\")"
   ]
  },
  {
   "cell_type": "code",
   "execution_count": 61,
   "metadata": {},
   "outputs": [
    {
     "data": {
      "text/plain": [
       "<astropy.time.formats.TimezoneInfo at 0x7fa5d3f5b4f0>"
      ]
     },
     "execution_count": 61,
     "metadata": {},
     "output_type": "execute_result"
    }
   ],
   "source": [
    "tz_utc_minus_three_hours = TimezoneInfo(utc_offset=int(utcoffset)*u.hour)\n",
    "tz_utc_minus_three_hours"
   ]
  },
  {
   "cell_type": "markdown",
   "metadata": {},
   "source": [
    "## Initialisation of Simbad"
   ]
  },
  {
   "cell_type": "code",
   "execution_count": 16,
   "metadata": {},
   "outputs": [],
   "source": [
    "# to view the list of VOTABLE\n",
    "# Simbad.list_votable_fields()"
   ]
  },
  {
   "cell_type": "code",
   "execution_count": 48,
   "metadata": {},
   "outputs": [],
   "source": [
    "Simbad.add_votable_fields('sptype')\n",
    "Simbad.add_votable_fields('flux(U)') # add the Vega unit Magnitude \n",
    "Simbad.add_votable_fields('flux(B)') # add the Vega unit Magnitude \n",
    "Simbad.add_votable_fields('flux(V)') # add the Vega unit Magnitude \n",
    "Simbad.add_votable_fields('flux(R)') # add the Vega unit Magnitude \n",
    "Simbad.add_votable_fields('flux(I)') # add the Vega unit Magnitude \n",
    "#Simbad.add_votable_fields('flux_unit(V)')\n",
    "#Simbad.add_votable_fields('flux_unit(I)')\n",
    "#Simbad.add_votable_fields('flux_system(V)')\n",
    "#Simbad.add_votable_fields('flux_system(I)')\n",
    "#Simbad.add_votable_fields('ubv')  # Johnson UBV system"
   ]
  },
  {
   "cell_type": "markdown",
   "metadata": {},
   "source": [
    "## Targets"
   ]
  },
  {
   "cell_type": "code",
   "execution_count": 49,
   "metadata": {},
   "outputs": [],
   "source": [
    "all_target_names_old= [\"hd111980\",\"hd101452\",\"hd115169\",\"hd142331\",'FEIGE110', 'GD108', 'GD50',\n",
    "                   'HD009051', 'HD031128','HD074000', 'HD111980', 'HD14943', 'HD160617', 'HD185975',\n",
    "                   'HD200654', 'HD205905', 'HD37962', 'HD38949', 'HD60753','LTT9491', 'NGC7293', 'SIRIUS', \n",
    "                   'WD0308-565','HD009051','HD14943','HD002811','PNG321.0+03.9','HD2811','HD009051','HD14943',\n",
    "                   'HD031128','LAM LEP','HD37962','mu. Col','HD38949','ETA1 DOR','HD60753','HD074000','HD160617',\n",
    "                   'HD167060','HD185975','HD200654','HD205905','HD14943','HD031128','LAM LEP','HD37962','mu. Col',\n",
    "                   'HD38949','ETA1 DOR','HD60753','HD074000','HD111980','HD115169','BD-11 192','HD142331','18SCO',\n",
    "                   'HD160617','HD167060','HD185975']\n",
    "\n",
    "all_target_names = ['18SCO', 'BD-11 192', 'ETA1 DOR', 'FEIGE110', 'GD108', 'GD50','HD002811', 'HD009051',\n",
    "                    'HD031128', 'HD074000', 'HD111980','HD115169', 'HD142331', 'HD14943', 'HD160617','HD167060',\n",
    "                    'HD185975', 'HD200654', 'HD205905', 'HD2811', 'HD37962', 'HD38949','HD60753', 'LAM LEP',\n",
    "                    'LTT9491', 'NGC7293', 'PNG321.0+03.9','SIRIUS', 'WD0308-565', 'hd101452', 'hd111980',\n",
    "                    'hd115169','hd142331', 'mu. Col']\n",
    "\n",
    "NTargets=len(all_target_names)"
   ]
  },
  {
   "cell_type": "code",
   "execution_count": 50,
   "metadata": {},
   "outputs": [
    {
     "name": "stdout",
     "output_type": "stream",
     "text": [
      "Number of targets : 34\n"
     ]
    }
   ],
   "source": [
    "print(f\"Number of targets : {NTargets}\")"
   ]
  },
  {
   "cell_type": "markdown",
   "metadata": {},
   "source": [
    "## Get coordinates"
   ]
  },
  {
   "cell_type": "code",
   "execution_count": 51,
   "metadata": {
    "jupyter": {
     "outputs_hidden": false
    }
   },
   "outputs": [],
   "source": [
    "all_target_locations = [ SkyCoord.from_name(target_name) for target_name in all_target_names]"
   ]
  },
  {
   "cell_type": "code",
   "execution_count": 52,
   "metadata": {},
   "outputs": [],
   "source": [
    "all_ra=[]\n",
    "all_dec=[]\n",
    "for target_loc in all_target_locations:\n",
    "    all_ra.append(target_loc.ra)\n",
    "    all_dec.append(target_loc.dec)"
   ]
  },
  {
   "cell_type": "markdown",
   "metadata": {},
   "source": [
    "## Find magnitudes"
   ]
  },
  {
   "cell_type": "code",
   "execution_count": 53,
   "metadata": {},
   "outputs": [
    {
     "name": "stdout",
     "output_type": "stream",
     "text": [
      "18SCO, t=B, m=5.5\n",
      "BD-11 192, t=C, m=9.993\n",
      "ETA1 DOR, t=C, m=5.69\n",
      "FEIGE110, t=B, m=11.5\n",
      "GD108, t=D, m=13.563\n",
      "GD50, t=C, m=14.063\n",
      "HD002811, t=C, m=7.5\n",
      "HD009051, t=D, m=8.92\n",
      "HD031128, t=D, m=9.14\n",
      "HD074000, t=D, m=9.66\n",
      "HD111980, t=C, m=8.38\n",
      "HD115169, t=C, m=9.2\n",
      "HD142331, t=C, m=8.75\n",
      "HD14943, t=C, m=5.898\n",
      "HD160617, t=D, m=8.73\n",
      "HD167060, t=C, m=8.92\n",
      "HD185975, t=C, m=8.1\n",
      "HD200654, t=C, m=9.11\n",
      "HD205905, t=C, m=6.74\n",
      "HD2811, t=C, m=7.5\n",
      "HD37962, t=C, m=7.85\n",
      "HD38949, t=C, m=7.8\n",
      "HD60753, t=C, m=6.68\n",
      "LAM LEP, t=C, m=4.29\n",
      "LTT9491, t=C, m=14.111\n",
      "NGC7293, t=C, m=13.524\n",
      "PNG321.0+03.9, t=C, m=11.64\n",
      "SIRIUS, t=C, m=-1.46\n",
      "WD0308-565, t=D, m=14.14\n",
      "hd101452, t=E, m=8.2\n",
      "hd111980, t=C, m=8.38\n",
      "hd115169, t=C, m=9.2\n",
      "hd142331, t=C, m=8.75\n",
      "mu. Col, t=C, m=5.18\n"
     ]
    }
   ],
   "source": [
    "all_Vmag = []\n",
    "all_types = []\n",
    "all_target_tagnames = []\n",
    "for target_name in all_target_names:\n",
    "    result_table = Simbad.query_object(target_name)\n",
    "    all_Vmag.append(result_table['FLUX_V'][0])\n",
    "    all_types.append(result_table['SP_QUAL'][0]) \n",
    "    tagname =  target_name + \", t=\" + result_table['SP_QUAL'][0] + \", m=\" + str(result_table['FLUX_V'][0])\n",
    "    print(tagname)\n",
    "    all_target_tagnames.append(tagname)"
   ]
  },
  {
   "cell_type": "markdown",
   "metadata": {},
   "source": [
    "## Build table"
   ]
  },
  {
   "cell_type": "code",
   "execution_count": 78,
   "metadata": {},
   "outputs": [],
   "source": [
    "from astropy.table import Table\n",
    "t = Table()\n",
    "t[\"target\"] = all_target_names\n",
    "t[\"types\"] = all_types\n",
    "t[\"Vmag\"]  = all_Vmag \n",
    "t[\"ra\"]    = all_ra \n",
    "t[\"dec\"]    = all_dec "
   ]
  },
  {
   "cell_type": "code",
   "execution_count": 79,
   "metadata": {},
   "outputs": [],
   "source": [
    "t['ra'].info.format = '9.6f'\n",
    "t['dec'].info.format = '9.6f'\n",
    "t['Vmag'].info.format = '4.2f'"
   ]
  },
  {
   "cell_type": "code",
   "execution_count": 80,
   "metadata": {},
   "outputs": [
    {
     "data": {
      "text/html": [
       "<div><i>Table length=34</i>\n",
       "<table id=\"table140350203582688\" class=\"table-striped table-bordered table-condensed\">\n",
       "<thead><tr><th>target</th><th>types</th><th>Vmag</th><th>ra</th><th>dec</th></tr></thead>\n",
       "<thead><tr><th></th><th></th><th></th><th>deg</th><th>deg</th></tr></thead>\n",
       "<thead><tr><th>str13</th><th>str1</th><th>float32</th><th>float64</th><th>float64</th></tr></thead>\n",
       "<tr><td>18SCO</td><td>B</td><td>5.50</td><td>243.905293</td><td>-8.369439</td></tr>\n",
       "<tr><td>BD-11 192</td><td>C</td><td>9.99</td><td>15.588059</td><td>-10.423859</td></tr>\n",
       "<tr><td>ETA1 DOR</td><td>C</td><td>5.69</td><td>91.539090</td><td>-66.039620</td></tr>\n",
       "<tr><td>FEIGE110</td><td>B</td><td>11.50</td><td>349.993331</td><td>-5.165603</td></tr>\n",
       "<tr><td>GD108</td><td>D</td><td>13.56</td><td>150.196859</td><td>-7.558549</td></tr>\n",
       "<tr><td>GD50</td><td>C</td><td>14.06</td><td>57.209109</td><td>-0.975636</td></tr>\n",
       "<tr><td>HD002811</td><td>C</td><td>7.50</td><td>7.827041</td><td>-43.606389</td></tr>\n",
       "<tr><td>...</td><td>...</td><td>...</td><td>...</td><td>...</td></tr>\n",
       "<tr><td>SIRIUS</td><td>C</td><td>-1.46</td><td>101.287155</td><td>-16.716116</td></tr>\n",
       "<tr><td>WD0308-565</td><td>D</td><td>14.14</td><td>47.449657</td><td>-56.397059</td></tr>\n",
       "<tr><td>hd101452</td><td>E</td><td>8.20</td><td>175.056879</td><td>-39.146576</td></tr>\n",
       "<tr><td>hd111980</td><td>C</td><td>8.38</td><td>193.312720</td><td>-18.522225</td></tr>\n",
       "<tr><td>hd115169</td><td>C</td><td>9.20</td><td>198.947451</td><td>-29.505884</td></tr>\n",
       "<tr><td>hd142331</td><td>C</td><td>8.75</td><td>238.582452</td><td>-8.580380</td></tr>\n",
       "<tr><td>mu. Col</td><td>C</td><td>5.18</td><td>86.499564</td><td>-32.306435</td></tr>\n",
       "</table></div>"
      ],
      "text/plain": [
       "<Table length=34>\n",
       "  target   types   Vmag      ra        dec    \n",
       "                            deg        deg    \n",
       "  str13     str1 float32  float64    float64  \n",
       "---------- ----- ------- ---------- ----------\n",
       "     18SCO     B    5.50 243.905293  -8.369439\n",
       " BD-11 192     C    9.99  15.588059 -10.423859\n",
       "  ETA1 DOR     C    5.69  91.539090 -66.039620\n",
       "  FEIGE110     B   11.50 349.993331  -5.165603\n",
       "     GD108     D   13.56 150.196859  -7.558549\n",
       "      GD50     C   14.06  57.209109  -0.975636\n",
       "  HD002811     C    7.50   7.827041 -43.606389\n",
       "       ...   ...     ...        ...        ...\n",
       "    SIRIUS     C   -1.46 101.287155 -16.716116\n",
       "WD0308-565     D   14.14  47.449657 -56.397059\n",
       "  hd101452     E    8.20 175.056879 -39.146576\n",
       "  hd111980     C    8.38 193.312720 -18.522225\n",
       "  hd115169     C    9.20 198.947451 -29.505884\n",
       "  hd142331     C    8.75 238.582452  -8.580380\n",
       "   mu. Col     C    5.18  86.499564 -32.306435"
      ]
     },
     "execution_count": 80,
     "metadata": {},
     "output_type": "execute_result"
    }
   ],
   "source": [
    "t"
   ]
  },
  {
   "cell_type": "code",
   "execution_count": 54,
   "metadata": {},
   "outputs": [],
   "source": [
    "# wavelength bin colors\n",
    "jet = plt.get_cmap('jet')\n",
    "cNorm = colors.Normalize(vmin=0, vmax=NTargets)\n",
    "scalarMap = cmx.ScalarMappable(norm=cNorm, cmap=jet)\n",
    "all_colors = scalarMap.to_rgba(np.arange(NTargets), alpha=1)"
   ]
  },
  {
   "cell_type": "markdown",
   "metadata": {},
   "source": [
    "## Observation Date"
   ]
  },
  {
   "cell_type": "code",
   "execution_count": 55,
   "metadata": {},
   "outputs": [],
   "source": [
    "NYEAR=2022\n",
    "NMONTH=9\n",
    "NDAY=12"
   ]
  },
  {
   "cell_type": "code",
   "execution_count": 64,
   "metadata": {},
   "outputs": [],
   "source": [
    "night_obs = datetime(NYEAR, NMONTH, NDAY, 0, 0)\n",
    "night_obs_midnight= datetime(NYEAR, NMONTH, NDAY, 23, 59,59,tzinfo = tz_utc_minus_three_hours)"
   ]
  },
  {
   "cell_type": "code",
   "execution_count": 57,
   "metadata": {},
   "outputs": [
    {
     "data": {
      "text/plain": [
       "datetime.datetime(2022, 9, 12, 23, 59, 59)"
      ]
     },
     "execution_count": 57,
     "metadata": {},
     "output_type": "execute_result"
    }
   ],
   "source": [
    "night_obs_midnight"
   ]
  },
  {
   "cell_type": "code",
   "execution_count": 58,
   "metadata": {},
   "outputs": [
    {
     "data": {
      "text/plain": [
       "'2022-09-12 00:00:00'"
      ]
     },
     "execution_count": 58,
     "metadata": {},
     "output_type": "execute_result"
    }
   ],
   "source": [
    "night_obs_str=night_obs.strftime(\"%Y-%m-%d %H:%M:%S\")\n",
    "night_obs_str"
   ]
  },
  {
   "cell_type": "code",
   "execution_count": 59,
   "metadata": {},
   "outputs": [
    {
     "data": {
      "text/plain": [
       "'2022-09-12 23:59:59'"
      ]
     },
     "execution_count": 59,
     "metadata": {},
     "output_type": "execute_result"
    }
   ],
   "source": [
    "night_obs_midnight_str=night_obs_midnight.strftime(\"%Y-%m-%d %H:%M:%S\")\n",
    "night_obs_midnight_str"
   ]
  },
  {
   "cell_type": "markdown",
   "metadata": {},
   "source": [
    "## Compute UTC and Sideral Time"
   ]
  },
  {
   "cell_type": "code",
   "execution_count": 66,
   "metadata": {},
   "outputs": [
    {
     "name": "stdout",
     "output_type": "stream",
     "text": [
      "Local time in Standiago in summer (GMT-3) :  2022-09-12 23:59:59-03:00\n",
      "Time in UTC                               :  2022-09-13 02:59:59+00:00\n"
     ]
    }
   ],
   "source": [
    "tz_utc = TimezoneInfo() \n",
    "print(\"Local time in Standiago in summer (GMT-3) : \",night_obs_midnight)\n",
    "print(\"Time in UTC                               : \",night_obs_midnight.astimezone(tz_utc))"
   ]
  },
  {
   "cell_type": "code",
   "execution_count": 71,
   "metadata": {},
   "outputs": [
    {
     "data": {
      "text/latex": [
       "$21^{\\mathrm{h}}45^{\\mathrm{m}}23.84545902^{\\mathrm{s}}$"
      ],
      "text/plain": [
       "<Longitude 21.75662374 hourangle>"
      ]
     },
     "execution_count": 71,
     "metadata": {},
     "output_type": "execute_result"
    }
   ],
   "source": [
    "t_lsst = Time(night_obs_midnight.astimezone(tz_utc), scale='utc',location=lsst_location)\n",
    "t_sidereal_lsst = t_lsst.sidereal_time('apparent')  \n",
    "t_sidereal_lsst"
   ]
  },
  {
   "cell_type": "code",
   "execution_count": 85,
   "metadata": {},
   "outputs": [
    {
     "data": {
      "text/latex": [
       "$326^\\circ20{}^\\prime57.68188536{}^{\\prime\\prime}$"
      ],
      "text/plain": [
       "<Angle 326.34935608 deg>"
      ]
     },
     "execution_count": 85,
     "metadata": {},
     "output_type": "execute_result"
    }
   ],
   "source": [
    "Angle(t_sidereal_lsst).to(u.degree)"
   ]
  },
  {
   "cell_type": "code",
   "execution_count": 86,
   "metadata": {},
   "outputs": [
    {
     "data": {
      "text/plain": [
       "326.34935607926764"
      ]
     },
     "execution_count": 86,
     "metadata": {},
     "output_type": "execute_result"
    }
   ],
   "source": [
    "Angle(t_sidereal_lsst).degree"
   ]
  },
  {
   "cell_type": "code",
   "execution_count": 74,
   "metadata": {},
   "outputs": [
    {
     "data": {
      "text/latex": [
       "$21^{\\mathrm{h}}45^{\\mathrm{m}}23.84545982^{\\mathrm{s}}$"
      ],
      "text/plain": [
       "<Longitude 21.75662374 hourangle>"
      ]
     },
     "execution_count": 74,
     "metadata": {},
     "output_type": "execute_result"
    }
   ],
   "source": [
    "t_lsst = Time('2022-09-13 02:59:59', scale='utc',location=('-70.73668333d', '-30.24074167d'))\n",
    "t_lsst.sidereal_time('apparent') "
   ]
  },
  {
   "cell_type": "code",
   "execution_count": null,
   "metadata": {},
   "outputs": [],
   "source": []
  },
  {
   "cell_type": "code",
   "execution_count": 84,
   "metadata": {},
   "outputs": [
    {
     "data": {
      "text/latex": [
       "$326^\\circ20{}^\\prime57.68188536{}^{\\prime\\prime}$"
      ],
      "text/plain": [
       "<Angle 326.34935608 deg>"
      ]
     },
     "execution_count": 84,
     "metadata": {},
     "output_type": "execute_result"
    }
   ],
   "source": [
    "Angle(t_sidereal_lsst).to(u.degree)"
   ]
  },
  {
   "cell_type": "markdown",
   "metadata": {},
   "source": [
    "## Filter the rows"
   ]
  },
  {
   "cell_type": "code",
   "execution_count": 97,
   "metadata": {},
   "outputs": [
    {
     "data": {
      "text/latex": [
       "$10^{\\mathrm{h}}00^{\\mathrm{m}}00^{\\mathrm{s}}$"
      ],
      "text/plain": [
       "<Angle 10. hourangle>"
      ]
     },
     "execution_count": 97,
     "metadata": {},
     "output_type": "execute_result"
    }
   ],
   "source": [
    "MarginAngle = Angle(10.0,u.hour)\n",
    "MarginAngle"
   ]
  },
  {
   "cell_type": "code",
   "execution_count": 106,
   "metadata": {},
   "outputs": [
    {
     "name": "stdout",
     "output_type": "stream",
     "text": [
      "243.90529281 16.260352854000004\n",
      "11h45m23.84545902s 31h45m23.84545902s\n",
      "15.58805914 1.0392039426666668\n",
      "11h45m23.84545902s 31h45m23.84545902s\n",
      "91.53908976 6.102605984000001\n",
      "11h45m23.84545902s 31h45m23.84545902s\n",
      "349.99333127 23.33288875133334\n",
      "11h45m23.84545902s 31h45m23.84545902s\n",
      "150.19685918 10.013123945333335\n",
      "11h45m23.84545902s 31h45m23.84545902s\n",
      "57.20910905 3.813940603333334\n",
      "11h45m23.84545902s 31h45m23.84545902s\n",
      "7.82704127 0.5218027513333334\n",
      "11h45m23.84545902s 31h45m23.84545902s\n",
      "22.19376105 1.4795840700000003\n",
      "11h45m23.84545902s 31h45m23.84545902s\n",
      "73.04129062 4.869419374666667\n",
      "11h45m23.84545902s 31h45m23.84545902s\n",
      "130.21168267 8.680778844666667\n",
      "11h45m23.84545902s 31h45m23.84545902s\n",
      "193.31272008 12.887514672000002\n",
      "11h45m23.84545902s 31h45m23.84545902s\n",
      "198.9474513 13.263163420000003\n",
      "11h45m23.84545902s 31h45m23.84545902s\n",
      "238.58245199 15.905496799333337\n",
      "11h45m23.84545902s 31h45m23.84545902s\n",
      "35.72781358 2.3818542386666675\n",
      "11h45m23.84545902s 31h45m23.84545902s\n",
      "265.705515 17.713701000000004\n",
      "11h45m23.84545902s 31h45m23.84545902s\n",
      "274.43392933 18.29559528866667\n",
      "11h45m23.84545902s 31h45m23.84545902s\n",
      "307.07808431 20.471872287333337\n",
      "11h45m23.84545902s 31h45m23.84545902s\n",
      "316.64479729 21.10965315266667\n",
      "11h45m23.84545902s 31h45m23.84545902s\n",
      "324.79229601 21.652819734\n",
      "11h45m23.84545902s 31h45m23.84545902s\n",
      "7.82704127 0.5218027513333334\n",
      "11h45m23.84545902s 31h45m23.84545902s\n",
      "85.21652464 5.681101642666668\n",
      "11h45m23.84545902s 31h45m23.84545902s\n",
      "87.08357865 5.805571910000001\n",
      "11h45m23.84545902s 31h45m23.84545902s\n",
      "113.36382934 7.5575886226666675\n",
      "11h45m23.84545902s 31h45m23.84545902s\n",
      "79.8938502 5.326256680000001\n",
      "11h45m23.84545902s 31h45m23.84545902s\n",
      "349.89745043 23.326496695333336\n",
      "11h45m23.84545902s 31h45m23.84545902s\n",
      "337.41060545 22.494040363333337\n",
      "11h45m23.84545902s 31h45m23.84545902s\n",
      "224.97283918 14.998189278666668\n",
      "11h45m23.84545902s 31h45m23.84545902s\n",
      "101.28715533 6.752477022000002\n",
      "11h45m23.84545902s 31h45m23.84545902s\n",
      "47.44965746 3.1633104973333337\n",
      "11h45m23.84545902s 31h45m23.84545902s\n",
      "175.05687893 11.670458595333336\n",
      "11h45m23.84545902s 31h45m23.84545902s\n",
      "193.31272008 12.887514672000002\n",
      "11h45m23.84545902s 31h45m23.84545902s\n",
      "198.94745127 13.263163418000001\n",
      "11h45m23.84545902s 31h45m23.84545902s\n",
      "238.5824518 15.905496786666669\n",
      "11h45m23.84545902s 31h45m23.84545902s\n",
      "86.49956401 5.766637600666668\n",
      "11h45m23.84545902s 31h45m23.84545902s\n"
     ]
    }
   ],
   "source": [
    "all_flag_select = []\n",
    "for row in t:\n",
    "    ra_angle = Angle(row['ra'],u.degree)\n",
    "    ra_min = t_sidereal_lsst - MarginAngle\n",
    "    ra_max = t_sidereal_lsst + MarginAngle\n",
    "    print(row['ra'],ra_angle.hour)\n",
    "    print(ra_min,ra_max)\n",
    "    flag = ra_angle.is_within_bounds([ra_min,ra_max])\n",
    "    all_flag_select.append(flag)                "
   ]
  },
  {
   "cell_type": "code",
   "execution_count": 107,
   "metadata": {},
   "outputs": [],
   "source": [
    "t[\"select\"] = all_flag_select"
   ]
  },
  {
   "cell_type": "code",
   "execution_count": 108,
   "metadata": {},
   "outputs": [
    {
     "data": {
      "text/plain": [
       "array([False, False, False, False, False, False, False, False, False,\n",
       "       False, False, False, False, False, False, False, False, False,\n",
       "       False, False, False, False, False, False, False, False, False,\n",
       "       False, False, False, False, False, False, False])"
      ]
     },
     "execution_count": 108,
     "metadata": {},
     "output_type": "execute_result"
    }
   ],
   "source": [
    "t[\"select\"] == True"
   ]
  },
  {
   "cell_type": "markdown",
   "metadata": {},
   "source": [
    "## Time zone at observation"
   ]
  },
  {
   "cell_type": "code",
   "execution_count": null,
   "metadata": {},
   "outputs": [],
   "source": [
    "if timezone_str is None:\n",
    "    print(\"Could not determine the time zone\")\n",
    "else:\n",
    "    # Display the current time in that time zone\n",
    "    \n",
    "    #tz = pytz.timezone('Europe/Berlin')\n",
    "    #berlin_now = datetime.now(tz)\n",
    "    \n",
    "    timezone = pytz.timezone(timezone_str)\n",
    "    timezone0 = pytz.timezone('UTC')\n",
    "    \n",
    "    dt = night_obs_midnight\n",
    "    \n",
    "    print(\"The UTC Time at observation %s\" % dt)\n",
    "    print(\"The actual time in %s is %s\" % (timezone_str, dt + timezone.utcoffset(dt)))"
   ]
  },
  {
   "cell_type": "code",
   "execution_count": null,
   "metadata": {},
   "outputs": [],
   "source": [
    "utcoffset=timezone.utcoffset(dt).total_seconds()/60./60.\n",
    "print(\"The UTC offset in Chile is \",utcoffset,\" hours\")"
   ]
  },
  {
   "cell_type": "code",
   "execution_count": null,
   "metadata": {},
   "outputs": [],
   "source": [
    "utcoffset=utcoffset*u.hour  # need hours units"
   ]
  },
  {
   "cell_type": "markdown",
   "metadata": {},
   "source": [
    "## Observation Location"
   ]
  },
  {
   "cell_type": "code",
   "execution_count": null,
   "metadata": {},
   "outputs": [],
   "source": [
    "LSSTNAME='Cerro Pachon'\n",
    "lsst_location=EarthLocation.of_site(LSSTNAME)\n",
    "longitude=lsst_location.lon\n",
    "latitude=lsst_location.lat\n",
    "altitude=lsst_location.height"
   ]
  },
  {
   "cell_type": "code",
   "execution_count": null,
   "metadata": {
    "jupyter": {
     "outputs_hidden": false
    }
   },
   "outputs": [],
   "source": [
    "cerro_pachon = EarthLocation(lat=latitude.degree*u.deg, lon=longitude.degree*u.deg, height=altitude)"
   ]
  },
  {
   "cell_type": "markdown",
   "metadata": {},
   "source": [
    "## Check Position of target at midnight\n",
    "\n",
    "http://catserver.ing.iac.es/staralt/"
   ]
  },
  {
   "cell_type": "markdown",
   "metadata": {},
   "source": [
    "# Observation frame"
   ]
  },
  {
   "cell_type": "code",
   "execution_count": null,
   "metadata": {
    "jupyter": {
     "outputs_hidden": false
    }
   },
   "outputs": [],
   "source": [
    "midnight_utc = Time(night_obs_midnight_str) - utcoffset\n",
    "delta_midnight = np.linspace(-2, 10, 100)*u.hour\n",
    "frame_night = AltAz(obstime=midnight_utc+delta_midnight,location=cerro_pachon)"
   ]
  },
  {
   "cell_type": "code",
   "execution_count": null,
   "metadata": {},
   "outputs": [],
   "source": [
    "delta_midnight = np.linspace(-12, 12, 1000)*u.hour\n",
    "times_evening_to_morning = midnight_utc + delta_midnight\n",
    "frame_evening_to_morning = AltAz(obstime=times_evening_to_morning, location=cerro_pachon)"
   ]
  },
  {
   "cell_type": "markdown",
   "metadata": {},
   "source": [
    "### Sun frame"
   ]
  },
  {
   "cell_type": "code",
   "execution_count": null,
   "metadata": {
    "jupyter": {
     "outputs_hidden": false
    }
   },
   "outputs": [],
   "source": [
    "from astropy.coordinates import get_sun\n",
    "sunaltazs_evening_to_morning = get_sun(times_evening_to_morning).transform_to(frame_evening_to_morning)"
   ]
  },
  {
   "cell_type": "markdown",
   "metadata": {},
   "source": [
    "### Moon frame"
   ]
  },
  {
   "cell_type": "code",
   "execution_count": null,
   "metadata": {
    "jupyter": {
     "outputs_hidden": false
    }
   },
   "outputs": [],
   "source": [
    "from astropy.coordinates import get_moon\n",
    "moon_evening_to_morning = get_moon(times_evening_to_morning)\n",
    "moonaltazs_evening_to_morning = moon_evening_to_morning.transform_to(frame_evening_to_morning)"
   ]
  },
  {
   "cell_type": "markdown",
   "metadata": {},
   "source": [
    "### Target frame"
   ]
  },
  {
   "cell_type": "markdown",
   "metadata": {},
   "source": [
    "\n",
    "\n",
    "\n"
   ]
  },
  {
   "cell_type": "code",
   "execution_count": null,
   "metadata": {},
   "outputs": [],
   "source": [
    "all_target_altazs_evening_to_morning = [target_location.transform_to(frame_evening_to_morning) for target_location in  all_target_locations ]"
   ]
  },
  {
   "cell_type": "markdown",
   "metadata": {},
   "source": [
    "# Order according increasing maxinum rise time"
   ]
  },
  {
   "cell_type": "code",
   "execution_count": null,
   "metadata": {},
   "outputs": [],
   "source": [
    "from astropy.coordinates import Angle"
   ]
  },
  {
   "cell_type": "code",
   "execution_count": null,
   "metadata": {},
   "outputs": [],
   "source": [
    "all_timemax=np.zeros(NTargets)\n",
    "all_altitudesmax=np.zeros(NTargets)\n",
    "for idx in np.arange(NTargets):\n",
    "    altitudes=all_target_altazs_evening_to_morning[idx].alt\n",
    "    idx_max=np.where(altitudes==altitudes.max())[0][0]\n",
    "    all_timemax[idx]=delta_midnight[idx_max].value\n",
    "    all_altitudesmax[idx]=altitudes.max().degree"
   ]
  },
  {
   "cell_type": "code",
   "execution_count": null,
   "metadata": {},
   "outputs": [],
   "source": [
    "Angle(altitudes.max()).degree"
   ]
  },
  {
   "cell_type": "code",
   "execution_count": null,
   "metadata": {},
   "outputs": [],
   "source": [
    "all_timemax"
   ]
  },
  {
   "cell_type": "raw",
   "metadata": {},
   "source": [
    "sorted_indexes=np.argsort(all_timemax)"
   ]
  },
  {
   "cell_type": "code",
   "execution_count": null,
   "metadata": {},
   "outputs": [],
   "source": [
    "sorted_indexes=np.argsort(all_timemax)"
   ]
  },
  {
   "cell_type": "code",
   "execution_count": null,
   "metadata": {},
   "outputs": [],
   "source": [
    "sorted_all_timemax=sorted(all_timemax)\n",
    "sorted_all_timemax"
   ]
  },
  {
   "cell_type": "markdown",
   "metadata": {},
   "source": [
    "# Plot"
   ]
  },
  {
   "cell_type": "markdown",
   "metadata": {},
   "source": []
  },
  {
   "cell_type": "code",
   "execution_count": null,
   "metadata": {
    "jupyter": {
     "outputs_hidden": false
    }
   },
   "outputs": [],
   "source": [
    "plt.figure(figsize=(20,12))\n",
    "plt.plot(delta_midnight, sunaltazs_evening_to_morning.alt, color='r', ls=\":\",label='Sun',lw=5)\n",
    "plt.plot(delta_midnight, moonaltazs_evening_to_morning.alt, color=[0.75]*3, ls='--', label='Moon',lw=5)\n",
    "\n",
    "rank=0\n",
    "for idx in sorted_indexes:\n",
    "    label=str(rank)+\" : \"+all_target_tagnames[idx]\n",
    "    plt.plot(delta_midnight, all_target_altazs_evening_to_morning[idx].alt,label=label, lw=2.5,color=all_colors[rank])\n",
    "\n",
    "    if all_target_altazs_evening_to_morning[idx].alt[-1]>0:\n",
    "        plt.text(delta_midnight[-1], all_target_altazs_evening_to_morning[idx].alt[-1], f'{rank}',color=all_colors[rank],fontsize=20)\n",
    "    if all_target_altazs_evening_to_morning[idx].alt[0]>0:\n",
    "        plt.text(delta_midnight[0], all_target_altazs_evening_to_morning[idx].alt[0], f'{rank}',color=all_colors[rank],fontsize=20)\n",
    "    if all_altitudesmax[idx]:\n",
    "        plt.text(all_timemax[idx], all_altitudesmax[idx], f'{rank}',color=all_colors[rank],fontsize=20)\n",
    "    \n",
    "    rank+=1\n",
    "    \n",
    "#labelLines(plt.gca().get_lines(), zorder=2.5)\n",
    "#labelLines(plt.gca().get_lines(), align=False, fontsize=14)\n",
    "#xvals=sorted(all_timemax)\n",
    "#labelLines(plt.gca().get_lines(), align=False, xvals=xvals, color=\"k\")\n",
    "#labelLines(plt.gca().get_lines(), xvals=(-10., 10.), zorder=2.5)\n",
    "\n",
    "\n",
    "plt.fill_between(delta_midnight, 0*u.deg, 90*u.deg,sunaltazs_evening_to_morning.alt < -0*u.deg, color='0.5', zorder=0)\n",
    "plt.fill_between(delta_midnight, 0*u.deg, 90*u.deg,sunaltazs_evening_to_morning.alt < -18*u.deg, color='k', zorder=0)\n",
    "\n",
    "plt.legend(loc='upper left')\n",
    "plt.xlim(-12*u.hour, 12*u.hour)\n",
    "plt.xticks((np.arange(13)*2-12)*u.hour)\n",
    "plt.ylim(0*u.deg, 90*u.deg)\n",
    "plt.xlabel('Hours from Midnight local time')\n",
    "plt.ylabel('Altitude [deg]')\n",
    "title = \"Observations at AuxTel at night \" + night_obs_str.split(\" \")[0]\n",
    "plt.title(title)\n",
    "\n",
    "figname=\"AuxtelStarAlt_{:4d}_{:d}_{:d}.png\".format(NYEAR,NMONTH,NDAY)\n",
    "\n",
    "plt.savefig(figname)\n",
    "plt.show()"
   ]
  },
  {
   "cell_type": "markdown",
   "metadata": {},
   "source": [
    "# Create astropy Table"
   ]
  },
  {
   "cell_type": "code",
   "execution_count": null,
   "metadata": {},
   "outputs": [],
   "source": [
    "t = Table()"
   ]
  },
  {
   "cell_type": "code",
   "execution_count": null,
   "metadata": {},
   "outputs": [],
   "source": [
    "t[\"name\"] = all_target_names\n",
    "t[\"ra\"] = all_ra\n",
    "t[\"dec\"] = all_dec\n",
    "t[\"type\"] = all_types \n",
    "t[\"Vmag\"] = all_Vmag  \n",
    "t[\"tculmin\"] = all_timemax"
   ]
  },
  {
   "cell_type": "code",
   "execution_count": null,
   "metadata": {},
   "outputs": [],
   "source": [
    "t[\"ra\"].info.format ='5.3f'\n",
    "t[\"dec\"].info.format ='5.3f'\n",
    "t[\"Vmag\"].info.format ='5.3f'\n",
    "t[\"tculmin\"].info.format ='5.3f'"
   ]
  },
  {
   "cell_type": "code",
   "execution_count": null,
   "metadata": {},
   "outputs": [],
   "source": [
    "t.show_in_notebook()"
   ]
  },
  {
   "cell_type": "code",
   "execution_count": null,
   "metadata": {},
   "outputs": [],
   "source": [
    "t"
   ]
  },
  {
   "cell_type": "code",
   "execution_count": null,
   "metadata": {},
   "outputs": [],
   "source": []
  }
 ],
 "metadata": {
  "kernelspec": {
   "display_name": "python3_base",
   "language": "python",
   "name": "python3"
  },
  "language_info": {
   "codemirror_mode": {
    "name": "ipython",
    "version": 3
   },
   "file_extension": ".py",
   "mimetype": "text/x-python",
   "name": "python",
   "nbconvert_exporter": "python",
   "pygments_lexer": "ipython3",
   "version": "3.9.12"
  },
  "toc": {
   "base_numbering": 1,
   "nav_menu": {},
   "number_sections": true,
   "sideBar": true,
   "skip_h1_title": false,
   "title_cell": "Table of Contents",
   "title_sidebar": "Contents",
   "toc_cell": false,
   "toc_position": {},
   "toc_section_display": true,
   "toc_window_display": false
  }
 },
 "nbformat": 4,
 "nbformat_minor": 4
}
