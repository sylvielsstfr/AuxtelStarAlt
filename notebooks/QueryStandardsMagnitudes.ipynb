{
 "cells": [
  {
   "cell_type": "markdown",
   "id": "ae103481-6050-41eb-978f-e5ec8034a298",
   "metadata": {},
   "source": [
    "# Query Magnitudes"
   ]
  },
  {
   "cell_type": "code",
   "execution_count": 16,
   "id": "9b81f050-e335-4cbf-9c1a-ddd64da94471",
   "metadata": {},
   "outputs": [],
   "source": [
    "import numpy as np\n",
    "import matplotlib.pyplot as plt\n",
    "from astropy.visualization import astropy_mpl_style, quantity_support\n",
    "plt.style.use(astropy_mpl_style)\n",
    "%matplotlib inline"
   ]
  },
  {
   "cell_type": "code",
   "execution_count": null,
   "id": "11ad4c03-49b2-423b-b27e-95123e7361e3",
   "metadata": {},
   "outputs": [],
   "source": []
  },
  {
   "cell_type": "code",
   "execution_count": 17,
   "id": "3be5ee0d-1213-4a4d-86ae-bd447e80c86d",
   "metadata": {},
   "outputs": [],
   "source": [
    "from astroquery.simbad import Simbad"
   ]
  },
  {
   "cell_type": "markdown",
   "id": "87c038fb-1fa7-41b1-8fbf-fedf9b8ab6cc",
   "metadata": {},
   "source": [
    "## List of Votables"
   ]
  },
  {
   "cell_type": "code",
   "execution_count": 18,
   "id": "cc40c2b9-5ec7-4234-b14e-5ca069af0cb5",
   "metadata": {},
   "outputs": [],
   "source": [
    "# to view the list of VOTABLE\n",
    "# Simbad.list_votable_fields()"
   ]
  },
  {
   "cell_type": "markdown",
   "id": "2974190e-20fd-41b8-8e76-c04936a8988e",
   "metadata": {},
   "source": [
    "## Specifiers of VOTABLES"
   ]
  },
  {
   "cell_type": "code",
   "execution_count": 19,
   "id": "97345984-c5bb-4fbc-9dc4-e0e362267fe1",
   "metadata": {},
   "outputs": [],
   "source": [
    "Simbad.add_votable_fields('sptype')\n",
    "Simbad.add_votable_fields('flux(U)') # add the Vega unit Magnitude \n",
    "Simbad.add_votable_fields('flux(B)') # add the Vega unit Magnitude \n",
    "Simbad.add_votable_fields('flux(V)') # add the Vega unit Magnitude \n",
    "Simbad.add_votable_fields('flux(R)') # add the Vega unit Magnitude \n",
    "Simbad.add_votable_fields('flux(I)') # add the Vega unit Magnitude \n",
    "#Simbad.add_votable_fields('flux_unit(V)')\n",
    "#Simbad.add_votable_fields('flux_unit(I)')\n",
    "#Simbad.add_votable_fields('flux_system(V)')\n",
    "#Simbad.add_votable_fields('flux_system(I)')\n",
    "#Simbad.add_votable_fields('ubv')  # Johnson UBV system"
   ]
  },
  {
   "cell_type": "code",
   "execution_count": 20,
   "id": "cfb8e80d-d834-4e2a-b746-6fc0d8fd9fd8",
   "metadata": {},
   "outputs": [],
   "source": [
    "#all_target_names= [\"hd111980\",\"hd101452\",\"hd115169\",\"hd142331\"]\n",
    "all_target_names=['FEIGE110', 'GD108', 'GD50', 'HD009051', 'HD031128','HD074000', 'HD111980', 'HD14943', 'HD160617', 'HD185975','HD200654', 'HD205905', 'HD37962', 'HD38949', 'HD60753','LTT9491', 'NGC7293', 'SIRIUS', 'WD0308-565']\n",
    "NTargets=len(all_target_names)"
   ]
  },
  {
   "cell_type": "markdown",
   "id": "6269a076-1c5a-4d5c-addc-dcf65ef39b97",
   "metadata": {},
   "source": [
    "## Identifiers in differents catalogs"
   ]
  },
  {
   "cell_type": "code",
   "execution_count": 21,
   "id": "3e1e71df-8d65-4b44-ba86-b66c8f992459",
   "metadata": {},
   "outputs": [
    {
     "name": "stdout",
     "output_type": "stream",
     "text": [
      "             ID             \n",
      "----------------------------\n",
      "               TIC 301173823\n",
      "             AC -05  1339-58\n",
      "                CSI-05-23174\n",
      "                    EGGR 158\n",
      "                      FB 186\n",
      "                   Feige 110\n",
      "            GEN# +6.10160464\n",
      "                  GJ   894.3\n",
      "             GSC 05249-01109\n",
      "                  HIC 115195\n",
      "                  HIP 115195\n",
      "                   NSV 14503\n",
      "                   PHL   464\n",
      "             TYC 5249-1109-1\n",
      "                 UBV   19990\n",
      "            uvby98 610160464\n",
      "     2MASS J23195840-0509561\n",
      "                 PLX 5643.01\n",
      "  [VKN2011] J231958.4-050956\n",
      "Gaia DR2 2633603478379307904\n"
     ]
    }
   ],
   "source": [
    "result_table = Simbad.query_objectids('FEIGE110')\n",
    "print(result_table)"
   ]
  },
  {
   "cell_type": "code",
   "execution_count": 29,
   "id": "864eb0bb-6fc7-4a9f-9e1b-7b5b8da8dd43",
   "metadata": {},
   "outputs": [
    {
     "data": {
      "text/html": [
       "<i>Table length=1</i>\n",
       "<table id=\"table139619120486624-560774\" class=\"table-striped table-bordered table-condensed\">\n",
       "<thead><tr><th>idx</th><th>MAIN_ID</th><th>RA</th><th>DEC</th><th>RA_PREC</th><th>DEC_PREC</th><th>COO_ERR_MAJA</th><th>COO_ERR_MINA</th><th>COO_ERR_ANGLE</th><th>COO_QUAL</th><th>COO_WAVELENGTH</th><th>COO_BIBCODE</th><th>SP_TYPE</th><th>SP_QUAL</th><th>SP_BIBCODE</th><th>FLUX_U</th><th>FLUX_B</th><th>FLUX_V</th><th>FLUX_R</th><th>FLUX_I</th><th>SP_TYPE_2</th><th>SP_QUAL_2</th><th>SP_BIBCODE_2</th><th>FLUX_U_1</th><th>FLUX_B_1</th><th>FLUX_V_1</th><th>FLUX_R_1</th><th>FLUX_I_1</th><th>SCRIPT_NUMBER_ID</th></tr></thead>\n",
       "<thead><tr><th></th><th></th><th>&quot;h:m:s&quot;</th><th>&quot;d:m:s&quot;</th><th></th><th></th><th>mas</th><th>mas</th><th>deg</th><th></th><th></th><th></th><th></th><th></th><th></th><th>mag</th><th>mag</th><th>mag</th><th>mag</th><th>mag</th><th></th><th></th><th></th><th>mag</th><th>mag</th><th>mag</th><th>mag</th><th>mag</th><th></th></tr></thead>\n",
       "<tr><td>0</td><td>Feige 110</td><td>23 19 58.3995</td><td>-05 09 56.170</td><td>14</td><td>14</td><td>0.079</td><td>0.058</td><td>90</td><td>A</td><td>O</td><td>2018yCat.1345....0G</td><td>sdO8VIIIHe5</td><td>B</td><td>2013A&amp;A...551A..31D</td><td>10.36</td><td>11.45</td><td>11.5</td><td>11.97</td><td>12.145</td><td>sdO8VIIIHe5</td><td>B</td><td>2013A&amp;A...551A..31D</td><td>10.36</td><td>11.45</td><td>11.5</td><td>11.97</td><td>12.145</td><td>1</td></tr>\n",
       "</table><style>table.dataTable {clear: both; width: auto !important; margin: 0 !important;}\n",
       ".dataTables_info, .dataTables_length, .dataTables_filter, .dataTables_paginate{\n",
       "display: inline-block; margin-right: 1em; }\n",
       ".paginate_button { margin-right: 5px; }\n",
       "</style>\n",
       "<script>\n",
       "\n",
       "var astropy_sort_num = function(a, b) {\n",
       "    var a_num = parseFloat(a);\n",
       "    var b_num = parseFloat(b);\n",
       "\n",
       "    if (isNaN(a_num) && isNaN(b_num))\n",
       "        return ((a < b) ? -1 : ((a > b) ? 1 : 0));\n",
       "    else if (!isNaN(a_num) && !isNaN(b_num))\n",
       "        return ((a_num < b_num) ? -1 : ((a_num > b_num) ? 1 : 0));\n",
       "    else\n",
       "        return isNaN(a_num) ? -1 : 1;\n",
       "}\n",
       "\n",
       "require.config({paths: {\n",
       "    datatables: 'https://cdn.datatables.net/1.10.12/js/jquery.dataTables.min'\n",
       "}});\n",
       "require([\"datatables\"], function(){\n",
       "    console.log(\"$('#table139619120486624-560774').dataTable()\");\n",
       "    \n",
       "jQuery.extend( jQuery.fn.dataTableExt.oSort, {\n",
       "    \"optionalnum-asc\": astropy_sort_num,\n",
       "    \"optionalnum-desc\": function (a,b) { return -astropy_sort_num(a, b); }\n",
       "});\n",
       "\n",
       "    $('#table139619120486624-560774').dataTable({\n",
       "        order: [],\n",
       "        pageLength: 50,\n",
       "        lengthMenu: [[10, 25, 50, 100, 500, 1000, -1], [10, 25, 50, 100, 500, 1000, 'All']],\n",
       "        pagingType: \"full_numbers\",\n",
       "        columnDefs: [{targets: [0, 4, 5, 6, 7, 8, 15, 16, 17, 18, 19, 23, 24, 25, 26, 27, 28], type: \"optionalnum\"}]\n",
       "    });\n",
       "});\n",
       "</script>\n"
      ],
      "text/plain": [
       "<IPython.core.display.HTML object>"
      ]
     },
     "execution_count": 29,
     "metadata": {},
     "output_type": "execute_result"
    }
   ],
   "source": [
    "result_table = Simbad.query_object('FEIGE110')\n",
    "result_table.show_in_notebook()"
   ]
  },
  {
   "cell_type": "code",
   "execution_count": 27,
   "id": "e9279680-b9ca-4b2f-a945-e270de23ca8d",
   "metadata": {},
   "outputs": [],
   "source": [
    "thetype=result_table[\"SP_TYPE\"][0]\n",
    "thequal=result_table[\"SP_QUAL\"][0]\n",
    "#mag_V_vega=result_table[\"FLUX_V_2\"][0]\n",
    "mag_U_vega=result_table[\"FLUX_U\"][0]\n",
    "mag_B_vega=result_table[\"FLUX_B\"][0]\n",
    "mag_V_vega=result_table[\"FLUX_V\"][0]\n",
    "mag_R_vega=result_table[\"FLUX_R\"][0]\n",
    "mag_I_vega=result_table[\"FLUX_I\"][0]"
   ]
  },
  {
   "cell_type": "code",
   "execution_count": 37,
   "id": "11266d5f-7df5-459f-9015-731dc161a61c",
   "metadata": {},
   "outputs": [],
   "source": [
    "all_Vmag = []\n",
    "all_types = []\n",
    "\n",
    "for target_name in all_target_names:\n",
    "    result_table = Simbad.query_object(target_name)\n",
    "    all_Vmag.append(result_table['FLUX_V'][0])\n",
    "    all_types.append(result_table['SP_QUAL'][0]) \n",
    "    "
   ]
  },
  {
   "cell_type": "code",
   "execution_count": 32,
   "id": "cb26d571-6037-4d8c-8e25-d0a8a0aafa3a",
   "metadata": {},
   "outputs": [
    {
     "data": {
      "text/plain": [
       "[11.5,\n",
       " 13.563,\n",
       " 14.063,\n",
       " 8.92,\n",
       " 9.14,\n",
       " 9.66,\n",
       " 8.38,\n",
       " 5.898,\n",
       " 8.73,\n",
       " 8.1,\n",
       " 9.11,\n",
       " 6.74,\n",
       " 7.85,\n",
       " 7.8,\n",
       " 6.68,\n",
       " 14.111,\n",
       " 13.524,\n",
       " -1.46,\n",
       " 14.14]"
      ]
     },
     "execution_count": 32,
     "metadata": {},
     "output_type": "execute_result"
    }
   ],
   "source": [
    "all_Vmag"
   ]
  },
  {
   "cell_type": "code",
   "execution_count": 36,
   "id": "31a8eabf-9a34-4c07-971a-80fbc7941d6f",
   "metadata": {},
   "outputs": [
    {
     "data": {
      "text/plain": [
       "['sdO8VIIIHe5',\n",
       " 'sdB',\n",
       " 'DA1.2',\n",
       " 'G6/8IIIwF5',\n",
       " 'F3/5Vw',\n",
       " 'F2',\n",
       " 'F7V',\n",
       " 'A5V',\n",
       " 'G0',\n",
       " 'G3V',\n",
       " 'CEMP',\n",
       " 'G1.5IV-V',\n",
       " 'G2V',\n",
       " 'G1V',\n",
       " 'B3IV',\n",
       " 'DB3',\n",
       " 'DAO.5',\n",
       " 'A0mA1Va',\n",
       " 'DB']"
      ]
     },
     "execution_count": 36,
     "metadata": {},
     "output_type": "execute_result"
    }
   ],
   "source": [
    "all_types"
   ]
  },
  {
   "cell_type": "code",
   "execution_count": null,
   "id": "cb797d4e-a334-4796-aedc-51d15223b32d",
   "metadata": {},
   "outputs": [],
   "source": []
  }
 ],
 "metadata": {
  "kernelspec": {
   "display_name": "anaconda3pbs",
   "language": "python",
   "name": "anaconda3_pbs"
  },
  "language_info": {
   "codemirror_mode": {
    "name": "ipython",
    "version": 3
   },
   "file_extension": ".py",
   "mimetype": "text/x-python",
   "name": "python",
   "nbconvert_exporter": "python",
   "pygments_lexer": "ipython3",
   "version": "3.8.8"
  }
 },
 "nbformat": 4,
 "nbformat_minor": 5
}
