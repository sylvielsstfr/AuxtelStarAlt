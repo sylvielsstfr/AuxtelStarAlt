{
 "cells": [
  {
   "cell_type": "markdown",
   "id": "95fbd900-f0a0-4cbe-b582-ee883b4a646b",
   "metadata": {
    "tags": []
   },
   "source": [
    "# TEST Astro DataLab (Noirlab)\n",
    "\n",
    "- author : Sylvie Dagoret-Campagne\n",
    "- creation date : 2024-12-21\n",
    "- last update :\n",
    "- Work on my python environnement conda_py313\n",
    "- Follow the installation instructions here\n",
    "\n",
    "https://datalab.noirlab.edu/docs/manual/UsingAstroDataLab/InstallDatalab/InstallDatalab/InstallDatalab.html\n",
    "\n"
   ]
  },
  {
   "cell_type": "code",
   "execution_count": 2,
   "id": "e6b7427a-7263-431d-b0e7-f84056caf120",
   "metadata": {
    "tags": []
   },
   "outputs": [],
   "source": [
    "from dl import authClient as ac, queryClient as qc\n",
    "from dl.helpers.utils import convert\n",
    "from getpass import getpass"
   ]
  },
  {
   "cell_type": "code",
   "execution_count": 3,
   "id": "0d1e4bef-2f9f-4151-9949-38dbadc807ab",
   "metadata": {
    "tags": []
   },
   "outputs": [
    {
     "name": "stdin",
     "output_type": "stream",
     "text": [
      "Enter user name: (+ENTER)  sdagoret\n",
      "Enter password: (+ENTER)  ········\n"
     ]
    },
    {
     "data": {
      "text/plain": [
       "'sdagoret.5291.5291.$1$X6/LfK9Q$5cp2A7x1Q77Cm3mBt4grH/'"
      ]
     },
     "execution_count": 3,
     "metadata": {},
     "output_type": "execute_result"
    }
   ],
   "source": [
    "ac.login(input(\"Enter user name: (+ENTER) \"),getpass(\"Enter password: (+ENTER) \")) # credentials to log into datalab"
   ]
  },
  {
   "cell_type": "code",
   "execution_count": 4,
   "id": "2b6cd43a-e825-4604-8c93-e9c8b664cc9f",
   "metadata": {
    "tags": []
   },
   "outputs": [],
   "source": [
    "query = 'SELECT ra,dec FROM smash_dr1.exposure LIMIT 100' # SQL query string\n",
    "result = qc.query(sql=query) # your query result as a CSV-formatted string\n",
    "df = convert(result) # result as a Pandas data frame"
   ]
  },
  {
   "cell_type": "code",
   "execution_count": 5,
   "id": "b46ffacb-466b-429d-875d-850549eff2c4",
   "metadata": {
    "tags": []
   },
   "outputs": [
    {
     "data": {
      "text/html": [
       "<div>\n",
       "<style scoped>\n",
       "    .dataframe tbody tr th:only-of-type {\n",
       "        vertical-align: middle;\n",
       "    }\n",
       "\n",
       "    .dataframe tbody tr th {\n",
       "        vertical-align: top;\n",
       "    }\n",
       "\n",
       "    .dataframe thead th {\n",
       "        text-align: right;\n",
       "    }\n",
       "</style>\n",
       "<table border=\"1\" class=\"dataframe\">\n",
       "  <thead>\n",
       "    <tr style=\"text-align: right;\">\n",
       "      <th></th>\n",
       "      <th>ra</th>\n",
       "      <th>dec</th>\n",
       "    </tr>\n",
       "  </thead>\n",
       "  <tbody>\n",
       "    <tr>\n",
       "      <th>0</th>\n",
       "      <td>103.630568</td>\n",
       "      <td>-36.994465</td>\n",
       "    </tr>\n",
       "    <tr>\n",
       "      <th>1</th>\n",
       "      <td>103.634079</td>\n",
       "      <td>-36.994133</td>\n",
       "    </tr>\n",
       "    <tr>\n",
       "      <th>2</th>\n",
       "      <td>103.816436</td>\n",
       "      <td>-36.923121</td>\n",
       "    </tr>\n",
       "    <tr>\n",
       "      <th>3</th>\n",
       "      <td>103.817647</td>\n",
       "      <td>-36.922120</td>\n",
       "    </tr>\n",
       "    <tr>\n",
       "      <th>4</th>\n",
       "      <td>103.817042</td>\n",
       "      <td>-36.921480</td>\n",
       "    </tr>\n",
       "    <tr>\n",
       "      <th>...</th>\n",
       "      <td>...</td>\n",
       "      <td>...</td>\n",
       "    </tr>\n",
       "    <tr>\n",
       "      <th>95</th>\n",
       "      <td>149.084994</td>\n",
       "      <td>-27.929167</td>\n",
       "    </tr>\n",
       "    <tr>\n",
       "      <th>96</th>\n",
       "      <td>149.085683</td>\n",
       "      <td>-27.929255</td>\n",
       "    </tr>\n",
       "    <tr>\n",
       "      <th>97</th>\n",
       "      <td>149.083953</td>\n",
       "      <td>-27.927737</td>\n",
       "    </tr>\n",
       "    <tr>\n",
       "      <th>98</th>\n",
       "      <td>149.083709</td>\n",
       "      <td>-27.926851</td>\n",
       "    </tr>\n",
       "    <tr>\n",
       "      <th>99</th>\n",
       "      <td>149.086737</td>\n",
       "      <td>-27.929331</td>\n",
       "    </tr>\n",
       "  </tbody>\n",
       "</table>\n",
       "<p>100 rows × 2 columns</p>\n",
       "</div>"
      ],
      "text/plain": [
       "            ra        dec\n",
       "0   103.630568 -36.994465\n",
       "1   103.634079 -36.994133\n",
       "2   103.816436 -36.923121\n",
       "3   103.817647 -36.922120\n",
       "4   103.817042 -36.921480\n",
       "..         ...        ...\n",
       "95  149.084994 -27.929167\n",
       "96  149.085683 -27.929255\n",
       "97  149.083953 -27.927737\n",
       "98  149.083709 -27.926851\n",
       "99  149.086737 -27.929331\n",
       "\n",
       "[100 rows x 2 columns]"
      ]
     },
     "execution_count": 5,
     "metadata": {},
     "output_type": "execute_result"
    }
   ],
   "source": [
    "df"
   ]
  },
  {
   "cell_type": "code",
   "execution_count": null,
   "id": "ad6a3e70-bd88-40a4-8f88-bf74dfbf8593",
   "metadata": {},
   "outputs": [],
   "source": []
  }
 ],
 "metadata": {
  "kernelspec": {
   "display_name": "conda_py313",
   "language": "python",
   "name": "conda_py313"
  },
  "language_info": {
   "codemirror_mode": {
    "name": "ipython",
    "version": 3
   },
   "file_extension": ".py",
   "mimetype": "text/x-python",
   "name": "python",
   "nbconvert_exporter": "python",
   "pygments_lexer": "ipython3",
   "version": "3.13.1"
  }
 },
 "nbformat": 4,
 "nbformat_minor": 5
}
