{
 "cells": [
  {
   "cell_type": "markdown",
   "id": "b5414a7d-fad1-40d6-96cf-da9b6c2d0338",
   "metadata": {},
   "source": [
    " # 01c_Build a Gaia list of observable WD target from and generate sky trajectories and plot"
   ]
  },
  {
   "cell_type": "markdown",
   "id": "21420fd6-8690-4ea4-a32b-fd3d39b8d8ce",
   "metadata": {},
   "source": [
    "- Author Sylvie Dagoret-Campagne\n",
    "- Creation : December 22th 2024\n",
    "- update : December 22th 2024\n",
    "- last update : January 6th 2025 (use conda_py313 on my macbook)"
   ]
  },
  {
   "cell_type": "markdown",
   "id": "8690f71b-d5b2-49fa-a754-397b91ed503b",
   "metadata": {},
   "source": []
  },
  {
   "cell_type": "markdown",
   "id": "be2f4b7c-c880-480e-8c15-42616edf7462",
   "metadata": {},
   "source": [
    "## Ckeck on airmass.org : https://airmass.org/"
   ]
  },
  {
   "cell_type": "code",
   "execution_count": 1,
   "id": "c7861f29-3c20-4e5d-99a6-4e8acc89981c",
   "metadata": {},
   "outputs": [],
   "source": [
    "import numpy as np\n",
    "import matplotlib.pyplot as plt\n",
    "from astropy.visualization import astropy_mpl_style, quantity_support\n",
    "plt.style.use(astropy_mpl_style)\n",
    "quantity_support()\n",
    "import matplotlib.colors as colors\n",
    "import matplotlib.cm as cmx\n",
    "import matplotlib.ticker as ticker\n",
    "import matplotlib.dates as mdates\n",
    "\n",
    "from matplotlib.dates import (AutoDateLocator, YearLocator, MonthLocator,\n",
    "                              DayLocator, WeekdayLocator, HourLocator,\n",
    "                              MinuteLocator, SecondLocator, MicrosecondLocator,\n",
    "                              RRuleLocator, rrulewrapper, MONTHLY,\n",
    "                              MO, TU, WE, TH, FR, SA, SU, DateFormatter,\n",
    "                              AutoDateFormatter, ConciseDateFormatter)\n",
    "\n",
    "%matplotlib inline\n",
    "import pandas as pd"
   ]
  },
  {
   "cell_type": "code",
   "execution_count": 2,
   "id": "0f0dd04a-e582-4128-8dbe-246f7b3a8d7a",
   "metadata": {},
   "outputs": [],
   "source": [
    "import astropy.units as u\n",
    "from astropy.coordinates import AltAz, EarthLocation, SkyCoord\n",
    "from astropy.coordinates import Angle\n",
    "from astropy.time import Time, TimezoneInfo,TimeDelta\n",
    "from astropy.coordinates import Longitude,Latitude"
   ]
  },
  {
   "cell_type": "code",
   "execution_count": 3,
   "id": "dd9155fa-5568-4a06-b5af-8b0241195e14",
   "metadata": {
    "tags": []
   },
   "outputs": [],
   "source": [
    "import datetime as dt\n",
    "from datetime import datetime\n",
    "import timezonefinder, pytz\n",
    "from tzwhere import tzwhere\n",
    "from calendar import monthrange\n",
    "import calendar"
   ]
  },
  {
   "cell_type": "code",
   "execution_count": 4,
   "id": "9b134ad3-1f76-406f-b6d6-8cef7d1c3fe7",
   "metadata": {},
   "outputs": [],
   "source": [
    "pd.set_option('display.max_columns', None)\n",
    "pd.set_option('display.max_rows', None)"
   ]
  },
  {
   "cell_type": "code",
   "execution_count": 5,
   "id": "23538d77-03af-47b0-9369-baa3c92963a2",
   "metadata": {},
   "outputs": [],
   "source": [
    "from astroquery.simbad import Simbad"
   ]
  },
  {
   "cell_type": "code",
   "execution_count": 6,
   "id": "260134ab-b252-4978-9b1b-8102493a6574",
   "metadata": {},
   "outputs": [],
   "source": [
    "# to view the list of VOTABLE\n",
    "# Simbad.list_votable_fields()"
   ]
  },
  {
   "cell_type": "code",
   "execution_count": 7,
   "id": "3a9a8c50-7976-4a6a-9876-1f73899c57ff",
   "metadata": {},
   "outputs": [],
   "source": [
    "Simbad.add_votable_fields('sptype')\n",
    "Simbad.add_votable_fields('flux(U)') # add the Vega unit Magnitude \n",
    "Simbad.add_votable_fields('flux(B)') # add the Vega unit Magnitude \n",
    "Simbad.add_votable_fields('flux(V)') # add the Vega unit Magnitude \n",
    "Simbad.add_votable_fields('flux(R)') # add the Vega unit Magnitude \n",
    "Simbad.add_votable_fields('flux(I)') # add the Vega unit Magnitude \n",
    "#Simbad.add_votable_fields('flux_unit(V)')\n",
    "#Simbad.add_votable_fields('flux_unit(I)')\n",
    "#Simbad.add_votable_fields('flux_system(V)')\n",
    "#Simbad.add_votable_fields('flux_system(I)')\n",
    "#Simbad.add_votable_fields('ubv')  # Johnson UBV system"
   ]
  },
  {
   "cell_type": "code",
   "execution_count": 8,
   "id": "b37c7fc3-58c5-4eea-af8b-8db3a1075fec",
   "metadata": {},
   "outputs": [],
   "source": [
    "plt.rcParams[\"axes.labelsize\"]=\"large\"\n",
    "plt.rcParams[\"axes.linewidth\"]=2.0\n",
    "plt.rcParams[\"xtick.major.size\"]=8\n",
    "plt.rcParams[\"ytick.major.size\"]=8\n",
    "plt.rcParams[\"ytick.minor.size\"]=5\n",
    "plt.rcParams[\"xtick.labelsize\"]=\"large\"\n",
    "plt.rcParams[\"ytick.labelsize\"]=\"large\"\n",
    "\n",
    "plt.rcParams[\"figure.figsize\"]=(12,8)\n",
    "plt.rcParams['axes.titlesize'] = 16\n",
    "plt.rcParams['axes.titleweight'] = 'bold'\n",
    "#plt.rcParams['axes.facecolor'] = 'blue'\n",
    "plt.rcParams['xtick.direction'] = 'out'\n",
    "plt.rcParams['ytick.direction'] = 'out'\n",
    "plt.rcParams['lines.markeredgewidth'] = 0.3 # the line width around the marker symbol\n",
    "plt.rcParams['lines.markersize'] = 5  # markersize, in points\n",
    "plt.rcParams['grid.alpha'] = 0.75 # transparency, between 0.0 and 1.0\n",
    "plt.rcParams['grid.linestyle'] = '-' # simple line\n",
    "plt.rcParams['grid.linewidth'] = 0.4 # in points\n",
    "plt.rcParams['font.size'] = 13"
   ]
  },
  {
   "cell_type": "code",
   "execution_count": 9,
   "id": "27be51f9-62b1-489f-8418-92b3bfd636f9",
   "metadata": {},
   "outputs": [],
   "source": [
    "def CalculateBounds(theta,thetamin,thetamax):\n",
    "    \"\"\"\n",
    "    Handle the boundaries of angles\n",
    "    \n",
    "    parameters:\n",
    "        theta : the input angle in degree to test\n",
    "        thetamin: lower bound angle\n",
    "        thetamax: upper bound angle\n",
    "    \"\"\"\n",
    "    \n",
    "    theta_min_angle = Longitude(thetamin,unit=u.degree)\n",
    "    theta_max_angle = Longitude(thetamax,unit=u.degree)\n",
    "    theta_angle = Longitude(theta,unit=u.degree)\n",
    "    \n",
    "    #print(\"longitude angles\",theta_angle,theta_min_angle,theta_max_angle)\n",
    "    \n",
    "    wrap = 0\n",
    "    \n",
    "    if theta_min_angle.degree < theta_max_angle.degree:\n",
    "        wrap = 360 * u.deg\n",
    "    else:\n",
    "        wrap = 180 * u.deg\n",
    "        \n",
    "    theta_min_angle.wrap_angle = wrap\n",
    "    theta_max_angle.wrap_angle = wrap\n",
    "    theta_angle.wrap_angle = wrap\n",
    "       \n",
    "    #print(\"wrap\",wrap,\"theta=\",theta_angle,\"theta_min=\",theta_min_angle,\"theta_max\",theta_max_angle)\n",
    "    return theta_angle.is_within_bounds(theta_min_angle,theta_max_angle)\n",
    "    "
   ]
  },
  {
   "cell_type": "markdown",
   "id": "2c97e727-e949-4a7d-abd5-4d1be0417c40",
   "metadata": {},
   "source": [
    "## Configuration"
   ]
  },
  {
   "cell_type": "markdown",
   "id": "32b6f000-fa74-4158-98df-1bbcdbe3ca1b",
   "metadata": {},
   "source": [
    "### Specify the observation date"
   ]
  },
  {
   "cell_type": "code",
   "execution_count": 10,
   "id": "30e94dfd-eddb-48be-ae4c-6891e629d9e7",
   "metadata": {},
   "outputs": [],
   "source": [
    "NYEAR=2025\n",
    "NMONTH=1\n",
    "NDAY=6"
   ]
  },
  {
   "cell_type": "markdown",
   "id": "c7feb606-ef30-4a42-8752-c86c1fe9c4d4",
   "metadata": {},
   "source": [
    "## Initialisation"
   ]
  },
  {
   "cell_type": "markdown",
   "id": "8a5da78a-b9ba-4a15-964d-9f3d96bf29e6",
   "metadata": {},
   "source": [
    "### Location of sites"
   ]
  },
  {
   "cell_type": "code",
   "execution_count": 11,
   "id": "afb65891-53b7-47c5-ba28-e03538ea9d28",
   "metadata": {},
   "outputs": [],
   "source": [
    "list_of_observation_sites = EarthLocation.get_site_names()"
   ]
  },
  {
   "cell_type": "code",
   "execution_count": 12,
   "id": "ade83693-38c4-4cea-b959-e5c248e85e8e",
   "metadata": {},
   "outputs": [
    {
     "name": "stdout",
     "output_type": "stream",
     "text": [
      "['ALMA', 'AO', 'ARCA', 'ASKAP', 'ATA', 'ATST', 'Allen Telescope Array', 'Anderson Mesa', 'Anglo-Australian Observatory', 'Apache Point', 'Apache Point Observatory', 'Arecibo', 'Arecibo Observatory', 'Astroparticle Research with Cosmics in the Abyss', 'Atacama Large Millimeter Array', 'Australian Square Kilometre Array Pathfinder', 'BAO', 'BBSO', 'Beijing XingLong Observatory', 'Big Bear Solar Observatory', 'Black Moshannon Observatory', 'CAHA', 'CAHA', 'CHARA', 'CHIME', 'Canada-France-Hawaii Telescope', 'Canadian Hydrogen Intensity Mapping Experiment', 'Catalina Observatory', 'Catalina Observatory: 61 inch telescope', 'Centro Astronomico Hispano-Aleman, Almeria', 'Cerro Armazones Observatory', 'Cerro Pachon', 'Cerro Paranal', 'Cerro Tololo', 'Cerro Tololo Interamerican Observatory', 'Cima Ekar 182 cm Telescope', 'Cima Ekar Observing Station', 'DCT', 'DKIST', 'DRAO', 'DRAO 26m Telescope', 'Daniel K. Inouye Solar Telescope', 'Discovery Channel Telescope', 'Dominion Astrophysical Observatory', 'Dominion Radio Astrophysical Observatory', 'Effelsberg', 'Effelsberg 100-m Radio Telescope', 'FAST', 'Five-hundred-meter Aperture Spherical radio Telescope', 'G1', 'GBT', 'GEO', 'GEO600 Gravitational Wave Detector', 'GEO_600', 'GMRT', 'Gemini North', 'Gemini South', 'Giant Metrewave Radio Telescope', 'Green Bank Observatory', 'Green Bank Telescope', 'H1', 'HALO', 'HET', 'Hale Telescope', 'Haleakala Observatories', 'Happy Jack', 'Hat Creek', 'Hat Creek Radio Observatory', 'Helium And Lead Observatory', 'Hobby Eberly Telescope', 'Hyper-Kamiokande', 'HyperK', 'Hyperk', 'IAO', 'ICECUBE', 'IceCube', 'IceCube Neutrino Observatory', 'Indian Astronomical Observatory', 'JCMT', 'James Clerk Maxwell Telescope', 'Jansky Very Large Array', 'John Galt Telescope', 'K1', 'KAGRA', 'KM3NeT ARCA', 'KM3NeT ORCA', 'KM3NeT arca', 'KM3NeT orca', 'Kamioka Gravitational Wave Detector', 'Keck Observatory', 'Kitt Peak', 'Kitt Peak National Observatory', 'L1', 'LDT', 'LHO', 'LHO_4k', 'LIGO Hanford Observatory', 'LIGO Livingston Observatory', 'LLO', 'LLO_4k', 'LOFAR', 'LSST', 'LSST 1.4m', 'LSST 8.4m', 'LSST AuxTel', 'LWA1', 'La Silla Observatory', 'La Silla Observatory (ESO)', 'Large Binocular Telescope', 'Las Campanas Observatory', 'Lick Observatory', 'Long Wavelength Array 1', 'Low-Frequency Array', 'Lowell Discovery Telescope', 'Lowell Observatory', 'Lowell Observatory - Anderson Mesa', 'Lowell Observatory - Mars Hill', 'MDM Observatory', 'MEERKAT', 'MJO', 'MOA', 'MWA', 'Manastash Ridge Observatory', 'Mars Hill', 'McDonald Observatory', 'Medicina', 'Medicina Dish', 'Medicina Radio Telescope', 'MeerKAT', 'Michigan-Dartmouth-MIT Observatory', 'Mont Mégantic Observatory', 'Mount Graham International Observatory', 'Mount Wilson Observatory', 'Mt Graham', 'Mt John', 'Mt. Ekar 182 cm Telescope', 'Mt. Stromlo Observatory', 'Multiple Mirror Telescope', 'Murchison Widefield Array', 'Murriyang', 'NANCAY', 'NASA Infrared Telescope Facility', 'NOV', 'NOVA', 'NOvA', 'NPOI', 'NST', 'Nancay', 'Nancay Radio Telescope', 'National Observatory of Venezuela', 'Navy Precision Optical Interferometer', 'Noto', 'Noto Radio Telescope', 'NuMI Off-axis νe Appearance', 'OAJ', 'OAJ', 'OAO', 'OAO', 'OARMA', 'OARMA', 'OCA', 'OMM', 'ORCA', 'OT', 'Observatoire SIRENE', 'Observatoire de Haute Provence', 'Observatoire du Mont Mégantic', 'Observatorio Astrofisico de Javalambre', 'Observatorio Astronomico Nacional, San Pedro Martir', 'Observatorio Astronomico Nacional, Tonantzintla', 'Observatorio Astronomico Ramon Maria Aller, Santiago de Compostela', 'Observatorio Cerro Armazones', 'Observatorio Ramon Maria Aller', 'Observatorio de Calar Alto', 'Observatorio del Teide', 'Observatorio del Teide, Tenerife', 'Okayama Astrophysical Observatory', 'Oscillation Research with Cosmics in the Abyss', 'Otehiwai', 'Otehiwai Observatory', 'Owens Valley Radio Observatory', 'PTO', 'Palomar', 'Paranal Observatory', 'Paranal Observatory (ESO)', 'Parkes', 'Perkins', 'Roque de los Muchachos', 'Roque de los Muchachos, La Palma', 'Royal Observatory Greenwich', 'Rubin', 'Rubin AuxTel', 'Rubin Observatory', 'SAAO', 'SALT', 'SNO+', 'SPO', 'SRT', 'Sac Peak', 'Sacramento Peak', 'Sacramento Peak Observatory', 'Sardinia Radio Telescope', 'Siding Spring Observatory', 'Southern African Large Telescope', 'Subaru', 'Subaru Telescope', 'Sudbury Neutrino Observatory +', 'Sunspot', 'Super-Kamiokande', 'SuperK', 'Superk', 'Sutherland', 'TNO', 'TNO', 'TUBITAK National Observatory', 'TUG', 'Thai National Observatory', 'The Hale Telescope', 'UKIRT', 'United Kingdom Infrared Telescope', 'V1', 'VIRGO', 'Vainu Bappu Observatory', 'Very Large Array', 'Virgo', 'Virgo Observatory', 'W. M. Keck Observatory', 'WIYN', 'WIYN 3.5 m', 'WIYN Observatory', 'Whipple', 'Whipple Observatory', 'Winer', 'Winer Observatory', 'Wise Observatory', 'aao', 'alma', 'ao', 'apo', 'arca', 'arecibo', 'askap', 'bbso', 'bmo', 'cfht', 'chime', 'ctio', 'dao', 'dct', 'dkist', 'drao', 'effelsberg', 'ekar', 'example_site', 'fast', 'flwo', 'gbt', 'gemini_north', 'gemini_south', 'gemn', 'gems', 'geo_600', 'gmrt', 'greenwich', 'haleakala', 'halo', 'hcro', 'het', 'hyperK', 'hyperk', 'iao', 'icecube', 'irtf', 'jcmt', 'kagra', 'keck', 'km3net arca', 'km3net orca', 'kpno', 'lapalma', 'lasilla', 'lbt', 'lco', 'ldt', 'lho_4k', 'lick', 'llo_4k', 'lo-am', 'lo-mh', 'lofar', 'lowell', 'lwa1', 'mars_hill', 'mcdonald', 'mdm', 'medicina', 'meerkat', 'mh', 'mma', 'mmt', 'mro', 'mso', 'mtbigelow', 'mwa', 'mwo', 'nancay', 'noto', 'nova', 'oca', 'ohp', 'omm', 'orca', 'ovro', 'paranal', 'parkes', 'pto', 'rubin', 'rubin_aux', 'salt', 'sirene', 'sno+', 'spm', 'spo', 'srt', 'sso', 'superK', 'superk', 'teide', 'tona', 'tug', 'ukirt', 'vbo', 'virgo', 'vla', 'winer', 'wise', 'wise', 'wiyn']\n"
     ]
    }
   ],
   "source": [
    "print(list_of_observation_sites)"
   ]
  },
  {
   "cell_type": "markdown",
   "id": "6a0505e0-53a1-4375-83e2-e9401fefa172",
   "metadata": {},
   "source": [
    "#### Greenwitch Observatory"
   ]
  },
  {
   "cell_type": "code",
   "execution_count": 13,
   "id": "9caf83a6-2810-4b20-806d-1569c0129ee7",
   "metadata": {},
   "outputs": [],
   "source": [
    "latitude_greenwitch = 51.476852*u.degree \n",
    "# There is a little shift between the prime meridian and the Greenwitch observatory\n",
    "#longitude_greenwitch = -0.000500*u.degree\n",
    "longitude_greenwitch = -0.00*u.degree\n",
    "altitude_greenwitch = 68.0*u.m\n",
    "site_Greenwitch = EarthLocation(lat=latitude_greenwitch, lon=longitude_greenwitch, height=altitude_greenwitch)"
   ]
  },
  {
   "cell_type": "code",
   "execution_count": 14,
   "id": "dbe6c2d8-2f0e-4fe4-bb8f-79c2ccb25153",
   "metadata": {},
   "outputs": [
    {
     "data": {
      "text/latex": [
       "$(3980706.1, -0, 4966812) \\; \\mathrm{m}$"
      ],
      "text/plain": [
       "<EarthLocation (3980706.08142233, -0., 4966812.03170814) m>"
      ]
     },
     "execution_count": 14,
     "metadata": {},
     "output_type": "execute_result"
    }
   ],
   "source": [
    "site_Greenwitch "
   ]
  },
  {
   "cell_type": "code",
   "execution_count": 15,
   "id": "aea4d75e-ebfd-4f0e-a03c-315b55e8d672",
   "metadata": {},
   "outputs": [
    {
     "name": "stdout",
     "output_type": "stream",
     "text": [
      "Time zone at Greenwitch Observatory: Europe/London\n"
     ]
    }
   ],
   "source": [
    "tf = timezonefinder.TimezoneFinder()\n",
    "timezone_greenwitch_str = tf.certain_timezone_at(lat=latitude_greenwitch/u.degree , lng=longitude_greenwitch/u.degree)\n",
    "print(f\"Time zone at Greenwitch Observatory: {timezone_greenwitch_str}\")"
   ]
  },
  {
   "cell_type": "code",
   "execution_count": 16,
   "id": "2e2208e1-9b94-48e7-889c-cc8ad2a6dd91",
   "metadata": {},
   "outputs": [],
   "source": [
    "# Not working (want to know where is the observatory relative to zone border)\n",
    "tz_data = tf.get_geometry(tz_name=timezone_greenwitch_str)[0][0]\n",
    "all_long,all_lat = np.array(tz_data)\n",
    "min_longitude_tzgreen = all_long.min()\n",
    "max_longitude_tzgreen = all_long.max()"
   ]
  },
  {
   "cell_type": "code",
   "execution_count": 17,
   "id": "00cc4a08-62f1-4cc9-a0f9-45efca8a6a54",
   "metadata": {},
   "outputs": [
    {
     "name": "stdout",
     "output_type": "stream",
     "text": [
      " Check longitude : -14.015517 < -0.0 deg < -13.360968\n"
     ]
    }
   ],
   "source": [
    "print(f\" Check longitude : {min_longitude_tzgreen} < {longitude_greenwitch} < {max_longitude_tzgreen}\")"
   ]
  },
  {
   "cell_type": "markdown",
   "id": "4fc43c7d-d244-4615-9ef4-5aacfe4d4e3c",
   "metadata": {},
   "source": [
    "#### Rubin-LSST Observatory"
   ]
  },
  {
   "cell_type": "code",
   "execution_count": 18,
   "id": "94e22ae2-abf5-4914-a2a7-c18fef629f45",
   "metadata": {},
   "outputs": [
    {
     "data": {
      "text/latex": [
       "$(1820193.1, -5208343, -3194842.5) \\; \\mathrm{m}$"
      ],
      "text/plain": [
       "<EarthLocation (1820193.06844603, -5208343.03427567, -3194842.50048343) m>"
      ]
     },
     "execution_count": 18,
     "metadata": {},
     "output_type": "execute_result"
    }
   ],
   "source": [
    "LSSTNAME='Cerro Pachon'\n",
    "site_LSST = EarthLocation.of_site(LSSTNAME)\n",
    "longitude_lsst = site_LSST.lon\n",
    "latitude_lsst = site_LSST.lat\n",
    "altitude_lsst = site_LSST.height\n",
    "site_LSST"
   ]
  },
  {
   "cell_type": "code",
   "execution_count": 19,
   "id": "a3e2a6ad-2140-44f0-9777-333318e3c230",
   "metadata": {},
   "outputs": [
    {
     "data": {
      "text/latex": [
       "$(1820193.1, -5208343, -3194842.5) \\; \\mathrm{m}$"
      ],
      "text/plain": [
       "<EarthLocation (1820193.06844603, -5208343.03427567, -3194842.50048343) m>"
      ]
     },
     "execution_count": 19,
     "metadata": {},
     "output_type": "execute_result"
    }
   ],
   "source": [
    "cerro_pachon = EarthLocation(lat = latitude_lsst, lon = longitude_lsst, height = altitude_lsst)\n",
    "cerro_pachon "
   ]
  },
  {
   "cell_type": "code",
   "execution_count": 20,
   "id": "6ee591e5-2c62-42d7-af41-62b28452ceac",
   "metadata": {},
   "outputs": [
    {
     "name": "stdout",
     "output_type": "stream",
     "text": [
      "Time zone at Rubin LSST Observatory: America/Santiago\n"
     ]
    }
   ],
   "source": [
    "tf = timezonefinder.TimezoneFinder()\n",
    "timezone_lsst_str = tf.certain_timezone_at(lat=latitude_lsst/u.degree , lng=longitude_lsst/u.degree)\n",
    "print(f\"Time zone at Rubin LSST Observatory: {timezone_lsst_str}\")"
   ]
  },
  {
   "cell_type": "code",
   "execution_count": 21,
   "id": "7eaa441a-05a7-4ef2-972d-86baf977c8b7",
   "metadata": {},
   "outputs": [],
   "source": [
    "# Not working (want to know where is the observatory relative to zone border)\n",
    "tz_data = tf.get_geometry(tz_name=timezone_lsst_str)[0][0]\n",
    "all_long,all_lat = np.array(tz_data)\n",
    "min_longitude_tzlsst = all_long.min()\n",
    "max_longitude_tzlsst = all_long.max()"
   ]
  },
  {
   "cell_type": "code",
   "execution_count": 22,
   "id": "f99871a9-d34c-4a13-8270-9612c368f819",
   "metadata": {},
   "outputs": [
    {
     "name": "stdout",
     "output_type": "stream",
     "text": [
      " Check longitude : -79.19552 < -70.7366833333333 deg < -78.5298\n"
     ]
    }
   ],
   "source": [
    "print(f\" Check longitude : {min_longitude_tzlsst} < {longitude_lsst} < {max_longitude_tzlsst}\")"
   ]
  },
  {
   "cell_type": "markdown",
   "id": "fd63e9a8-ed1a-410b-8bea-2a225529a615",
   "metadata": {},
   "source": [
    "### UTC offset"
   ]
  },
  {
   "cell_type": "markdown",
   "id": "02a79512-0739-42da-9e8f-6cc595007be9",
   "metadata": {},
   "source": [
    "#### UTC offset using longitude"
   ]
  },
  {
   "cell_type": "code",
   "execution_count": 23,
   "id": "7bc1d6ec-867a-44af-b6d4-e405b59eed1f",
   "metadata": {},
   "outputs": [
    {
     "data": {
      "text/latex": [
       "$-70^\\circ44{}^\\prime12.06{}^{\\prime\\prime}$"
      ],
      "text/plain": [
       "<Angle -70.73668333 deg>"
      ]
     },
     "execution_count": 23,
     "metadata": {},
     "output_type": "execute_result"
    }
   ],
   "source": [
    "longitude_offset = longitude_lsst - longitude_greenwitch\n",
    "longitude_offset"
   ]
  },
  {
   "cell_type": "code",
   "execution_count": 24,
   "id": "664774ef-286d-4677-ab0c-0e6e46f5755e",
   "metadata": {},
   "outputs": [
    {
     "data": {
      "text/plain": [
       "np.float64(-4.715778888888888)"
      ]
     },
     "execution_count": 24,
     "metadata": {},
     "output_type": "execute_result"
    }
   ],
   "source": [
    "longitude_offset.hour"
   ]
  },
  {
   "cell_type": "code",
   "execution_count": 25,
   "id": "74350e8d-3b4f-4fa6-8146-77e0e92d9cde",
   "metadata": {},
   "outputs": [
    {
     "name": "stdout",
     "output_type": "stream",
     "text": [
      "The UTC offset in Chile is  -4.715778888888888  hours\n"
     ]
    }
   ],
   "source": [
    "#utcoffset_number = timezone.utcoffset(dt).total_seconds()/60./60.\n",
    "utcoffset_number1 = longitude_offset.hour\n",
    "print(\"The UTC offset in Chile is \",utcoffset_number1,\" hours\")"
   ]
  },
  {
   "cell_type": "code",
   "execution_count": 26,
   "id": "c6309f4a-00e6-4df9-92dc-11cfbbc25595",
   "metadata": {},
   "outputs": [
    {
     "data": {
      "text/latex": [
       "$-4.7157789 \\; \\mathrm{}$"
      ],
      "text/plain": [
       "<Quantity -4.71577889>"
      ]
     },
     "execution_count": 26,
     "metadata": {},
     "output_type": "execute_result"
    }
   ],
   "source": [
    "utcoffset_number2  = (longitude_lsst * 24.0 / 360.0/u.deg)\n",
    "utcoffset_number2 "
   ]
  },
  {
   "cell_type": "markdown",
   "id": "e8ed5dda-3643-44f4-827d-89ef160eb113",
   "metadata": {},
   "source": [
    "- Notice that this offset calculated above is in sidereal time not in solar time"
   ]
  },
  {
   "cell_type": "markdown",
   "id": "807e5eea-6ec3-4da9-9452-6079a66bbcf9",
   "metadata": {},
   "source": [
    "#### UTC offset Using timezone"
   ]
  },
  {
   "cell_type": "code",
   "execution_count": 27,
   "id": "4567f47e-fc94-44c0-a995-61e119921d05",
   "metadata": {},
   "outputs": [
    {
     "name": "stdout",
     "output_type": "stream",
     "text": [
      "\t - The UTC Time now 2025-01-06 18:58:04.513956\n",
      "\t - the UTC offset in zone America/Santiago is -1 day, 21:00:00\n"
     ]
    },
    {
     "name": "stderr",
     "output_type": "stream",
     "text": [
      "/var/folders/79/hrybm_4s0zjd4jsb7lp_trhh0000gp/T/ipykernel_68993/3632194934.py:9: DeprecationWarning: datetime.datetime.utcnow() is deprecated and scheduled for removal in a future version. Use timezone-aware objects to represent datetimes in UTC: datetime.datetime.now(datetime.UTC).\n",
      "  dt = datetime.utcnow()\n"
     ]
    }
   ],
   "source": [
    "if timezone_lsst_str is None:\n",
    "    print(\"Could not determine my time zone\")\n",
    "else:\n",
    "    # Display the current time in that time zone\n",
    "        \n",
    "    timezone_lsst = pytz.timezone(timezone_lsst_str)\n",
    "    timezone0 = pytz.timezone('UTC')\n",
    "    \n",
    "    dt = datetime.utcnow()\n",
    "    utc_offset =  timezone_lsst.utcoffset(dt)\n",
    "    \n",
    "    print(\"\\t - The UTC Time now %s\" % dt)\n",
    "    print(f\"\\t - the UTC offset in zone {timezone_lsst_str} is {utc_offset}\")"
   ]
  },
  {
   "cell_type": "code",
   "execution_count": 28,
   "id": "9ee60296-7857-4eb8-9072-d7101699c480",
   "metadata": {},
   "outputs": [
    {
     "data": {
      "text/plain": [
       "-3.0"
      ]
     },
     "execution_count": 28,
     "metadata": {},
     "output_type": "execute_result"
    }
   ],
   "source": [
    "# This is the offset that works with the sidereal time calculated after\n",
    "utcoffset_number3 = timezone_lsst.utcoffset(dt).total_seconds()/60./60.\n",
    "utcoffset_number3"
   ]
  },
  {
   "cell_type": "markdown",
   "id": "b056c53c-8a80-43fa-9c03-34370f0e42f2",
   "metadata": {},
   "source": [
    "### Try to correct internally to the time zone"
   ]
  },
  {
   "cell_type": "code",
   "execution_count": 29,
   "id": "820900dc-65fb-43fa-a0b5-738a14c817b7",
   "metadata": {},
   "outputs": [
    {
     "data": {
      "text/plain": [
       "np.float64(0.2842211111111119)"
      ]
     },
     "execution_count": 29,
     "metadata": {},
     "output_type": "execute_result"
    }
   ],
   "source": [
    "dt_corr = (longitude_offset.hour - np.floor(longitude_offset.hour))\n",
    "dt_corr"
   ]
  },
  {
   "cell_type": "code",
   "execution_count": 30,
   "id": "b2fba731-50c4-442a-957d-3086b77cae7b",
   "metadata": {},
   "outputs": [],
   "source": [
    "utcoffset_number4 = utcoffset_number3 - dt_corr"
   ]
  },
  {
   "cell_type": "markdown",
   "id": "0b18a061-8a3c-47a6-b313-5027c22b1da0",
   "metadata": {},
   "source": [
    "#### the TimezoneInfo object from astropy\n",
    "\n",
    "- https://docs.astropy.org/en/stable/api/astropy.time.TimezoneInfo.html\n",
    "- create the TimezoneInfo object required for sideral time\n",
    "\n",
    "Have to choose among the four calculations :**utcoffset_number1, utcoffset_number2, utcoffset_number3, utcoffset_number4**\n",
    "\n",
    "- Only utcoffset_number3 gives the correct sidereal time within 2 minutes"
   ]
  },
  {
   "cell_type": "code",
   "execution_count": 31,
   "id": "6d15261b-0ce2-4cdc-8913-2ca5cb33ac25",
   "metadata": {},
   "outputs": [],
   "source": [
    "utcoffset_number = utcoffset_number3\n",
    "tz_utc_minus_xx_hours = TimezoneInfo(utc_offset = utcoffset_number*u.hour)"
   ]
  },
  {
   "cell_type": "markdown",
   "id": "04dc4078-ebe9-4acf-8d2c-000538ad043c",
   "metadata": {},
   "source": [
    "### Night of observation and local time\n",
    "\n",
    "- creation of an observation date chosen very close to the local midnight from the chosen NYEAR,NMONTH,NDAY\n",
    "- Note we provide the **tz_utc_minus_xx_hours** which provide the UTC offset of the site"
   ]
  },
  {
   "cell_type": "code",
   "execution_count": 32,
   "id": "48307b34-0fa2-4408-8f4a-d1cb35607ebd",
   "metadata": {},
   "outputs": [
    {
     "data": {
      "text/plain": [
       "datetime.datetime(2025, 1, 6, 23, 59, 59, tzinfo=<astropy.time.formats.TimezoneInfo object at 0x11fc74050>)"
      ]
     },
     "execution_count": 32,
     "metadata": {},
     "output_type": "execute_result"
    }
   ],
   "source": [
    "# datetime at local midnight in the timezone of Chile by providing the right TimezoneInfo() object set at site Timezone\n",
    "night_obs = datetime(NYEAR, NMONTH, NDAY, 0, 0)\n",
    "night_obs_midnight = datetime(NYEAR, NMONTH, NDAY, 23, 59,59,tzinfo = tz_utc_minus_xx_hours)\n",
    "night_obs_midnight"
   ]
  },
  {
   "cell_type": "code",
   "execution_count": 33,
   "id": "7cd89503-731c-4248-a4ec-2eb6078d560e",
   "metadata": {},
   "outputs": [
    {
     "name": "stdout",
     "output_type": "stream",
     "text": [
      "Night of Observation : 2025-01-06 00:00:00\n"
     ]
    }
   ],
   "source": [
    "night_obs_str = night_obs.strftime(\"%Y-%m-%d %H:%M:%S\")\n",
    "print(f\"Night of Observation : {night_obs_str}\")"
   ]
  },
  {
   "cell_type": "code",
   "execution_count": 34,
   "id": "e9531c20-92eb-4787-b6b7-0a1c0f869628",
   "metadata": {},
   "outputs": [
    {
     "name": "stdout",
     "output_type": "stream",
     "text": [
      "Midnight of Night of Observation : 2025-01-06 23:59:59\n"
     ]
    }
   ],
   "source": [
    "#check the string of the date\n",
    "night_obs_midnight_str = night_obs_midnight.strftime(\"%Y-%m-%d %H:%M:%S\")\n",
    "night_obs_midnight_str\n",
    "print(f\"Midnight of Night of Observation : {night_obs_midnight_str}\")"
   ]
  },
  {
   "cell_type": "markdown",
   "id": "76023027-abfa-4286-91a6-2bfd18ba2a1e",
   "metadata": {},
   "source": [
    "### Compute UTC and Sideral Time at local midnight\n",
    "\n",
    "We check here that the offset in time between UTC and Chile time is 3 hours"
   ]
  },
  {
   "cell_type": "markdown",
   "id": "e3294ca7-f717-475c-b4a2-7836308aa83a",
   "metadata": {},
   "source": [
    "##### TimezoneInfo object from astropy\n",
    "https://docs.astropy.org/en/stable/api/astropy.time.TimezoneInfo.html"
   ]
  },
  {
   "cell_type": "code",
   "execution_count": 35,
   "id": "621b8f44-0ef2-4ead-b16d-7d963edf7fcc",
   "metadata": {},
   "outputs": [
    {
     "name": "stdout",
     "output_type": "stream",
     "text": [
      "\t - Local time in Santiago in (GMT-3) in winter :  2025-01-06 23:59:59-03:00\n",
      "\t - Time in UTC at the Local Time above         :  2025-01-07 02:59:59+00:00\n"
     ]
    }
   ],
   "source": [
    "tz_utc = TimezoneInfo() \n",
    "print(\"\\t - Local time in Santiago in (GMT-3) in winter : \",night_obs_midnight)\n",
    "print(\"\\t - Time in UTC at the Local Time above         : \",night_obs_midnight.astimezone(tz_utc))"
   ]
  },
  {
   "cell_type": "markdown",
   "id": "e5dd761a-5c3b-4887-8ae5-f935f86566a8",
   "metadata": {},
   "source": [
    "#### Sidereal time at LSST site "
   ]
  },
  {
   "cell_type": "markdown",
   "id": "44357b2c-ab58-4d2b-b969-03a5eb433795",
   "metadata": {},
   "source": [
    "- https://docs.astropy.org/en/stable/time/index.html\n",
    "- we compute here the local sideral time at midnight local time\n",
    "- we need to provide the utc offset  from the object TimezoneInfo required later to compute the local siteral time"
   ]
  },
  {
   "cell_type": "markdown",
   "id": "f43c78ef-a133-4e1c-82d9-fd9ea4113b58",
   "metadata": {},
   "source": [
    "#### Sidereal time and angle at local time midnight\n",
    "\n",
    "- this calculation has been checked in Stellarium at Cerro Pachon for this observation date and time\n",
    "- using utc_offset3 based on timezone info, I have only 2 minutes differences"
   ]
  },
  {
   "cell_type": "code",
   "execution_count": 36,
   "id": "3930d5d0-2dba-423b-986f-f4690d164b60",
   "metadata": {},
   "outputs": [
    {
     "name": "stdout",
     "output_type": "stream",
     "text": [
      "Sideral Time at LSST midnight: 5h24m47.03081708s\n"
     ]
    }
   ],
   "source": [
    "# the sidereal time is constructed from 1) local clock wall time, 2) the UTC timezone 3) and the location of observation site on earth \n",
    "t_lsst = Time(night_obs_midnight.astimezone(tz_utc), scale='utc',location = site_LSST)\n",
    "#t_sidereal_lsst = t_lsst.sidereal_time('apparent')  \n",
    "t_sidereal_lsst = t_lsst.sidereal_time('mean')  \n",
    "print(\"Sideral Time at LSST midnight:\",t_sidereal_lsst)"
   ]
  },
  {
   "cell_type": "markdown",
   "id": "a9ba0e21-d0ac-4868-bbc5-aeede961829a",
   "metadata": {},
   "source": [
    "#### The Sideral angle is measured from the meridian ( westward in north hemisphere)"
   ]
  },
  {
   "cell_type": "code",
   "execution_count": 37,
   "id": "c33894af-69bd-41ef-847c-5579a36f158c",
   "metadata": {},
   "outputs": [
    {
     "name": "stdout",
     "output_type": "stream",
     "text": [
      "Sidereal Time angle at LSST midnight: 81d11m45.46225617s\n",
      "Sidereal Time angle at LSST midnight: 81.19596173782554\n"
     ]
    }
   ],
   "source": [
    "print(\"Sidereal Time angle at LSST midnight:\",Angle(t_sidereal_lsst).to(u.degree))\n",
    "print(\"Sidereal Time angle at LSST midnight:\",Angle(t_sidereal_lsst).degree)"
   ]
  },
  {
   "cell_type": "markdown",
   "id": "d76e13be-b186-422f-a256-a983d69620a4",
   "metadata": {},
   "source": [
    "### get Gaia"
   ]
  },
  {
   "cell_type": "markdown",
   "id": "22ee5d01-e79f-4147-b695-371cd312b6b9",
   "metadata": {},
   "source": [
    "#### Retrieve all Gaia WD\n",
    "\n",
    "- list made by Philippe Gris"
   ]
  },
  {
   "cell_type": "code",
   "execution_count": 38,
   "id": "ecea75cb-3bb8-461f-8e7f-0d04e8bea71b",
   "metadata": {},
   "outputs": [],
   "source": [
    "df_wd_selected = pd.read_csv(\"philippecalspecandgaia/star_map_wd_2025_1_10.csv\")"
   ]
  },
  {
   "cell_type": "code",
   "execution_count": 39,
   "id": "e4208529-9390-491d-81dc-e6056fee0b55",
   "metadata": {},
   "outputs": [
    {
     "data": {
      "text/html": [
       "<div>\n",
       "<style scoped>\n",
       "    .dataframe tbody tr th:only-of-type {\n",
       "        vertical-align: middle;\n",
       "    }\n",
       "\n",
       "    .dataframe tbody tr th {\n",
       "        vertical-align: top;\n",
       "    }\n",
       "\n",
       "    .dataframe thead th {\n",
       "        text-align: right;\n",
       "    }\n",
       "</style>\n",
       "<table border=\"1\" class=\"dataframe\">\n",
       "  <thead>\n",
       "    <tr style=\"text-align: right;\">\n",
       "      <th></th>\n",
       "      <th>target</th>\n",
       "      <th>ra</th>\n",
       "      <th>dec</th>\n",
       "      <th>phot_g_mean_mag</th>\n",
       "      <th>spType</th>\n",
       "      <th>starType</th>\n",
       "    </tr>\n",
       "  </thead>\n",
       "  <tbody>\n",
       "    <tr>\n",
       "      <th>0</th>\n",
       "      <td>HD  27442B</td>\n",
       "      <td>64.1248</td>\n",
       "      <td>-59.3000</td>\n",
       "      <td>12.481</td>\n",
       "      <td>DA3</td>\n",
       "      <td>wd</td>\n",
       "    </tr>\n",
       "    <tr>\n",
       "      <th>1</th>\n",
       "      <td>2MASS J04434646-7851503</td>\n",
       "      <td>70.9419</td>\n",
       "      <td>-78.8639</td>\n",
       "      <td>13.435</td>\n",
       "      <td>DA2.1</td>\n",
       "      <td>wd</td>\n",
       "    </tr>\n",
       "    <tr>\n",
       "      <th>2</th>\n",
       "      <td>WD 0455-282</td>\n",
       "      <td>74.3058</td>\n",
       "      <td>-28.1313</td>\n",
       "      <td>13.930</td>\n",
       "      <td>DA.8</td>\n",
       "      <td>wd</td>\n",
       "    </tr>\n",
       "    <tr>\n",
       "      <th>3</th>\n",
       "      <td>WD 0501-289</td>\n",
       "      <td>75.9817</td>\n",
       "      <td>-28.9093</td>\n",
       "      <td>13.825</td>\n",
       "      <td>DOZ</td>\n",
       "      <td>wd</td>\n",
       "    </tr>\n",
       "    <tr>\n",
       "      <th>4</th>\n",
       "      <td>2MASS J05243627-0535103</td>\n",
       "      <td>81.1511</td>\n",
       "      <td>-5.5869</td>\n",
       "      <td>13.861</td>\n",
       "      <td>DA</td>\n",
       "      <td>wd</td>\n",
       "    </tr>\n",
       "    <tr>\n",
       "      <th>5</th>\n",
       "      <td>2MASS J05562547+0521486</td>\n",
       "      <td>89.1041</td>\n",
       "      <td>5.3593</td>\n",
       "      <td>13.967</td>\n",
       "      <td>DA8P</td>\n",
       "      <td>wd</td>\n",
       "    </tr>\n",
       "    <tr>\n",
       "      <th>6</th>\n",
       "      <td>2MASS J06161426-5912275</td>\n",
       "      <td>94.0590</td>\n",
       "      <td>-59.2090</td>\n",
       "      <td>13.953</td>\n",
       "      <td>DB3+</td>\n",
       "      <td>wd</td>\n",
       "    </tr>\n",
       "    <tr>\n",
       "      <th>7</th>\n",
       "      <td>WD 0621-376</td>\n",
       "      <td>95.8029</td>\n",
       "      <td>-37.6911</td>\n",
       "      <td>12.023</td>\n",
       "      <td>DA.8</td>\n",
       "      <td>wd</td>\n",
       "    </tr>\n",
       "    <tr>\n",
       "      <th>8</th>\n",
       "      <td>WD 0646-253</td>\n",
       "      <td>102.2336</td>\n",
       "      <td>-25.3962</td>\n",
       "      <td>13.632</td>\n",
       "      <td>DA1.8</td>\n",
       "      <td>wd</td>\n",
       "    </tr>\n",
       "    <tr>\n",
       "      <th>9</th>\n",
       "      <td>LAWD 25</td>\n",
       "      <td>115.0919</td>\n",
       "      <td>-17.4161</td>\n",
       "      <td>12.970</td>\n",
       "      <td>DZQA6</td>\n",
       "      <td>wd</td>\n",
       "    </tr>\n",
       "    <tr>\n",
       "      <th>10</th>\n",
       "      <td>LAWD 26</td>\n",
       "      <td>118.3012</td>\n",
       "      <td>-67.7987</td>\n",
       "      <td>13.778</td>\n",
       "      <td>DA9.0</td>\n",
       "      <td>wd</td>\n",
       "    </tr>\n",
       "    <tr>\n",
       "      <th>11</th>\n",
       "      <td>Gaia DR3 5318772982658411008</td>\n",
       "      <td>122.7387</td>\n",
       "      <td>-56.9576</td>\n",
       "      <td>13.308</td>\n",
       "      <td>NaN</td>\n",
       "      <td>wd</td>\n",
       "    </tr>\n",
       "    <tr>\n",
       "      <th>12</th>\n",
       "      <td>2MASS J08253234-0728232</td>\n",
       "      <td>126.3845</td>\n",
       "      <td>-7.4730</td>\n",
       "      <td>13.955</td>\n",
       "      <td>DA</td>\n",
       "      <td>wd</td>\n",
       "    </tr>\n",
       "    <tr>\n",
       "      <th>13</th>\n",
       "      <td>WD 0859-039</td>\n",
       "      <td>135.5721</td>\n",
       "      <td>-4.1154</td>\n",
       "      <td>13.170</td>\n",
       "      <td>DA2.1</td>\n",
       "      <td>wd</td>\n",
       "    </tr>\n",
       "    <tr>\n",
       "      <th>14</th>\n",
       "      <td>WD 0954-710</td>\n",
       "      <td>148.8436</td>\n",
       "      <td>-71.3028</td>\n",
       "      <td>13.538</td>\n",
       "      <td>DA3.4</td>\n",
       "      <td>wd</td>\n",
       "    </tr>\n",
       "    <tr>\n",
       "      <th>15</th>\n",
       "      <td>2MASS J10342703-6722392</td>\n",
       "      <td>158.6128</td>\n",
       "      <td>-67.3779</td>\n",
       "      <td>13.374</td>\n",
       "      <td>DA</td>\n",
       "      <td>wd</td>\n",
       "    </tr>\n",
       "  </tbody>\n",
       "</table>\n",
       "</div>"
      ],
      "text/plain": [
       "                          target        ra      dec  phot_g_mean_mag spType  \\\n",
       "0                     HD  27442B   64.1248 -59.3000           12.481    DA3   \n",
       "1        2MASS J04434646-7851503   70.9419 -78.8639           13.435  DA2.1   \n",
       "2                    WD 0455-282   74.3058 -28.1313           13.930   DA.8   \n",
       "3                    WD 0501-289   75.9817 -28.9093           13.825    DOZ   \n",
       "4        2MASS J05243627-0535103   81.1511  -5.5869           13.861     DA   \n",
       "5        2MASS J05562547+0521486   89.1041   5.3593           13.967   DA8P   \n",
       "6        2MASS J06161426-5912275   94.0590 -59.2090           13.953   DB3+   \n",
       "7                    WD 0621-376   95.8029 -37.6911           12.023   DA.8   \n",
       "8                    WD 0646-253  102.2336 -25.3962           13.632  DA1.8   \n",
       "9                        LAWD 25  115.0919 -17.4161           12.970  DZQA6   \n",
       "10                       LAWD 26  118.3012 -67.7987           13.778  DA9.0   \n",
       "11  Gaia DR3 5318772982658411008  122.7387 -56.9576           13.308    NaN   \n",
       "12       2MASS J08253234-0728232  126.3845  -7.4730           13.955     DA   \n",
       "13                   WD 0859-039  135.5721  -4.1154           13.170  DA2.1   \n",
       "14                   WD 0954-710  148.8436 -71.3028           13.538  DA3.4   \n",
       "15       2MASS J10342703-6722392  158.6128 -67.3779           13.374     DA   \n",
       "\n",
       "   starType  \n",
       "0        wd  \n",
       "1        wd  \n",
       "2        wd  \n",
       "3        wd  \n",
       "4        wd  \n",
       "5        wd  \n",
       "6        wd  \n",
       "7        wd  \n",
       "8        wd  \n",
       "9        wd  \n",
       "10       wd  \n",
       "11       wd  \n",
       "12       wd  \n",
       "13       wd  \n",
       "14       wd  \n",
       "15       wd  "
      ]
     },
     "execution_count": 39,
     "metadata": {},
     "output_type": "execute_result"
    }
   ],
   "source": [
    "df_wd_selected"
   ]
  },
  {
   "cell_type": "code",
   "execution_count": 40,
   "id": "174e96e2-fb8d-40e7-9f61-2ba2f80d2c53",
   "metadata": {},
   "outputs": [],
   "source": [
    "all_mainid = []\n",
    "for idx,wd_name in enumerate(df_wd_selected.target.values):\n",
    "    result_table = Simbad.query_object(wd_name).to_pandas()\n",
    "    main_id = result_table.iloc[0][\"MAIN_ID\"]\n",
    "    all_mainid.append( main_id) "
   ]
  },
  {
   "cell_type": "code",
   "execution_count": 41,
   "id": "70902b17-b531-4071-9b08-af9b93582809",
   "metadata": {},
   "outputs": [],
   "source": [
    "df_wd_selected[\"MAIN_ID\"] = all_mainid "
   ]
  },
  {
   "cell_type": "code",
   "execution_count": 42,
   "id": "17e1f66c-b25d-4a06-8123-0e96f68edfb4",
   "metadata": {},
   "outputs": [
    {
     "data": {
      "text/html": [
       "<div>\n",
       "<style scoped>\n",
       "    .dataframe tbody tr th:only-of-type {\n",
       "        vertical-align: middle;\n",
       "    }\n",
       "\n",
       "    .dataframe tbody tr th {\n",
       "        vertical-align: top;\n",
       "    }\n",
       "\n",
       "    .dataframe thead th {\n",
       "        text-align: right;\n",
       "    }\n",
       "</style>\n",
       "<table border=\"1\" class=\"dataframe\">\n",
       "  <thead>\n",
       "    <tr style=\"text-align: right;\">\n",
       "      <th></th>\n",
       "      <th>target</th>\n",
       "      <th>ra</th>\n",
       "      <th>dec</th>\n",
       "      <th>phot_g_mean_mag</th>\n",
       "      <th>spType</th>\n",
       "      <th>starType</th>\n",
       "      <th>MAIN_ID</th>\n",
       "    </tr>\n",
       "  </thead>\n",
       "  <tbody>\n",
       "    <tr>\n",
       "      <th>0</th>\n",
       "      <td>HD  27442B</td>\n",
       "      <td>64.1248</td>\n",
       "      <td>-59.3000</td>\n",
       "      <td>12.481</td>\n",
       "      <td>DA3</td>\n",
       "      <td>wd</td>\n",
       "      <td>* eps Ret B</td>\n",
       "    </tr>\n",
       "    <tr>\n",
       "      <th>1</th>\n",
       "      <td>2MASS J04434646-7851503</td>\n",
       "      <td>70.9419</td>\n",
       "      <td>-78.8639</td>\n",
       "      <td>13.435</td>\n",
       "      <td>DA2.1</td>\n",
       "      <td>wd</td>\n",
       "      <td>WG  47</td>\n",
       "    </tr>\n",
       "    <tr>\n",
       "      <th>2</th>\n",
       "      <td>WD 0455-282</td>\n",
       "      <td>74.3058</td>\n",
       "      <td>-28.1313</td>\n",
       "      <td>13.930</td>\n",
       "      <td>DA.8</td>\n",
       "      <td>wd</td>\n",
       "      <td>MCT 0455-2812</td>\n",
       "    </tr>\n",
       "    <tr>\n",
       "      <th>3</th>\n",
       "      <td>WD 0501-289</td>\n",
       "      <td>75.9817</td>\n",
       "      <td>-28.9093</td>\n",
       "      <td>13.825</td>\n",
       "      <td>DOZ</td>\n",
       "      <td>wd</td>\n",
       "      <td>MCT 0501-2858</td>\n",
       "    </tr>\n",
       "    <tr>\n",
       "      <th>4</th>\n",
       "      <td>2MASS J05243627-0535103</td>\n",
       "      <td>81.1511</td>\n",
       "      <td>-5.5869</td>\n",
       "      <td>13.861</td>\n",
       "      <td>DA</td>\n",
       "      <td>wd</td>\n",
       "      <td>UCAC4 423-009416</td>\n",
       "    </tr>\n",
       "    <tr>\n",
       "      <th>5</th>\n",
       "      <td>2MASS J05562547+0521486</td>\n",
       "      <td>89.1041</td>\n",
       "      <td>5.3593</td>\n",
       "      <td>13.967</td>\n",
       "      <td>DA8P</td>\n",
       "      <td>wd</td>\n",
       "      <td>EGGR 290</td>\n",
       "    </tr>\n",
       "    <tr>\n",
       "      <th>6</th>\n",
       "      <td>2MASS J06161426-5912275</td>\n",
       "      <td>94.0590</td>\n",
       "      <td>-59.2090</td>\n",
       "      <td>13.953</td>\n",
       "      <td>DB3+</td>\n",
       "      <td>wd</td>\n",
       "      <td>WG   8</td>\n",
       "    </tr>\n",
       "    <tr>\n",
       "      <th>7</th>\n",
       "      <td>WD 0621-376</td>\n",
       "      <td>95.8029</td>\n",
       "      <td>-37.6911</td>\n",
       "      <td>12.023</td>\n",
       "      <td>DA.8</td>\n",
       "      <td>wd</td>\n",
       "      <td>RX J0623.2-3741</td>\n",
       "    </tr>\n",
       "    <tr>\n",
       "      <th>8</th>\n",
       "      <td>WD 0646-253</td>\n",
       "      <td>102.2336</td>\n",
       "      <td>-25.3962</td>\n",
       "      <td>13.632</td>\n",
       "      <td>DA1.8</td>\n",
       "      <td>wd</td>\n",
       "      <td>RX J0648.9-2523</td>\n",
       "    </tr>\n",
       "    <tr>\n",
       "      <th>9</th>\n",
       "      <td>LAWD 25</td>\n",
       "      <td>115.0919</td>\n",
       "      <td>-17.4161</td>\n",
       "      <td>12.970</td>\n",
       "      <td>DZQA6</td>\n",
       "      <td>wd</td>\n",
       "      <td>LAWD 25</td>\n",
       "    </tr>\n",
       "    <tr>\n",
       "      <th>10</th>\n",
       "      <td>LAWD 26</td>\n",
       "      <td>118.3012</td>\n",
       "      <td>-67.7987</td>\n",
       "      <td>13.778</td>\n",
       "      <td>DA9.0</td>\n",
       "      <td>wd</td>\n",
       "      <td>LAWD 26</td>\n",
       "    </tr>\n",
       "    <tr>\n",
       "      <th>11</th>\n",
       "      <td>Gaia DR3 5318772982658411008</td>\n",
       "      <td>122.7387</td>\n",
       "      <td>-56.9576</td>\n",
       "      <td>13.308</td>\n",
       "      <td>NaN</td>\n",
       "      <td>wd</td>\n",
       "      <td>Gaia DR2 5318772982658411008</td>\n",
       "    </tr>\n",
       "    <tr>\n",
       "      <th>12</th>\n",
       "      <td>2MASS J08253234-0728232</td>\n",
       "      <td>126.3845</td>\n",
       "      <td>-7.4730</td>\n",
       "      <td>13.955</td>\n",
       "      <td>DA</td>\n",
       "      <td>wd</td>\n",
       "      <td>UCAC4 413-046149</td>\n",
       "    </tr>\n",
       "    <tr>\n",
       "      <th>13</th>\n",
       "      <td>WD 0859-039</td>\n",
       "      <td>135.5721</td>\n",
       "      <td>-4.1154</td>\n",
       "      <td>13.170</td>\n",
       "      <td>DA2.1</td>\n",
       "      <td>wd</td>\n",
       "      <td>RE J090217-040712</td>\n",
       "    </tr>\n",
       "    <tr>\n",
       "      <th>14</th>\n",
       "      <td>WD 0954-710</td>\n",
       "      <td>148.8436</td>\n",
       "      <td>-71.3028</td>\n",
       "      <td>13.538</td>\n",
       "      <td>DA3.4</td>\n",
       "      <td>wd</td>\n",
       "      <td>L   64-27</td>\n",
       "    </tr>\n",
       "    <tr>\n",
       "      <th>15</th>\n",
       "      <td>2MASS J10342703-6722392</td>\n",
       "      <td>158.6128</td>\n",
       "      <td>-67.3779</td>\n",
       "      <td>13.374</td>\n",
       "      <td>DA</td>\n",
       "      <td>wd</td>\n",
       "      <td>UCAC4 114-031850</td>\n",
       "    </tr>\n",
       "  </tbody>\n",
       "</table>\n",
       "</div>"
      ],
      "text/plain": [
       "                          target        ra      dec  phot_g_mean_mag spType  \\\n",
       "0                     HD  27442B   64.1248 -59.3000           12.481    DA3   \n",
       "1        2MASS J04434646-7851503   70.9419 -78.8639           13.435  DA2.1   \n",
       "2                    WD 0455-282   74.3058 -28.1313           13.930   DA.8   \n",
       "3                    WD 0501-289   75.9817 -28.9093           13.825    DOZ   \n",
       "4        2MASS J05243627-0535103   81.1511  -5.5869           13.861     DA   \n",
       "5        2MASS J05562547+0521486   89.1041   5.3593           13.967   DA8P   \n",
       "6        2MASS J06161426-5912275   94.0590 -59.2090           13.953   DB3+   \n",
       "7                    WD 0621-376   95.8029 -37.6911           12.023   DA.8   \n",
       "8                    WD 0646-253  102.2336 -25.3962           13.632  DA1.8   \n",
       "9                        LAWD 25  115.0919 -17.4161           12.970  DZQA6   \n",
       "10                       LAWD 26  118.3012 -67.7987           13.778  DA9.0   \n",
       "11  Gaia DR3 5318772982658411008  122.7387 -56.9576           13.308    NaN   \n",
       "12       2MASS J08253234-0728232  126.3845  -7.4730           13.955     DA   \n",
       "13                   WD 0859-039  135.5721  -4.1154           13.170  DA2.1   \n",
       "14                   WD 0954-710  148.8436 -71.3028           13.538  DA3.4   \n",
       "15       2MASS J10342703-6722392  158.6128 -67.3779           13.374     DA   \n",
       "\n",
       "   starType                       MAIN_ID  \n",
       "0        wd                   * eps Ret B  \n",
       "1        wd                        WG  47  \n",
       "2        wd                 MCT 0455-2812  \n",
       "3        wd                 MCT 0501-2858  \n",
       "4        wd              UCAC4 423-009416  \n",
       "5        wd                      EGGR 290  \n",
       "6        wd                        WG   8  \n",
       "7        wd               RX J0623.2-3741  \n",
       "8        wd               RX J0648.9-2523  \n",
       "9        wd                       LAWD 25  \n",
       "10       wd                       LAWD 26  \n",
       "11       wd  Gaia DR2 5318772982658411008  \n",
       "12       wd              UCAC4 413-046149  \n",
       "13       wd             RE J090217-040712  \n",
       "14       wd                     L   64-27  \n",
       "15       wd              UCAC4 114-031850  "
      ]
     },
     "execution_count": 42,
     "metadata": {},
     "output_type": "execute_result"
    }
   ],
   "source": [
    "df_wd_selected"
   ]
  },
  {
   "cell_type": "markdown",
   "id": "9efecce1-d60a-4114-a562-1f2b92537a6f",
   "metadata": {},
   "source": [
    "### Search WD among Gaia source with spectra\n",
    "\n",
    "#### Search for all names of targets"
   ]
  },
  {
   "cell_type": "code",
   "execution_count": 43,
   "id": "42d2b8a3-b928-4ce1-8413-6d6579a1565b",
   "metadata": {},
   "outputs": [],
   "source": [
    "df_wd_selected_names = df_wd_selected[\"MAIN_ID\"].values"
   ]
  },
  {
   "cell_type": "code",
   "execution_count": 44,
   "id": "a5de04fa-4c8a-4458-a421-c8464ccdb20a",
   "metadata": {},
   "outputs": [
    {
     "name": "stdout",
     "output_type": "stream",
     "text": [
      "0 HD  27442B :: \t  * eps Ret B <==> b'Gaia DR3 4678664766393827328'\n",
      "0 HD  27442B :: \t  * eps Ret B <==> b'Gaia DR2 4678664766393827328'\n",
      "1 2MASS J04434646-7851503 :: \t  WG  47 <==> b'Gaia DR3 4622856957782901504'\n",
      "1 2MASS J04434646-7851503 :: \t  WG  47 <==> b'Gaia DR2 4622856957782901504'\n",
      "2 WD 0455-282 :: \t  MCT 0455-2812 <==> b'Gaia DR3 4880286371109059712'\n",
      "2 WD 0455-282 :: \t  MCT 0455-2812 <==> b'Gaia DR2 4880286371109059712'\n",
      "3 WD 0501-289 :: \t  MCT 0501-2858 <==> b'Gaia DR3 4876967941937370368'\n",
      "3 WD 0501-289 :: \t  MCT 0501-2858 <==> b'Gaia DR2 4876967941937370368'\n",
      "4 2MASS J05243627-0535103 :: \t  UCAC4 423-009416 <==> b'Gaia DR3 3209308900555979776'\n",
      "4 2MASS J05243627-0535103 :: \t  UCAC4 423-009416 <==> b'Gaia DR2 3209308900555979776'\n",
      "5 2MASS J05562547+0521486 :: \t  EGGR 290 <==> b'Gaia DR3 3320184202856435840'\n",
      "5 2MASS J05562547+0521486 :: \t  EGGR 290 <==> b'Gaia DR2 3320184202856027776'\n",
      "6 2MASS J06161426-5912275 :: \t  WG   8 <==> b'Gaia DR3 5482551252566796928'\n",
      "6 2MASS J06161426-5912275 :: \t  WG   8 <==> b'Gaia DR2 5482551252566796928'\n",
      "7 WD 0621-376 :: \t  RX J0623.2-3741 <==> b'Gaia DR3 5575007845317435648'\n",
      "7 WD 0621-376 :: \t  RX J0623.2-3741 <==> b'Gaia DR2 5575007845317435648'\n",
      "8 WD 0646-253 :: \t  RX J0648.9-2523 <==> b'Gaia DR3 2921786919133198848'\n",
      "8 WD 0646-253 :: \t  RX J0648.9-2523 <==> b'Gaia DR2 2921786919133198848'\n",
      "9 LAWD 25 :: \t  LAWD 25 <==> b'Gaia DR3 5717278911884258176'\n",
      "9 LAWD 25 :: \t  LAWD 25 <==> b'Gaia DR2 5717278911884258176'\n",
      "10 LAWD 26 :: \t  LAWD 26 <==> b'Gaia DR3 5273943488410008832'\n",
      "10 LAWD 26 :: \t  LAWD 26 <==> b'Gaia DR2 5273943488410008832'\n",
      "11 Gaia DR3 5318772982658411008 :: \t  Gaia DR2 5318772982658411008 <==> b'Gaia DR3 5318772982658411008'\n",
      "11 Gaia DR3 5318772982658411008 :: \t  Gaia DR2 5318772982658411008 <==> b'Gaia DR2 5318772982658411008'\n",
      "12 2MASS J08253234-0728232 :: \t  UCAC4 413-046149 <==> b'Gaia DR3 5753337533146097280'\n",
      "12 2MASS J08253234-0728232 :: \t  UCAC4 413-046149 <==> b'Gaia DR2 5753337533146097280'\n",
      "13 WD 0859-039 :: \t  RE J090217-040712 <==> b'Gaia DR3 5762406957886626816'\n",
      "13 WD 0859-039 :: \t  RE J090217-040712 <==> b'Gaia DR2 5762406957886626816'\n",
      "14 WD 0954-710 :: \t  L   64-27 <==> b'Gaia DR3 5242316444456199808'\n",
      "14 WD 0954-710 :: \t  L   64-27 <==> b'Gaia DR2 5242316444456199808'\n",
      "15 2MASS J10342703-6722392 :: \t  UCAC4 114-031850 <==> b'Gaia DR3 5233071514480420864'\n",
      "15 2MASS J10342703-6722392 :: \t  UCAC4 114-031850 <==> b'Gaia DR2 5233071514480420864'\n"
     ]
    }
   ],
   "source": [
    "for idx,name in enumerate(df_wd_selected_names):\n",
    "    target_name = df_wd_selected.iloc[idx][\"target\"]\n",
    "    tab = Simbad.query_objectids(name)\n",
    "    values = tab[\"ID\"].data\n",
    "    NID = len(values)\n",
    "    found_gaia = False\n",
    "    found_gaia_name = None\n",
    "    for idx2 in range(NID):\n",
    "        if 'Gaia DR3' in str(values[idx2]):\n",
    "            print(idx,target_name, \":: \\t \" , name , '<==>', values[idx2])\n",
    "            found_gaia_name = values[idx2]\n",
    "            found_gaia = True\n",
    "        elif 'Gaia DR2' in str(values[idx2]):\n",
    "            print(idx,target_name, \":: \\t \" ,name , '<==>', values[idx2])\n",
    "            found_gaia_name = values[idx2]\n",
    "            found_gaia = True      "
   ]
  },
  {
   "cell_type": "markdown",
   "id": "0284da29-d0e7-47e0-9d89-7298ddf05457",
   "metadata": {},
   "source": [
    "#### Access to Corentin's spectral list"
   ]
  },
  {
   "cell_type": "code",
   "execution_count": 45,
   "id": "a9898a78-be68-4e3a-b0c8-bc8c4d2b212d",
   "metadata": {},
   "outputs": [],
   "source": [
    "from gaiaspec.getGaia import *"
   ]
  },
  {
   "cell_type": "code",
   "execution_count": 46,
   "id": "5b66bd3c-132f-4c44-b77c-d0d679a75ba8",
   "metadata": {},
   "outputs": [
    {
     "name": "stdout",
     "output_type": "stream",
     "text": [
      ">>>> getGaia : True <<<<<\n"
     ]
    }
   ],
   "source": [
    "flag_getsgaia = False\n",
    "try:\n",
    "    df = get_gaia_sources()\n",
    "    flag_getsgaia = True\n",
    "except:\n",
    "    filename = \"philippecalspecandgaia/star_map_wd_2025_1_10.csv\"\n",
    "    df = pd.read_csv(filename,index_col=0)  \n",
    "finally:\n",
    "    print(f\">>>> getGaia : {flag_getsgaia} <<<<<\")\n",
    "    #print(df.head())   "
   ]
  },
  {
   "cell_type": "markdown",
   "id": "0118d561-ee3c-4696-bf71-ed46f67d5199",
   "metadata": {},
   "source": [
    "#### Associate to the WD list the closest Gaia source (with spectrum)"
   ]
  },
  {
   "cell_type": "code",
   "execution_count": 47,
   "id": "17768ff1-e19d-4f02-8abd-0a0affb9b252",
   "metadata": {},
   "outputs": [],
   "source": [
    "all_row_gaia_sel = []\n",
    "for index, row in df_wd_selected.iterrows():\n",
    "    ra0 = row[\"ra\"]\n",
    "    dec0 = row[\"dec\"]\n",
    "    coord0 = SkyCoord(ra0*u.deg,dec0*u.deg)\n",
    "    df_copy = df.copy()\n",
    "    df_copy[\"sep\"] = df_copy.apply(lambda row : coord0.separation(SkyCoord(row[\"ra\"]*u.deg,row[\"dec\"]*u.deg)).arcsec,axis=1)\n",
    "    sep_min = df_copy[\"sep\"].min()\n",
    "    row_sep_min = df_copy[df_copy[\"sep\"] == sep_min]\n",
    "    all_row_gaia_sel.append(row_sep_min) "
   ]
  },
  {
   "cell_type": "code",
   "execution_count": 48,
   "id": "862b2875-3b51-4c1a-8e44-002401b64ce1",
   "metadata": {},
   "outputs": [],
   "source": [
    "df_gaia_sel = pd.concat(all_row_gaia_sel)"
   ]
  },
  {
   "cell_type": "code",
   "execution_count": 49,
   "id": "4942b341-93f1-4221-b3de-e122e24a7037",
   "metadata": {},
   "outputs": [
    {
     "data": {
      "text/html": [
       "<div>\n",
       "<style scoped>\n",
       "    .dataframe tbody tr th:only-of-type {\n",
       "        vertical-align: middle;\n",
       "    }\n",
       "\n",
       "    .dataframe tbody tr th {\n",
       "        vertical-align: top;\n",
       "    }\n",
       "\n",
       "    .dataframe thead th {\n",
       "        text-align: right;\n",
       "    }\n",
       "</style>\n",
       "<table border=\"1\" class=\"dataframe\">\n",
       "  <thead>\n",
       "    <tr style=\"text-align: right;\">\n",
       "      <th></th>\n",
       "      <th>SOURCE_ID</th>\n",
       "      <th>ra</th>\n",
       "      <th>dec</th>\n",
       "      <th>pmra</th>\n",
       "      <th>pmdec</th>\n",
       "      <th>parallax</th>\n",
       "      <th>phot_g_mean_mag</th>\n",
       "      <th>phot_bp_mean_mag</th>\n",
       "      <th>phot_rp_mean_mag</th>\n",
       "      <th>l</th>\n",
       "      <th>b</th>\n",
       "      <th>phot_variable_flag</th>\n",
       "      <th>ref_epoch</th>\n",
       "      <th>sep</th>\n",
       "    </tr>\n",
       "  </thead>\n",
       "  <tbody>\n",
       "    <tr>\n",
       "      <th>450</th>\n",
       "      <td>4678664766393829504</td>\n",
       "      <td>64.120535</td>\n",
       "      <td>-59.302900</td>\n",
       "      <td>-47.785305</td>\n",
       "      <td>-167.805737</td>\n",
       "      <td>54.228631</td>\n",
       "      <td>4.134786</td>\n",
       "      <td>4.677203</td>\n",
       "      <td>3.446440</td>\n",
       "      <td>270.205280</td>\n",
       "      <td>-42.563208</td>\n",
       "      <td>NOT_AVAILABLE</td>\n",
       "      <td>2016.0</td>\n",
       "      <td>13.056197</td>\n",
       "    </tr>\n",
       "    <tr>\n",
       "      <th>1117</th>\n",
       "      <td>4648162939452971008</td>\n",
       "      <td>82.972777</td>\n",
       "      <td>-76.339716</td>\n",
       "      <td>135.923898</td>\n",
       "      <td>266.877143</td>\n",
       "      <td>30.595578</td>\n",
       "      <td>4.846947</td>\n",
       "      <td>5.419262</td>\n",
       "      <td>4.145401</td>\n",
       "      <td>287.920898</td>\n",
       "      <td>-30.969503</td>\n",
       "      <td>NOT_AVAILABLE</td>\n",
       "      <td>2016.0</td>\n",
       "      <td>12956.306310</td>\n",
       "    </tr>\n",
       "    <tr>\n",
       "      <th>1383</th>\n",
       "      <td>4881345510044485120</td>\n",
       "      <td>73.042113</td>\n",
       "      <td>-27.064268</td>\n",
       "      <td>164.792970</td>\n",
       "      <td>-26.528054</td>\n",
       "      <td>14.666888</td>\n",
       "      <td>8.990459</td>\n",
       "      <td>9.253589</td>\n",
       "      <td>8.549140</td>\n",
       "      <td>227.655600</td>\n",
       "      <td>-36.980548</td>\n",
       "      <td>NOT_AVAILABLE</td>\n",
       "      <td>2016.0</td>\n",
       "      <td>5568.574418</td>\n",
       "    </tr>\n",
       "    <tr>\n",
       "      <th>952</th>\n",
       "      <td>2959158391646286080</td>\n",
       "      <td>75.541346</td>\n",
       "      <td>-26.275365</td>\n",
       "      <td>85.272676</td>\n",
       "      <td>-75.731415</td>\n",
       "      <td>14.139753</td>\n",
       "      <td>4.717308</td>\n",
       "      <td>5.247188</td>\n",
       "      <td>4.037447</td>\n",
       "      <td>227.452711</td>\n",
       "      <td>-34.617756</td>\n",
       "      <td>NOT_AVAILABLE</td>\n",
       "      <td>2016.0</td>\n",
       "      <td>9585.657234</td>\n",
       "    </tr>\n",
       "    <tr>\n",
       "      <th>199</th>\n",
       "      <td>3207534529304666240</td>\n",
       "      <td>79.401547</td>\n",
       "      <td>-6.844450</td>\n",
       "      <td>-17.726698</td>\n",
       "      <td>-9.612322</td>\n",
       "      <td>6.014664</td>\n",
       "      <td>3.588380</td>\n",
       "      <td>3.592209</td>\n",
       "      <td>3.626237</td>\n",
       "      <td>208.277153</td>\n",
       "      <td>-23.960032</td>\n",
       "      <td>NOT_AVAILABLE</td>\n",
       "      <td>2016.0</td>\n",
       "      <td>7726.473151</td>\n",
       "    </tr>\n",
       "    <tr>\n",
       "      <th>589</th>\n",
       "      <td>3315870440783129600</td>\n",
       "      <td>88.110130</td>\n",
       "      <td>1.855102</td>\n",
       "      <td>-6.890414</td>\n",
       "      <td>-7.972623</td>\n",
       "      <td>2.542364</td>\n",
       "      <td>4.329378</td>\n",
       "      <td>5.027917</td>\n",
       "      <td>3.533597</td>\n",
       "      <td>204.409393</td>\n",
       "      <td>-12.222176</td>\n",
       "      <td>NOT_AVAILABLE</td>\n",
       "      <td>2016.0</td>\n",
       "      <td>13110.701522</td>\n",
       "    </tr>\n",
       "    <tr>\n",
       "      <th>1160</th>\n",
       "      <td>5495414576539584768</td>\n",
       "      <td>97.368424</td>\n",
       "      <td>-56.852623</td>\n",
       "      <td>-39.145699</td>\n",
       "      <td>32.259697</td>\n",
       "      <td>10.243845</td>\n",
       "      <td>4.879341</td>\n",
       "      <td>5.442213</td>\n",
       "      <td>4.167846</td>\n",
       "      <td>265.894071</td>\n",
       "      <td>-25.362697</td>\n",
       "      <td>NOT_AVAILABLE</td>\n",
       "      <td>2016.0</td>\n",
       "      <td>10568.559180</td>\n",
       "    </tr>\n",
       "    <tr>\n",
       "      <th>1314</th>\n",
       "      <td>5580063399781825280</td>\n",
       "      <td>98.089484</td>\n",
       "      <td>-37.697060</td>\n",
       "      <td>73.075068</td>\n",
       "      <td>-75.599406</td>\n",
       "      <td>11.469226</td>\n",
       "      <td>4.975181</td>\n",
       "      <td>5.478412</td>\n",
       "      <td>4.321864</td>\n",
       "      <td>246.041450</td>\n",
       "      <td>-19.717754</td>\n",
       "      <td>NOT_AVAILABLE</td>\n",
       "      <td>2016.0</td>\n",
       "      <td>6513.509139</td>\n",
       "    </tr>\n",
       "    <tr>\n",
       "      <th>70</th>\n",
       "      <td>2921635736292220800</td>\n",
       "      <td>105.756124</td>\n",
       "      <td>-23.833277</td>\n",
       "      <td>-1.335072</td>\n",
       "      <td>3.803012</td>\n",
       "      <td>0.871490</td>\n",
       "      <td>3.040700</td>\n",
       "      <td>3.143790</td>\n",
       "      <td>3.043702</td>\n",
       "      <td>235.554606</td>\n",
       "      <td>-8.227998</td>\n",
       "      <td>NOT_AVAILABLE</td>\n",
       "      <td>2016.0</td>\n",
       "      <td>12827.664994</td>\n",
       "    </tr>\n",
       "    <tr>\n",
       "      <th>637</th>\n",
       "      <td>3029166186781118336</td>\n",
       "      <td>115.096700</td>\n",
       "      <td>-15.264043</td>\n",
       "      <td>-2.170797</td>\n",
       "      <td>-27.677872</td>\n",
       "      <td>4.691481</td>\n",
       "      <td>4.385929</td>\n",
       "      <td>5.226631</td>\n",
       "      <td>3.502450</td>\n",
       "      <td>232.090016</td>\n",
       "      <td>3.551236</td>\n",
       "      <td>NOT_AVAILABLE</td>\n",
       "      <td>2016.0</td>\n",
       "      <td>7747.424188</td>\n",
       "    </tr>\n",
       "    <tr>\n",
       "      <th>981</th>\n",
       "      <td>5276027024288944128</td>\n",
       "      <td>124.578589</td>\n",
       "      <td>-65.613095</td>\n",
       "      <td>21.054436</td>\n",
       "      <td>21.798666</td>\n",
       "      <td>10.932361</td>\n",
       "      <td>4.743321</td>\n",
       "      <td>5.311253</td>\n",
       "      <td>4.039592</td>\n",
       "      <td>279.385994</td>\n",
       "      <td>-16.219284</td>\n",
       "      <td>NOT_AVAILABLE</td>\n",
       "      <td>2016.0</td>\n",
       "      <td>11896.974348</td>\n",
       "    </tr>\n",
       "    <tr>\n",
       "      <th>798</th>\n",
       "      <td>5314918610293463168</td>\n",
       "      <td>128.832564</td>\n",
       "      <td>-58.009117</td>\n",
       "      <td>54.775012</td>\n",
       "      <td>27.012393</td>\n",
       "      <td>14.909106</td>\n",
       "      <td>4.560734</td>\n",
       "      <td>5.076451</td>\n",
       "      <td>3.920603</td>\n",
       "      <td>273.971447</td>\n",
       "      <td>-10.383796</td>\n",
       "      <td>NOT_AVAILABLE</td>\n",
       "      <td>2016.0</td>\n",
       "      <td>12380.198244</td>\n",
       "    </tr>\n",
       "    <tr>\n",
       "      <th>1308</th>\n",
       "      <td>3063169992609073152</td>\n",
       "      <td>125.725344</td>\n",
       "      <td>-7.543094</td>\n",
       "      <td>-11.237431</td>\n",
       "      <td>6.189005</td>\n",
       "      <td>2.584901</td>\n",
       "      <td>4.973155</td>\n",
       "      <td>6.185137</td>\n",
       "      <td>3.883113</td>\n",
       "      <td>230.686782</td>\n",
       "      <td>16.437943</td>\n",
       "      <td>NOT_AVAILABLE</td>\n",
       "      <td>2016.0</td>\n",
       "      <td>2366.112300</td>\n",
       "    </tr>\n",
       "    <tr>\n",
       "      <th>1183</th>\n",
       "      <td>5746003103393673728</td>\n",
       "      <td>139.173996</td>\n",
       "      <td>-6.353131</td>\n",
       "      <td>18.861525</td>\n",
       "      <td>3.120631</td>\n",
       "      <td>9.377933</td>\n",
       "      <td>4.894355</td>\n",
       "      <td>5.485595</td>\n",
       "      <td>4.160481</td>\n",
       "      <td>237.544760</td>\n",
       "      <td>28.253419</td>\n",
       "      <td>NOT_AVAILABLE</td>\n",
       "      <td>2016.0</td>\n",
       "      <td>15218.852089</td>\n",
       "    </tr>\n",
       "    <tr>\n",
       "      <th>1072</th>\n",
       "      <td>5217948109989914624</td>\n",
       "      <td>142.900759</td>\n",
       "      <td>-73.080907</td>\n",
       "      <td>-24.297261</td>\n",
       "      <td>1.408788</td>\n",
       "      <td>4.426408</td>\n",
       "      <td>4.804707</td>\n",
       "      <td>5.717695</td>\n",
       "      <td>3.889878</td>\n",
       "      <td>289.554268</td>\n",
       "      <td>-15.641597</td>\n",
       "      <td>NOT_AVAILABLE</td>\n",
       "      <td>2016.0</td>\n",
       "      <td>9145.934371</td>\n",
       "    </tr>\n",
       "    <tr>\n",
       "      <th>1010</th>\n",
       "      <td>5239823134370969088</td>\n",
       "      <td>160.558647</td>\n",
       "      <td>-64.466375</td>\n",
       "      <td>-17.820709</td>\n",
       "      <td>11.580263</td>\n",
       "      <td>6.751642</td>\n",
       "      <td>4.757889</td>\n",
       "      <td>4.695832</td>\n",
       "      <td>4.854105</td>\n",
       "      <td>289.563395</td>\n",
       "      <td>-5.002066</td>\n",
       "      <td>NOT_AVAILABLE</td>\n",
       "      <td>2016.0</td>\n",
       "      <td>10862.801235</td>\n",
       "    </tr>\n",
       "  </tbody>\n",
       "</table>\n",
       "</div>"
      ],
      "text/plain": [
       "                SOURCE_ID          ra        dec        pmra       pmdec  \\\n",
       "450   4678664766393829504   64.120535 -59.302900  -47.785305 -167.805737   \n",
       "1117  4648162939452971008   82.972777 -76.339716  135.923898  266.877143   \n",
       "1383  4881345510044485120   73.042113 -27.064268  164.792970  -26.528054   \n",
       "952   2959158391646286080   75.541346 -26.275365   85.272676  -75.731415   \n",
       "199   3207534529304666240   79.401547  -6.844450  -17.726698   -9.612322   \n",
       "589   3315870440783129600   88.110130   1.855102   -6.890414   -7.972623   \n",
       "1160  5495414576539584768   97.368424 -56.852623  -39.145699   32.259697   \n",
       "1314  5580063399781825280   98.089484 -37.697060   73.075068  -75.599406   \n",
       "70    2921635736292220800  105.756124 -23.833277   -1.335072    3.803012   \n",
       "637   3029166186781118336  115.096700 -15.264043   -2.170797  -27.677872   \n",
       "981   5276027024288944128  124.578589 -65.613095   21.054436   21.798666   \n",
       "798   5314918610293463168  128.832564 -58.009117   54.775012   27.012393   \n",
       "1308  3063169992609073152  125.725344  -7.543094  -11.237431    6.189005   \n",
       "1183  5746003103393673728  139.173996  -6.353131   18.861525    3.120631   \n",
       "1072  5217948109989914624  142.900759 -73.080907  -24.297261    1.408788   \n",
       "1010  5239823134370969088  160.558647 -64.466375  -17.820709   11.580263   \n",
       "\n",
       "       parallax  phot_g_mean_mag  phot_bp_mean_mag  phot_rp_mean_mag  \\\n",
       "450   54.228631         4.134786          4.677203          3.446440   \n",
       "1117  30.595578         4.846947          5.419262          4.145401   \n",
       "1383  14.666888         8.990459          9.253589          8.549140   \n",
       "952   14.139753         4.717308          5.247188          4.037447   \n",
       "199    6.014664         3.588380          3.592209          3.626237   \n",
       "589    2.542364         4.329378          5.027917          3.533597   \n",
       "1160  10.243845         4.879341          5.442213          4.167846   \n",
       "1314  11.469226         4.975181          5.478412          4.321864   \n",
       "70     0.871490         3.040700          3.143790          3.043702   \n",
       "637    4.691481         4.385929          5.226631          3.502450   \n",
       "981   10.932361         4.743321          5.311253          4.039592   \n",
       "798   14.909106         4.560734          5.076451          3.920603   \n",
       "1308   2.584901         4.973155          6.185137          3.883113   \n",
       "1183   9.377933         4.894355          5.485595          4.160481   \n",
       "1072   4.426408         4.804707          5.717695          3.889878   \n",
       "1010   6.751642         4.757889          4.695832          4.854105   \n",
       "\n",
       "               l          b phot_variable_flag  ref_epoch           sep  \n",
       "450   270.205280 -42.563208      NOT_AVAILABLE     2016.0     13.056197  \n",
       "1117  287.920898 -30.969503      NOT_AVAILABLE     2016.0  12956.306310  \n",
       "1383  227.655600 -36.980548      NOT_AVAILABLE     2016.0   5568.574418  \n",
       "952   227.452711 -34.617756      NOT_AVAILABLE     2016.0   9585.657234  \n",
       "199   208.277153 -23.960032      NOT_AVAILABLE     2016.0   7726.473151  \n",
       "589   204.409393 -12.222176      NOT_AVAILABLE     2016.0  13110.701522  \n",
       "1160  265.894071 -25.362697      NOT_AVAILABLE     2016.0  10568.559180  \n",
       "1314  246.041450 -19.717754      NOT_AVAILABLE     2016.0   6513.509139  \n",
       "70    235.554606  -8.227998      NOT_AVAILABLE     2016.0  12827.664994  \n",
       "637   232.090016   3.551236      NOT_AVAILABLE     2016.0   7747.424188  \n",
       "981   279.385994 -16.219284      NOT_AVAILABLE     2016.0  11896.974348  \n",
       "798   273.971447 -10.383796      NOT_AVAILABLE     2016.0  12380.198244  \n",
       "1308  230.686782  16.437943      NOT_AVAILABLE     2016.0   2366.112300  \n",
       "1183  237.544760  28.253419      NOT_AVAILABLE     2016.0  15218.852089  \n",
       "1072  289.554268 -15.641597      NOT_AVAILABLE     2016.0   9145.934371  \n",
       "1010  289.563395  -5.002066      NOT_AVAILABLE     2016.0  10862.801235  "
      ]
     },
     "execution_count": 49,
     "metadata": {},
     "output_type": "execute_result"
    }
   ],
   "source": [
    "df_gaia_sel"
   ]
  },
  {
   "cell_type": "markdown",
   "id": "ec9c78bb-da64-4483-93f7-8083467341e2",
   "metadata": {},
   "source": [
    "### Conclusion"
   ]
  },
  {
   "cell_type": "markdown",
   "id": "94388104-ddcc-4b7b-a57d-f153abf63b1b",
   "metadata": {},
   "source": [
    "- NO WD Match a Gaia source"
   ]
  },
  {
   "cell_type": "code",
   "execution_count": 50,
   "id": "7eefaefb-f52e-41e3-8282-71ac9d7b443f",
   "metadata": {},
   "outputs": [
    {
     "ename": "AssertionError",
     "evalue": "",
     "output_type": "error",
     "traceback": [
      "\u001b[0;31m---------------------------------------------------------------------------\u001b[0m",
      "\u001b[0;31mAssertionError\u001b[0m                            Traceback (most recent call last)",
      "Cell \u001b[0;32mIn[50], line 1\u001b[0m\n\u001b[0;32m----> 1\u001b[0m \u001b[38;5;28;01massert\u001b[39;00m \u001b[38;5;28;01mFalse\u001b[39;00m\n",
      "\u001b[0;31mAssertionError\u001b[0m: "
     ]
    }
   ],
   "source": [
    "assert False"
   ]
  },
  {
   "cell_type": "markdown",
   "id": "70c67459-8e8f-439c-a9e8-5b375baa20be",
   "metadata": {},
   "source": [
    "## Filter Obervable targets according RA and magnitude and culmination angle\n",
    "$$\n",
    "HA = LST - RA\n",
    "$$\n",
    "\n",
    "where $HA$ means Hour Angle, $LST$ means Local sidereal time and $RA$ means Right ascension\n",
    "- $-6H<HA<+6H \\longrightarrow  LST-6H <RA< LST+6H $ \n",
    "- Select the target which Right-Asccention is +/- 6 hours from the sideral time\n",
    "- The culmination Hour angle at the meridian must not be less than -6H to + 6H"
   ]
  },
  {
   "cell_type": "markdown",
   "id": "edd461dd-e8d2-4eb0-b66b-d9e4108d59ab",
   "metadata": {},
   "source": [
    "#### - Criteria on Margin Angle\n",
    "\n",
    "- **Strange but I cannot have a larger margin : need to understand**"
   ]
  },
  {
   "cell_type": "code",
   "execution_count": null,
   "id": "13bb79f5-a42c-48fb-b1a1-bb11891856fd",
   "metadata": {},
   "outputs": [],
   "source": [
    "MarginAngle = Angle(6.0,u.hour)\n",
    "MarginAngle"
   ]
  },
  {
   "cell_type": "markdown",
   "id": "ff02870b-ef2c-46c9-9e10-768686c78e2b",
   "metadata": {},
   "source": [
    "$$\n",
    "RA = LST - HA(margin\\; Angle)\n",
    "$$"
   ]
  },
  {
   "cell_type": "code",
   "execution_count": null,
   "id": "275cc18e-1aa8-41ab-a6e2-d653debefce9",
   "metadata": {},
   "outputs": [],
   "source": [
    "#calculate tdege range of RA target to be visible within the MarginAngle\n",
    "#ra_min = (t_sidereal_lsst - MarginAngle).degree\n",
    "#ra_max = (t_sidereal_lsst + MarginAngle).degree\n",
    "ra_min = Longitude((t_sidereal_lsst - MarginAngle).degree,unit=u.deg)\n",
    "ra_max = Longitude((t_sidereal_lsst + MarginAngle).degree,unit=u.deg)"
   ]
  },
  {
   "cell_type": "code",
   "execution_count": null,
   "id": "5742ae68-45a2-4878-97a0-a49a29d47636",
   "metadata": {},
   "outputs": [],
   "source": [
    "ra_min"
   ]
  },
  {
   "cell_type": "code",
   "execution_count": null,
   "id": "03239c17-657f-4398-b15f-444b6e72d357",
   "metadata": {},
   "outputs": [],
   "source": [
    "ra_max"
   ]
  },
  {
   "cell_type": "code",
   "execution_count": null,
   "id": "4e6016f6-8d24-4454-9f72-67e90fb2a3f6",
   "metadata": {},
   "outputs": [],
   "source": [
    "#ra_min_angle = Angle(ra_min,u.degree)\n",
    "#ra_max_angle = Angle(ra_max,u.degree)\n",
    "ra_min_angle = Longitude(ra_min,u.degree)\n",
    "ra_max_angle = Longitude(ra_max,u.degree)\n",
    "#ra_min_angle.wrap_angle = 180 * u.deg\n",
    "#ra_max_angle.wrap_angle = 180 * u.deg"
   ]
  },
  {
   "cell_type": "code",
   "execution_count": null,
   "id": "d01b7fae-190e-4b63-bf0b-828c4b751183",
   "metadata": {},
   "outputs": [],
   "source": [
    "ra_min_angle.degree"
   ]
  },
  {
   "cell_type": "code",
   "execution_count": null,
   "id": "e01023df-220b-4283-9855-cc9ffbb5848d",
   "metadata": {},
   "outputs": [],
   "source": [
    "ra_max_angle.degree"
   ]
  },
  {
   "cell_type": "markdown",
   "id": "ae57e993-af18-4f12-8c88-1841bd2d3d7e",
   "metadata": {},
   "source": [
    "#### - Criteria on culmination angle\n",
    "\n",
    "- The culmination angle is obtained when HA = 0, then RA = LST"
   ]
  },
  {
   "cell_type": "code",
   "execution_count": null,
   "id": "2c352d5a-e23f-4bce-ab53-674fd240deee",
   "metadata": {},
   "outputs": [],
   "source": [
    "culmin_angle_min = 40"
   ]
  },
  {
   "cell_type": "markdown",
   "id": "282578cf-b12f-4c0c-ac62-cfb2bb8f8052",
   "metadata": {},
   "source": [
    "#### - Criteria on magnitude in V"
   ]
  },
  {
   "cell_type": "code",
   "execution_count": null,
   "id": "83a06a85-728a-4673-97e1-bf1314abad37",
   "metadata": {},
   "outputs": [],
   "source": [
    "magLim = 12."
   ]
  },
  {
   "cell_type": "markdown",
   "id": "181d1af9-1e7b-42ce-ba46-987b1f5b47a2",
   "metadata": {},
   "source": [
    "### Algo for the selection of the target wrt RA selection , culmination angle, "
   ]
  },
  {
   "cell_type": "code",
   "execution_count": null,
   "id": "760160de-af90-4f7f-94bc-a0ffb7c397b1",
   "metadata": {},
   "outputs": [],
   "source": [
    "latitude = latitude_lsst\n",
    "\n",
    "all_flag_select = []\n",
    "\n",
    "# numeric collections\n",
    "all_ra_angles_deg = []\n",
    "all_dec_angles_deg = []\n",
    "all_altmax_angle_deg = []\n",
    "all_zenithmin_angle_deg = []\n",
    "all_magV = []\n",
    "\n",
    "# loop on each entries in the df table to calculate angles\n",
    "for index, row in df.iterrows(): \n",
    "    target_name = row[\"Star_name\"]\n",
    "    hd_name = row[\"HD_name\"]\n",
    "    \n",
    "    # compute numeric values for ra-dec\n",
    "    ra_angle = Longitude(row['RA'],unit = u.hour) # the RA angle is a string in Sexagesimal hours\n",
    "    #ra_angle.wrap_angle = 180 * u.deg\n",
    "    \n",
    "    dec_angle = Angle(row[\"Decl\"],unit = u.deg) # the dec angle is a string in degrees \n",
    "\n",
    "    \n",
    "    # compute the culmination angle from the zenith angle\n",
    "    # North hemisphere\n",
    "    if latitude.deg >= 0:\n",
    "        if dec_angle.deg >= latitude.deg:\n",
    "            zenith_angle =   dec_angle - latitude\n",
    "        else:\n",
    "            zenith_angle = latitude - dec_angle\n",
    "    # south hemisphere\n",
    "    else:\n",
    "        if dec_angle.deg < latitude.deg :\n",
    "            zenith_angle =   latitude - dec_angle \n",
    "        else:\n",
    "            zenith_angle =   dec_angle - latitude \n",
    "        \n",
    "    culmination_angle = Angle(90.0, unit = u.deg) - zenith_angle\n",
    "\n",
    "    \n",
    "    # don't remember why I do this\n",
    "    if (index !=12) and (index !=13) and (index!= 95):\n",
    "        magV = float(row[\"V\"])\n",
    "    else:\n",
    "        if index == 12:\n",
    "            magV = 12.47\n",
    "        elif index==13:\n",
    "            magV = 13.80\n",
    "        elif index == 95:\n",
    "            magV = 17.01\n",
    "            \n",
    "             \n",
    "    all_ra_angles_deg.append(ra_angle.degree)\n",
    "    all_dec_angles_deg.append(dec_angle.degree)\n",
    "    all_altmax_angle_deg.append(culmination_angle.degree) \n",
    "    all_zenithmin_angle_deg.append(zenith_angle.degree )\n",
    "    all_magV.append(magV)\n",
    "  \n",
    "    # test on ra angle\n",
    "    #flag1 = ra_angle.is_within_bounds(ra_min_angle,ra_max_angle)\n",
    "    flag1 = CalculateBounds(ra_angle.degree,ra_min_angle.degree,ra_max_angle.degree)\n",
    "    \n",
    "    flag2 = (magV < magLim)\n",
    "    flag3 = False\n",
    "    \n",
    "    # test on culmination angle\n",
    "    if culmination_angle.degree > culmin_angle_min :\n",
    "        flag3 = True\n",
    "        \n",
    "    \n",
    "    flag = flag1 & flag2 & flag3\n",
    "    \n",
    "    if target_name == \"HD185975\":\n",
    "        # keep polar star\n",
    "        flag = True\n",
    "\n",
    "    # test on preselected names\n",
    "    if FLAG_PRESELECTION_TARGET:\n",
    "        if target_name in preselected_target_names:\n",
    "          \n",
    "            if not flag:\n",
    "                print(f\"BE CAREFULL , a rejected target {target_name} is in Pre-Selection list, PLEASE CHECK\")\n",
    "            flag =True\n",
    "        else:\n",
    "            if flag:\n",
    "                print(f\"BE CAREFULL , a good target {target_name} is not in Pre-Selection list, PLEASE CHECK\")\n",
    "            flag = False\n",
    "        \n",
    "    \n",
    "    if flag:\n",
    "        print(f\"{index}, {target_name} ({hd_name}), RA = {ra_angle.hour:.2f} , DEC = {dec_angle.degree:.2f} , RA-MIN-MAX = {ra_min_angle.deg:.1f}-{ra_max_angle.deg:.1f},zenith_angle = {zenith_angle.degree:.2f}  culmination angle = {culmination_angle.degree:.2f} , magV = {magV} , flag_select = {flag}\")\n",
    "   \n",
    "    all_flag_select.append(flag)                "
   ]
  },
  {
   "cell_type": "markdown",
   "id": "a65787d9-0e5a-475c-bc3c-164e68c09c86",
   "metadata": {},
   "source": [
    "## Add calculated numerical values to the pandas table"
   ]
  },
  {
   "cell_type": "code",
   "execution_count": null,
   "id": "5e734093-f549-4a39-95a2-6ac5549955d2",
   "metadata": {},
   "outputs": [],
   "source": [
    "df[\"ra_deg\"] = all_ra_angles_deg\n",
    "df[\"dec_deg\"] = all_dec_angles_deg \n",
    "df[\"alt_max\"] = all_altmax_angle_deg\n",
    "df[\"zenith_min\"] = all_zenithmin_angle_deg\n",
    "df[\"magV\"] = all_magV "
   ]
  },
  {
   "cell_type": "markdown",
   "id": "63fd731b-1055-46be-99b1-c05134f3f9fe",
   "metadata": {},
   "source": [
    "### Example for debug"
   ]
  },
  {
   "cell_type": "code",
   "execution_count": null,
   "id": "82f5b833-882f-4179-a317-6f4fff3bb0fa",
   "metadata": {},
   "outputs": [],
   "source": [
    "cut = df[\"Star_name\"] == \"HD205905\""
   ]
  },
  {
   "cell_type": "code",
   "execution_count": null,
   "id": "6a0d3e54-6051-4ace-a929-93caeb7aa5de",
   "metadata": {},
   "outputs": [],
   "source": [
    "df[cut]"
   ]
  },
  {
   "cell_type": "markdown",
   "id": "2d742433-d0b8-43fb-9b52-4711f9de1bc4",
   "metadata": {},
   "source": [
    "## Apply all selection cuts on RA, culmination and magnitude"
   ]
  },
  {
   "cell_type": "code",
   "execution_count": null,
   "id": "d380fc89-e36b-49bc-b949-1df35244c5e5",
   "metadata": {},
   "outputs": [],
   "source": [
    "df[\"select\"] = all_flag_select\n",
    "cut = df[\"select\"] == True\n",
    "\n",
    "t=df[cut]\n",
    "NTargets=len(t)"
   ]
  },
  {
   "cell_type": "code",
   "execution_count": null,
   "id": "67363e71-4bc2-4f55-affd-e4145f512d06",
   "metadata": {},
   "outputs": [],
   "source": [
    "t"
   ]
  },
  {
   "cell_type": "markdown",
   "id": "ef750b29-db9d-4acd-8b44-d3b78a2af1de",
   "metadata": {},
   "source": [
    "### Must reindex the table"
   ]
  },
  {
   "cell_type": "code",
   "execution_count": null,
   "id": "cb0910ca-58e1-4b07-a679-0137e553dcdf",
   "metadata": {},
   "outputs": [],
   "source": [
    "t = t.reset_index(drop=True)"
   ]
  },
  {
   "cell_type": "code",
   "execution_count": null,
   "id": "34531200-9589-4fc1-8154-cdb527b3d5b2",
   "metadata": {},
   "outputs": [],
   "source": [
    "t"
   ]
  },
  {
   "cell_type": "code",
   "execution_count": null,
   "id": "d5bddf5e-2140-4ccf-aaab-df1e23f65e91",
   "metadata": {},
   "outputs": [],
   "source": [
    "# wavelength bin colors\n",
    "jet = plt.get_cmap('jet')\n",
    "cNorm = colors.Normalize(vmin=0, vmax=NTargets)\n",
    "scalarMap = cmx.ScalarMappable(norm=cNorm, cmap=jet)\n",
    "all_colors = scalarMap.to_rgba(np.arange(NTargets), alpha=1)"
   ]
  },
  {
   "cell_type": "markdown",
   "id": "5fd1f4c8-b3ee-473c-92a5-32456d3c6577",
   "metadata": {},
   "source": [
    "## Compute Target location before computing their sky trajectory"
   ]
  },
  {
   "cell_type": "code",
   "execution_count": null,
   "id": "22b5eb2f-f596-4241-a6a5-33291df356fc",
   "metadata": {},
   "outputs": [],
   "source": [
    "all_target_names = t[\"Astroquery_Name\"]\n",
    "print(\"order in selected target location\")\n",
    "print(all_target_names)\n",
    "selected_target_locations = [ SkyCoord.from_name(target_name) for target_name in all_target_names]"
   ]
  },
  {
   "cell_type": "code",
   "execution_count": null,
   "id": "336d7aad-b10c-4360-b83f-ac3731991f65",
   "metadata": {},
   "outputs": [],
   "source": [
    "all_ra_astroquery=[]\n",
    "all_dec_astroquery=[]\n",
    "for target_loc in selected_target_locations:\n",
    "    all_ra_astroquery.append(target_loc.ra)\n",
    "    all_dec_astroquery.append(target_loc.dec)"
   ]
  },
  {
   "cell_type": "markdown",
   "id": "721d6097-1e49-4538-9692-26c0043dddec",
   "metadata": {},
   "source": [
    "## Compute target tag\n",
    "\n",
    "- the legend in the plot"
   ]
  },
  {
   "cell_type": "code",
   "execution_count": null,
   "id": "a6f6dccf-46a9-4942-a699-f09ab0de8a04",
   "metadata": {},
   "outputs": [],
   "source": [
    "all_target_simbadnames = t[\"Star_name\"]\n",
    "all_Vmag = []\n",
    "all_types = []\n",
    "all_target_tagnames = []\n",
    "for idx, target_name in enumerate(all_target_simbadnames):\n",
    "    flag_simbad = False\n",
    "    try:\n",
    "        result_table = Simbad.query_object(target_name)\n",
    "        all_Vmag.append(result_table['FLUX_V'][0])\n",
    "        all_types.append(result_table['SP_TYPE'][0])\n",
    "        \n",
    "        row = t.iloc[idx]\n",
    "        tagname =  target_name + \", m = \" + str(result_table['FLUX_V'][0]) + \", B-V = \"+ row[\"B_V\"]  + \" (\" + result_table['SP_TYPE'][0] +\")\" \n",
    "        flag_simbad = True\n",
    "    except:\n",
    "        row = t.iloc[idx]\n",
    "        tagname = row[\"Name\"] + \", B-V=\"+ row[\"B_V\"]  + \", m= \" + row[\"V\"]\n",
    "    finally:\n",
    "        \n",
    "        print(f\"{idx}) {target_name} ::{tagname} :: simbad : {flag_simbad}\")\n",
    "        all_target_tagnames.append(tagname)"
   ]
  },
  {
   "cell_type": "code",
   "execution_count": null,
   "id": "92e895e1-d543-489e-a727-df5997cfd19d",
   "metadata": {},
   "outputs": [],
   "source": [
    "result_table"
   ]
  },
  {
   "cell_type": "code",
   "execution_count": null,
   "id": "6099bc09-718c-491e-924a-e35b801f72f0",
   "metadata": {},
   "outputs": [],
   "source": [
    "all_target_tagnames"
   ]
  },
  {
   "cell_type": "code",
   "execution_count": null,
   "id": "942a02a4-3d6d-4f56-a633-d7f1ada37e8a",
   "metadata": {},
   "outputs": [],
   "source": [
    "t[\"tag\"] = all_target_tagnames"
   ]
  },
  {
   "cell_type": "markdown",
   "id": "3ed31001-2ae3-47cb-9d36-694e107f05cc",
   "metadata": {},
   "source": [
    "# Astronomical in Observation frame for each selected target"
   ]
  },
  {
   "cell_type": "markdown",
   "id": "9daa30a8-7dd1-434c-8167-0d014b46e685",
   "metadata": {},
   "source": [
    "## Initialisation "
   ]
  },
  {
   "cell_type": "code",
   "execution_count": null,
   "id": "80538780-912f-42f8-90c1-51ef6bb1bb5b",
   "metadata": {},
   "outputs": [],
   "source": [
    "utcoffset_number"
   ]
  },
  {
   "cell_type": "code",
   "execution_count": null,
   "id": "e93b8580-db2f-41c0-9275-93bc8e0f8268",
   "metadata": {
    "tags": []
   },
   "outputs": [],
   "source": [
    "night_obs_midnight_str"
   ]
  },
  {
   "cell_type": "code",
   "execution_count": null,
   "id": "1fda626d-38bf-4379-9352-8a0410a27a48",
   "metadata": {},
   "outputs": [],
   "source": [
    "# Greenwitch time at local midnight time\n",
    "midnight_utc = Time(night_obs_midnight_str) - utcoffset_number*u.hour\n",
    "delta_midnight = np.linspace(-12, 12, 1000)*u.hour\n",
    "sideral_times = Angle(t_sidereal_lsst) + Angle(delta_midnight)\n",
    "\n",
    "# utc times around local midnight\n",
    "times_evening_to_morning = midnight_utc + delta_midnight\n",
    "frame_evening_to_morning = AltAz(obstime=times_evening_to_morning, location=cerro_pachon)"
   ]
  },
  {
   "cell_type": "code",
   "execution_count": null,
   "id": "cbe2ef39-abee-4d6d-bd4d-c9f798f85a83",
   "metadata": {},
   "outputs": [],
   "source": [
    "times_evening_to_morning_datetime = times_evening_to_morning.to_datetime()"
   ]
  },
  {
   "cell_type": "markdown",
   "id": "7ddc2a29-3a3c-413a-9118-9ae911ec6bb9",
   "metadata": {},
   "source": [
    "## Sun frame"
   ]
  },
  {
   "cell_type": "code",
   "execution_count": null,
   "id": "d48907c0-f2bd-40eb-ab06-c8839756e6e2",
   "metadata": {},
   "outputs": [],
   "source": [
    "from astropy.coordinates import get_sun\n",
    "sunaltazs_evening_to_morning = get_sun(times_evening_to_morning).transform_to(frame_evening_to_morning)"
   ]
  },
  {
   "cell_type": "markdown",
   "id": "782e934f-6ca6-4972-aba8-51b8093d1c32",
   "metadata": {},
   "source": [
    "## Moon frame"
   ]
  },
  {
   "cell_type": "code",
   "execution_count": null,
   "id": "5d2dff7b-14ba-4b86-ac7a-80b11fdb3cf1",
   "metadata": {
    "tags": []
   },
   "outputs": [],
   "source": [
    "# Old version in conda_py310\n",
    "#from astropy.coordinates import get_moon\n",
    "#moon_evening_to_morning = get_moon(times_evening_to_morning)\n",
    "#moonaltazs_evening_to_morning = moon_evening_to_morning.transform_to(frame_evening_to_morning)"
   ]
  },
  {
   "cell_type": "code",
   "execution_count": null,
   "id": "fbd1e80e-239c-4845-94fa-89494a3ecc33",
   "metadata": {
    "tags": []
   },
   "outputs": [],
   "source": [
    "from astropy import coordinates"
   ]
  },
  {
   "cell_type": "markdown",
   "id": "842f4197-df4c-4d01-a693-9d4a879ca821",
   "metadata": {
    "tags": []
   },
   "source": [
    "### Get moon ephemerides\n",
    "- Checked sky trajectory at https://airmass.org/"
   ]
  },
  {
   "cell_type": "code",
   "execution_count": null,
   "id": "1b6acdee-9b2d-4a25-b396-09b6c908acfd",
   "metadata": {
    "tags": []
   },
   "outputs": [],
   "source": [
    "moon_evening_to_morning = coordinates.get_body(\"moon\",times_evening_to_morning,location=site_LSST)\n",
    "moonaltazs_evening_to_morning = moon_evening_to_morning.transform_to(frame_evening_to_morning)"
   ]
  },
  {
   "cell_type": "markdown",
   "id": "617b0eb1-8947-40db-a81b-a41739ffa80b",
   "metadata": {},
   "source": [
    "## Targets Frame"
   ]
  },
  {
   "cell_type": "code",
   "execution_count": null,
   "id": "664ebc1f-f6db-4be4-9bf6-fd203a18e0fc",
   "metadata": {},
   "outputs": [],
   "source": [
    "all_target_altazs_evening_to_morning = [target_location.transform_to(frame_evening_to_morning) for target_location in  selected_target_locations ]"
   ]
  },
  {
   "cell_type": "markdown",
   "id": "fcadc2c8-c8bd-41a8-8843-954ea6d95cbe",
   "metadata": {},
   "source": [
    "## Distance to the moon"
   ]
  },
  {
   "cell_type": "code",
   "execution_count": null,
   "id": "798b7a8a-ef2a-4427-bb05-5d051ca65ed4",
   "metadata": {},
   "outputs": [],
   "source": [
    "all_target_distancetomoon_evening_to_morning = [] \n",
    "\n",
    "num_target=0\n",
    "for idx,targetcoordinateseries in enumerate(all_target_altazs_evening_to_morning): \n",
    "    N_coord = len(targetcoordinateseries)\n",
    "    idx_coord = 0\n",
    "    all_distances_sep = []\n",
    "    for idx_coord in range(N_coord):\n",
    "        distance_sep=targetcoordinateseries[idx_coord].separation(moonaltazs_evening_to_morning[idx_coord])\n",
    "        all_distances_sep.append(distance_sep.degree)\n",
    "    all_distances_sep= np.array(all_distances_sep)\n",
    "    all_distances_sep_min = all_distances_sep.min()\n",
    "    all_target_distancetomoon_evening_to_morning.append(all_distances_sep_min) \n",
    "    all_target_tagnames[idx] += f\", d_m = {all_distances_sep_min:.0f}°\"\n",
    "    num_target+=1"
   ]
  },
  {
   "cell_type": "code",
   "execution_count": null,
   "id": "5c3fae28-e411-47b5-9fde-182211285280",
   "metadata": {},
   "outputs": [],
   "source": [
    "all_target_tagnames"
   ]
  },
  {
   "cell_type": "markdown",
   "id": "6325dbce-0100-4b59-8c84-61cd16eac0a3",
   "metadata": {},
   "source": [
    "### Update target tag"
   ]
  },
  {
   "cell_type": "code",
   "execution_count": null,
   "id": "6cedc8c4-6b1a-4a43-bc96-e0e87670f4d0",
   "metadata": {},
   "outputs": [],
   "source": [
    "t[\"tag\"] = all_target_tagnames"
   ]
  },
  {
   "cell_type": "code",
   "execution_count": null,
   "id": "4a19b0d2-1f2e-401c-81a7-973ce4b01725",
   "metadata": {},
   "outputs": [],
   "source": [
    "t"
   ]
  },
  {
   "cell_type": "markdown",
   "id": "3ae4eafa-ded3-4035-ba74-13640dc07207",
   "metadata": {},
   "source": [
    "## Sort target according increasing max culminating time"
   ]
  },
  {
   "cell_type": "code",
   "execution_count": null,
   "id": "94abc470-88f1-4626-b9df-494a47fefcc8",
   "metadata": {},
   "outputs": [],
   "source": [
    "all_timemax=np.zeros(NTargets)\n",
    "all_altitudesmax=np.zeros(NTargets)\n",
    "for idx in np.arange(NTargets):\n",
    "    altitudes=all_target_altazs_evening_to_morning[idx].alt\n",
    "    idx_max=np.where(altitudes==altitudes.max())[0][0]\n",
    "    all_timemax[idx]=delta_midnight[idx_max].value\n",
    "    all_altitudesmax[idx]=altitudes.max().degree"
   ]
  },
  {
   "cell_type": "code",
   "execution_count": null,
   "id": "eadce3a7-a87a-4b82-93e6-f0be07ccad58",
   "metadata": {},
   "outputs": [],
   "source": [
    "all_altitudesmax"
   ]
  },
  {
   "cell_type": "code",
   "execution_count": null,
   "id": "f8af5476-c83d-4105-a955-a11d3d407a4e",
   "metadata": {},
   "outputs": [],
   "source": [
    "t[\"tmax\"] = all_timemax"
   ]
  },
  {
   "cell_type": "code",
   "execution_count": null,
   "id": "4da15e1a-96ca-4fcc-a348-97e5be21bbb0",
   "metadata": {},
   "outputs": [],
   "source": [
    "all_timemax"
   ]
  },
  {
   "cell_type": "code",
   "execution_count": null,
   "id": "f7dee73e-b64b-4586-b3fd-2a27e3e40a13",
   "metadata": {},
   "outputs": [],
   "source": [
    "rank = np.argsort(all_timemax)\n",
    "rank"
   ]
  },
  {
   "cell_type": "code",
   "execution_count": null,
   "id": "37af2e80-03e0-4986-bea7-b4808cb737a4",
   "metadata": {},
   "outputs": [],
   "source": [
    "rankinv = np.argsort(rank)\n",
    "rankinv"
   ]
  },
  {
   "cell_type": "code",
   "execution_count": null,
   "id": "68496db5-3422-41f3-bf5e-ebbed41216b4",
   "metadata": {},
   "outputs": [],
   "source": [
    "#t.index[rank]"
   ]
  },
  {
   "cell_type": "code",
   "execution_count": null,
   "id": "4f1c7a38-6660-4ed5-a23f-a280967d88e0",
   "metadata": {},
   "outputs": [],
   "source": [
    "t[\"rank_tmax\"] = rankinv # rank in time\n",
    "t[\"rank_num\"] = np.arange(NTargets) # rank in original table"
   ]
  },
  {
   "cell_type": "code",
   "execution_count": null,
   "id": "3594bc2f-c268-4fb9-adea-a51ab238aade",
   "metadata": {},
   "outputs": [],
   "source": [
    "#t = t.sort_values(by = ['tmax'])"
   ]
  },
  {
   "cell_type": "markdown",
   "id": "0dd6828b-e468-4129-a61b-59d996c2c0a7",
   "metadata": {},
   "source": [
    "### Must reindex dataframe for loop on targets (in sorting order)"
   ]
  },
  {
   "cell_type": "code",
   "execution_count": null,
   "id": "1d9858fa-3fc1-45b7-89ec-31dd20c0f95f",
   "metadata": {},
   "outputs": [],
   "source": [
    "#t.reset_index(inplace=True)"
   ]
  },
  {
   "cell_type": "code",
   "execution_count": null,
   "id": "54cb0137-6e57-4140-863a-2a273e6448b4",
   "metadata": {},
   "outputs": [],
   "source": [
    "t"
   ]
  },
  {
   "cell_type": "markdown",
   "id": "67a606cf-8ec8-439b-98b9-76fba2b771e6",
   "metadata": {},
   "source": [
    "# Plot"
   ]
  },
  {
   "cell_type": "code",
   "execution_count": null,
   "id": "2353baec-360b-4df5-817d-7339c65f59f9",
   "metadata": {},
   "outputs": [],
   "source": [
    "all_target_names = t[\"Star_name\"].values\n",
    "all_target_names"
   ]
  },
  {
   "cell_type": "code",
   "execution_count": null,
   "id": "f2122726-bee6-4a4a-92e7-3c1fd0c12be1",
   "metadata": {},
   "outputs": [],
   "source": [
    "fig = plt.figure(figsize=(18,12),layout=\"constrained\")\n",
    "\n",
    "\n",
    "# First Axis : target sky trajectories\n",
    "# ====================================\n",
    "ax=fig.add_subplot(1,1,1)\n",
    "\n",
    "# plot sun\n",
    "ax.plot(delta_midnight, sunaltazs_evening_to_morning.alt, color='r', ls=\":\",label='Sun',lw=5)\n",
    "#plot moon\n",
    "ax.plot(delta_midnight, moonaltazs_evening_to_morning.alt, color=[0.75]*3, ls='--', label='Moon',lw=5)\n",
    "\n",
    "\n",
    "# loop on selected targets in pandas dataframe t according rank order\n",
    "for index in range(NTargets):\n",
    "    \n",
    "    # select the good row in pandas dataframe from time ordering\n",
    "    row = (t[t[\"rank_tmax\"] == index]).iloc[0]\n",
    "    \n",
    "\n",
    "    # get its tag\n",
    "    label = str(index+1) + \") : \" + row[\"tag\"]\n",
    "    \n",
    "    # rank in all_target_altazs_evening_to_morning table\n",
    "    rank_num = row[\"rank_num\"]\n",
    "    tmax = row[\"tmax\"]\n",
    "    altmax = row[\"alt_max\"]\n",
    "    \n",
    "    \n",
    "  \n",
    "    # plot trajectory\n",
    "    ax.plot(delta_midnight, all_target_altazs_evening_to_morning[rank_num].alt,label=label, lw=2.5,color=all_colors[index])\n",
    "\n",
    "    # plot label\n",
    "    if all_target_altazs_evening_to_morning[rank_num].alt[-1]>0:\n",
    "        ax.text(delta_midnight[-1], all_target_altazs_evening_to_morning[rank_num].alt[-1], f'{index+1}',color=all_colors[index],fontsize=20)\n",
    "    if all_target_altazs_evening_to_morning[rank_num].alt[0]>0:\n",
    "        ax.text(delta_midnight[0], all_target_altazs_evening_to_morning[rank_num].alt[0], f'{index+1}',color=all_colors[index],fontsize=20)\n",
    "    if altmax>0 :\n",
    "        ax.text(tmax, altmax, f'{index+1}',color=all_colors[index],fontsize=20)\n",
    "    \n",
    "\n",
    "\n",
    "ax.fill_between(delta_midnight, 0*u.deg, 90*u.deg,sunaltazs_evening_to_morning.alt < -0*u.deg, color='0.5', zorder=0)\n",
    "ax.fill_between(delta_midnight, 0*u.deg, 90*u.deg,sunaltazs_evening_to_morning.alt < -18*u.deg, color='k', zorder=0)\n",
    "\n",
    "ax.legend(loc='upper right')\n",
    "ax.set_xlim(-12*u.hour, 12*u.hour)\n",
    "ax.set_xticks((np.arange(13)*2-12)*u.hour)\n",
    "ax.set_ylim(0*u.deg, 90*u.deg)\n",
    "ax.set_xlabel('Hours from Midnight local time')\n",
    "ax.set_ylabel('Altitude [deg]')\n",
    "ax.grid(None)\n",
    "tick_spacing = 1\n",
    "ax.xaxis.set_major_locator(ticker.MultipleLocator(tick_spacing))\n",
    "title = \"Observations at AuxTel at night \" + night_obs_str.split(\" \")[0]\n",
    "ax.set_title(title)\n",
    "#for label in ax.get_xticklabels(which='major'):\n",
    "#    label.set(rotation=30, horizontalalignment='right')\n",
    "\n",
    "\n",
    "# second horizontal axis : Sideral time axis\n",
    "# ==========================================\n",
    "ax2 = ax.twiny()\n",
    "ax2.plot([sideral_times[0].hour,sideral_times[-1].hour],[0,0])\n",
    "ax2.set_xlabel(\"sideral time (hour)\")\n",
    "ax2.xaxis.set_major_locator(ticker.MultipleLocator(tick_spacing))\n",
    "ax2.grid(None)\n",
    "\n",
    "# third horizontal axis : UTC time axis\n",
    "# =====================================\n",
    "\n",
    "ax3 = ax.twiny()\n",
    "# Move twinned axis ticks and label from top to bottom\n",
    "ax3.xaxis.set_ticks_position(\"bottom\")\n",
    "ax3.xaxis.set_label_position(\"bottom\")\n",
    "# Offset the twin axis below the host\n",
    "offset = -0.12\n",
    "ax3.spines[\"bottom\"].set_position((\"axes\", offset))\n",
    "\n",
    "ax3.set_frame_on(True)\n",
    "ax3.patch.set_visible(False) # mandatory\n",
    "for sp in ax3.spines.values():\n",
    "    sp.set_visible(False)\n",
    "ax3.spines[\"bottom\"].set_visible(True)\n",
    "#fmt = '%m/%d %H:%M'\n",
    "fmt = '%H:%M'\n",
    "plt.gca().xaxis.set_major_formatter(mdates.DateFormatter(fmt))\n",
    "ax3.xaxis.set_major_locator(mdates.HourLocator(interval=1))\n",
    "\n",
    "curvetoremove, = ax3.plot_date(times_evening_to_morning_datetime, sunaltazs_evening_to_morning.alt, color='r', ls=\":\",lw=0)\n",
    "curvetoremove.remove()\n",
    "ax3.set_xlim(times_evening_to_morning_datetime[0], times_evening_to_morning_datetime[-1])\n",
    "\n",
    "\n",
    "\n",
    "ax3.tick_params(which='major', width=1.00, length=5)\n",
    "ax3.tick_params(which='minor', width=0.75, length=2.5)\n",
    "ax3.grid(True)\n",
    "#plt.gcf().autofmt_xdate()  # orient date labels at a slant\n",
    "# slant for this axis\n",
    "for label in ax3.get_xticklabels(which='major'):\n",
    "    label.set(rotation=30, horizontalalignment='right')\n",
    "\n",
    "ax3.set_xlabel(\"UTC Time\")\n",
    "\n",
    "if FLAG_PRESELECTION_TARGET: \n",
    "    figname=\"AuxtelStarAlt_preselectedcalspec{:4d}_{:d}_{:d}.png\".format(NYEAR,NMONTH,NDAY)\n",
    "else:\n",
    "    figname=\"AuxtelStarAlt_visiblecalspec{:4d}_{:d}_{:d}.png\".format(NYEAR,NMONTH,NDAY)\n",
    "\n",
    "plt.tight_layout()\n",
    "plt.savefig(figname)\n",
    "\n",
    "plt.show()"
   ]
  },
  {
   "cell_type": "markdown",
   "id": "e41d2a28-a2ae-42fc-961f-0733a698e5d4",
   "metadata": {},
   "source": [
    "# To plot in staralt\n",
    "\n",
    "https://www.ing.iac.es//Astronomy/telescopes/wht/catformat.html"
   ]
  },
  {
   "cell_type": "code",
   "execution_count": null,
   "id": "13fc2ada-7d46-43c8-b6d1-bbced1767cc9",
   "metadata": {},
   "outputs": [],
   "source": [
    "t_staralt = t[[\"Star_name\",\"RA\",\"Decl\",\"rank_tmax\"]]\n",
    "t_staralt[\"equinox\"] = np.full(NTargets,\"J2000\")\n",
    "t_staralt = t_staralt.sort_values(by = ['rank_tmax'])\n",
    "t_staralt = t_staralt.drop(['rank_tmax'], axis=1)"
   ]
  },
  {
   "cell_type": "code",
   "execution_count": null,
   "id": "9d150a78-3bdb-4faa-a1b5-04e7a84724b3",
   "metadata": {},
   "outputs": [],
   "source": [
    "t_staralt"
   ]
  },
  {
   "cell_type": "code",
   "execution_count": null,
   "id": "302f4b5c-bac8-41db-88ff-a0ae1f778275",
   "metadata": {},
   "outputs": [],
   "source": [
    "t_staralt.to_csv(\"staralt.csv\",index=False,header=False, sep = \" \")"
   ]
  },
  {
   "cell_type": "code",
   "execution_count": null,
   "id": "984037c8-fa5e-41b7-bb1e-5789b34964cc",
   "metadata": {},
   "outputs": [],
   "source": [
    "! cat staralt.csv"
   ]
  },
  {
   "cell_type": "markdown",
   "id": "25045fc8-76be-42e6-b79a-5a811795f87a",
   "metadata": {},
   "source": [
    "# Spheric plot"
   ]
  },
  {
   "cell_type": "code",
   "execution_count": null,
   "id": "68d4c9da-e3ee-423b-a018-260d9478527f",
   "metadata": {},
   "outputs": [],
   "source": [
    "def makePolarPlot(azimuthsInDegrees, zenithAngles, marker=\".\",ax=None,\n",
    "                       title=None, color=None, objName=None,lw=0.5):\n",
    "    if ax==None:\n",
    "        _ = plt.figure(figsize=(20, 10))\n",
    "        ax = plt.subplot(111, polar=True)\n",
    "        \n",
    "    ax.plot([a*np.pi/180 for a in azimuthsInDegrees], zenithAngles, marker, c=color, label=objName,lw=lw)\n",
    "    if title:\n",
    "        ax.set_title(title, va='bottom')\n",
    "    ax.set_theta_zero_location(\"N\")\n",
    "    ax.set_theta_direction(-1)\n",
    "    ax.set_rlim(0, 90)\n",
    "    return ax"
   ]
  },
  {
   "cell_type": "code",
   "execution_count": null,
   "id": "c825e1de-36ff-41a7-b0b0-784c4b9fc11e",
   "metadata": {},
   "outputs": [],
   "source": [
    "_ = plt.figure(figsize=(20, 10))\n",
    "\n",
    "ax = plt.subplot(111, polar=True)\n",
    "\n",
    "\n",
    "darkTimeIndex=[sunaltazs_evening_to_morning.alt < -18*u.deg][0]\n",
    "\n",
    "# compute zenith and azimuth angles\n",
    "moon_azimuthsInDegrees = Angle(moonaltazs_evening_to_morning.az).deg\n",
    "moon_zenithAngles = Angle(moonaltazs_evening_to_morning.zen).deg\n",
    "\n",
    "#ax=makePolarPlot(moon_azimuthsInDegrees, moon_zenithAngles,ax=ax, marker=\"--\",color=\"y\", title = None, lw=1)\n",
    "\n",
    "moon_azimuthsInDegreesNight=moon_azimuthsInDegrees[darkTimeIndex]\n",
    "moon_zenithAnglesNight=moon_zenithAngles[darkTimeIndex]\n",
    "ax=makePolarPlot(moon_azimuthsInDegreesNight, moon_zenithAnglesNight,ax=ax ,marker=\"*-\",title=None, color = \"y\",objName=\"Moon\",lw=10)\n",
    "\n",
    "    \n",
    "# loop on selected targets in pandas dataframe t according rank order\n",
    "for index in range(NTargets):\n",
    "    \n",
    "    # select the good row in pandas dataframe from time ordering\n",
    "    row = (t[t[\"rank_tmax\"] == index]).iloc[0]\n",
    "    \n",
    "\n",
    "    # get its tag\n",
    "    label = str(index+1) + \") : \" + row[\"tag\"]\n",
    "    \n",
    "    # rank in all_target_altazs_evening_to_morning table\n",
    "    rank_num = row[\"rank_num\"]\n",
    "    tmax = row[\"tmax\"]\n",
    "    altmax = row[\"alt_max\"]\n",
    "    \n",
    "    \n",
    "    \n",
    "    \n",
    "    \n",
    "    # compute zenith and azimuth angles\n",
    "    azimuthsInDegrees=Angle(all_target_altazs_evening_to_morning[rank_num].az).deg\n",
    "    zenithAngles = Angle(all_target_altazs_evening_to_morning[rank_num].zen).deg\n",
    "    \n",
    "    ax=makePolarPlot(azimuthsInDegrees, zenithAngles,ax=ax, marker=\"-\",title=None, color=all_colors[index], lw=0.5)\n",
    "    \n",
    "    azimuthsInDegreesNight=azimuthsInDegrees[darkTimeIndex]\n",
    "    zenithAnglesNight=zenithAngles[darkTimeIndex]\n",
    "    ax=makePolarPlot(azimuthsInDegreesNight, zenithAnglesNight,ax=ax ,marker=\"*-\",title=None, color=all_colors[index],objName=label,lw=0.5)\n",
    "    \n",
    "    thex=zenithAnglesNight[0]*np.sin( (azimuthsInDegreesNight[0]) *np.pi/180.)\n",
    "    they=zenithAnglesNight[0]*np.cos( (azimuthsInDegreesNight[0])*np.pi/180.)\n",
    "   \n",
    "    #plt.text(thex, they,f'{rank}',color=all_colors[rank],fontsize=20)\n",
    "    \n",
    " \n",
    "ax.legend(bbox_to_anchor=(1.08, 1), prop={'size': 15}, loc='upper left')\n",
    "ax.set_theta_zero_location(\"N\")\n",
    "ax.set_theta_direction(-1)\n",
    "ax.set_rlim(0, 90)\n",
    "ax.set_xticklabels(['N', '', 'E', '', 'S', '', 'W', ''])\n",
    "title = \"Observations at AuxTel at night \" + night_obs_str.split(\" \")[0]\n",
    "ax.set_title(title)"
   ]
  },
  {
   "cell_type": "code",
   "execution_count": null,
   "id": "5e60178c-b9e2-4b3d-998d-835160aca977",
   "metadata": {},
   "outputs": [],
   "source": []
  },
  {
   "cell_type": "markdown",
   "id": "0e71789f-04b1-491c-b52c-81c0748fd70b",
   "metadata": {},
   "source": [
    "# Spectra"
   ]
  },
  {
   "cell_type": "code",
   "execution_count": null,
   "id": "8bc37f2b-698f-48ad-8861-37d2f0b5f0f1",
   "metadata": {},
   "outputs": [],
   "source": [
    "from getCalspec.getCalspec import *"
   ]
  },
  {
   "cell_type": "code",
   "execution_count": null,
   "id": "fc547a40-a939-4342-912e-1dcf7688881c",
   "metadata": {},
   "outputs": [],
   "source": [
    "plt.rcParams[\"figure.figsize\"]=(8,4)"
   ]
  },
  {
   "cell_type": "code",
   "execution_count": null,
   "id": "57a5006d-e883-4afb-9964-de9a0ee83078",
   "metadata": {},
   "outputs": [],
   "source": [
    "NTargets"
   ]
  },
  {
   "cell_type": "code",
   "execution_count": null,
   "id": "9e0220c0-e318-4994-83af-e28db0df9e97",
   "metadata": {},
   "outputs": [],
   "source": [
    "ncols = 2\n",
    "\n",
    "if NTargets % ncols == 0:\n",
    "    nrows = NTargets//ncols+1\n",
    "else:\n",
    "    nrows = int(np.floor(NTargets/ncols))+1"
   ]
  },
  {
   "cell_type": "code",
   "execution_count": null,
   "id": "aa7f7c21-0222-4e61-9d66-2fad6a15be7c",
   "metadata": {},
   "outputs": [],
   "source": [
    "nrows"
   ]
  },
  {
   "cell_type": "code",
   "execution_count": null,
   "id": "bca57b23-d35f-4d72-9602-419e7a8de0a8",
   "metadata": {},
   "outputs": [],
   "source": [
    "XMIN = 300.\n",
    "XMAX = 1100."
   ]
  },
  {
   "cell_type": "code",
   "execution_count": null,
   "id": "4e684ef5-1312-4f2f-a79d-6d5f4601d901",
   "metadata": {},
   "outputs": [],
   "source": [
    "fig, axes= plt.subplots(nrows=nrows,ncols=ncols,sharex=False,figsize=(16,20), layout='constrained')\n",
    "\n",
    "# loop on selected targets in pandas dataframe t according rank order\n",
    "all_wl = []\n",
    "all_fl = []\n",
    "all_obj= []\n",
    "\n",
    "for index, ax in enumerate(axes.flat):\n",
    "    \n",
    "    if index < NTargets:\n",
    "    \n",
    "        # select the good row in pandas dataframe from time ordering\n",
    "        row = (t[t[\"rank_tmax\"] == index]).iloc[0]\n",
    "    \n",
    "\n",
    "        # get its tag\n",
    "        label = str(index+1) + \") : \" + row[\"tag\"]\n",
    "    \n",
    "        # rank in all_target_altazs_evening_to_morning table\n",
    "        target_name = row[\"Star_name\"]\n",
    "    \n",
    "        test = is_calspec(target_name)\n",
    "    \n",
    "        if test:\n",
    "        \n",
    "            c = Calspec(target_name)\n",
    "            c.get_spectrum_fits_filename()  # download the fits file\n",
    "            tab = c.get_spectrum_table()  # download and return an Astropy table\n",
    "            arr = c.get_spectrum_numpy()  # download and return a dictionnary of numpy arrays with units\n",
    "            #c.plot_spectrum()  # download and plot the spectrum\n",
    "            \n",
    "            wl = arr['WAVELENGTH'].to_value()/10.\n",
    "            fl = arr['FLUX'].to_value()*10.\n",
    "            \n",
    "            indexes = np.where(np.logical_and(wl>=XMIN,wl<=XMAX))[0]\n",
    "            \n",
    "            wl = wl[indexes]\n",
    "            fl = fl[indexes]\n",
    "            ax.plot(wl,fl,\"-\",color=all_colors[index],label=label)\n",
    "            ax.set_yscale(\"log\")\n",
    "            title = f\"{index+1}) : {target_name}\"\n",
    "            ax.set_title(title)\n",
    "            ax.legend()\n",
    "            ax.set_xlim(XMIN,XMAX)\n",
    "            \n",
    "            all_wl.append(wl)\n",
    "            all_fl.append(fl)\n",
    "            all_obj.append(title)\n",
    "        else:\n",
    "            print(f\"{target_name} NOT A CALSPEC\")\n",
    "    else:\n",
    "        if index == NTargets:\n",
    "            for j in range(NTargets):\n",
    "                ax.plot(all_wl[j], all_fl[j],'-',color=all_colors[j],label=all_obj[j] )\n",
    "            ax.set_yscale(\"log\")\n",
    "            ax.legend()\n",
    "            ax.set_xlim(XMIN,XMAX)\n",
    "#plt.tight_layout()            "
   ]
  },
  {
   "cell_type": "code",
   "execution_count": null,
   "id": "62925033-7f31-406d-b19d-f8bb629d9158",
   "metadata": {},
   "outputs": [],
   "source": [
    "fig, ax = plt.subplots(nrows=1,ncols=1,figsize=(16,10))\n",
    "\n",
    "for j in range(NTargets):\n",
    "    ax.plot(all_wl[j], all_fl[j],'-',color=all_colors[j],label=all_obj[j] )\n",
    "    ax.set_yscale(\"log\")\n",
    "    ax.legend()\n",
    "    ax.set_xlim(XMIN,XMAX)\n",
    "title = \"Possible target spectra at AuxTel for night \" + night_obs_str.split(\" \")[0]\n",
    "ax.set_title(title) \n",
    "ax.set_xlabel(\"$\\\\lambda$ (nm)\")\n",
    "ax.set_ylabel(\"FLAM\")"
   ]
  },
  {
   "cell_type": "markdown",
   "id": "f30a8c99-c509-4640-a7e5-21e5c6b7be54",
   "metadata": {},
   "source": [
    "## Choose spectra\n",
    "\n",
    "- **Select by hands the target one want to select**"
   ]
  },
  {
   "cell_type": "code",
   "execution_count": null,
   "id": "dda1ae6e-4050-467c-b43a-753e9319c6c4",
   "metadata": {},
   "outputs": [],
   "source": [
    "index_chosen_spectra = np.array([10,12,15]) -1"
   ]
  },
  {
   "cell_type": "code",
   "execution_count": null,
   "id": "e471b64a-274a-4326-8daa-d18727425ff8",
   "metadata": {},
   "outputs": [],
   "source": [
    "fig = plt.figure(figsize=(18,12),layout=\"constrained\")\n",
    "ax=fig.add_subplot(1,1,1)\n",
    "\n",
    "\n",
    "# First Axis : target sky trajectories\n",
    "# ====================================\n",
    "\n",
    "# plot sun\n",
    "ax.plot(delta_midnight, sunaltazs_evening_to_morning.alt, color='r', ls=\":\",label='Sun',lw=5)\n",
    "#plot moon\n",
    "ax.plot(delta_midnight, moonaltazs_evening_to_morning.alt, color=[0.75]*3, ls='--', label='Moon',lw=5)\n",
    "\n",
    "\n",
    "# loop on selected targets in pandas dataframe t according rank order\n",
    "for index in range(NTargets):\n",
    "    \n",
    "    if index not in index_chosen_spectra:\n",
    "        continue\n",
    "    \n",
    "    # select the good row in pandas dataframe from time ordering\n",
    "    row = (t[t[\"rank_tmax\"] == index]).iloc[0]\n",
    "    \n",
    "\n",
    "    # get its tag\n",
    "    label = str(index+1) + \") : \" + row[\"tag\"]\n",
    "    \n",
    "    # rank in all_target_altazs_evening_to_morning table\n",
    "    rank_num = row[\"rank_num\"]\n",
    "    tmax = row[\"tmax\"]\n",
    "    altmax = row[\"alt_max\"]\n",
    "    \n",
    "    \n",
    "  \n",
    "    # plot trajectory\n",
    "    ax.plot(delta_midnight, all_target_altazs_evening_to_morning[rank_num].alt,label=label, lw=2.5,color=all_colors[index])\n",
    "\n",
    "    # plot label\n",
    "    if all_target_altazs_evening_to_morning[rank_num].alt[-1]>0:\n",
    "        ax.text(delta_midnight[-1], all_target_altazs_evening_to_morning[rank_num].alt[-1], f'{index+1}',color=all_colors[index],fontsize=20)\n",
    "    if all_target_altazs_evening_to_morning[rank_num].alt[0]>0:\n",
    "        ax.text(delta_midnight[0], all_target_altazs_evening_to_morning[rank_num].alt[0], f'{index+1}',color=all_colors[index],fontsize=20)\n",
    "    if altmax>0 :\n",
    "        ax.text(tmax, altmax, f'{index+1}',color=all_colors[index],fontsize=20)\n",
    "    \n",
    "\n",
    "\n",
    "ax.fill_between(delta_midnight, 0*u.deg, 90*u.deg,sunaltazs_evening_to_morning.alt < -0*u.deg, color='0.5', zorder=0)\n",
    "ax.fill_between(delta_midnight, 0*u.deg, 90*u.deg,sunaltazs_evening_to_morning.alt < -18*u.deg, color='k', zorder=0)\n",
    "\n",
    "ax.legend(loc='upper right')\n",
    "ax.set_xlim(-12*u.hour, 12*u.hour)\n",
    "ax.set_xticks((np.arange(13)*2-12)*u.hour)\n",
    "ax.set_ylim(0*u.deg, 90*u.deg)\n",
    "ax.set_xlabel('Hours from Midnight local time')\n",
    "ax.set_ylabel('Altitude [deg]')\n",
    "ax.grid(None)\n",
    "tick_spacing = 1\n",
    "ax.xaxis.set_major_locator(ticker.MultipleLocator(tick_spacing))\n",
    "title = \"Observations at AuxTel at night \" + night_obs_str.split(\" \")[0]\n",
    "ax.set_title(title)\n",
    "\n",
    "\n",
    "#Second axis : Sideral time axis\n",
    "# ==============================\n",
    "\n",
    "ax2 = ax.twiny()\n",
    "ax2.plot([sideral_times[0].hour,sideral_times[-1].hour],[0,0])\n",
    "ax2.set_xlabel(\"sideral time (hour)\")\n",
    "ax2.xaxis.set_major_locator(ticker.MultipleLocator(tick_spacing))\n",
    "ax2.grid(None)\n",
    "\n",
    "\n",
    "# Third horizontal axis : UTC time\n",
    "# ================================\n",
    "\n",
    "ax3 = ax.twiny()\n",
    "# Move twinned axis ticks and label from top to bottom\n",
    "ax3.xaxis.set_ticks_position(\"bottom\")\n",
    "ax3.xaxis.set_label_position(\"bottom\")\n",
    "# Offset the twin axis below the host\n",
    "offset = -0.12\n",
    "ax3.spines[\"bottom\"].set_position((\"axes\", offset))\n",
    "\n",
    "ax3.set_frame_on(True)\n",
    "ax3.patch.set_visible(False) # mandatory\n",
    "for sp in ax3.spines.values():\n",
    "    sp.set_visible(False)\n",
    "ax3.spines[\"bottom\"].set_visible(True)\n",
    "#fmt = '%m/%d %H:%M'\n",
    "fmt = '%H:%M'\n",
    "plt.gca().xaxis.set_major_formatter(mdates.DateFormatter(fmt))\n",
    "ax3.xaxis.set_major_locator(mdates.HourLocator(interval=1))\n",
    "\n",
    "curvetoremove, = ax3.plot_date(times_evening_to_morning_datetime, sunaltazs_evening_to_morning.alt, color='r', ls=\":\",lw=0)\n",
    "curvetoremove.remove()\n",
    "ax3.set_xlim(times_evening_to_morning_datetime[0], times_evening_to_morning_datetime[-1])\n",
    "\n",
    "ax3.tick_params(which='major', width=1.50, length=5)\n",
    "ax3.tick_params(which='minor', width=0.75, length=2.5)\n",
    "ax3.grid(True)\n",
    "# rotation of labels\n",
    "for label in ax3.get_xticklabels(which='major'):\n",
    "    label.set(rotation=30, horizontalalignment='right')\n",
    "ax3.set_xlabel(\"UTC Time\")\n",
    "\n",
    "plt.tight_layout()\n",
    "\n",
    "figname=\"AuxtelStarAlt_CalspecSpectraSelected{:4d}_{:d}_{:d}.png\".format(NYEAR,NMONTH,NDAY)\n",
    "\n",
    "plt.savefig(figname)\n",
    "plt.show()"
   ]
  },
  {
   "cell_type": "code",
   "execution_count": null,
   "id": "729f51aa-7d71-48b0-afd2-dc56ae8b6819",
   "metadata": {},
   "outputs": [],
   "source": []
  }
 ],
 "metadata": {
  "kernelspec": {
   "display_name": "conda_py313",
   "language": "python",
   "name": "conda_py313"
  },
  "language_info": {
   "codemirror_mode": {
    "name": "ipython",
    "version": 3
   },
   "file_extension": ".py",
   "mimetype": "text/x-python",
   "name": "python",
   "nbconvert_exporter": "python",
   "pygments_lexer": "ipython3",
   "version": "3.13.1"
  }
 },
 "nbformat": 4,
 "nbformat_minor": 5
}
