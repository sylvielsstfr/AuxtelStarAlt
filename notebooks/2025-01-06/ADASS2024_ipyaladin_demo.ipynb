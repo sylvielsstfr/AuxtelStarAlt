{
 "cells": [
  {
   "cell_type": "markdown",
   "id": "ed0ba77f-7b51-4827-91b1-96ae40e724aa",
   "metadata": {},
   "source": [
    "# ADASS 2024 Demonstration\n",
    "Manon Marchand$^1$\n",
    "\n",
    "1. Strasbourg Astronomical Data Centre (CDS)\n",
    "\n",
    "This notebook follows the presentation given during ADASS 2024 conference in Malta, on November 14.\n",
    "You can run it by installing the packages described in the file `requirements.txt`:\n",
    "\n",
    "`pip install -r requirements.txt`\n",
    "\n",
    "---\n",
    "\n",
    "Let's import `ipyaladin` (the star of the show) and `sidecar` (to pop ipyaladin on the side of the notebook rather than in between cells):\n"
   ]
  },
  {
   "cell_type": "code",
   "execution_count": 1,
   "id": "d2113c50-1bc6-47be-882b-17218cf17b54",
   "metadata": {},
   "outputs": [],
   "source": [
    "from ipyaladin import Aladin\n",
    "from sidecar import Sidecar"
   ]
  },
  {
   "cell_type": "markdown",
   "id": "7c6522b2-9214-41ab-8153-28f7b9bafaf1",
   "metadata": {},
   "source": [
    "## 1. Instantiation on the side of the notebook\n",
    "\n",
    "This will only work in JupyterLab. For other notebooks platforms, reach their documentation to see how/wether this can be done."
   ]
  },
  {
   "cell_type": "code",
   "execution_count": 2,
   "id": "78ffa525-940a-4ecb-b298-1b82e46899d1",
   "metadata": {},
   "outputs": [],
   "source": [
    "aladin = Aladin()\n",
    "with Sidecar(title=\"aladin_output\"):\n",
    "    display(aladin)"
   ]
  },
  {
   "cell_type": "markdown",
   "id": "e8e14fe3-19fe-4a36-977d-a8883256610c",
   "metadata": {},
   "source": [
    "Now that the widget is opened on the side, we can resize the window as needed.\n",
    "The view can be zoomed in and out, or panned. This is a fully functionnal [Aladin Lite](https://github.com/cds-astro/aladin-lite) instance!\n",
    "\n",
    "## 2. Communication between python and ipyaladin\n",
    "\n",
    "The added benefit here is that it is connected to the python kernel. We can send information from `ipyaladin` to Python and *vice-versa*."
   ]
  },
  {
   "cell_type": "code",
   "execution_count": 12,
   "id": "8bec13cd-eb84-4b2e-9b44-bb138bb1c323",
   "metadata": {},
   "outputs": [],
   "source": [
    "aladin.target = \"M1\""
   ]
  },
  {
   "cell_type": "markdown",
   "id": "89bf8f80-b2fa-4a36-a29f-98a4aa57c864",
   "metadata": {},
   "source": [
    "We sent the string \"M1\" and the center of the view centered on the Crab Nebulae. If you cannot see it, try zooming in and out.\n",
    "\n",
    "But `ipyaladin` can also receive some `astropy`-specific objects... and this is the whole subject of this demonstration!\n",
    "\n",
    "## 3. Astropy SkyCoords and Angle\n",
    "\n",
    "Let's start by sending a `astropy.coordinates.SkyCoord` object instead of a string:"
   ]
  },
  {
   "cell_type": "code",
   "execution_count": 4,
   "id": "06ac3695-0c71-47df-9664-76d97837a149",
   "metadata": {},
   "outputs": [],
   "source": [
    "from astropy.coordinates import SkyCoord"
   ]
  },
  {
   "cell_type": "code",
   "execution_count": 5,
   "id": "1a4745dc-11da-4a8b-aeb5-ff0e1832a4b3",
   "metadata": {},
   "outputs": [],
   "source": [
    "coo_perseus = SkyCoord.from_name(\"Perseus Cluster\")"
   ]
  },
  {
   "cell_type": "code",
   "execution_count": 6,
   "id": "6189be93-28fd-4cf3-b9a1-ce58bfdb7aff",
   "metadata": {},
   "outputs": [],
   "source": [
    "aladin.target = coo_perseus"
   ]
  },
  {
   "cell_type": "markdown",
   "id": "c69489ac-4385-4980-929f-ac3d541ab3d6",
   "metadata": {},
   "source": [
    "And voilà, we are centered on the Perseus Cluster. Let's also change the field of view with an `astropy.coordinates.Angle` object:"
   ]
  },
  {
   "cell_type": "code",
   "execution_count": 7,
   "id": "4f67ef4c-caa5-4e16-92e7-c6b013c24adf",
   "metadata": {},
   "outputs": [],
   "source": [
    "import astropy.units as u\n",
    "from astropy.coordinates import Angle"
   ]
  },
  {
   "cell_type": "code",
   "execution_count": 8,
   "id": "d901d1fe-567c-4e5d-9200-6ef6863a06a5",
   "metadata": {},
   "outputs": [],
   "source": [
    "aladin.fov = Angle(25 * u.arcmin)"
   ]
  },
  {
   "cell_type": "markdown",
   "id": "327da4a1-b113-43f6-bfb6-52a9f38ebc06",
   "metadata": {},
   "source": [
    "The other way around works too. We can zoom in and out until we think we have a rough estimate of the size of the galaxy cluster, and retrieve this value:"
   ]
  },
  {
   "cell_type": "code",
   "execution_count": 9,
   "id": "abddadd3-752a-42a4-ab62-53a742245ced",
   "metadata": {},
   "outputs": [
    {
     "data": {
      "text/latex": [
       "$0^\\circ25{}^\\prime00{}^{\\prime\\prime}$"
      ],
      "text/plain": [
       "<Angle 0.41666667 deg>"
      ]
     },
     "execution_count": 9,
     "metadata": {},
     "output_type": "execute_result"
    }
   ],
   "source": [
    "estimated_dimension = aladin.fov\n",
    "estimated_dimension"
   ]
  },
  {
   "cell_type": "markdown",
   "id": "6bd962ca-08ff-4040-bb71-041db4631199",
   "metadata": {},
   "source": [
    "## 4. Drawing astropy-regions\n",
    "\n",
    "Let's plot the estimation of the cluster dimension thanks to an `astropy-region`:"
   ]
  },
  {
   "cell_type": "code",
   "execution_count": 10,
   "id": "e8226219-4c35-41a8-9808-b961facfa00a",
   "metadata": {},
   "outputs": [],
   "source": [
    "from regions import CircleSkyRegion"
   ]
  },
  {
   "cell_type": "code",
   "execution_count": 11,
   "id": "31752087-a291-4576-aac8-f697e21b858b",
   "metadata": {},
   "outputs": [],
   "source": [
    "aladin.add_graphic_overlay_from_region(\n",
    "    CircleSkyRegion(coo_perseus, estimated_dimension),\n",
    "    color=\"salmon\", line_dash=[5], \n",
    "    name=\"cluster_dimension\"\n",
    ")"
   ]
  },
  {
   "cell_type": "code",
   "execution_count": null,
   "id": "1760de96-934b-4e78-bf71-d25f2c48774f",
   "metadata": {},
   "outputs": [],
   "source": [
    "assert False"
   ]
  },
  {
   "cell_type": "markdown",
   "id": "bac58d65-303f-4bc4-944d-2c33ce0dc01c",
   "metadata": {},
   "source": [
    "## 5. Adding FITS files to the view\n",
    "\n",
    "FITS files can either be dragged-and-dropped into the ipyaladin view (like with any Aladin Lite instance), or added programmatically with `add_fits`:"
   ]
  },
  {
   "cell_type": "code",
   "execution_count": 12,
   "id": "730b4ae0-9214-45b3-8cd3-716cc13c9766",
   "metadata": {},
   "outputs": [
    {
     "ename": "FileNotFoundError",
     "evalue": "[Errno 2] No such file or directory: 'chandra.fits'",
     "output_type": "error",
     "traceback": [
      "\u001b[0;31m---------------------------------------------------------------------------\u001b[0m",
      "\u001b[0;31mFileNotFoundError\u001b[0m                         Traceback (most recent call last)",
      "Cell \u001b[0;32mIn[12], line 1\u001b[0m\n\u001b[0;32m----> 1\u001b[0m \u001b[43maladin\u001b[49m\u001b[38;5;241;43m.\u001b[39;49m\u001b[43madd_fits\u001b[49m\u001b[43m(\u001b[49m\u001b[38;5;124;43m\"\u001b[39;49m\u001b[38;5;124;43mchandra.fits\u001b[39;49m\u001b[38;5;124;43m\"\u001b[39;49m\u001b[43m,\u001b[49m\u001b[43m \u001b[49m\u001b[43mname\u001b[49m\u001b[38;5;241;43m=\u001b[39;49m\u001b[38;5;124;43m\"\u001b[39;49m\u001b[38;5;124;43mchandra\u001b[39;49m\u001b[38;5;124;43m\"\u001b[39;49m\u001b[43m)\u001b[49m\n",
      "File \u001b[0;32m~/MacOSX/GitHub/ASTRO/ipyaladin/src/ipyaladin/widget.py:119\u001b[0m, in \u001b[0;36mwidget_should_be_loaded.<locals>.wrapper\u001b[0;34m(self, *args, **kwargs)\u001b[0m\n\u001b[1;32m    117\u001b[0m     \u001b[38;5;66;03m# set ready to True to avoid waiting twice\u001b[39;00m\n\u001b[1;32m    118\u001b[0m     \u001b[38;5;28mself\u001b[39m\u001b[38;5;241m.\u001b[39m_is_loaded \u001b[38;5;241m=\u001b[39m \u001b[38;5;28;01mTrue\u001b[39;00m\n\u001b[0;32m--> 119\u001b[0m \u001b[38;5;28;01mreturn\u001b[39;00m \u001b[43mfunction\u001b[49m\u001b[43m(\u001b[49m\u001b[38;5;28;43mself\u001b[39;49m\u001b[43m,\u001b[49m\u001b[43m \u001b[49m\u001b[38;5;241;43m*\u001b[39;49m\u001b[43margs\u001b[49m\u001b[43m,\u001b[49m\u001b[43m \u001b[49m\u001b[38;5;241;43m*\u001b[39;49m\u001b[38;5;241;43m*\u001b[39;49m\u001b[43mkwargs\u001b[49m\u001b[43m)\u001b[49m\n",
      "File \u001b[0;32m~/MacOSX/GitHub/ASTRO/ipyaladin/src/ipyaladin/widget.py:615\u001b[0m, in \u001b[0;36mAladin.add_fits\u001b[0;34m(self, fits, **image_options)\u001b[0m\n\u001b[1;32m    613\u001b[0m is_path \u001b[38;5;241m=\u001b[39m \u001b[38;5;28misinstance\u001b[39m(fits, (Path, \u001b[38;5;28mstr\u001b[39m))\n\u001b[1;32m    614\u001b[0m \u001b[38;5;28;01mif\u001b[39;00m is_path:\n\u001b[0;32m--> 615\u001b[0m     \u001b[38;5;28;01mwith\u001b[39;00m \u001b[43mastropy_fits\u001b[49m\u001b[38;5;241;43m.\u001b[39;49m\u001b[43mopen\u001b[49m\u001b[43m(\u001b[49m\u001b[43mfits\u001b[49m\u001b[43m)\u001b[49m \u001b[38;5;28;01mas\u001b[39;00m fits_file:\n\u001b[1;32m    616\u001b[0m         fits_bytes \u001b[38;5;241m=\u001b[39m io\u001b[38;5;241m.\u001b[39mBytesIO()\n\u001b[1;32m    617\u001b[0m         fits_file\u001b[38;5;241m.\u001b[39mwriteto(fits_bytes)\n",
      "File \u001b[0;32m~/anaconda3/envs/conda_py310/lib/python3.10/site-packages/astropy/io/fits/hdu/hdulist.py:222\u001b[0m, in \u001b[0;36mfitsopen\u001b[0;34m(name, mode, memmap, save_backup, cache, lazy_load_hdus, ignore_missing_simple, use_fsspec, fsspec_kwargs, decompress_in_memory, **kwargs)\u001b[0m\n\u001b[1;32m    219\u001b[0m \u001b[38;5;28;01mif\u001b[39;00m \u001b[38;5;129;01mnot\u001b[39;00m name:\n\u001b[1;32m    220\u001b[0m     \u001b[38;5;28;01mraise\u001b[39;00m \u001b[38;5;167;01mValueError\u001b[39;00m(\u001b[38;5;124mf\u001b[39m\u001b[38;5;124m\"\u001b[39m\u001b[38;5;124mEmpty filename: \u001b[39m\u001b[38;5;132;01m{\u001b[39;00mname\u001b[38;5;132;01m!r}\u001b[39;00m\u001b[38;5;124m\"\u001b[39m)\n\u001b[0;32m--> 222\u001b[0m \u001b[38;5;28;01mreturn\u001b[39;00m \u001b[43mHDUList\u001b[49m\u001b[38;5;241;43m.\u001b[39;49m\u001b[43mfromfile\u001b[49m\u001b[43m(\u001b[49m\n\u001b[1;32m    223\u001b[0m \u001b[43m    \u001b[49m\u001b[43mname\u001b[49m\u001b[43m,\u001b[49m\n\u001b[1;32m    224\u001b[0m \u001b[43m    \u001b[49m\u001b[43mmode\u001b[49m\u001b[43m,\u001b[49m\n\u001b[1;32m    225\u001b[0m \u001b[43m    \u001b[49m\u001b[43mmemmap\u001b[49m\u001b[43m,\u001b[49m\n\u001b[1;32m    226\u001b[0m \u001b[43m    \u001b[49m\u001b[43msave_backup\u001b[49m\u001b[43m,\u001b[49m\n\u001b[1;32m    227\u001b[0m \u001b[43m    \u001b[49m\u001b[43mcache\u001b[49m\u001b[43m,\u001b[49m\n\u001b[1;32m    228\u001b[0m \u001b[43m    \u001b[49m\u001b[43mlazy_load_hdus\u001b[49m\u001b[43m,\u001b[49m\n\u001b[1;32m    229\u001b[0m \u001b[43m    \u001b[49m\u001b[43mignore_missing_simple\u001b[49m\u001b[43m,\u001b[49m\n\u001b[1;32m    230\u001b[0m \u001b[43m    \u001b[49m\u001b[43muse_fsspec\u001b[49m\u001b[38;5;241;43m=\u001b[39;49m\u001b[43muse_fsspec\u001b[49m\u001b[43m,\u001b[49m\n\u001b[1;32m    231\u001b[0m \u001b[43m    \u001b[49m\u001b[43mfsspec_kwargs\u001b[49m\u001b[38;5;241;43m=\u001b[39;49m\u001b[43mfsspec_kwargs\u001b[49m\u001b[43m,\u001b[49m\n\u001b[1;32m    232\u001b[0m \u001b[43m    \u001b[49m\u001b[43mdecompress_in_memory\u001b[49m\u001b[38;5;241;43m=\u001b[39;49m\u001b[43mdecompress_in_memory\u001b[49m\u001b[43m,\u001b[49m\n\u001b[1;32m    233\u001b[0m \u001b[43m    \u001b[49m\u001b[38;5;241;43m*\u001b[39;49m\u001b[38;5;241;43m*\u001b[39;49m\u001b[43mkwargs\u001b[49m\u001b[43m,\u001b[49m\n\u001b[1;32m    234\u001b[0m \u001b[43m\u001b[49m\u001b[43m)\u001b[49m\n",
      "File \u001b[0;32m~/anaconda3/envs/conda_py310/lib/python3.10/site-packages/astropy/io/fits/hdu/hdulist.py:486\u001b[0m, in \u001b[0;36mHDUList.fromfile\u001b[0;34m(cls, fileobj, mode, memmap, save_backup, cache, lazy_load_hdus, ignore_missing_simple, **kwargs)\u001b[0m\n\u001b[1;32m    467\u001b[0m \u001b[38;5;129m@classmethod\u001b[39m\n\u001b[1;32m    468\u001b[0m \u001b[38;5;28;01mdef\u001b[39;00m \u001b[38;5;21mfromfile\u001b[39m(\n\u001b[1;32m    469\u001b[0m     \u001b[38;5;28mcls\u001b[39m,\n\u001b[0;32m   (...)\u001b[0m\n\u001b[1;32m    477\u001b[0m     \u001b[38;5;241m*\u001b[39m\u001b[38;5;241m*\u001b[39mkwargs,\n\u001b[1;32m    478\u001b[0m ):\n\u001b[1;32m    479\u001b[0m \u001b[38;5;250m    \u001b[39m\u001b[38;5;124;03m\"\"\"\u001b[39;00m\n\u001b[1;32m    480\u001b[0m \u001b[38;5;124;03m    Creates an `HDUList` instance from a file-like object.\u001b[39;00m\n\u001b[1;32m    481\u001b[0m \n\u001b[0;32m   (...)\u001b[0m\n\u001b[1;32m    484\u001b[0m \u001b[38;5;124;03m    documentation for details of the parameters accepted by this method).\u001b[39;00m\n\u001b[1;32m    485\u001b[0m \u001b[38;5;124;03m    \"\"\"\u001b[39;00m\n\u001b[0;32m--> 486\u001b[0m     \u001b[38;5;28;01mreturn\u001b[39;00m \u001b[38;5;28;43mcls\u001b[39;49m\u001b[38;5;241;43m.\u001b[39;49m\u001b[43m_readfrom\u001b[49m\u001b[43m(\u001b[49m\n\u001b[1;32m    487\u001b[0m \u001b[43m        \u001b[49m\u001b[43mfileobj\u001b[49m\u001b[38;5;241;43m=\u001b[39;49m\u001b[43mfileobj\u001b[49m\u001b[43m,\u001b[49m\n\u001b[1;32m    488\u001b[0m \u001b[43m        \u001b[49m\u001b[43mmode\u001b[49m\u001b[38;5;241;43m=\u001b[39;49m\u001b[43mmode\u001b[49m\u001b[43m,\u001b[49m\n\u001b[1;32m    489\u001b[0m \u001b[43m        \u001b[49m\u001b[43mmemmap\u001b[49m\u001b[38;5;241;43m=\u001b[39;49m\u001b[43mmemmap\u001b[49m\u001b[43m,\u001b[49m\n\u001b[1;32m    490\u001b[0m \u001b[43m        \u001b[49m\u001b[43msave_backup\u001b[49m\u001b[38;5;241;43m=\u001b[39;49m\u001b[43msave_backup\u001b[49m\u001b[43m,\u001b[49m\n\u001b[1;32m    491\u001b[0m \u001b[43m        \u001b[49m\u001b[43mcache\u001b[49m\u001b[38;5;241;43m=\u001b[39;49m\u001b[43mcache\u001b[49m\u001b[43m,\u001b[49m\n\u001b[1;32m    492\u001b[0m \u001b[43m        \u001b[49m\u001b[43mignore_missing_simple\u001b[49m\u001b[38;5;241;43m=\u001b[39;49m\u001b[43mignore_missing_simple\u001b[49m\u001b[43m,\u001b[49m\n\u001b[1;32m    493\u001b[0m \u001b[43m        \u001b[49m\u001b[43mlazy_load_hdus\u001b[49m\u001b[38;5;241;43m=\u001b[39;49m\u001b[43mlazy_load_hdus\u001b[49m\u001b[43m,\u001b[49m\n\u001b[1;32m    494\u001b[0m \u001b[43m        \u001b[49m\u001b[38;5;241;43m*\u001b[39;49m\u001b[38;5;241;43m*\u001b[39;49m\u001b[43mkwargs\u001b[49m\u001b[43m,\u001b[49m\n\u001b[1;32m    495\u001b[0m \u001b[43m    \u001b[49m\u001b[43m)\u001b[49m\n",
      "File \u001b[0;32m~/anaconda3/envs/conda_py310/lib/python3.10/site-packages/astropy/io/fits/hdu/hdulist.py:1157\u001b[0m, in \u001b[0;36mHDUList._readfrom\u001b[0;34m(cls, fileobj, data, mode, memmap, cache, lazy_load_hdus, ignore_missing_simple, use_fsspec, fsspec_kwargs, decompress_in_memory, **kwargs)\u001b[0m\n\u001b[1;32m   1154\u001b[0m \u001b[38;5;28;01mif\u001b[39;00m fileobj \u001b[38;5;129;01mis\u001b[39;00m \u001b[38;5;129;01mnot\u001b[39;00m \u001b[38;5;28;01mNone\u001b[39;00m:\n\u001b[1;32m   1155\u001b[0m     \u001b[38;5;28;01mif\u001b[39;00m \u001b[38;5;129;01mnot\u001b[39;00m \u001b[38;5;28misinstance\u001b[39m(fileobj, _File):\n\u001b[1;32m   1156\u001b[0m         \u001b[38;5;66;03m# instantiate a FITS file object (ffo)\u001b[39;00m\n\u001b[0;32m-> 1157\u001b[0m         fileobj \u001b[38;5;241m=\u001b[39m \u001b[43m_File\u001b[49m\u001b[43m(\u001b[49m\n\u001b[1;32m   1158\u001b[0m \u001b[43m            \u001b[49m\u001b[43mfileobj\u001b[49m\u001b[43m,\u001b[49m\n\u001b[1;32m   1159\u001b[0m \u001b[43m            \u001b[49m\u001b[43mmode\u001b[49m\u001b[38;5;241;43m=\u001b[39;49m\u001b[43mmode\u001b[49m\u001b[43m,\u001b[49m\n\u001b[1;32m   1160\u001b[0m \u001b[43m            \u001b[49m\u001b[43mmemmap\u001b[49m\u001b[38;5;241;43m=\u001b[39;49m\u001b[43mmemmap\u001b[49m\u001b[43m,\u001b[49m\n\u001b[1;32m   1161\u001b[0m \u001b[43m            \u001b[49m\u001b[43mcache\u001b[49m\u001b[38;5;241;43m=\u001b[39;49m\u001b[43mcache\u001b[49m\u001b[43m,\u001b[49m\n\u001b[1;32m   1162\u001b[0m \u001b[43m            \u001b[49m\u001b[43muse_fsspec\u001b[49m\u001b[38;5;241;43m=\u001b[39;49m\u001b[43muse_fsspec\u001b[49m\u001b[43m,\u001b[49m\n\u001b[1;32m   1163\u001b[0m \u001b[43m            \u001b[49m\u001b[43mfsspec_kwargs\u001b[49m\u001b[38;5;241;43m=\u001b[39;49m\u001b[43mfsspec_kwargs\u001b[49m\u001b[43m,\u001b[49m\n\u001b[1;32m   1164\u001b[0m \u001b[43m            \u001b[49m\u001b[43mdecompress_in_memory\u001b[49m\u001b[38;5;241;43m=\u001b[39;49m\u001b[43mdecompress_in_memory\u001b[49m\u001b[43m,\u001b[49m\n\u001b[1;32m   1165\u001b[0m \u001b[43m        \u001b[49m\u001b[43m)\u001b[49m\n\u001b[1;32m   1166\u001b[0m     \u001b[38;5;66;03m# The Astropy mode is determined by the _File initializer if the\u001b[39;00m\n\u001b[1;32m   1167\u001b[0m     \u001b[38;5;66;03m# supplied mode was None\u001b[39;00m\n\u001b[1;32m   1168\u001b[0m     mode \u001b[38;5;241m=\u001b[39m fileobj\u001b[38;5;241m.\u001b[39mmode\n",
      "File \u001b[0;32m~/anaconda3/envs/conda_py310/lib/python3.10/site-packages/astropy/io/fits/file.py:218\u001b[0m, in \u001b[0;36m_File.__init__\u001b[0;34m(self, fileobj, mode, memmap, overwrite, cache, use_fsspec, fsspec_kwargs, decompress_in_memory)\u001b[0m\n\u001b[1;32m    216\u001b[0m     \u001b[38;5;28mself\u001b[39m\u001b[38;5;241m.\u001b[39m_open_fileobj(fileobj, mode, overwrite)\n\u001b[1;32m    217\u001b[0m \u001b[38;5;28;01melif\u001b[39;00m \u001b[38;5;28misinstance\u001b[39m(fileobj, (\u001b[38;5;28mstr\u001b[39m, \u001b[38;5;28mbytes\u001b[39m)):\n\u001b[0;32m--> 218\u001b[0m     \u001b[38;5;28;43mself\u001b[39;49m\u001b[38;5;241;43m.\u001b[39;49m\u001b[43m_open_filename\u001b[49m\u001b[43m(\u001b[49m\u001b[43mfileobj\u001b[49m\u001b[43m,\u001b[49m\u001b[43m \u001b[49m\u001b[43mmode\u001b[49m\u001b[43m,\u001b[49m\u001b[43m \u001b[49m\u001b[43moverwrite\u001b[49m\u001b[43m)\u001b[49m\n\u001b[1;32m    219\u001b[0m \u001b[38;5;28;01melse\u001b[39;00m:\n\u001b[1;32m    220\u001b[0m     \u001b[38;5;28mself\u001b[39m\u001b[38;5;241m.\u001b[39m_open_filelike(fileobj, mode, overwrite)\n",
      "File \u001b[0;32m~/anaconda3/envs/conda_py310/lib/python3.10/site-packages/astropy/io/fits/file.py:641\u001b[0m, in \u001b[0;36m_File._open_filename\u001b[0;34m(self, filename, mode, overwrite)\u001b[0m\n\u001b[1;32m    638\u001b[0m ext \u001b[38;5;241m=\u001b[39m os\u001b[38;5;241m.\u001b[39mpath\u001b[38;5;241m.\u001b[39msplitext(\u001b[38;5;28mself\u001b[39m\u001b[38;5;241m.\u001b[39mname)[\u001b[38;5;241m1\u001b[39m]\n\u001b[1;32m    640\u001b[0m \u001b[38;5;28;01mif\u001b[39;00m \u001b[38;5;129;01mnot\u001b[39;00m \u001b[38;5;28mself\u001b[39m\u001b[38;5;241m.\u001b[39m_try_read_compressed(\u001b[38;5;28mself\u001b[39m\u001b[38;5;241m.\u001b[39mname, magic, mode, ext\u001b[38;5;241m=\u001b[39mext):\n\u001b[0;32m--> 641\u001b[0m     \u001b[38;5;28mself\u001b[39m\u001b[38;5;241m.\u001b[39m_file \u001b[38;5;241m=\u001b[39m \u001b[38;5;28;43mopen\u001b[39;49m\u001b[43m(\u001b[49m\u001b[38;5;28;43mself\u001b[39;49m\u001b[38;5;241;43m.\u001b[39;49m\u001b[43mname\u001b[49m\u001b[43m,\u001b[49m\u001b[43m \u001b[49m\u001b[43mIO_FITS_MODES\u001b[49m\u001b[43m[\u001b[49m\u001b[43mmode\u001b[49m\u001b[43m]\u001b[49m\u001b[43m)\u001b[49m\n\u001b[1;32m    642\u001b[0m     \u001b[38;5;28mself\u001b[39m\u001b[38;5;241m.\u001b[39mclose_on_error \u001b[38;5;241m=\u001b[39m \u001b[38;5;28;01mTrue\u001b[39;00m\n\u001b[1;32m    644\u001b[0m \u001b[38;5;66;03m# Make certain we're back at the beginning of the file\u001b[39;00m\n\u001b[1;32m    645\u001b[0m \u001b[38;5;66;03m# BZ2File does not support seek when the file is open for writing, but\u001b[39;00m\n\u001b[1;32m    646\u001b[0m \u001b[38;5;66;03m# when opening a file for write, bz2.BZ2File always truncates anyway.\u001b[39;00m\n",
      "\u001b[0;31mFileNotFoundError\u001b[0m: [Errno 2] No such file or directory: 'chandra.fits'"
     ]
    }
   ],
   "source": [
    "aladin.add_fits(\"chandra.fits\", name=\"chandra\")"
   ]
  },
  {
   "cell_type": "markdown",
   "id": "0f896ba7-6840-4feb-88ce-22cb84639ee5",
   "metadata": {},
   "source": [
    "## 6. Working with MOCs\n",
    "\n",
    "### 6.1 Drawing MOCs on the view\n",
    "\n",
    "MOCs can be interactively drawn on ipyaladin with the menu `stack` > `+ Overlays` (click on the `+`) > `MOC` >  `From selection`... and then chose your type of selection.\n",
    "Here, for example, we can draw an appriximated contour for the shockwave visible in the `chandra.fits` image.\n",
    "\n",
    "### 6.2 Sending MOCs from python to the widget\n",
    "\n",
    "The widget can also display MOCs:"
   ]
  },
  {
   "cell_type": "code",
   "execution_count": null,
   "id": "604148de-42ad-44b2-8bd1-2b0e3a203e32",
   "metadata": {},
   "outputs": [],
   "source": [
    "from mocpy import MOC"
   ]
  },
  {
   "cell_type": "markdown",
   "id": "64b1fb73-e4d7-421b-b0aa-8c3e2ce8e369",
   "metadata": {},
   "source": [
    "Let's get the MOC describing the coverage on a VizieR catalog."
   ]
  },
  {
   "cell_type": "code",
   "execution_count": null,
   "id": "c0e2bf60-91c2-4115-b953-29e8149cdb8b",
   "metadata": {},
   "outputs": [],
   "source": [
    "gaia_galcan_coverage = MOC.from_vizier_table(\n",
    "    \"I/356/galcand\"\n",
    ")"
   ]
  },
  {
   "cell_type": "markdown",
   "id": "38cf406f-461e-47db-a538-68c13a4e3735",
   "metadata": {},
   "source": [
    "The result is a `mocpy.MOC` object. We can add it the the widget."
   ]
  },
  {
   "cell_type": "code",
   "execution_count": null,
   "id": "209d3f40-e5d7-41aa-a3fc-9e6186474e11",
   "metadata": {},
   "outputs": [],
   "source": [
    "aladin.add_moc(gaia_galcan_coverage, \n",
    "               color=\"seagreen\",\n",
    "               name=\"gaia_galcan\")"
   ]
  },
  {
   "cell_type": "markdown",
   "id": "bf685af7-ed3e-4e73-8c98-be4cec040f1d",
   "metadata": {},
   "source": [
    "This method also accepts MOCs as ASCII, JSON, URL, or FITS files.\n",
    "\n",
    "## 7. Changing the survey\n",
    "\n",
    "### 7.1 With the graphic interface\n",
    "\n",
    "More surveys can be found with the graphic interface of Aladin Lite. To do so, go in `stack` > `+ Surveys` (click on the `+`) > `Browse HiPS`.\n",
    "Some filters can be added to restric the results by cecking the box next to `Filter`.\n",
    "\n",
    "We can for example find that ASKAP offers data in the area by selecting the filters `Inside View` and `Regime` = `Radio`.\n",
    "\n",
    "### 7.2 With astroquery.MOCServer"
   ]
  },
  {
   "cell_type": "code",
   "execution_count": null,
   "id": "c21a72e3-02cb-41db-95a6-308cbc439a35",
   "metadata": {},
   "outputs": [],
   "source": [
    "from astroquery.mocserver import MOCServer"
   ]
  },
  {
   "cell_type": "markdown",
   "id": "8e5a7bbf-7003-47f4-b5c0-82080910c169",
   "metadata": {},
   "source": [
    "Let's look for datasets with the word `Euclid` in their description:"
   ]
  },
  {
   "cell_type": "code",
   "execution_count": null,
   "id": "60445846-004a-4aac-8718-4f80b96d03c9",
   "metadata": {},
   "outputs": [],
   "source": [
    "MOCServer.find_datasets(meta_data=\"*Euclid*\")"
   ]
  },
  {
   "cell_type": "code",
   "execution_count": null,
   "id": "5ec8e650-7ca2-4f4c-b458-cb37c69ea3ea",
   "metadata": {},
   "outputs": [],
   "source": [
    "aladin.survey = \"CDS/P/Euclid/ERO/VIS\""
   ]
  },
  {
   "cell_type": "markdown",
   "id": "d5a19ea0-229c-45ec-aa17-ffc3ff7f6296",
   "metadata": {},
   "source": [
    "The view changed from the default survey to the Euclid one.\n",
    "\n",
    "## 8. Getting a FITS of the current view\n",
    "\n",
    "This uses the [Hips2FITS](https://alasky.cds.unistra.fr/hips-image-services/hips2fits) image cutout service."
   ]
  },
  {
   "cell_type": "code",
   "execution_count": null,
   "id": "ae8da8e4-4cd0-4f5e-b12d-22845b68b05d",
   "metadata": {},
   "outputs": [],
   "source": [
    "euclid_cutout = aladin.get_view_as_fits()[0]"
   ]
  },
  {
   "cell_type": "code",
   "execution_count": null,
   "id": "77e8d9f0-cb42-4a99-96d2-f28d5bb07129",
   "metadata": {},
   "outputs": [],
   "source": [
    "import matplotlib.pyplot as plt\n",
    "import numpy as np"
   ]
  },
  {
   "cell_type": "code",
   "execution_count": null,
   "id": "f3a73ca4-1c00-42a5-a497-93e5dd4ca613",
   "metadata": {},
   "outputs": [],
   "source": [
    "plt.imshow(np.flipud(euclid_cutout.data.astype(\"short\")),\n",
    "           cmap=\"Greys_r\", norm=\"asinh\", vmin=10, vmax=50)"
   ]
  },
  {
   "cell_type": "markdown",
   "id": "cdb0bba1-7558-4b73-8873-c8e3ed46401a",
   "metadata": {},
   "source": [
    "The WCS of the current view can also be read at all times:"
   ]
  },
  {
   "cell_type": "code",
   "execution_count": null,
   "id": "c6de9ae7-02c7-46c7-9890-2725fb6a2259",
   "metadata": {},
   "outputs": [],
   "source": [
    "aladin.wcs"
   ]
  },
  {
   "cell_type": "markdown",
   "id": "c74de05e-19c6-43f7-9947-a6fa3830a562",
   "metadata": {},
   "source": [
    "## 9. Working with catalogs\n",
    "\n",
    "### 9.1 Adding catalogs to the widget"
   ]
  },
  {
   "cell_type": "code",
   "execution_count": null,
   "id": "abc2e444-0578-48bb-868d-9fd2a49415db",
   "metadata": {},
   "outputs": [],
   "source": [
    "from astroquery.vizier import Vizier"
   ]
  },
  {
   "cell_type": "code",
   "execution_count": null,
   "id": "21a1749b-d7c0-4e85-95c5-f0e6d6424e74",
   "metadata": {},
   "outputs": [],
   "source": [
    "extra_galactic = Vizier(catalog=\"I/356/galcand\", \n",
    "                        row_limit=-1).query_region(\n",
    "    coo_perseus,\n",
    "    radius=estimated_dimension\n",
    ")[0]\n",
    "extra_galactic"
   ]
  },
  {
   "cell_type": "code",
   "execution_count": null,
   "id": "4afd6523-4f9d-49ac-b11a-f5222dfd67f7",
   "metadata": {},
   "outputs": [],
   "source": [
    "aladin.add_table(\n",
    "    extra_galactic[extra_galactic[\"Class\"] \n",
    "    == \"GALAXY\"], \n",
    "    shape=\"circle\",\n",
    "    source_size=15, \n",
    "    color=\"lightblue\",             \n",
    "    name=\"galaxies\")"
   ]
  },
  {
   "cell_type": "code",
   "execution_count": null,
   "id": "303e9c9a-f790-4dd6-90ac-89f0b013be26",
   "metadata": {},
   "outputs": [],
   "source": [
    "aladin.add_table(\n",
    "    extra_galactic[extra_galactic[\"Class\"] \n",
    "    != \"GALAXY\"], \n",
    "    shape=\"circle\",\n",
    "    source_size=15, \n",
    "    color=\"pink\",             \n",
    "    name=\"galaxies\")"
   ]
  },
  {
   "cell_type": "markdown",
   "id": "31966ce0-01f8-49b5-9f10-84cd73890101",
   "metadata": {},
   "source": [
    "### 9.2 Making a sub-selection\n",
    "\n",
    "To get a sub-selection of these two tables, right click on the widget, and chose `Select Sources` in the context menu that appears.\n",
    "The last selection is stored as a list of `astropy.Table` in the attribute `aladin.selected_objects`.\n",
    "\n",
    "If you've selected sources from the two tables, you can recover them with:"
   ]
  },
  {
   "cell_type": "code",
   "execution_count": null,
   "id": "d003f81f-cee0-4f8b-8062-ef03044d8746",
   "metadata": {},
   "outputs": [],
   "source": [
    "aladin.selected_objects[0]"
   ]
  },
  {
   "cell_type": "code",
   "execution_count": null,
   "id": "9fcce0ec-d432-4212-86d3-c407d0ae7011",
   "metadata": {},
   "outputs": [],
   "source": [
    "aladin.selected_objects[1]"
   ]
  },
  {
   "cell_type": "markdown",
   "id": "b0664d8f-c961-46aa-a71b-82c05f3e6853",
   "metadata": {},
   "source": [
    "## Conclusion\n",
    "\n",
    "This was a brief presentation of the features of `ipyaladin` that makes it compatible with the astropy ecosystem. Namely, we've seen that the following objects/libraries are currently supported:\n",
    "\n",
    "- astropy.coordinates.SkyCoord\n",
    "- astropy.coordinates.Angle\n",
    "- astropy-regions (astropy affiliated)\n",
    "- astropy.io.fits\n",
    "- mocpy.MOC (astropy affiliated)\n",
    "- astropy.Table\n",
    "\n",
    "If you need other objects, don't hesitate to open an issue in `ipyaladin`'s repository https://github.com/cds-astro/ipyaladin\n",
    "\n",
    "### Useful links\n",
    "\n",
    "- [ipyaladin's documentation](https://cds-astro.github.io/ipyaladin/)\n",
    "- [CDS's reporitory of tutorials](https://github.com/cds-astro/tutorials) (they showcase ipyaladin too)"
   ]
  }
 ],
 "metadata": {
  "kernelspec": {
   "display_name": "conda_py310",
   "language": "python",
   "name": "conda_py310"
  },
  "language_info": {
   "codemirror_mode": {
    "name": "ipython",
    "version": 3
   },
   "file_extension": ".py",
   "mimetype": "text/x-python",
   "name": "python",
   "nbconvert_exporter": "python",
   "pygments_lexer": "ipython3",
   "version": "3.10.12"
  }
 },
 "nbformat": 4,
 "nbformat_minor": 5
}
