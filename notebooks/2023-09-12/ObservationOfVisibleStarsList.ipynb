{
 "cells": [
  {
   "cell_type": "markdown",
   "id": "b5414a7d-fad1-40d6-96cf-da9b6c2d0338",
   "metadata": {},
   "source": [
    "# list of reselected target  and generate sky trajectories and plot"
   ]
  },
  {
   "cell_type": "markdown",
   "id": "21420fd6-8690-4ea4-a32b-fd3d39b8d8ce",
   "metadata": {},
   "source": [
    "- Author Sylvie Dagoret-Campagne\n",
    "- Creation : August 29th 2023\n",
    "- Update : August 30th 2023 : DarkTimeIndex "
   ]
  },
  {
   "cell_type": "code",
   "execution_count": 1,
   "id": "c7861f29-3c20-4e5d-99a6-4e8acc89981c",
   "metadata": {},
   "outputs": [],
   "source": [
    "import numpy as np\n",
    "import matplotlib.pyplot as plt\n",
    "from astropy.visualization import astropy_mpl_style, quantity_support\n",
    "plt.style.use(astropy_mpl_style)\n",
    "quantity_support()\n",
    "import matplotlib.colors as colors\n",
    "import matplotlib.cm as cmx\n",
    "import matplotlib.ticker as ticker\n",
    "import matplotlib.dates as mdates\n",
    "\n",
    "from matplotlib.dates import (AutoDateLocator, YearLocator, MonthLocator,\n",
    "                              DayLocator, WeekdayLocator, HourLocator,\n",
    "                              MinuteLocator, SecondLocator, MicrosecondLocator,\n",
    "                              RRuleLocator, rrulewrapper, MONTHLY,\n",
    "                              MO, TU, WE, TH, FR, SA, SU, DateFormatter,\n",
    "                              AutoDateFormatter, ConciseDateFormatter)\n",
    "\n",
    "%matplotlib inline\n",
    "import pandas as pd"
   ]
  },
  {
   "cell_type": "code",
   "execution_count": 2,
   "id": "14912584-48a3-4f95-a8ae-ac5aa6f391ad",
   "metadata": {},
   "outputs": [],
   "source": [
    "from astropy.coordinates import Longitude,Latitude\n",
    "import astropy.units as u\n",
    "from astropy.coordinates import AltAz, EarthLocation, SkyCoord\n",
    "from astropy.coordinates import Angle\n",
    "from astropy.time import Time, TimezoneInfo,TimeDelta"
   ]
  },
  {
   "cell_type": "code",
   "execution_count": 3,
   "id": "db9b97e4-93f6-4011-a975-f08706506ab1",
   "metadata": {},
   "outputs": [],
   "source": [
    "import datetime as dt\n",
    "from datetime import datetime\n",
    "import timezonefinder, pytz\n",
    "from calendar import monthrange\n",
    "import calendar"
   ]
  },
  {
   "cell_type": "code",
   "execution_count": 4,
   "id": "9b134ad3-1f76-406f-b6d6-8cef7d1c3fe7",
   "metadata": {},
   "outputs": [],
   "source": [
    "pd.set_option('display.max_columns', None)\n",
    "pd.set_option('display.max_rows', None)"
   ]
  },
  {
   "cell_type": "code",
   "execution_count": 5,
   "id": "23538d77-03af-47b0-9369-baa3c92963a2",
   "metadata": {},
   "outputs": [],
   "source": [
    "from astroquery.simbad import Simbad"
   ]
  },
  {
   "cell_type": "code",
   "execution_count": 6,
   "id": "260134ab-b252-4978-9b1b-8102493a6574",
   "metadata": {},
   "outputs": [],
   "source": [
    "# to view the list of VOTABLE\n",
    "# Simbad.list_votable_fields()"
   ]
  },
  {
   "cell_type": "code",
   "execution_count": 7,
   "id": "3a9a8c50-7976-4a6a-9876-1f73899c57ff",
   "metadata": {},
   "outputs": [],
   "source": [
    "Simbad.add_votable_fields('sptype')\n",
    "Simbad.add_votable_fields('flux(U)') # add the Vega unit Magnitude \n",
    "Simbad.add_votable_fields('flux(B)') # add the Vega unit Magnitude \n",
    "Simbad.add_votable_fields('flux(V)') # add the Vega unit Magnitude \n",
    "Simbad.add_votable_fields('flux(R)') # add the Vega unit Magnitude \n",
    "Simbad.add_votable_fields('flux(I)') # add the Vega unit Magnitude \n",
    "#Simbad.add_votable_fields('flux_unit(V)')\n",
    "#Simbad.add_votable_fields('flux_unit(I)')\n",
    "#Simbad.add_votable_fields('flux_system(V)')\n",
    "#Simbad.add_votable_fields('flux_system(I)')\n",
    "#Simbad.add_votable_fields('ubv')  # Johnson UBV system"
   ]
  },
  {
   "cell_type": "code",
   "execution_count": 8,
   "id": "b37c7fc3-58c5-4eea-af8b-8db3a1075fec",
   "metadata": {},
   "outputs": [],
   "source": [
    "plt.rcParams[\"axes.labelsize\"]=\"large\"\n",
    "plt.rcParams[\"axes.linewidth\"]=2.0\n",
    "plt.rcParams[\"xtick.major.size\"]=8\n",
    "plt.rcParams[\"ytick.major.size\"]=8\n",
    "plt.rcParams[\"ytick.minor.size\"]=5\n",
    "plt.rcParams[\"xtick.labelsize\"]=\"large\"\n",
    "plt.rcParams[\"ytick.labelsize\"]=\"large\"\n",
    "\n",
    "plt.rcParams[\"figure.figsize\"]=(12,8)\n",
    "plt.rcParams['axes.titlesize'] = 16\n",
    "plt.rcParams['axes.titleweight'] = 'bold'\n",
    "#plt.rcParams['axes.facecolor'] = 'blue'\n",
    "plt.rcParams['xtick.direction'] = 'out'\n",
    "plt.rcParams['ytick.direction'] = 'out'\n",
    "plt.rcParams['lines.markeredgewidth'] = 0.3 # the line width around the marker symbol\n",
    "plt.rcParams['lines.markersize'] = 5  # markersize, in points\n",
    "plt.rcParams['grid.alpha'] = 0.75 # transparency, between 0.0 and 1.0\n",
    "plt.rcParams['grid.linestyle'] = '-' # simple line\n",
    "plt.rcParams['grid.linewidth'] = 0.4 # in points\n",
    "plt.rcParams['font.size'] = 13"
   ]
  },
  {
   "cell_type": "code",
   "execution_count": 9,
   "id": "a8de67ac-8197-4a82-a90e-b1ac96ac6a45",
   "metadata": {},
   "outputs": [],
   "source": [
    "def CalculateBounds(theta,thetamin,thetamax):\n",
    "    \"\"\"\n",
    "    Handle the boundaries of angles\n",
    "    \n",
    "    parameters:\n",
    "        theta : the input angle in degree to test\n",
    "        thetamin: lower bound angle\n",
    "        thetamax: upper bound angle\n",
    "    \"\"\"\n",
    "    \n",
    "    theta_min_angle = Longitude(thetamin,unit=u.degree)\n",
    "    theta_max_angle = Longitude(thetamax,unit=u.degree)\n",
    "    theta_angle = Longitude(theta,unit=u.degree)\n",
    "    \n",
    "    \n",
    "    #print(\"longitude angles\",theta_angle,theta_min_angle,theta_max_angle)\n",
    "    \n",
    "    \n",
    "    wrap = 0\n",
    "    \n",
    "    if theta_min_angle.degree < theta_max_angle.degree:\n",
    "        wrap = 360 * u.deg\n",
    "    else:\n",
    "        wrap = 180 * u.deg\n",
    "        \n",
    "    theta_min_angle.wrap_angle = wrap\n",
    "    theta_max_angle.wrap_angle = wrap\n",
    "    theta_angle.wrap_angle = wrap\n",
    "       \n",
    "    #print(\"wrap\",wrap,\"theta=\",theta_angle,\"theta_min=\",theta_min_angle,\"theta_max\",theta_max_angle)\n",
    "    return theta_angle.is_within_bounds(theta_min_angle,theta_max_angle)\n",
    "    "
   ]
  },
  {
   "cell_type": "markdown",
   "id": "912663e3-098f-4c97-9ef7-aa876b8b23d5",
   "metadata": {},
   "source": [
    "# Create the list\n",
    "    zetSgr 285.65304 -29.880063        V=4.3\n",
    "    delCap 326.76018 -16.127287       V=2.8\n",
    "    gamGru 328.482151 -37.364872   V=3.0\n",
    "    betPsA 337.876377 -32.346075     V=4.3\n",
    "    alfPsA 344.412692 -29.622237      V=1.2\n",
    "    nuFor 31.122660 -29.296818        V=4.7\n",
    "    omeFor 38.46125 -28.232337        V=5.0\n",
    "    delFor 55.56209 -31.938362          V=5.0\n",
    "    ups04Eri 64.47359 -33.798349     V=3.6\n",
    "    alfCol 84.912254 -34.074109         V=2.7\n",
    "    zetCMa 95.078300 -30.063366      V=3.0\n",
    "    epsCMa 104.656453 -28.972086   V=1.5"
   ]
  },
  {
   "cell_type": "code",
   "execution_count": 10,
   "id": "8d34a529-59ea-42f3-9fb0-0f33623519c6",
   "metadata": {},
   "outputs": [],
   "source": [
    "df = pd.read_csv(\"list_of_stars.txt\",sep=\" \")"
   ]
  },
  {
   "cell_type": "code",
   "execution_count": 11,
   "id": "08d0bc15-5da6-4b42-b855-a4638bd21e1e",
   "metadata": {},
   "outputs": [
    {
     "data": {
      "text/html": [
       "<div>\n",
       "<style scoped>\n",
       "    .dataframe tbody tr th:only-of-type {\n",
       "        vertical-align: middle;\n",
       "    }\n",
       "\n",
       "    .dataframe tbody tr th {\n",
       "        vertical-align: top;\n",
       "    }\n",
       "\n",
       "    .dataframe thead th {\n",
       "        text-align: right;\n",
       "    }\n",
       "</style>\n",
       "<table border=\"1\" class=\"dataframe\">\n",
       "  <thead>\n",
       "    <tr style=\"text-align: right;\">\n",
       "      <th></th>\n",
       "      <th>target_name</th>\n",
       "      <th>ra_deg</th>\n",
       "      <th>dec_deg</th>\n",
       "      <th>magV</th>\n",
       "    </tr>\n",
       "  </thead>\n",
       "  <tbody>\n",
       "    <tr>\n",
       "      <th>0</th>\n",
       "      <td>zetSgr</td>\n",
       "      <td>285.653040</td>\n",
       "      <td>-29.880063</td>\n",
       "      <td>4.3</td>\n",
       "    </tr>\n",
       "    <tr>\n",
       "      <th>1</th>\n",
       "      <td>delCap</td>\n",
       "      <td>326.760180</td>\n",
       "      <td>-16.127287</td>\n",
       "      <td>2.8</td>\n",
       "    </tr>\n",
       "    <tr>\n",
       "      <th>2</th>\n",
       "      <td>gamGru</td>\n",
       "      <td>328.482151</td>\n",
       "      <td>-37.364872</td>\n",
       "      <td>3.0</td>\n",
       "    </tr>\n",
       "    <tr>\n",
       "      <th>3</th>\n",
       "      <td>betPsA</td>\n",
       "      <td>337.876377</td>\n",
       "      <td>-32.346075</td>\n",
       "      <td>4.3</td>\n",
       "    </tr>\n",
       "    <tr>\n",
       "      <th>4</th>\n",
       "      <td>alfPsA</td>\n",
       "      <td>344.412692</td>\n",
       "      <td>-29.622237</td>\n",
       "      <td>1.2</td>\n",
       "    </tr>\n",
       "    <tr>\n",
       "      <th>5</th>\n",
       "      <td>nuFor</td>\n",
       "      <td>31.122660</td>\n",
       "      <td>-29.296818</td>\n",
       "      <td>4.7</td>\n",
       "    </tr>\n",
       "    <tr>\n",
       "      <th>6</th>\n",
       "      <td>omeFor</td>\n",
       "      <td>38.461250</td>\n",
       "      <td>-28.232337</td>\n",
       "      <td>5.0</td>\n",
       "    </tr>\n",
       "    <tr>\n",
       "      <th>7</th>\n",
       "      <td>delFor</td>\n",
       "      <td>55.562090</td>\n",
       "      <td>-31.938362</td>\n",
       "      <td>5.0</td>\n",
       "    </tr>\n",
       "    <tr>\n",
       "      <th>8</th>\n",
       "      <td>ups04Eri</td>\n",
       "      <td>64.473590</td>\n",
       "      <td>-33.798349</td>\n",
       "      <td>3.6</td>\n",
       "    </tr>\n",
       "    <tr>\n",
       "      <th>9</th>\n",
       "      <td>alfCol</td>\n",
       "      <td>84.912254</td>\n",
       "      <td>-34.074109</td>\n",
       "      <td>2.7</td>\n",
       "    </tr>\n",
       "    <tr>\n",
       "      <th>10</th>\n",
       "      <td>zetCMa</td>\n",
       "      <td>95.078300</td>\n",
       "      <td>-30.063366</td>\n",
       "      <td>3.0</td>\n",
       "    </tr>\n",
       "    <tr>\n",
       "      <th>11</th>\n",
       "      <td>epsCMa</td>\n",
       "      <td>104.656453</td>\n",
       "      <td>-28.972086</td>\n",
       "      <td>1.5</td>\n",
       "    </tr>\n",
       "  </tbody>\n",
       "</table>\n",
       "</div>"
      ],
      "text/plain": [
       "   target_name      ra_deg    dec_deg  magV\n",
       "0       zetSgr  285.653040 -29.880063   4.3\n",
       "1       delCap  326.760180 -16.127287   2.8\n",
       "2       gamGru  328.482151 -37.364872   3.0\n",
       "3       betPsA  337.876377 -32.346075   4.3\n",
       "4       alfPsA  344.412692 -29.622237   1.2\n",
       "5        nuFor   31.122660 -29.296818   4.7\n",
       "6       omeFor   38.461250 -28.232337   5.0\n",
       "7       delFor   55.562090 -31.938362   5.0\n",
       "8     ups04Eri   64.473590 -33.798349   3.6\n",
       "9       alfCol   84.912254 -34.074109   2.7\n",
       "10      zetCMa   95.078300 -30.063366   3.0\n",
       "11      epsCMa  104.656453 -28.972086   1.5"
      ]
     },
     "execution_count": 11,
     "metadata": {},
     "output_type": "execute_result"
    }
   ],
   "source": [
    "df"
   ]
  },
  {
   "cell_type": "code",
   "execution_count": 12,
   "id": "d364cdfb-b0f1-48b7-9088-1b3b02091792",
   "metadata": {},
   "outputs": [],
   "source": [
    "RA = [ Longitude(ra,unit=u.deg).to_string(unit=u.hour) for ra in df.ra_deg.values ]\n",
    "df[\"RA\"] = RA"
   ]
  },
  {
   "cell_type": "code",
   "execution_count": 13,
   "id": "032ec54f-0651-4299-a0c2-7ef34d464f41",
   "metadata": {},
   "outputs": [],
   "source": [
    "DEC = [ Angle(dec,unit=u.deg).to_string(unit=u.degree) for dec in df.dec_deg.values ]\n",
    "df[\"DEC\"] = DEC"
   ]
  },
  {
   "cell_type": "code",
   "execution_count": 14,
   "id": "5b245fa4-d19f-4e8d-9e7a-753e3c931e82",
   "metadata": {},
   "outputs": [
    {
     "data": {
      "text/html": [
       "<div>\n",
       "<style scoped>\n",
       "    .dataframe tbody tr th:only-of-type {\n",
       "        vertical-align: middle;\n",
       "    }\n",
       "\n",
       "    .dataframe tbody tr th {\n",
       "        vertical-align: top;\n",
       "    }\n",
       "\n",
       "    .dataframe thead th {\n",
       "        text-align: right;\n",
       "    }\n",
       "</style>\n",
       "<table border=\"1\" class=\"dataframe\">\n",
       "  <thead>\n",
       "    <tr style=\"text-align: right;\">\n",
       "      <th></th>\n",
       "      <th>target_name</th>\n",
       "      <th>ra_deg</th>\n",
       "      <th>dec_deg</th>\n",
       "      <th>magV</th>\n",
       "      <th>RA</th>\n",
       "      <th>DEC</th>\n",
       "    </tr>\n",
       "  </thead>\n",
       "  <tbody>\n",
       "    <tr>\n",
       "      <th>0</th>\n",
       "      <td>zetSgr</td>\n",
       "      <td>285.653040</td>\n",
       "      <td>-29.880063</td>\n",
       "      <td>4.3</td>\n",
       "      <td>19h02m36.7296s</td>\n",
       "      <td>-29d52m48.2268s</td>\n",
       "    </tr>\n",
       "    <tr>\n",
       "      <th>1</th>\n",
       "      <td>delCap</td>\n",
       "      <td>326.760180</td>\n",
       "      <td>-16.127287</td>\n",
       "      <td>2.8</td>\n",
       "      <td>21h47m02.4432s</td>\n",
       "      <td>-16d07m38.2332s</td>\n",
       "    </tr>\n",
       "    <tr>\n",
       "      <th>2</th>\n",
       "      <td>gamGru</td>\n",
       "      <td>328.482151</td>\n",
       "      <td>-37.364872</td>\n",
       "      <td>3.0</td>\n",
       "      <td>21h53m55.71624s</td>\n",
       "      <td>-37d21m53.5392s</td>\n",
       "    </tr>\n",
       "    <tr>\n",
       "      <th>3</th>\n",
       "      <td>betPsA</td>\n",
       "      <td>337.876377</td>\n",
       "      <td>-32.346075</td>\n",
       "      <td>4.3</td>\n",
       "      <td>22h31m30.33048s</td>\n",
       "      <td>-32d20m45.87s</td>\n",
       "    </tr>\n",
       "    <tr>\n",
       "      <th>4</th>\n",
       "      <td>alfPsA</td>\n",
       "      <td>344.412692</td>\n",
       "      <td>-29.622237</td>\n",
       "      <td>1.2</td>\n",
       "      <td>22h57m39.04608s</td>\n",
       "      <td>-29d37m20.0532s</td>\n",
       "    </tr>\n",
       "    <tr>\n",
       "      <th>5</th>\n",
       "      <td>nuFor</td>\n",
       "      <td>31.122660</td>\n",
       "      <td>-29.296818</td>\n",
       "      <td>4.7</td>\n",
       "      <td>2h04m29.4384s</td>\n",
       "      <td>-29d17m48.5448s</td>\n",
       "    </tr>\n",
       "    <tr>\n",
       "      <th>6</th>\n",
       "      <td>omeFor</td>\n",
       "      <td>38.461250</td>\n",
       "      <td>-28.232337</td>\n",
       "      <td>5.0</td>\n",
       "      <td>2h33m50.7s</td>\n",
       "      <td>-28d13m56.4132s</td>\n",
       "    </tr>\n",
       "    <tr>\n",
       "      <th>7</th>\n",
       "      <td>delFor</td>\n",
       "      <td>55.562090</td>\n",
       "      <td>-31.938362</td>\n",
       "      <td>5.0</td>\n",
       "      <td>3h42m14.9016s</td>\n",
       "      <td>-31d56m18.1032s</td>\n",
       "    </tr>\n",
       "    <tr>\n",
       "      <th>8</th>\n",
       "      <td>ups04Eri</td>\n",
       "      <td>64.473590</td>\n",
       "      <td>-33.798349</td>\n",
       "      <td>3.6</td>\n",
       "      <td>4h17m53.6616s</td>\n",
       "      <td>-33d47m54.0564s</td>\n",
       "    </tr>\n",
       "    <tr>\n",
       "      <th>9</th>\n",
       "      <td>alfCol</td>\n",
       "      <td>84.912254</td>\n",
       "      <td>-34.074109</td>\n",
       "      <td>2.7</td>\n",
       "      <td>5h39m38.94096s</td>\n",
       "      <td>-34d04m26.7924s</td>\n",
       "    </tr>\n",
       "    <tr>\n",
       "      <th>10</th>\n",
       "      <td>zetCMa</td>\n",
       "      <td>95.078300</td>\n",
       "      <td>-30.063366</td>\n",
       "      <td>3.0</td>\n",
       "      <td>6h20m18.792s</td>\n",
       "      <td>-30d03m48.1176s</td>\n",
       "    </tr>\n",
       "    <tr>\n",
       "      <th>11</th>\n",
       "      <td>epsCMa</td>\n",
       "      <td>104.656453</td>\n",
       "      <td>-28.972086</td>\n",
       "      <td>1.5</td>\n",
       "      <td>6h58m37.54872s</td>\n",
       "      <td>-28d58m19.5096s</td>\n",
       "    </tr>\n",
       "  </tbody>\n",
       "</table>\n",
       "</div>"
      ],
      "text/plain": [
       "   target_name      ra_deg    dec_deg  magV               RA              DEC\n",
       "0       zetSgr  285.653040 -29.880063   4.3   19h02m36.7296s  -29d52m48.2268s\n",
       "1       delCap  326.760180 -16.127287   2.8   21h47m02.4432s  -16d07m38.2332s\n",
       "2       gamGru  328.482151 -37.364872   3.0  21h53m55.71624s  -37d21m53.5392s\n",
       "3       betPsA  337.876377 -32.346075   4.3  22h31m30.33048s    -32d20m45.87s\n",
       "4       alfPsA  344.412692 -29.622237   1.2  22h57m39.04608s  -29d37m20.0532s\n",
       "5        nuFor   31.122660 -29.296818   4.7    2h04m29.4384s  -29d17m48.5448s\n",
       "6       omeFor   38.461250 -28.232337   5.0       2h33m50.7s  -28d13m56.4132s\n",
       "7       delFor   55.562090 -31.938362   5.0    3h42m14.9016s  -31d56m18.1032s\n",
       "8     ups04Eri   64.473590 -33.798349   3.6    4h17m53.6616s  -33d47m54.0564s\n",
       "9       alfCol   84.912254 -34.074109   2.7   5h39m38.94096s  -34d04m26.7924s\n",
       "10      zetCMa   95.078300 -30.063366   3.0     6h20m18.792s  -30d03m48.1176s\n",
       "11      epsCMa  104.656453 -28.972086   1.5   6h58m37.54872s  -28d58m19.5096s"
      ]
     },
     "execution_count": 14,
     "metadata": {},
     "output_type": "execute_result"
    }
   ],
   "source": [
    "df"
   ]
  },
  {
   "cell_type": "code",
   "execution_count": 15,
   "id": "7df22a39-3b72-4dc7-b9eb-ce15b124744e",
   "metadata": {},
   "outputs": [],
   "source": [
    "FLAG_PRESELECTION_TARGET = True\n",
    "preselected_target_names = np.array([\"zetSgr\",\"delCap\",\"gamGru\",\"betPsA\",\"alfPsA\",\"nuFor\",\"omeFor\"])"
   ]
  },
  {
   "cell_type": "markdown",
   "id": "375c31f0-bb63-4278-a52d-bbb781038fd4",
   "metadata": {},
   "source": [
    "## Calculate the Visibility of the star"
   ]
  },
  {
   "cell_type": "markdown",
   "id": "83efbdd1-8626-40f0-b9ea-46e31af40c15",
   "metadata": {},
   "source": [
    "### Observation date"
   ]
  },
  {
   "cell_type": "code",
   "execution_count": 16,
   "id": "f72bb42c-5f4b-41b9-a620-620c99696148",
   "metadata": {},
   "outputs": [],
   "source": [
    "NYEAR=2023\n",
    "NMONTH=9\n",
    "NDAY=12"
   ]
  },
  {
   "cell_type": "markdown",
   "id": "eaca564a-cf1c-4d39-b31d-00528ad0b73b",
   "metadata": {},
   "source": [
    "### Examples from https://docs.astropy.org/en/stable/generated/examples/coordinates/plot_obs-planning.html"
   ]
  },
  {
   "cell_type": "code",
   "execution_count": 17,
   "id": "b935cc5e-b220-4ff6-85ad-6ea202cd8aa8",
   "metadata": {},
   "outputs": [],
   "source": [
    "m33 = SkyCoord.from_name('M33')"
   ]
  },
  {
   "cell_type": "code",
   "execution_count": 18,
   "id": "20498169-e1b4-4877-aab2-cc7410c16b7d",
   "metadata": {},
   "outputs": [],
   "source": [
    "bear_mountain = EarthLocation(lat=41.3*u.deg, lon=-74*u.deg, height=390*u.m)\n",
    "utcoffset = -4*u.hour  # Eastern Daylight Time\n",
    "time = Time('2023-9-12 23:00:00') - utcoffset"
   ]
  },
  {
   "cell_type": "code",
   "execution_count": 19,
   "id": "99b09461-0f7a-441b-8cf6-de1bd485e15b",
   "metadata": {},
   "outputs": [
    {
     "name": "stdout",
     "output_type": "stream",
     "text": [
      "M33's Altitude = 4.1e+01 deg\n"
     ]
    }
   ],
   "source": [
    "m33altaz = m33.transform_to(AltAz(obstime=time,location=bear_mountain))\n",
    "print(f\"M33's Altitude = {m33altaz.alt:.2}\")"
   ]
  },
  {
   "cell_type": "markdown",
   "id": "fd7cc0b2-c65a-436e-a141-b2c3a9538b8d",
   "metadata": {},
   "source": [
    "## My Location\n",
    "\n",
    "In summer the UTC offset at my location is + 2 H"
   ]
  },
  {
   "cell_type": "code",
   "execution_count": 20,
   "id": "07411cde-338b-4ba8-9d22-31cc308029b9",
   "metadata": {},
   "outputs": [],
   "source": [
    "mylat = 48.8534\n",
    "mylong = 2.3488"
   ]
  },
  {
   "cell_type": "code",
   "execution_count": 21,
   "id": "7b804e85-29fb-4579-bfab-6e0d995bcf67",
   "metadata": {},
   "outputs": [],
   "source": [
    "paris = EarthLocation(lat=mylat*u.deg, lon=mylong*u.deg, height=0*u.m)\n",
    "utcoffset = 2*u.hour  # CET\n",
    "time = Time('2023-9-12 23:00:00') - utcoffset"
   ]
  },
  {
   "cell_type": "code",
   "execution_count": 22,
   "id": "2f45d3d2-ac8b-4045-a3d2-614711284955",
   "metadata": {},
   "outputs": [],
   "source": [
    "tf = timezonefinder.TimezoneFinder()\n",
    "mytimezone_str = tf.certain_timezone_at(lat=mylat, lng=mylong)"
   ]
  },
  {
   "cell_type": "code",
   "execution_count": 23,
   "id": "f792794e-00d7-4be8-bd94-ca8755c11600",
   "metadata": {},
   "outputs": [
    {
     "data": {
      "text/plain": [
       "'Europe/Paris'"
      ]
     },
     "execution_count": 23,
     "metadata": {},
     "output_type": "execute_result"
    }
   ],
   "source": [
    "mytimezone_str"
   ]
  },
  {
   "cell_type": "code",
   "execution_count": 24,
   "id": "022cf41e-a4cd-4258-9d4c-09a8703067bd",
   "metadata": {},
   "outputs": [
    {
     "name": "stdout",
     "output_type": "stream",
     "text": [
      "The UTC Time now 2023-08-30 13:39:00.729939\n",
      "The actual time in Europe/Paris is 2023-08-30 15:39:00.729939\n"
     ]
    }
   ],
   "source": [
    "if mytimezone_str is None:\n",
    "    print(\"Could not determine my time zone\")\n",
    "else:\n",
    "    # Display the current time in that time zone\n",
    "    \n",
    "    \n",
    "    timezone = pytz.timezone(mytimezone_str)\n",
    "    timezone0 = pytz.timezone('UTC')\n",
    "    \n",
    "    dt = datetime.utcnow()\n",
    "    timeParis_now = datetime.now(timezone)\n",
    "    \n",
    "    print(\"The UTC Time now %s\" % dt)\n",
    "    print(\"The actual time in %s is %s\" % (mytimezone_str, dt + timezone.utcoffset(dt)))"
   ]
  },
  {
   "cell_type": "markdown",
   "id": "66d5089d-f11a-4ded-8789-906e1292e2ed",
   "metadata": {},
   "source": [
    "### For LSST"
   ]
  },
  {
   "cell_type": "markdown",
   "id": "57a90bfc-a82d-404d-8c71-1491110fd188",
   "metadata": {},
   "source": [
    "### Observation location"
   ]
  },
  {
   "cell_type": "code",
   "execution_count": 25,
   "id": "45b53665-c83f-442b-a7b3-da0557dff65d",
   "metadata": {},
   "outputs": [],
   "source": [
    "LSSTNAME='Cerro Pachon'\n",
    "lsst_location=EarthLocation.of_site(LSSTNAME)\n",
    "longitude=lsst_location.lon\n",
    "latitude=lsst_location.lat\n",
    "altitude=lsst_location.height"
   ]
  },
  {
   "cell_type": "code",
   "execution_count": 26,
   "id": "25efd70d-e7df-48f2-aed2-bb40de138c11",
   "metadata": {},
   "outputs": [],
   "source": [
    "cerro_pachon = EarthLocation(lat=latitude.degree*u.deg, lon=longitude.degree*u.deg, height=altitude)"
   ]
  },
  {
   "cell_type": "markdown",
   "id": "d3be9972-c30b-4d40-86af-ef3543cb7a2f",
   "metadata": {},
   "source": [
    "### Determination of UTC offset from TimeZone in Chile"
   ]
  },
  {
   "cell_type": "code",
   "execution_count": 27,
   "id": "af381ea3-c0ae-44fa-93a5-d52fcaf1bcc5",
   "metadata": {},
   "outputs": [],
   "source": [
    "tf = timezonefinder.TimezoneFinder()\n",
    "timezone_str = tf.certain_timezone_at(lat=latitude.degree, lng=longitude.degree)"
   ]
  },
  {
   "cell_type": "code",
   "execution_count": 28,
   "id": "b1ca6e5a-ff9a-4016-a625-e62bd3c9f2cc",
   "metadata": {},
   "outputs": [
    {
     "name": "stdout",
     "output_type": "stream",
     "text": [
      "Time zone at Rubin LSST Observatory: America/Santiago\n"
     ]
    }
   ],
   "source": [
    "print(f\"Time zone at Rubin LSST Observatory: {timezone_str}\")"
   ]
  },
  {
   "cell_type": "code",
   "execution_count": 29,
   "id": "c8a9e928-67d2-499a-a5f2-0dd5a64abaa8",
   "metadata": {},
   "outputs": [
    {
     "name": "stdout",
     "output_type": "stream",
     "text": [
      "The UTC Time now 2023-08-30 13:39:01.509455\n",
      "The actual time in America/Santiago is 2023-08-30 09:39:01.509455\n"
     ]
    }
   ],
   "source": [
    "if timezone_str is None:\n",
    "    print(\"Could not determine the time zone\")\n",
    "else:\n",
    "    # Display the current time in that time zone\n",
    "    \n",
    "    #tz = pytz.timezone('Europe/Berlin')\n",
    "    #berlin_now = datetime.now(tz)\n",
    "    \n",
    "    timezone = pytz.timezone(timezone_str)\n",
    "    timezone0 = pytz.timezone('UTC')\n",
    "    \n",
    "    dt = datetime.utcnow()\n",
    "    timeChile_now = datetime.now(timezone)\n",
    "    \n",
    "    print(\"The UTC Time now %s\" % dt)\n",
    "    print(\"The actual time in %s is %s\" % (timezone_str, dt + timezone.utcoffset(dt)))"
   ]
  },
  {
   "cell_type": "code",
   "execution_count": 30,
   "id": "0dd55d24-1d90-43ed-a4e1-733b74fc4ec9",
   "metadata": {},
   "outputs": [
    {
     "name": "stdout",
     "output_type": "stream",
     "text": [
      "The UTC offset in Chile is  -4.0  hours\n"
     ]
    }
   ],
   "source": [
    "utcoffset=timezone.utcoffset(dt).total_seconds()/60./60.\n",
    "print(\"The UTC offset in Chile is \",utcoffset,\" hours\")"
   ]
  },
  {
   "cell_type": "code",
   "execution_count": 31,
   "id": "acf2dc19-bf0e-47f3-9f59-97f149ee054d",
   "metadata": {},
   "outputs": [
    {
     "data": {
      "text/plain": [
       "<astropy.time.formats.TimezoneInfo at 0x1615027d0>"
      ]
     },
     "execution_count": 31,
     "metadata": {},
     "output_type": "execute_result"
    }
   ],
   "source": [
    "tz_utc_minus_xx_hours = TimezoneInfo(utc_offset=int(utcoffset)*u.hour)\n",
    "tz_utc_minus_xx_hours"
   ]
  },
  {
   "cell_type": "code",
   "execution_count": 32,
   "id": "499bb523-976a-4bc8-acef-f718a681b4c1",
   "metadata": {},
   "outputs": [
    {
     "data": {
      "text/plain": [
       "<bound method DstTzInfo.utcoffset of <DstTzInfo 'America/Santiago' LMT-1 day, 19:17:00 STD>>"
      ]
     },
     "execution_count": 32,
     "metadata": {},
     "output_type": "execute_result"
    }
   ],
   "source": [
    "timezone.utcoffset"
   ]
  },
  {
   "cell_type": "markdown",
   "id": "fde4c10c-26b8-49d0-a148-3c3d8920f067",
   "metadata": {},
   "source": [
    "### Night of observation"
   ]
  },
  {
   "cell_type": "code",
   "execution_count": 33,
   "id": "d1616753-a878-4871-a097-c850dc5cda23",
   "metadata": {},
   "outputs": [],
   "source": [
    "night_obs = datetime(NYEAR, NMONTH, NDAY, 0, 0)\n",
    "night_obs_midnight= datetime(NYEAR, NMONTH, NDAY, 23, 59,59,tzinfo = tz_utc_minus_xx_hours)"
   ]
  },
  {
   "cell_type": "code",
   "execution_count": 34,
   "id": "20fa7e03-7e05-4fa5-b354-6f0560c26275",
   "metadata": {},
   "outputs": [
    {
     "name": "stdout",
     "output_type": "stream",
     "text": [
      "Night of Observation : 2023-09-12 00:00:00\n"
     ]
    }
   ],
   "source": [
    "night_obs_str=night_obs.strftime(\"%Y-%m-%d %H:%M:%S\")\n",
    "print(f\"Night of Observation : {night_obs_str}\")"
   ]
  },
  {
   "cell_type": "code",
   "execution_count": 35,
   "id": "326528a9-917d-4b82-8b7b-7faaf4b109b2",
   "metadata": {},
   "outputs": [
    {
     "name": "stdout",
     "output_type": "stream",
     "text": [
      "Midnight of Night of Observation : 2023-09-12 23:59:59\n"
     ]
    }
   ],
   "source": [
    "night_obs_midnight_str=night_obs_midnight.strftime(\"%Y-%m-%d %H:%M:%S\")\n",
    "night_obs_midnight_str\n",
    "print(f\"Midnight of Night of Observation : {night_obs_midnight_str}\")"
   ]
  },
  {
   "cell_type": "markdown",
   "id": "7a1e1c82-3859-40bc-9de1-4c62a2b4a0d2",
   "metadata": {},
   "source": [
    "### Compute UTC and Sideral Time at local midnight"
   ]
  },
  {
   "cell_type": "code",
   "execution_count": 36,
   "id": "edad866b-0a74-4aa6-a56c-530506f89afc",
   "metadata": {},
   "outputs": [
    {
     "name": "stdout",
     "output_type": "stream",
     "text": [
      "Local time in Santiago in summer (GMT-4) in summer :  2023-09-12 23:59:59-04:00\n",
      "Time in UTC                               :  2023-09-13 03:59:59+00:00\n"
     ]
    }
   ],
   "source": [
    "tz_utc = TimezoneInfo() \n",
    "print(\"Local time in Santiago in summer (GMT-4) in summer : \",night_obs_midnight)\n",
    "print(\"Time in UTC                               : \",night_obs_midnight.astimezone(tz_utc))"
   ]
  },
  {
   "cell_type": "markdown",
   "id": "17ad4af8-38dc-4c7e-9e30-7c9c2543269a",
   "metadata": {},
   "source": [
    "### Sideral time at LSST site midnight"
   ]
  },
  {
   "cell_type": "code",
   "execution_count": 37,
   "id": "541db8ff-1222-46d5-aa02-ce0c06621296",
   "metadata": {},
   "outputs": [
    {
     "name": "stdout",
     "output_type": "stream",
     "text": [
      "Sideral Time at LSST midnight: 22h44m36.73287593s\n"
     ]
    }
   ],
   "source": [
    "t_lsst = Time(night_obs_midnight.astimezone(tz_utc), scale='utc',location=lsst_location)\n",
    "t_sidereal_lsst = t_lsst.sidereal_time('apparent')  \n",
    "print(\"Sideral Time at LSST midnight:\",t_sidereal_lsst)"
   ]
  },
  {
   "cell_type": "code",
   "execution_count": 38,
   "id": "06125250-a462-47e4-aaf3-f7c9bd65d5f2",
   "metadata": {},
   "outputs": [
    {
     "name": "stdout",
     "output_type": "stream",
     "text": [
      "Sideral Time angle at LSST midnight: 341d09m10.99313901s\n"
     ]
    }
   ],
   "source": [
    "print(\"Sideral Time angle at LSST midnight:\",Angle(t_sidereal_lsst).to(u.degree))"
   ]
  },
  {
   "cell_type": "code",
   "execution_count": 39,
   "id": "eb933cb3-c53c-4739-9e74-f7f39bd01cc1",
   "metadata": {},
   "outputs": [
    {
     "name": "stdout",
     "output_type": "stream",
     "text": [
      "Sideral Time angle at LSST midnight: 341.15305364972505\n"
     ]
    }
   ],
   "source": [
    "print(\"Sideral Time angle at LSST midnight:\",Angle(t_sidereal_lsst).degree)"
   ]
  },
  {
   "cell_type": "code",
   "execution_count": 40,
   "id": "e3acedf8-b058-4a07-b2a7-97eb799cf674",
   "metadata": {},
   "outputs": [
    {
     "data": {
      "text/latex": [
       "$22^{\\mathrm{h}}44^{\\mathrm{m}}36.73287673^{\\mathrm{s}}$"
      ],
      "text/plain": [
       "<Longitude 22.74353691 hourangle>"
      ]
     },
     "execution_count": 40,
     "metadata": {},
     "output_type": "execute_result"
    }
   ],
   "source": [
    "# To check\n",
    "t_lsst_2 = Time('2023-09-13 03:59:59', scale='utc',location=('-70.73668333d', '-30.24074167d'))\n",
    "t_lsst_2.sidereal_time('apparent') "
   ]
  },
  {
   "cell_type": "markdown",
   "id": "70c67459-8e8f-439c-a9e8-5b375baa20be",
   "metadata": {},
   "source": [
    "## Filter Obervable targets according RA and magnitude and culmination angle\n",
    "\n",
    "- Select the target which Right-Asccention is +/- 6 hours from the sideral time\n",
    "\n",
    "- The culmination Hour angle at the meridian must not be less than -6H to + 6H"
   ]
  },
  {
   "cell_type": "markdown",
   "id": "edd461dd-e8d2-4eb0-b66b-d9e4108d59ab",
   "metadata": {},
   "source": [
    "### Criteria on Margin Angle\n",
    "\n",
    "- documentation to deal with angles : https://het.as.utexas.edu/HET/Software/Astropy-1.0/coordinates/angles.html"
   ]
  },
  {
   "cell_type": "code",
   "execution_count": 41,
   "id": "13bb79f5-a42c-48fb-b1a1-bb11891856fd",
   "metadata": {},
   "outputs": [
    {
     "data": {
      "text/latex": [
       "$6^{\\mathrm{h}}00^{\\mathrm{m}}00^{\\mathrm{s}}$"
      ],
      "text/plain": [
       "<Angle 6. hourangle>"
      ]
     },
     "execution_count": 41,
     "metadata": {},
     "output_type": "execute_result"
    }
   ],
   "source": [
    "MarginAngle = Angle(6.0,u.hour)\n",
    "MarginAngle"
   ]
  },
  {
   "cell_type": "code",
   "execution_count": 42,
   "id": "275cc18e-1aa8-41ab-a6e2-d653debefce9",
   "metadata": {},
   "outputs": [],
   "source": [
    "#calculate tdege range of RA target to be visible within the MarginAngle\n",
    "ra_min = Longitude((t_sidereal_lsst - MarginAngle).degree,unit=u.deg)\n",
    "ra_max = Longitude((t_sidereal_lsst + MarginAngle).degree,unit=u.deg)"
   ]
  },
  {
   "cell_type": "code",
   "execution_count": 43,
   "id": "5742ae68-45a2-4878-97a0-a49a29d47636",
   "metadata": {},
   "outputs": [
    {
     "data": {
      "text/latex": [
       "$251^\\circ09{}^\\prime10.99313901{}^{\\prime\\prime}$"
      ],
      "text/plain": [
       "<Longitude 251.15305365 deg>"
      ]
     },
     "execution_count": 43,
     "metadata": {},
     "output_type": "execute_result"
    }
   ],
   "source": [
    "ra_min"
   ]
  },
  {
   "cell_type": "code",
   "execution_count": 44,
   "id": "03239c17-657f-4398-b15f-444b6e72d357",
   "metadata": {},
   "outputs": [
    {
     "data": {
      "text/latex": [
       "$71^\\circ09{}^\\prime10.99313901{}^{\\prime\\prime}$"
      ],
      "text/plain": [
       "<Longitude 71.15305365 deg>"
      ]
     },
     "execution_count": 44,
     "metadata": {},
     "output_type": "execute_result"
    }
   ],
   "source": [
    "ra_max"
   ]
  },
  {
   "cell_type": "code",
   "execution_count": 45,
   "id": "4e6016f6-8d24-4454-9f72-67e90fb2a3f6",
   "metadata": {},
   "outputs": [],
   "source": [
    "ra_min_angle = Longitude(ra_min,u.degree)\n",
    "ra_max_angle = Longitude(ra_max,u.degree)"
   ]
  },
  {
   "cell_type": "code",
   "execution_count": 46,
   "id": "a28b5486-0876-4a16-9964-d08c0dd4bd82",
   "metadata": {},
   "outputs": [],
   "source": [
    "#ra_min_angle.wrap_angle = 180 * u.deg\n",
    "#ra_max_angle.wrap_angle = 180 * u.deg"
   ]
  },
  {
   "cell_type": "code",
   "execution_count": 47,
   "id": "93a3cedf-248c-4209-98b2-cb7e752eb23e",
   "metadata": {},
   "outputs": [
    {
     "data": {
      "text/plain": [
       "251.15305364972502"
      ]
     },
     "execution_count": 47,
     "metadata": {},
     "output_type": "execute_result"
    }
   ],
   "source": [
    "ra_min_angle.degree"
   ]
  },
  {
   "cell_type": "code",
   "execution_count": 48,
   "id": "a883fb40-d9de-4a88-8181-deafae30f105",
   "metadata": {},
   "outputs": [
    {
     "data": {
      "text/plain": [
       "71.153053649725"
      ]
     },
     "execution_count": 48,
     "metadata": {},
     "output_type": "execute_result"
    }
   ],
   "source": [
    "ra_max_angle.degree"
   ]
  },
  {
   "cell_type": "markdown",
   "id": "ae57e993-af18-4f12-8c88-1841bd2d3d7e",
   "metadata": {},
   "source": [
    "### Criteria on culmination angle"
   ]
  },
  {
   "cell_type": "code",
   "execution_count": 49,
   "id": "2c352d5a-e23f-4bce-ab53-674fd240deee",
   "metadata": {},
   "outputs": [],
   "source": [
    "culmin_angle_min = 40"
   ]
  },
  {
   "cell_type": "markdown",
   "id": "282578cf-b12f-4c0c-ac62-cfb2bb8f8052",
   "metadata": {},
   "source": [
    "### Criteria on magnitude in V"
   ]
  },
  {
   "cell_type": "code",
   "execution_count": 50,
   "id": "83a06a85-728a-4673-97e1-bf1314abad37",
   "metadata": {},
   "outputs": [],
   "source": [
    "magLim = 12."
   ]
  },
  {
   "cell_type": "code",
   "execution_count": 51,
   "id": "e17084a9-28c1-4a8f-8198-21969fdcde02",
   "metadata": {},
   "outputs": [
    {
     "data": {
      "text/latex": [
       "$-30^\\circ14{}^\\prime26.67{}^{\\prime\\prime}$"
      ],
      "text/plain": [
       "<Latitude -30.24074167 deg>"
      ]
     },
     "execution_count": 51,
     "metadata": {},
     "output_type": "execute_result"
    }
   ],
   "source": [
    "latitude"
   ]
  },
  {
   "cell_type": "code",
   "execution_count": 52,
   "id": "760160de-af90-4f7f-94bc-a0ffb7c397b1",
   "metadata": {},
   "outputs": [
    {
     "name": "stdout",
     "output_type": "stream",
     "text": [
      "0, zetSgr, RA = 19.04 , DEC = -29.88 , RA-MIN-MAX = 251.2-71.2,zenith_angle = 0.36  culmination angle = 89.64 , magV = 4.3 , flag_select = True\n",
      "1, delCap, RA = 21.78 , DEC = -16.13 , RA-MIN-MAX = 251.2-71.2,zenith_angle = 14.11  culmination angle = 75.89 , magV = 2.8 , flag_select = True\n",
      "2, gamGru, RA = 21.90 , DEC = -37.36 , RA-MIN-MAX = 251.2-71.2,zenith_angle = 7.12  culmination angle = 82.88 , magV = 3.0 , flag_select = True\n",
      "3, betPsA, RA = 22.53 , DEC = -32.35 , RA-MIN-MAX = 251.2-71.2,zenith_angle = 2.11  culmination angle = 87.89 , magV = 4.3 , flag_select = True\n",
      "4, alfPsA, RA = 22.96 , DEC = -29.62 , RA-MIN-MAX = 251.2-71.2,zenith_angle = 0.62  culmination angle = 89.38 , magV = 1.2 , flag_select = True\n",
      "5, nuFor, RA = 2.07 , DEC = -29.30 , RA-MIN-MAX = 251.2-71.2,zenith_angle = 0.94  culmination angle = 89.06 , magV = 4.7 , flag_select = True\n",
      "6, omeFor, RA = 2.56 , DEC = -28.23 , RA-MIN-MAX = 251.2-71.2,zenith_angle = 2.01  culmination angle = 87.99 , magV = 5.0 , flag_select = True\n",
      "BE CAREFULL , a good target delFor is not in Pre-Selection list, PLEASE CHECK\n",
      "BE CAREFULL , a good target ups04Eri is not in Pre-Selection list, PLEASE CHECK\n"
     ]
    }
   ],
   "source": [
    "all_flag_select = []\n",
    "\n",
    "# numeric collections\n",
    "all_ra_angles_deg = []\n",
    "all_dec_angles_deg = []\n",
    "all_altmax_angle_deg = []\n",
    "all_zenithmin_angle_deg = []\n",
    "all_magV = []\n",
    "\n",
    "# loop on rach entries in the df table to calculate angles\n",
    "\n",
    "for index, row in df.iterrows(): \n",
    "    target_name = row[\"target_name\"]\n",
    "    \n",
    "    \n",
    "    # compute numeric values for ra-dec\n",
    "    ra_angle = Longitude(row['ra_deg'],unit = u.deg) \n",
    "    #ra_angle.wrap_angle = 180 * u.deg\n",
    "    \n",
    "    dec_angle = Angle(row[\"dec_deg\"],unit = u.deg) \n",
    "    \n",
    "    # compute culmination angle\n",
    "    if latitude.deg >= 0:\n",
    "        if dec_angle.deg >= latitude.deg:\n",
    "            zenith_angle =   dec_angle - latitude\n",
    "        else:\n",
    "            zenith_angle = latitude - dec_angle\n",
    "    else:\n",
    "        if dec_angle.deg < latitude.deg :\n",
    "            zenith_angle =   latitude - dec_angle \n",
    "        else:\n",
    "            zenith_angle =   dec_angle - latitude \n",
    "        \n",
    "    \n",
    "    culmination_angle = Angle(90.0, unit = u.deg) - zenith_angle\n",
    "    \n",
    "  \n",
    "    magV = row[\"magV\"]\n",
    "\n",
    "             \n",
    "    all_ra_angles_deg.append(ra_angle.degree)\n",
    "    all_dec_angles_deg.append(dec_angle.degree)\n",
    "    all_altmax_angle_deg.append(culmination_angle.degree) \n",
    "    all_zenithmin_angle_deg.append(zenith_angle.degree )\n",
    "    all_magV.append(magV)\n",
    "  \n",
    "    # test on ra angle\n",
    "    #flag1 = ra_angle.is_within_bounds(ra_min_angle,ra_max_angle)\n",
    "    flag1 = CalculateBounds(ra_angle.degree,ra_min_angle.degree,ra_max_angle.degree)\n",
    "    flag2 = (magV < magLim)\n",
    "    flag3 = False\n",
    "    \n",
    "    # test on culmination angle\n",
    "    if culmination_angle.degree > culmin_angle_min :\n",
    "        flag3 = True\n",
    "        \n",
    "    \n",
    "    flag = flag1 & flag2 & flag3\n",
    "    \n",
    "    # test on preselected names\n",
    "    if FLAG_PRESELECTION_TARGET:\n",
    "        if target_name in preselected_target_names:\n",
    "          \n",
    "            if not flag:\n",
    "                print(f\"BE CAREFULL , a rejected target {target_name} is in Pre-Selection list, PLEASE CHECK\")\n",
    "            flag =True\n",
    "        else:\n",
    "            if flag:\n",
    "                print(f\"BE CAREFULL , a good target {target_name} is not in Pre-Selection list, PLEASE CHECK\")\n",
    "            flag = False\n",
    "    \n",
    "    \n",
    "    \n",
    "    if flag:\n",
    "        print(f\"{index}, {target_name}, RA = {ra_angle.hour:.2f} , DEC = {dec_angle.degree:.2f} , RA-MIN-MAX = {ra_min_angle.deg:.1f}-{ra_max_angle.deg:.1f},zenith_angle = {zenith_angle.degree:.2f}  culmination angle = {culmination_angle.degree:.2f} , magV = {magV} , flag_select = {flag}\")\n",
    "   \n",
    "    all_flag_select.append(flag)                "
   ]
  },
  {
   "cell_type": "code",
   "execution_count": 53,
   "id": "34148bc0-3c60-4fb3-8574-073a6c399a78",
   "metadata": {},
   "outputs": [
    {
     "data": {
      "text/html": [
       "<div>\n",
       "<style scoped>\n",
       "    .dataframe tbody tr th:only-of-type {\n",
       "        vertical-align: middle;\n",
       "    }\n",
       "\n",
       "    .dataframe tbody tr th {\n",
       "        vertical-align: top;\n",
       "    }\n",
       "\n",
       "    .dataframe thead th {\n",
       "        text-align: right;\n",
       "    }\n",
       "</style>\n",
       "<table border=\"1\" class=\"dataframe\">\n",
       "  <thead>\n",
       "    <tr style=\"text-align: right;\">\n",
       "      <th></th>\n",
       "      <th>target_name</th>\n",
       "      <th>ra_deg</th>\n",
       "      <th>dec_deg</th>\n",
       "      <th>magV</th>\n",
       "      <th>RA</th>\n",
       "      <th>DEC</th>\n",
       "    </tr>\n",
       "  </thead>\n",
       "  <tbody>\n",
       "    <tr>\n",
       "      <th>0</th>\n",
       "      <td>zetSgr</td>\n",
       "      <td>285.653040</td>\n",
       "      <td>-29.880063</td>\n",
       "      <td>4.3</td>\n",
       "      <td>19h02m36.7296s</td>\n",
       "      <td>-29d52m48.2268s</td>\n",
       "    </tr>\n",
       "    <tr>\n",
       "      <th>1</th>\n",
       "      <td>delCap</td>\n",
       "      <td>326.760180</td>\n",
       "      <td>-16.127287</td>\n",
       "      <td>2.8</td>\n",
       "      <td>21h47m02.4432s</td>\n",
       "      <td>-16d07m38.2332s</td>\n",
       "    </tr>\n",
       "    <tr>\n",
       "      <th>2</th>\n",
       "      <td>gamGru</td>\n",
       "      <td>328.482151</td>\n",
       "      <td>-37.364872</td>\n",
       "      <td>3.0</td>\n",
       "      <td>21h53m55.71624s</td>\n",
       "      <td>-37d21m53.5392s</td>\n",
       "    </tr>\n",
       "    <tr>\n",
       "      <th>3</th>\n",
       "      <td>betPsA</td>\n",
       "      <td>337.876377</td>\n",
       "      <td>-32.346075</td>\n",
       "      <td>4.3</td>\n",
       "      <td>22h31m30.33048s</td>\n",
       "      <td>-32d20m45.87s</td>\n",
       "    </tr>\n",
       "    <tr>\n",
       "      <th>4</th>\n",
       "      <td>alfPsA</td>\n",
       "      <td>344.412692</td>\n",
       "      <td>-29.622237</td>\n",
       "      <td>1.2</td>\n",
       "      <td>22h57m39.04608s</td>\n",
       "      <td>-29d37m20.0532s</td>\n",
       "    </tr>\n",
       "    <tr>\n",
       "      <th>5</th>\n",
       "      <td>nuFor</td>\n",
       "      <td>31.122660</td>\n",
       "      <td>-29.296818</td>\n",
       "      <td>4.7</td>\n",
       "      <td>2h04m29.4384s</td>\n",
       "      <td>-29d17m48.5448s</td>\n",
       "    </tr>\n",
       "    <tr>\n",
       "      <th>6</th>\n",
       "      <td>omeFor</td>\n",
       "      <td>38.461250</td>\n",
       "      <td>-28.232337</td>\n",
       "      <td>5.0</td>\n",
       "      <td>2h33m50.7s</td>\n",
       "      <td>-28d13m56.4132s</td>\n",
       "    </tr>\n",
       "    <tr>\n",
       "      <th>7</th>\n",
       "      <td>delFor</td>\n",
       "      <td>55.562090</td>\n",
       "      <td>-31.938362</td>\n",
       "      <td>5.0</td>\n",
       "      <td>3h42m14.9016s</td>\n",
       "      <td>-31d56m18.1032s</td>\n",
       "    </tr>\n",
       "    <tr>\n",
       "      <th>8</th>\n",
       "      <td>ups04Eri</td>\n",
       "      <td>64.473590</td>\n",
       "      <td>-33.798349</td>\n",
       "      <td>3.6</td>\n",
       "      <td>4h17m53.6616s</td>\n",
       "      <td>-33d47m54.0564s</td>\n",
       "    </tr>\n",
       "    <tr>\n",
       "      <th>9</th>\n",
       "      <td>alfCol</td>\n",
       "      <td>84.912254</td>\n",
       "      <td>-34.074109</td>\n",
       "      <td>2.7</td>\n",
       "      <td>5h39m38.94096s</td>\n",
       "      <td>-34d04m26.7924s</td>\n",
       "    </tr>\n",
       "    <tr>\n",
       "      <th>10</th>\n",
       "      <td>zetCMa</td>\n",
       "      <td>95.078300</td>\n",
       "      <td>-30.063366</td>\n",
       "      <td>3.0</td>\n",
       "      <td>6h20m18.792s</td>\n",
       "      <td>-30d03m48.1176s</td>\n",
       "    </tr>\n",
       "    <tr>\n",
       "      <th>11</th>\n",
       "      <td>epsCMa</td>\n",
       "      <td>104.656453</td>\n",
       "      <td>-28.972086</td>\n",
       "      <td>1.5</td>\n",
       "      <td>6h58m37.54872s</td>\n",
       "      <td>-28d58m19.5096s</td>\n",
       "    </tr>\n",
       "  </tbody>\n",
       "</table>\n",
       "</div>"
      ],
      "text/plain": [
       "   target_name      ra_deg    dec_deg  magV               RA              DEC\n",
       "0       zetSgr  285.653040 -29.880063   4.3   19h02m36.7296s  -29d52m48.2268s\n",
       "1       delCap  326.760180 -16.127287   2.8   21h47m02.4432s  -16d07m38.2332s\n",
       "2       gamGru  328.482151 -37.364872   3.0  21h53m55.71624s  -37d21m53.5392s\n",
       "3       betPsA  337.876377 -32.346075   4.3  22h31m30.33048s    -32d20m45.87s\n",
       "4       alfPsA  344.412692 -29.622237   1.2  22h57m39.04608s  -29d37m20.0532s\n",
       "5        nuFor   31.122660 -29.296818   4.7    2h04m29.4384s  -29d17m48.5448s\n",
       "6       omeFor   38.461250 -28.232337   5.0       2h33m50.7s  -28d13m56.4132s\n",
       "7       delFor   55.562090 -31.938362   5.0    3h42m14.9016s  -31d56m18.1032s\n",
       "8     ups04Eri   64.473590 -33.798349   3.6    4h17m53.6616s  -33d47m54.0564s\n",
       "9       alfCol   84.912254 -34.074109   2.7   5h39m38.94096s  -34d04m26.7924s\n",
       "10      zetCMa   95.078300 -30.063366   3.0     6h20m18.792s  -30d03m48.1176s\n",
       "11      epsCMa  104.656453 -28.972086   1.5   6h58m37.54872s  -28d58m19.5096s"
      ]
     },
     "execution_count": 53,
     "metadata": {},
     "output_type": "execute_result"
    }
   ],
   "source": [
    "df"
   ]
  },
  {
   "cell_type": "markdown",
   "id": "50c5e48e-9502-4816-b210-2eb21c348d01",
   "metadata": {},
   "source": [
    "### Test selection"
   ]
  },
  {
   "cell_type": "code",
   "execution_count": 54,
   "id": "c286f202-4a60-4d70-8956-c557686db912",
   "metadata": {},
   "outputs": [
    {
     "data": {
      "text/latex": [
       "$251^\\circ09{}^\\prime10.99313901{}^{\\prime\\prime}$"
      ],
      "text/plain": [
       "<Longitude 251.15305365 deg>"
      ]
     },
     "execution_count": 54,
     "metadata": {},
     "output_type": "execute_result"
    }
   ],
   "source": [
    "ra_min_angle"
   ]
  },
  {
   "cell_type": "code",
   "execution_count": 55,
   "id": "0c2ee194-748a-42ef-86b5-bcf8d016db66",
   "metadata": {},
   "outputs": [
    {
     "data": {
      "text/latex": [
       "$71^\\circ09{}^\\prime10.99313901{}^{\\prime\\prime}$"
      ],
      "text/plain": [
       "<Longitude 71.15305365 deg>"
      ]
     },
     "execution_count": 55,
     "metadata": {},
     "output_type": "execute_result"
    }
   ],
   "source": [
    "ra_max_angle"
   ]
  },
  {
   "cell_type": "code",
   "execution_count": 56,
   "id": "dc845bf7-b7d4-4f45-957c-690a4ceaaa69",
   "metadata": {},
   "outputs": [
    {
     "data": {
      "text/plain": [
       "True"
      ]
     },
     "execution_count": 56,
     "metadata": {},
     "output_type": "execute_result"
    }
   ],
   "source": [
    "ra_angle= Longitude(31.122660,unit=u.deg)\n",
    "CalculateBounds(ra_angle.degree,ra_min_angle.degree,ra_max_angle.degree)"
   ]
  },
  {
   "cell_type": "markdown",
   "id": "a65787d9-0e5a-475c-bc3c-164e68c09c86",
   "metadata": {},
   "source": [
    "## Add calculated numerical values to the pandas table"
   ]
  },
  {
   "cell_type": "code",
   "execution_count": 57,
   "id": "5e734093-f549-4a39-95a2-6ac5549955d2",
   "metadata": {},
   "outputs": [],
   "source": [
    "df[\"ra_deg\"] = all_ra_angles_deg\n",
    "df[\"dec_deg\"] = all_dec_angles_deg \n",
    "df[\"alt_max\"] = all_altmax_angle_deg\n",
    "df[\"zenith_min\"] = all_zenithmin_angle_deg\n",
    "df[\"magV\"] = all_magV "
   ]
  },
  {
   "cell_type": "markdown",
   "id": "2d742433-d0b8-43fb-9b52-4711f9de1bc4",
   "metadata": {},
   "source": [
    "## Apply selection cut"
   ]
  },
  {
   "cell_type": "code",
   "execution_count": 58,
   "id": "d380fc89-e36b-49bc-b949-1df35244c5e5",
   "metadata": {},
   "outputs": [],
   "source": [
    "df[\"select\"] = all_flag_select\n",
    "cut = df[\"select\"] == True\n",
    "\n",
    "t=df[cut]\n",
    "NTargets=len(t)"
   ]
  },
  {
   "cell_type": "code",
   "execution_count": 59,
   "id": "67363e71-4bc2-4f55-affd-e4145f512d06",
   "metadata": {},
   "outputs": [
    {
     "data": {
      "text/html": [
       "<div>\n",
       "<style scoped>\n",
       "    .dataframe tbody tr th:only-of-type {\n",
       "        vertical-align: middle;\n",
       "    }\n",
       "\n",
       "    .dataframe tbody tr th {\n",
       "        vertical-align: top;\n",
       "    }\n",
       "\n",
       "    .dataframe thead th {\n",
       "        text-align: right;\n",
       "    }\n",
       "</style>\n",
       "<table border=\"1\" class=\"dataframe\">\n",
       "  <thead>\n",
       "    <tr style=\"text-align: right;\">\n",
       "      <th></th>\n",
       "      <th>target_name</th>\n",
       "      <th>ra_deg</th>\n",
       "      <th>dec_deg</th>\n",
       "      <th>magV</th>\n",
       "      <th>RA</th>\n",
       "      <th>DEC</th>\n",
       "      <th>alt_max</th>\n",
       "      <th>zenith_min</th>\n",
       "      <th>select</th>\n",
       "    </tr>\n",
       "  </thead>\n",
       "  <tbody>\n",
       "    <tr>\n",
       "      <th>0</th>\n",
       "      <td>zetSgr</td>\n",
       "      <td>285.653040</td>\n",
       "      <td>-29.880063</td>\n",
       "      <td>4.3</td>\n",
       "      <td>19h02m36.7296s</td>\n",
       "      <td>-29d52m48.2268s</td>\n",
       "      <td>89.639321</td>\n",
       "      <td>0.360679</td>\n",
       "      <td>True</td>\n",
       "    </tr>\n",
       "    <tr>\n",
       "      <th>1</th>\n",
       "      <td>delCap</td>\n",
       "      <td>326.760180</td>\n",
       "      <td>-16.127287</td>\n",
       "      <td>2.8</td>\n",
       "      <td>21h47m02.4432s</td>\n",
       "      <td>-16d07m38.2332s</td>\n",
       "      <td>75.886545</td>\n",
       "      <td>14.113455</td>\n",
       "      <td>True</td>\n",
       "    </tr>\n",
       "    <tr>\n",
       "      <th>2</th>\n",
       "      <td>gamGru</td>\n",
       "      <td>328.482151</td>\n",
       "      <td>-37.364872</td>\n",
       "      <td>3.0</td>\n",
       "      <td>21h53m55.71624s</td>\n",
       "      <td>-37d21m53.5392s</td>\n",
       "      <td>82.875870</td>\n",
       "      <td>7.124130</td>\n",
       "      <td>True</td>\n",
       "    </tr>\n",
       "    <tr>\n",
       "      <th>3</th>\n",
       "      <td>betPsA</td>\n",
       "      <td>337.876377</td>\n",
       "      <td>-32.346075</td>\n",
       "      <td>4.3</td>\n",
       "      <td>22h31m30.33048s</td>\n",
       "      <td>-32d20m45.87s</td>\n",
       "      <td>87.894667</td>\n",
       "      <td>2.105333</td>\n",
       "      <td>True</td>\n",
       "    </tr>\n",
       "    <tr>\n",
       "      <th>4</th>\n",
       "      <td>alfPsA</td>\n",
       "      <td>344.412692</td>\n",
       "      <td>-29.622237</td>\n",
       "      <td>1.2</td>\n",
       "      <td>22h57m39.04608s</td>\n",
       "      <td>-29d37m20.0532s</td>\n",
       "      <td>89.381495</td>\n",
       "      <td>0.618505</td>\n",
       "      <td>True</td>\n",
       "    </tr>\n",
       "    <tr>\n",
       "      <th>5</th>\n",
       "      <td>nuFor</td>\n",
       "      <td>31.122660</td>\n",
       "      <td>-29.296818</td>\n",
       "      <td>4.7</td>\n",
       "      <td>2h04m29.4384s</td>\n",
       "      <td>-29d17m48.5448s</td>\n",
       "      <td>89.056076</td>\n",
       "      <td>0.943924</td>\n",
       "      <td>True</td>\n",
       "    </tr>\n",
       "    <tr>\n",
       "      <th>6</th>\n",
       "      <td>omeFor</td>\n",
       "      <td>38.461250</td>\n",
       "      <td>-28.232337</td>\n",
       "      <td>5.0</td>\n",
       "      <td>2h33m50.7s</td>\n",
       "      <td>-28d13m56.4132s</td>\n",
       "      <td>87.991595</td>\n",
       "      <td>2.008405</td>\n",
       "      <td>True</td>\n",
       "    </tr>\n",
       "  </tbody>\n",
       "</table>\n",
       "</div>"
      ],
      "text/plain": [
       "  target_name      ra_deg    dec_deg  magV               RA              DEC  \\\n",
       "0      zetSgr  285.653040 -29.880063   4.3   19h02m36.7296s  -29d52m48.2268s   \n",
       "1      delCap  326.760180 -16.127287   2.8   21h47m02.4432s  -16d07m38.2332s   \n",
       "2      gamGru  328.482151 -37.364872   3.0  21h53m55.71624s  -37d21m53.5392s   \n",
       "3      betPsA  337.876377 -32.346075   4.3  22h31m30.33048s    -32d20m45.87s   \n",
       "4      alfPsA  344.412692 -29.622237   1.2  22h57m39.04608s  -29d37m20.0532s   \n",
       "5       nuFor   31.122660 -29.296818   4.7    2h04m29.4384s  -29d17m48.5448s   \n",
       "6      omeFor   38.461250 -28.232337   5.0       2h33m50.7s  -28d13m56.4132s   \n",
       "\n",
       "     alt_max  zenith_min  select  \n",
       "0  89.639321    0.360679    True  \n",
       "1  75.886545   14.113455    True  \n",
       "2  82.875870    7.124130    True  \n",
       "3  87.894667    2.105333    True  \n",
       "4  89.381495    0.618505    True  \n",
       "5  89.056076    0.943924    True  \n",
       "6  87.991595    2.008405    True  "
      ]
     },
     "execution_count": 59,
     "metadata": {},
     "output_type": "execute_result"
    }
   ],
   "source": [
    "t"
   ]
  },
  {
   "cell_type": "markdown",
   "id": "ef750b29-db9d-4acd-8b44-d3b78a2af1de",
   "metadata": {},
   "source": [
    "### Must reindex the table"
   ]
  },
  {
   "cell_type": "code",
   "execution_count": 60,
   "id": "cb0910ca-58e1-4b07-a679-0137e553dcdf",
   "metadata": {},
   "outputs": [],
   "source": [
    "t = t.reset_index(drop=True)"
   ]
  },
  {
   "cell_type": "code",
   "execution_count": 61,
   "id": "34531200-9589-4fc1-8154-cdb527b3d5b2",
   "metadata": {},
   "outputs": [
    {
     "data": {
      "text/html": [
       "<div>\n",
       "<style scoped>\n",
       "    .dataframe tbody tr th:only-of-type {\n",
       "        vertical-align: middle;\n",
       "    }\n",
       "\n",
       "    .dataframe tbody tr th {\n",
       "        vertical-align: top;\n",
       "    }\n",
       "\n",
       "    .dataframe thead th {\n",
       "        text-align: right;\n",
       "    }\n",
       "</style>\n",
       "<table border=\"1\" class=\"dataframe\">\n",
       "  <thead>\n",
       "    <tr style=\"text-align: right;\">\n",
       "      <th></th>\n",
       "      <th>target_name</th>\n",
       "      <th>ra_deg</th>\n",
       "      <th>dec_deg</th>\n",
       "      <th>magV</th>\n",
       "      <th>RA</th>\n",
       "      <th>DEC</th>\n",
       "      <th>alt_max</th>\n",
       "      <th>zenith_min</th>\n",
       "      <th>select</th>\n",
       "    </tr>\n",
       "  </thead>\n",
       "  <tbody>\n",
       "    <tr>\n",
       "      <th>0</th>\n",
       "      <td>zetSgr</td>\n",
       "      <td>285.653040</td>\n",
       "      <td>-29.880063</td>\n",
       "      <td>4.3</td>\n",
       "      <td>19h02m36.7296s</td>\n",
       "      <td>-29d52m48.2268s</td>\n",
       "      <td>89.639321</td>\n",
       "      <td>0.360679</td>\n",
       "      <td>True</td>\n",
       "    </tr>\n",
       "    <tr>\n",
       "      <th>1</th>\n",
       "      <td>delCap</td>\n",
       "      <td>326.760180</td>\n",
       "      <td>-16.127287</td>\n",
       "      <td>2.8</td>\n",
       "      <td>21h47m02.4432s</td>\n",
       "      <td>-16d07m38.2332s</td>\n",
       "      <td>75.886545</td>\n",
       "      <td>14.113455</td>\n",
       "      <td>True</td>\n",
       "    </tr>\n",
       "    <tr>\n",
       "      <th>2</th>\n",
       "      <td>gamGru</td>\n",
       "      <td>328.482151</td>\n",
       "      <td>-37.364872</td>\n",
       "      <td>3.0</td>\n",
       "      <td>21h53m55.71624s</td>\n",
       "      <td>-37d21m53.5392s</td>\n",
       "      <td>82.875870</td>\n",
       "      <td>7.124130</td>\n",
       "      <td>True</td>\n",
       "    </tr>\n",
       "    <tr>\n",
       "      <th>3</th>\n",
       "      <td>betPsA</td>\n",
       "      <td>337.876377</td>\n",
       "      <td>-32.346075</td>\n",
       "      <td>4.3</td>\n",
       "      <td>22h31m30.33048s</td>\n",
       "      <td>-32d20m45.87s</td>\n",
       "      <td>87.894667</td>\n",
       "      <td>2.105333</td>\n",
       "      <td>True</td>\n",
       "    </tr>\n",
       "    <tr>\n",
       "      <th>4</th>\n",
       "      <td>alfPsA</td>\n",
       "      <td>344.412692</td>\n",
       "      <td>-29.622237</td>\n",
       "      <td>1.2</td>\n",
       "      <td>22h57m39.04608s</td>\n",
       "      <td>-29d37m20.0532s</td>\n",
       "      <td>89.381495</td>\n",
       "      <td>0.618505</td>\n",
       "      <td>True</td>\n",
       "    </tr>\n",
       "    <tr>\n",
       "      <th>5</th>\n",
       "      <td>nuFor</td>\n",
       "      <td>31.122660</td>\n",
       "      <td>-29.296818</td>\n",
       "      <td>4.7</td>\n",
       "      <td>2h04m29.4384s</td>\n",
       "      <td>-29d17m48.5448s</td>\n",
       "      <td>89.056076</td>\n",
       "      <td>0.943924</td>\n",
       "      <td>True</td>\n",
       "    </tr>\n",
       "    <tr>\n",
       "      <th>6</th>\n",
       "      <td>omeFor</td>\n",
       "      <td>38.461250</td>\n",
       "      <td>-28.232337</td>\n",
       "      <td>5.0</td>\n",
       "      <td>2h33m50.7s</td>\n",
       "      <td>-28d13m56.4132s</td>\n",
       "      <td>87.991595</td>\n",
       "      <td>2.008405</td>\n",
       "      <td>True</td>\n",
       "    </tr>\n",
       "  </tbody>\n",
       "</table>\n",
       "</div>"
      ],
      "text/plain": [
       "  target_name      ra_deg    dec_deg  magV               RA              DEC  \\\n",
       "0      zetSgr  285.653040 -29.880063   4.3   19h02m36.7296s  -29d52m48.2268s   \n",
       "1      delCap  326.760180 -16.127287   2.8   21h47m02.4432s  -16d07m38.2332s   \n",
       "2      gamGru  328.482151 -37.364872   3.0  21h53m55.71624s  -37d21m53.5392s   \n",
       "3      betPsA  337.876377 -32.346075   4.3  22h31m30.33048s    -32d20m45.87s   \n",
       "4      alfPsA  344.412692 -29.622237   1.2  22h57m39.04608s  -29d37m20.0532s   \n",
       "5       nuFor   31.122660 -29.296818   4.7    2h04m29.4384s  -29d17m48.5448s   \n",
       "6      omeFor   38.461250 -28.232337   5.0       2h33m50.7s  -28d13m56.4132s   \n",
       "\n",
       "     alt_max  zenith_min  select  \n",
       "0  89.639321    0.360679    True  \n",
       "1  75.886545   14.113455    True  \n",
       "2  82.875870    7.124130    True  \n",
       "3  87.894667    2.105333    True  \n",
       "4  89.381495    0.618505    True  \n",
       "5  89.056076    0.943924    True  \n",
       "6  87.991595    2.008405    True  "
      ]
     },
     "execution_count": 61,
     "metadata": {},
     "output_type": "execute_result"
    }
   ],
   "source": [
    "t"
   ]
  },
  {
   "cell_type": "code",
   "execution_count": 62,
   "id": "d5bddf5e-2140-4ccf-aaab-df1e23f65e91",
   "metadata": {},
   "outputs": [],
   "source": [
    "# wavelength bin colors\n",
    "jet = plt.get_cmap('jet')\n",
    "cNorm = colors.Normalize(vmin=0, vmax=NTargets)\n",
    "scalarMap = cmx.ScalarMappable(norm=cNorm, cmap=jet)\n",
    "all_colors = scalarMap.to_rgba(np.arange(NTargets), alpha=1)"
   ]
  },
  {
   "cell_type": "markdown",
   "id": "5fd1f4c8-b3ee-473c-92a5-32456d3c6577",
   "metadata": {},
   "source": [
    "## Compute Target location before computing their sky trajectory"
   ]
  },
  {
   "cell_type": "code",
   "execution_count": 63,
   "id": "f087ba7d-1bc2-4477-9e5b-c27e7efdb2aa",
   "metadata": {},
   "outputs": [
    {
     "name": "stdout",
     "output_type": "stream",
     "text": [
      "order in selected target location\n",
      "0    zetSgr\n",
      "1    delCap\n",
      "2    gamGru\n",
      "3    betPsA\n",
      "4    alfPsA\n",
      "5     nuFor\n",
      "6    omeFor\n",
      "Name: target_name, dtype: object\n"
     ]
    }
   ],
   "source": [
    "all_target_names = t[\"target_name\"]\n",
    "print(\"order in selected target location\")\n",
    "print(all_target_names)\n",
    "#selected_target_locations = [ SkyCoord.from_name(target_name) for target_name in all_target_names]\n",
    "selected_target_locations = []\n",
    "for index, row in t.iterrows(): \n",
    "    coord = SkyCoord(row['ra_deg'],row['dec_deg'],unit = \"deg\")\n",
    "    selected_target_locations.append(coord)"
   ]
  },
  {
   "cell_type": "code",
   "execution_count": 64,
   "id": "336d7aad-b10c-4360-b83f-ac3731991f65",
   "metadata": {},
   "outputs": [],
   "source": [
    "all_ra_astroquery=[]\n",
    "all_dec_astroquery=[]\n",
    "for target_loc in selected_target_locations:\n",
    "    all_ra_astroquery.append(target_loc.ra)\n",
    "    all_dec_astroquery.append(target_loc.dec)"
   ]
  },
  {
   "cell_type": "markdown",
   "id": "721d6097-1e49-4538-9692-26c0043dddec",
   "metadata": {},
   "source": [
    "## Compute target tag\n",
    "\n",
    "- the legend in the plot"
   ]
  },
  {
   "cell_type": "code",
   "execution_count": 65,
   "id": "a6dc774b-2dda-4ee8-9815-1f2295830e4d",
   "metadata": {},
   "outputs": [
    {
     "data": {
      "text/html": [
       "<div>\n",
       "<style scoped>\n",
       "    .dataframe tbody tr th:only-of-type {\n",
       "        vertical-align: middle;\n",
       "    }\n",
       "\n",
       "    .dataframe tbody tr th {\n",
       "        vertical-align: top;\n",
       "    }\n",
       "\n",
       "    .dataframe thead th {\n",
       "        text-align: right;\n",
       "    }\n",
       "</style>\n",
       "<table border=\"1\" class=\"dataframe\">\n",
       "  <thead>\n",
       "    <tr style=\"text-align: right;\">\n",
       "      <th></th>\n",
       "      <th>target_name</th>\n",
       "      <th>ra_deg</th>\n",
       "      <th>dec_deg</th>\n",
       "      <th>magV</th>\n",
       "      <th>RA</th>\n",
       "      <th>DEC</th>\n",
       "      <th>alt_max</th>\n",
       "      <th>zenith_min</th>\n",
       "      <th>select</th>\n",
       "    </tr>\n",
       "  </thead>\n",
       "  <tbody>\n",
       "    <tr>\n",
       "      <th>0</th>\n",
       "      <td>zetSgr</td>\n",
       "      <td>285.653040</td>\n",
       "      <td>-29.880063</td>\n",
       "      <td>4.3</td>\n",
       "      <td>19h02m36.7296s</td>\n",
       "      <td>-29d52m48.2268s</td>\n",
       "      <td>89.639321</td>\n",
       "      <td>0.360679</td>\n",
       "      <td>True</td>\n",
       "    </tr>\n",
       "    <tr>\n",
       "      <th>1</th>\n",
       "      <td>delCap</td>\n",
       "      <td>326.760180</td>\n",
       "      <td>-16.127287</td>\n",
       "      <td>2.8</td>\n",
       "      <td>21h47m02.4432s</td>\n",
       "      <td>-16d07m38.2332s</td>\n",
       "      <td>75.886545</td>\n",
       "      <td>14.113455</td>\n",
       "      <td>True</td>\n",
       "    </tr>\n",
       "    <tr>\n",
       "      <th>2</th>\n",
       "      <td>gamGru</td>\n",
       "      <td>328.482151</td>\n",
       "      <td>-37.364872</td>\n",
       "      <td>3.0</td>\n",
       "      <td>21h53m55.71624s</td>\n",
       "      <td>-37d21m53.5392s</td>\n",
       "      <td>82.875870</td>\n",
       "      <td>7.124130</td>\n",
       "      <td>True</td>\n",
       "    </tr>\n",
       "    <tr>\n",
       "      <th>3</th>\n",
       "      <td>betPsA</td>\n",
       "      <td>337.876377</td>\n",
       "      <td>-32.346075</td>\n",
       "      <td>4.3</td>\n",
       "      <td>22h31m30.33048s</td>\n",
       "      <td>-32d20m45.87s</td>\n",
       "      <td>87.894667</td>\n",
       "      <td>2.105333</td>\n",
       "      <td>True</td>\n",
       "    </tr>\n",
       "    <tr>\n",
       "      <th>4</th>\n",
       "      <td>alfPsA</td>\n",
       "      <td>344.412692</td>\n",
       "      <td>-29.622237</td>\n",
       "      <td>1.2</td>\n",
       "      <td>22h57m39.04608s</td>\n",
       "      <td>-29d37m20.0532s</td>\n",
       "      <td>89.381495</td>\n",
       "      <td>0.618505</td>\n",
       "      <td>True</td>\n",
       "    </tr>\n",
       "    <tr>\n",
       "      <th>5</th>\n",
       "      <td>nuFor</td>\n",
       "      <td>31.122660</td>\n",
       "      <td>-29.296818</td>\n",
       "      <td>4.7</td>\n",
       "      <td>2h04m29.4384s</td>\n",
       "      <td>-29d17m48.5448s</td>\n",
       "      <td>89.056076</td>\n",
       "      <td>0.943924</td>\n",
       "      <td>True</td>\n",
       "    </tr>\n",
       "    <tr>\n",
       "      <th>6</th>\n",
       "      <td>omeFor</td>\n",
       "      <td>38.461250</td>\n",
       "      <td>-28.232337</td>\n",
       "      <td>5.0</td>\n",
       "      <td>2h33m50.7s</td>\n",
       "      <td>-28d13m56.4132s</td>\n",
       "      <td>87.991595</td>\n",
       "      <td>2.008405</td>\n",
       "      <td>True</td>\n",
       "    </tr>\n",
       "  </tbody>\n",
       "</table>\n",
       "</div>"
      ],
      "text/plain": [
       "  target_name      ra_deg    dec_deg  magV               RA              DEC  \\\n",
       "0      zetSgr  285.653040 -29.880063   4.3   19h02m36.7296s  -29d52m48.2268s   \n",
       "1      delCap  326.760180 -16.127287   2.8   21h47m02.4432s  -16d07m38.2332s   \n",
       "2      gamGru  328.482151 -37.364872   3.0  21h53m55.71624s  -37d21m53.5392s   \n",
       "3      betPsA  337.876377 -32.346075   4.3  22h31m30.33048s    -32d20m45.87s   \n",
       "4      alfPsA  344.412692 -29.622237   1.2  22h57m39.04608s  -29d37m20.0532s   \n",
       "5       nuFor   31.122660 -29.296818   4.7    2h04m29.4384s  -29d17m48.5448s   \n",
       "6      omeFor   38.461250 -28.232337   5.0       2h33m50.7s  -28d13m56.4132s   \n",
       "\n",
       "     alt_max  zenith_min  select  \n",
       "0  89.639321    0.360679    True  \n",
       "1  75.886545   14.113455    True  \n",
       "2  82.875870    7.124130    True  \n",
       "3  87.894667    2.105333    True  \n",
       "4  89.381495    0.618505    True  \n",
       "5  89.056076    0.943924    True  \n",
       "6  87.991595    2.008405    True  "
      ]
     },
     "execution_count": 65,
     "metadata": {},
     "output_type": "execute_result"
    }
   ],
   "source": [
    "t"
   ]
  },
  {
   "cell_type": "code",
   "execution_count": 66,
   "id": "a6f6dccf-46a9-4942-a699-f09ab0de8a04",
   "metadata": {},
   "outputs": [
    {
     "name": "stdout",
     "output_type": "stream",
     "text": [
      "0) zetSgr ::zetSgr, m= 4.3 :: simbad : False\n",
      "1) delCap ::delCap, m= 2.8 :: simbad : False\n",
      "2) gamGru ::gamGru, m= 3.0 :: simbad : False\n",
      "3) betPsA ::betPsA, m= 4.3 :: simbad : False\n",
      "4) alfPsA ::alfPsA, m= 1.2 :: simbad : False\n",
      "5) nuFor ::nuFor, m= 4.7 :: simbad : False\n",
      "6) omeFor ::omeFor, m= 5.0 :: simbad : False\n"
     ]
    },
    {
     "name": "stderr",
     "output_type": "stream",
     "text": [
      "/Users/sylvie/mambaforge/lib/python3.10/site-packages/astroquery/simbad/core.py:135: UserWarning: Warning: The script line number 3 raised an error (recorded in the `errors` attribute of the result table): 'zetSgr': No known catalog could be found\n",
      "  warnings.warn(\"Warning: The script line number %i raised \"\n",
      "/Users/sylvie/mambaforge/lib/python3.10/site-packages/astroquery/simbad/core.py:135: UserWarning: Warning: The script line number 3 raised an error (recorded in the `errors` attribute of the result table): 'delCap': No known catalog could be found\n",
      "  warnings.warn(\"Warning: The script line number %i raised \"\n",
      "/Users/sylvie/mambaforge/lib/python3.10/site-packages/astroquery/simbad/core.py:135: UserWarning: Warning: The script line number 3 raised an error (recorded in the `errors` attribute of the result table): 'gamGru': No known catalog could be found\n",
      "  warnings.warn(\"Warning: The script line number %i raised \"\n",
      "/Users/sylvie/mambaforge/lib/python3.10/site-packages/astroquery/simbad/core.py:135: UserWarning: Warning: The script line number 3 raised an error (recorded in the `errors` attribute of the result table): 'betPsA': No known catalog could be found\n",
      "  warnings.warn(\"Warning: The script line number %i raised \"\n",
      "/Users/sylvie/mambaforge/lib/python3.10/site-packages/astroquery/simbad/core.py:135: UserWarning: Warning: The script line number 3 raised an error (recorded in the `errors` attribute of the result table): 'alfPsA': No known catalog could be found\n",
      "  warnings.warn(\"Warning: The script line number %i raised \"\n",
      "/Users/sylvie/mambaforge/lib/python3.10/site-packages/astroquery/simbad/core.py:135: UserWarning: Warning: The script line number 3 raised an error (recorded in the `errors` attribute of the result table): 'nuFor': No known catalog could be found\n",
      "  warnings.warn(\"Warning: The script line number %i raised \"\n",
      "/Users/sylvie/mambaforge/lib/python3.10/site-packages/astroquery/simbad/core.py:135: UserWarning: Warning: The script line number 3 raised an error (recorded in the `errors` attribute of the result table): 'omeFor': No known catalog could be found\n",
      "  warnings.warn(\"Warning: The script line number %i raised \"\n"
     ]
    }
   ],
   "source": [
    "all_target_simbadnames = t[\"target_name\"]\n",
    "all_Vmag = []\n",
    "all_types = []\n",
    "all_target_tagnames = []\n",
    "for idx, target_name in enumerate(all_target_simbadnames):\n",
    "    flag_simbad = False\n",
    "    try:\n",
    "        result_table = Simbad.query_object(target_name)\n",
    "        all_Vmag.append(result_table['FLUX_V'][0])\n",
    "        all_types.append(result_table['SP_TYPE'][0])\n",
    "        \n",
    "        row = t.iloc[idx]\n",
    "        tagname =  target_name + \", m = \" + str(result_table['FLUX_V'][0]) + \", B-V = \"+ row[\"B_V\"]  + \" (\" + result_table['SP_TYPE'][0] +\")\" \n",
    "        flag_simbad = True\n",
    "    except:\n",
    "        row = t.iloc[idx]\n",
    "        tagname = row[\"target_name\"] + \", m= \" + str(row[\"magV\"])\n",
    "    finally:\n",
    "        \n",
    "        print(f\"{idx}) {target_name} ::{tagname} :: simbad : {flag_simbad}\")\n",
    "        all_target_tagnames.append(tagname)"
   ]
  },
  {
   "cell_type": "code",
   "execution_count": 67,
   "id": "92e895e1-d543-489e-a727-df5997cfd19d",
   "metadata": {},
   "outputs": [],
   "source": [
    "result_table"
   ]
  },
  {
   "cell_type": "code",
   "execution_count": 68,
   "id": "6099bc09-718c-491e-924a-e35b801f72f0",
   "metadata": {},
   "outputs": [
    {
     "data": {
      "text/plain": [
       "['zetSgr, m= 4.3',\n",
       " 'delCap, m= 2.8',\n",
       " 'gamGru, m= 3.0',\n",
       " 'betPsA, m= 4.3',\n",
       " 'alfPsA, m= 1.2',\n",
       " 'nuFor, m= 4.7',\n",
       " 'omeFor, m= 5.0']"
      ]
     },
     "execution_count": 68,
     "metadata": {},
     "output_type": "execute_result"
    }
   ],
   "source": [
    "all_target_tagnames"
   ]
  },
  {
   "cell_type": "code",
   "execution_count": 69,
   "id": "942a02a4-3d6d-4f56-a633-d7f1ada37e8a",
   "metadata": {},
   "outputs": [],
   "source": [
    "t[\"tag\"] = all_target_tagnames"
   ]
  },
  {
   "cell_type": "markdown",
   "id": "3ed31001-2ae3-47cb-9d36-694e107f05cc",
   "metadata": {},
   "source": [
    "# Astronomical in Observation frame for each selected target"
   ]
  },
  {
   "cell_type": "markdown",
   "id": "9daa30a8-7dd1-434c-8167-0d014b46e685",
   "metadata": {},
   "source": [
    "## Initialisation "
   ]
  },
  {
   "cell_type": "code",
   "execution_count": 70,
   "id": "1fda626d-38bf-4379-9352-8a0410a27a48",
   "metadata": {},
   "outputs": [],
   "source": [
    "midnight_utc = Time(night_obs_midnight_str) - utcoffset*u.hour\n",
    "delta_midnight = np.linspace(-12, 12, 1000)*u.hour\n",
    "sideral_times = Angle(t_sidereal_lsst) + Angle(delta_midnight)\n",
    "times_evening_to_morning = midnight_utc + delta_midnight\n",
    "frame_evening_to_morning = AltAz(obstime=times_evening_to_morning, location=cerro_pachon)"
   ]
  },
  {
   "cell_type": "code",
   "execution_count": 71,
   "id": "cbe2ef39-abee-4d6d-bd4d-c9f798f85a83",
   "metadata": {},
   "outputs": [],
   "source": [
    "times_evening_to_morning_datetime = times_evening_to_morning.to_datetime()"
   ]
  },
  {
   "cell_type": "markdown",
   "id": "7ddc2a29-3a3c-413a-9118-9ae911ec6bb9",
   "metadata": {},
   "source": [
    "## Sun frame"
   ]
  },
  {
   "cell_type": "code",
   "execution_count": 72,
   "id": "d48907c0-f2bd-40eb-ab06-c8839756e6e2",
   "metadata": {},
   "outputs": [],
   "source": [
    "from astropy.coordinates import get_sun\n",
    "sunaltazs_evening_to_morning = get_sun(times_evening_to_morning).transform_to(frame_evening_to_morning)"
   ]
  },
  {
   "cell_type": "markdown",
   "id": "782e934f-6ca6-4972-aba8-51b8093d1c32",
   "metadata": {},
   "source": [
    "## Moon frame"
   ]
  },
  {
   "cell_type": "code",
   "execution_count": 73,
   "id": "2dfa3a81-46a2-41ef-84ed-3a590e9c2b21",
   "metadata": {},
   "outputs": [
    {
     "name": "stderr",
     "output_type": "stream",
     "text": [
      "WARNING: AstropyDeprecationWarning: The get_moon function is deprecated and may be removed in a future version.\n",
      "        Use get_body(\"moon\") instead. [warnings]\n"
     ]
    }
   ],
   "source": [
    "from astropy.coordinates import get_moon\n",
    "moon_evening_to_morning = get_moon(times_evening_to_morning)\n",
    "moonaltazs_evening_to_morning = moon_evening_to_morning.transform_to(frame_evening_to_morning)"
   ]
  },
  {
   "cell_type": "markdown",
   "id": "617b0eb1-8947-40db-a81b-a41739ffa80b",
   "metadata": {},
   "source": [
    "## Targets Frame"
   ]
  },
  {
   "cell_type": "code",
   "execution_count": 74,
   "id": "664ebc1f-f6db-4be4-9bf6-fd203a18e0fc",
   "metadata": {},
   "outputs": [],
   "source": [
    "all_target_altazs_evening_to_morning = [target_location.transform_to(frame_evening_to_morning) for target_location in  selected_target_locations ]"
   ]
  },
  {
   "cell_type": "markdown",
   "id": "fcadc2c8-c8bd-41a8-8843-954ea6d95cbe",
   "metadata": {},
   "source": [
    "## Distance to the moon"
   ]
  },
  {
   "cell_type": "code",
   "execution_count": null,
   "id": "798b7a8a-ef2a-4427-bb05-5d051ca65ed4",
   "metadata": {},
   "outputs": [],
   "source": [
    "all_target_distancetomoon_evening_to_morning = [] \n",
    "\n",
    "num_target=0\n",
    "for idx,targetcoordinateseries in enumerate(all_target_altazs_evening_to_morning): \n",
    "    N_coord = len(targetcoordinateseries)\n",
    "    idx_coord = 0\n",
    "    all_distances_sep = []\n",
    "    for idx_coord in range(N_coord):\n",
    "        distance_sep=targetcoordinateseries[idx_coord].separation(moonaltazs_evening_to_morning[idx_coord])\n",
    "        all_distances_sep.append(distance_sep.degree)\n",
    "    all_distances_sep= np.array(all_distances_sep)\n",
    "    all_distances_sep_min = all_distances_sep.min()\n",
    "    all_target_distancetomoon_evening_to_morning.append(all_distances_sep_min) \n",
    "    all_target_tagnames[idx] += f\", d_m = {all_distances_sep_min:.0f}°\"\n",
    "    num_target+=1"
   ]
  },
  {
   "cell_type": "code",
   "execution_count": null,
   "id": "5c3fae28-e411-47b5-9fde-182211285280",
   "metadata": {},
   "outputs": [],
   "source": [
    "all_target_tagnames"
   ]
  },
  {
   "cell_type": "markdown",
   "id": "6325dbce-0100-4b59-8c84-61cd16eac0a3",
   "metadata": {},
   "source": [
    "### Update target tag"
   ]
  },
  {
   "cell_type": "code",
   "execution_count": null,
   "id": "6cedc8c4-6b1a-4a43-bc96-e0e87670f4d0",
   "metadata": {},
   "outputs": [],
   "source": [
    "t[\"tag\"] = all_target_tagnames"
   ]
  },
  {
   "cell_type": "code",
   "execution_count": null,
   "id": "4a19b0d2-1f2e-401c-81a7-973ce4b01725",
   "metadata": {},
   "outputs": [],
   "source": [
    "t"
   ]
  },
  {
   "cell_type": "markdown",
   "id": "3ae4eafa-ded3-4035-ba74-13640dc07207",
   "metadata": {},
   "source": [
    "## Sort target according increasing max culminating time"
   ]
  },
  {
   "cell_type": "code",
   "execution_count": null,
   "id": "94abc470-88f1-4626-b9df-494a47fefcc8",
   "metadata": {},
   "outputs": [],
   "source": [
    "all_timemax=np.zeros(NTargets)\n",
    "all_altitudesmax=np.zeros(NTargets)\n",
    "for idx in np.arange(NTargets):\n",
    "    altitudes=all_target_altazs_evening_to_morning[idx].alt\n",
    "    idx_max=np.where(altitudes==altitudes.max())[0][0]\n",
    "    all_timemax[idx]=delta_midnight[idx_max].value\n",
    "    all_altitudesmax[idx]=altitudes.max().degree"
   ]
  },
  {
   "cell_type": "code",
   "execution_count": null,
   "id": "eadce3a7-a87a-4b82-93e6-f0be07ccad58",
   "metadata": {},
   "outputs": [],
   "source": [
    "all_altitudesmax"
   ]
  },
  {
   "cell_type": "code",
   "execution_count": null,
   "id": "f8af5476-c83d-4105-a955-a11d3d407a4e",
   "metadata": {},
   "outputs": [],
   "source": [
    "t[\"tmax\"] = all_timemax"
   ]
  },
  {
   "cell_type": "code",
   "execution_count": null,
   "id": "4da15e1a-96ca-4fcc-a348-97e5be21bbb0",
   "metadata": {},
   "outputs": [],
   "source": [
    "all_timemax"
   ]
  },
  {
   "cell_type": "code",
   "execution_count": null,
   "id": "f7dee73e-b64b-4586-b3fd-2a27e3e40a13",
   "metadata": {},
   "outputs": [],
   "source": [
    "rank = np.argsort(all_timemax)\n",
    "rank"
   ]
  },
  {
   "cell_type": "code",
   "execution_count": null,
   "id": "37af2e80-03e0-4986-bea7-b4808cb737a4",
   "metadata": {},
   "outputs": [],
   "source": [
    "rankinv = np.argsort(rank)\n",
    "rankinv"
   ]
  },
  {
   "cell_type": "code",
   "execution_count": null,
   "id": "68496db5-3422-41f3-bf5e-ebbed41216b4",
   "metadata": {},
   "outputs": [],
   "source": [
    "#t.index[rank]"
   ]
  },
  {
   "cell_type": "code",
   "execution_count": null,
   "id": "4f1c7a38-6660-4ed5-a23f-a280967d88e0",
   "metadata": {},
   "outputs": [],
   "source": [
    "t[\"rank_tmax\"] = rankinv # rank in time\n",
    "t[\"rank_num\"] = np.arange(NTargets) # rank in original table"
   ]
  },
  {
   "cell_type": "code",
   "execution_count": null,
   "id": "3594bc2f-c268-4fb9-adea-a51ab238aade",
   "metadata": {},
   "outputs": [],
   "source": [
    "#t = t.sort_values(by = ['tmax'])"
   ]
  },
  {
   "cell_type": "markdown",
   "id": "0dd6828b-e468-4129-a61b-59d996c2c0a7",
   "metadata": {},
   "source": [
    "### Must reindex dataframe for loop on targets (in sorting order)"
   ]
  },
  {
   "cell_type": "code",
   "execution_count": null,
   "id": "1d9858fa-3fc1-45b7-89ec-31dd20c0f95f",
   "metadata": {},
   "outputs": [],
   "source": [
    "#t.reset_index(inplace=True)"
   ]
  },
  {
   "cell_type": "code",
   "execution_count": null,
   "id": "54cb0137-6e57-4140-863a-2a273e6448b4",
   "metadata": {},
   "outputs": [],
   "source": [
    "t"
   ]
  },
  {
   "cell_type": "markdown",
   "id": "67a606cf-8ec8-439b-98b9-76fba2b771e6",
   "metadata": {},
   "source": [
    "# Plot"
   ]
  },
  {
   "cell_type": "code",
   "execution_count": null,
   "id": "2353baec-360b-4df5-817d-7339c65f59f9",
   "metadata": {},
   "outputs": [],
   "source": [
    "all_target_names = t[\"target_name\"].values\n",
    "all_target_names"
   ]
  },
  {
   "cell_type": "code",
   "execution_count": null,
   "id": "f2122726-bee6-4a4a-92e7-3c1fd0c12be1",
   "metadata": {},
   "outputs": [],
   "source": [
    "fig = plt.figure(figsize=(18,12))\n",
    "\n",
    "\n",
    "# First Axis : target sky trajectories\n",
    "# ====================================\n",
    "ax=fig.add_subplot(1,1,1)\n",
    "\n",
    "# plot sun\n",
    "ax.plot(delta_midnight, sunaltazs_evening_to_morning.alt, color='r', ls=\":\",label='Sun',lw=5)\n",
    "#plot moon\n",
    "ax.plot(delta_midnight, moonaltazs_evening_to_morning.alt, color=[0.75]*3, ls='--', label='Moon',lw=5)\n",
    "\n",
    "\n",
    "# loop on selected targets in pandas dataframe t according rank order\n",
    "for index in range(NTargets):\n",
    "    \n",
    "    # select the good row in pandas dataframe from time ordering\n",
    "    row = (t[t[\"rank_tmax\"] == index]).iloc[0]\n",
    "    \n",
    "\n",
    "    # get its tag\n",
    "    label = str(index+1) + \") : \" + row[\"tag\"]\n",
    "    \n",
    "    # rank in all_target_altazs_evening_to_morning table\n",
    "    rank_num = row[\"rank_num\"]\n",
    "    tmax = row[\"tmax\"]\n",
    "    altmax = row[\"alt_max\"]\n",
    "    \n",
    "    \n",
    "  \n",
    "    # plot trajectory\n",
    "    ax.plot(delta_midnight, all_target_altazs_evening_to_morning[rank_num].alt,label=label, lw=2.5,color=all_colors[index])\n",
    "\n",
    "    # plot label\n",
    "    if all_target_altazs_evening_to_morning[rank_num].alt[-1]>0:\n",
    "        ax.text(delta_midnight[-1], all_target_altazs_evening_to_morning[rank_num].alt[-1], f'{index+1}',color=all_colors[index],fontsize=20)\n",
    "    if all_target_altazs_evening_to_morning[rank_num].alt[0]>0:\n",
    "        ax.text(delta_midnight[0], all_target_altazs_evening_to_morning[rank_num].alt[0], f'{index+1}',color=all_colors[index],fontsize=20)\n",
    "    if altmax>0 :\n",
    "        ax.text(tmax, altmax, f'{index+1}',color=all_colors[index],fontsize=20)\n",
    "    \n",
    "\n",
    "\n",
    "ax.fill_between(delta_midnight, 0*u.deg, 90*u.deg,sunaltazs_evening_to_morning.alt < -0*u.deg, color='0.5', zorder=0)\n",
    "ax.fill_between(delta_midnight, 0*u.deg, 90*u.deg,sunaltazs_evening_to_morning.alt < -18*u.deg, color='k', zorder=0)\n",
    "\n",
    "ax.legend(loc='upper right')\n",
    "ax.set_xlim(-12*u.hour, 12*u.hour)\n",
    "ax.set_xticks((np.arange(13)*2-12)*u.hour)\n",
    "ax.set_ylim(0*u.deg, 90*u.deg)\n",
    "ax.set_xlabel('Hours from Midnight local time')\n",
    "ax.set_ylabel('Altitude [deg]')\n",
    "ax.grid(None)\n",
    "tick_spacing = 1\n",
    "ax.xaxis.set_major_locator(ticker.MultipleLocator(tick_spacing))\n",
    "title = \"Observations at AuxTel at night \" + night_obs_str.split(\" \")[0]\n",
    "ax.set_title(title)\n",
    "#for label in ax.get_xticklabels(which='major'):\n",
    "#    label.set(rotation=30, horizontalalignment='right')\n",
    "\n",
    "\n",
    "# second horizontal axis : Sideral time axis\n",
    "# ==========================================\n",
    "ax2 = ax.twiny()\n",
    "ax2.plot([sideral_times[0].hour,sideral_times[-1].hour],[0,0])\n",
    "ax2.set_xlabel(\"sideral time (hour)\")\n",
    "ax2.xaxis.set_major_locator(ticker.MultipleLocator(tick_spacing))\n",
    "ax2.grid(None)\n",
    "\n",
    "# third horizontal axis : UTC time axis\n",
    "# =====================================\n",
    "\n",
    "ax3 = ax.twiny()\n",
    "# Move twinned axis ticks and label from top to bottom\n",
    "ax3.xaxis.set_ticks_position(\"bottom\")\n",
    "ax3.xaxis.set_label_position(\"bottom\")\n",
    "# Offset the twin axis below the host\n",
    "offset = -0.12\n",
    "ax3.spines[\"bottom\"].set_position((\"axes\", offset))\n",
    "\n",
    "ax3.set_frame_on(True)\n",
    "ax3.patch.set_visible(False) # mandatory\n",
    "for sp in ax3.spines.values():\n",
    "    sp.set_visible(False)\n",
    "ax3.spines[\"bottom\"].set_visible(True)\n",
    "fmt = '%m/%d %H:%M'\n",
    "plt.gca().xaxis.set_major_formatter(mdates.DateFormatter(fmt))\n",
    "ax3.xaxis.set_major_locator(mdates.HourLocator(interval=1))\n",
    "\n",
    "curvetoremove, = ax3.plot_date(times_evening_to_morning_datetime, sunaltazs_evening_to_morning.alt, color='r', ls=\":\",lw=0)\n",
    "curvetoremove.remove()\n",
    "ax3.set_xlim(times_evening_to_morning_datetime[0], times_evening_to_morning_datetime[-1])\n",
    "\n",
    "\n",
    "\n",
    "ax3.tick_params(which='major', width=1.00, length=5)\n",
    "ax3.tick_params(which='minor', width=0.75, length=2.5)\n",
    "ax3.grid(True)\n",
    "#plt.gcf().autofmt_xdate()  # orient date labels at a slant\n",
    "# slant for this axis\n",
    "for label in ax3.get_xticklabels(which='major'):\n",
    "    label.set(rotation=30, horizontalalignment='right')\n",
    "\n",
    "ax3.set_xlabel(\"UTC Time\")\n",
    "\n",
    "if FLAG_PRESELECTION_TARGET:\n",
    "    figname=\"AuxtelStarAlt_list_of_preselectedstars{:4d}_{:d}_{:d}.png\".format(NYEAR,NMONTH,NDAY)\n",
    "else:\n",
    "    figname=\"AuxtelStarAlt_list_of_stars{:4d}_{:d}_{:d}.png\".format(NYEAR,NMONTH,NDAY)\n",
    "    \n",
    "\n",
    "plt.tight_layout()\n",
    "plt.savefig(figname)\n",
    "plt.show()"
   ]
  },
  {
   "cell_type": "code",
   "execution_count": null,
   "id": "2b6a4d37-1cf8-4013-a081-26fcab3229fb",
   "metadata": {},
   "outputs": [],
   "source": []
  },
  {
   "cell_type": "markdown",
   "id": "e41d2a28-a2ae-42fc-961f-0733a698e5d4",
   "metadata": {},
   "source": [
    "# To plot in staralt\n",
    "\n",
    "https://www.ing.iac.es//Astronomy/telescopes/wht/catformat.html"
   ]
  },
  {
   "cell_type": "code",
   "execution_count": null,
   "id": "13fc2ada-7d46-43c8-b6d1-bbced1767cc9",
   "metadata": {},
   "outputs": [],
   "source": [
    "t_staralt = t[[\"target_name\",\"RA\",\"DEC\",\"rank_tmax\"]]\n",
    "t_staralt[\"equinox\"] = np.full(NTargets,\"J2000\")\n",
    "t_staralt = t_staralt.sort_values(by = ['rank_tmax'])\n",
    "t_staralt = t_staralt.drop(['rank_tmax'], axis=1)"
   ]
  },
  {
   "cell_type": "code",
   "execution_count": null,
   "id": "9d150a78-3bdb-4faa-a1b5-04e7a84724b3",
   "metadata": {},
   "outputs": [],
   "source": [
    "t_staralt"
   ]
  },
  {
   "cell_type": "code",
   "execution_count": null,
   "id": "302f4b5c-bac8-41db-88ff-a0ae1f778275",
   "metadata": {},
   "outputs": [],
   "source": [
    "t_staralt.to_csv(\"staralt.csv\",index=False,header=False, sep = \" \")"
   ]
  },
  {
   "cell_type": "code",
   "execution_count": null,
   "id": "984037c8-fa5e-41b7-bb1e-5789b34964cc",
   "metadata": {},
   "outputs": [],
   "source": [
    "! cat staralt.csv"
   ]
  },
  {
   "cell_type": "markdown",
   "id": "25045fc8-76be-42e6-b79a-5a811795f87a",
   "metadata": {},
   "source": [
    "# Spheric plot"
   ]
  },
  {
   "cell_type": "code",
   "execution_count": null,
   "id": "68d4c9da-e3ee-423b-a018-260d9478527f",
   "metadata": {},
   "outputs": [],
   "source": [
    "def makePolarPlot(azimuthsInDegrees, zenithAngles, marker=\".\",ax=None,\n",
    "                       title=None, color=None, objName=None,lw=0.5):\n",
    "    if ax==None:\n",
    "        _ = plt.figure(figsize=(20, 10))\n",
    "        ax = plt.subplot(111, polar=True)\n",
    "        \n",
    "    ax.plot([a*np.pi/180 for a in azimuthsInDegrees], zenithAngles, marker, c=color, label=objName,lw=lw)\n",
    "    if title:\n",
    "        ax.set_title(title, va='bottom')\n",
    "    ax.set_theta_zero_location(\"N\")\n",
    "    ax.set_theta_direction(-1)\n",
    "    ax.set_rlim(0, 90)\n",
    "    return ax"
   ]
  },
  {
   "cell_type": "code",
   "execution_count": null,
   "id": "c825e1de-36ff-41a7-b0b0-784c4b9fc11e",
   "metadata": {},
   "outputs": [],
   "source": [
    "_ = plt.figure(figsize=(20, 10))\n",
    "\n",
    "ax = plt.subplot(111, polar=True)\n",
    "\n",
    "\n",
    "darkTimeIndex=[sunaltazs_evening_to_morning.alt < -18*u.deg][0]\n",
    "\n",
    "# compute zenith and azimuth angles\n",
    "moon_azimuthsInDegrees = Angle(moonaltazs_evening_to_morning.az).deg\n",
    "moon_zenithAngles = Angle(moonaltazs_evening_to_morning.zen).deg\n",
    "\n",
    "#ax=makePolarPlot(moon_azimuthsInDegrees, moon_zenithAngles,ax=ax, marker=\"--\",color=\"y\", title = None, lw=1)\n",
    "\n",
    "moon_azimuthsInDegreesNight=moon_azimuthsInDegrees[darkTimeIndex]\n",
    "moon_zenithAnglesNight=moon_zenithAngles[darkTimeIndex]\n",
    "ax=makePolarPlot(moon_azimuthsInDegreesNight, moon_zenithAnglesNight,ax=ax ,marker=\"*-\",title=None, color = \"y\",objName=\"Moon\",lw=3)\n",
    "\n",
    "    \n",
    "# loop on selected targets in pandas dataframe t according rank order\n",
    "for index in range(NTargets):\n",
    "    \n",
    "    # select the good row in pandas dataframe from time ordering\n",
    "    row = (t[t[\"rank_tmax\"] == index]).iloc[0]\n",
    "    \n",
    "\n",
    "    # get its tag\n",
    "    label = str(index+1) + \") : \" + row[\"tag\"]\n",
    "    \n",
    "    # rank in all_target_altazs_evening_to_morning table\n",
    "    rank_num = row[\"rank_num\"]\n",
    "    tmax = row[\"tmax\"]\n",
    "    altmax = row[\"alt_max\"]\n",
    "    \n",
    "    \n",
    "    \n",
    "    \n",
    "    \n",
    "    # compute zenith and azimuth angles\n",
    "    azimuthsInDegrees=Angle(all_target_altazs_evening_to_morning[rank_num].az).deg\n",
    "    zenithAngles = Angle(all_target_altazs_evening_to_morning[rank_num].zen).deg\n",
    "    \n",
    "    ax=makePolarPlot(azimuthsInDegrees, zenithAngles,ax=ax, marker=\"-\",title=None, color=all_colors[index], lw=0.5)\n",
    "    \n",
    "    azimuthsInDegreesNight=azimuthsInDegrees[darkTimeIndex]\n",
    "    zenithAnglesNight=zenithAngles[darkTimeIndex]\n",
    "    ax=makePolarPlot(azimuthsInDegreesNight, zenithAnglesNight,ax=ax ,marker=\"*-\",title=None, color=all_colors[index],objName=label,lw=0.5)\n",
    "    \n",
    "    thex=zenithAnglesNight[0]*np.sin( (azimuthsInDegreesNight[0]) *np.pi/180.)\n",
    "    they=zenithAnglesNight[0]*np.cos( (azimuthsInDegreesNight[0])*np.pi/180.)\n",
    "   \n",
    "    #plt.text(thex, they,f'{rank}',color=all_colors[rank],fontsize=20)\n",
    "    \n",
    " \n",
    "ax.legend(bbox_to_anchor=(1.08, 1), prop={'size': 15}, loc='upper left')\n",
    "ax.set_theta_zero_location(\"N\")\n",
    "ax.set_theta_direction(-1)\n",
    "ax.set_rlim(0, 90)\n",
    "ax.set_xticklabels(['N', '', 'E', '', 'S', '', 'W', ''])\n",
    "title = \"Observations at AuxTel at night \" + night_obs_str.split(\" \")[0]\n",
    "ax.set_title(title)"
   ]
  },
  {
   "cell_type": "code",
   "execution_count": null,
   "id": "0d61ca7c-45e0-46ce-a3a7-ba7b2a135ca0",
   "metadata": {},
   "outputs": [],
   "source": []
  }
 ],
 "metadata": {
  "kernelspec": {
   "display_name": "Python 3 (ipykernel)",
   "language": "python",
   "name": "python3"
  },
  "language_info": {
   "codemirror_mode": {
    "name": "ipython",
    "version": 3
   },
   "file_extension": ".py",
   "mimetype": "text/x-python",
   "name": "python",
   "nbconvert_exporter": "python",
   "pygments_lexer": "ipython3",
   "version": "3.10.12"
  }
 },
 "nbformat": 4,
 "nbformat_minor": 5
}
