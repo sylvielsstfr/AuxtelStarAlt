{
 "cells": [
  {
   "cell_type": "markdown",
   "metadata": {},
   "source": [
    "\n",
    "# Determining and plotting the altitude/azimuth of a celestial object\n",
    "\n",
    "This example demonstrates coordinate transformations and the creation of\n",
    "visibility curves to assist with observing run planning.\n",
    "\n",
    "In this example, we make a `~astropy.coordinates.SkyCoord` instance for M33.\n",
    "The altitude-azimuth coordinates are then found using\n",
    "`astropy.coordinates.EarthLocation` and `astropy.time.Time` objects.\n",
    "\n",
    "This example is meant to demonstrate the capabilities of the\n",
    "`astropy.coordinates` package. For more convenient and/or complex observation\n",
    "planning, consider the `astroplan <https://astroplan.readthedocs.org/>`_\n",
    "package.\n",
    "\n",
    "\n",
    "*By: Erik Tollerud, Kelle Cruz*\n",
    "\n",
    "*License: BSD*\n"
   ]
  },
  {
   "cell_type": "markdown",
   "metadata": {},
   "source": [
    "- Author Sylvie Dagoret-Campagne\n",
    "- Creation : 28 June 2021"
   ]
  },
  {
   "cell_type": "markdown",
   "metadata": {},
   "source": [
    "Let's suppose you are planning to visit picturesque Bear Mountain State Park\n",
    "in New York, USA. You're bringing your telescope with you (of course), and\n",
    "someone told you M33 is a great target to observe there. You happen to know\n",
    "you're free at 11:00 pm local time, and you want to know if it will be up.\n",
    "Astropy can answer that.\n",
    "\n",
    "Import numpy and matplotlib. For the latter, use a nicer set of plot\n",
    "parameters and set up support for plotting/converting quantities.\n",
    "\n"
   ]
  },
  {
   "cell_type": "code",
   "execution_count": 1,
   "metadata": {
    "collapsed": false,
    "jupyter": {
     "outputs_hidden": false
    }
   },
   "outputs": [],
   "source": [
    "import numpy as np\n",
    "import matplotlib.pyplot as plt\n",
    "from astropy.visualization import astropy_mpl_style, quantity_support\n",
    "plt.style.use(astropy_mpl_style)\n",
    "quantity_support()\n",
    "\n",
    "%matplotlib inline"
   ]
  },
  {
   "cell_type": "markdown",
   "metadata": {},
   "source": [
    "Import the packages necessary for finding coordinates and making\n",
    "coordinate transformations\n",
    "\n"
   ]
  },
  {
   "cell_type": "code",
   "execution_count": 2,
   "metadata": {
    "collapsed": false,
    "jupyter": {
     "outputs_hidden": false
    }
   },
   "outputs": [],
   "source": [
    "import astropy.units as u\n",
    "from astropy.time import Time\n",
    "from astropy.coordinates import SkyCoord, EarthLocation, AltAz"
   ]
  },
  {
   "cell_type": "code",
   "execution_count": 3,
   "metadata": {},
   "outputs": [],
   "source": [
    "import datetime\n",
    "import timezonefinder, pytz\n",
    "from calendar import monthrange\n",
    "import calendar"
   ]
  },
  {
   "cell_type": "code",
   "execution_count": 4,
   "metadata": {},
   "outputs": [],
   "source": [
    "plt.rcParams[\"axes.labelsize\"]=\"large\"\n",
    "plt.rcParams[\"axes.linewidth\"]=2.0\n",
    "plt.rcParams[\"xtick.major.size\"]=8\n",
    "plt.rcParams[\"ytick.major.size\"]=8\n",
    "plt.rcParams[\"ytick.minor.size\"]=5\n",
    "plt.rcParams[\"xtick.labelsize\"]=\"large\"\n",
    "plt.rcParams[\"ytick.labelsize\"]=\"large\"\n",
    "\n",
    "plt.rcParams[\"figure.figsize\"]=(12,8)\n",
    "plt.rcParams['axes.titlesize'] = 16\n",
    "plt.rcParams['axes.titleweight'] = 'bold'\n",
    "#plt.rcParams['axes.facecolor'] = 'blue'\n",
    "plt.rcParams['xtick.direction'] = 'out'\n",
    "plt.rcParams['ytick.direction'] = 'out'\n",
    "plt.rcParams['lines.markeredgewidth'] = 0.3 # the line width around the marker symbol\n",
    "plt.rcParams['lines.markersize'] = 5  # markersize, in points\n",
    "plt.rcParams['grid.alpha'] = 0.75 # transparency, between 0.0 and 1.0\n",
    "plt.rcParams['grid.linestyle'] = '-' # simple line\n",
    "plt.rcParams['grid.linewidth'] = 0.4 # in points\n",
    "plt.rcParams['font.size'] = 13"
   ]
  },
  {
   "cell_type": "markdown",
   "metadata": {},
   "source": [
    "# Initialisation:"
   ]
  },
  {
   "cell_type": "markdown",
   "metadata": {},
   "source": [
    "## Observation location"
   ]
  },
  {
   "cell_type": "code",
   "execution_count": 5,
   "metadata": {},
   "outputs": [],
   "source": [
    "LSSTNAME='Cerro Pachon'\n",
    "lsst_location=EarthLocation.of_site(LSSTNAME)\n",
    "longitude=lsst_location.lon\n",
    "latitude=lsst_location.lat\n",
    "altitude=lsst_location.height"
   ]
  },
  {
   "cell_type": "markdown",
   "metadata": {},
   "source": [
    "## Determination of UTC offset from Time zone in Chile"
   ]
  },
  {
   "cell_type": "code",
   "execution_count": 6,
   "metadata": {},
   "outputs": [],
   "source": [
    "tf = timezonefinder.TimezoneFinder()"
   ]
  },
  {
   "cell_type": "code",
   "execution_count": 7,
   "metadata": {},
   "outputs": [],
   "source": [
    "timezone_str = tf.certain_timezone_at(lat=latitude.degree, lng=longitude.degree)"
   ]
  },
  {
   "cell_type": "code",
   "execution_count": 8,
   "metadata": {},
   "outputs": [
    {
     "data": {
      "text/plain": [
       "'America/Santiago'"
      ]
     },
     "execution_count": 8,
     "metadata": {},
     "output_type": "execute_result"
    }
   ],
   "source": [
    "timezone_str "
   ]
  },
  {
   "cell_type": "code",
   "execution_count": 9,
   "metadata": {},
   "outputs": [
    {
     "name": "stdout",
     "output_type": "stream",
     "text": [
      "The UTC Time now 2021-06-28 14:07:07.379705\n",
      "The actual time in America/Santiago is 2021-06-28 10:07:07.379705\n"
     ]
    }
   ],
   "source": [
    "if timezone_str is None:\n",
    "    print(\"Could not determine the time zone\")\n",
    "else:\n",
    "    # Display the current time in that time zone\n",
    "    \n",
    "    #tz = pytz.timezone('Europe/Berlin')\n",
    "    #berlin_now = datetime.now(tz)\n",
    "    \n",
    "    timezone = pytz.timezone(timezone_str)\n",
    "    timezone0 = pytz.timezone('UTC')\n",
    "    \n",
    "    dt = datetime.datetime.utcnow()\n",
    "    timeChile_now = datetime.datetime.now(timezone)\n",
    "    \n",
    "    print(\"The UTC Time now %s\" % dt)\n",
    "    print(\"The actual time in %s is %s\" % (timezone_str, dt + timezone.utcoffset(dt)))"
   ]
  },
  {
   "cell_type": "code",
   "execution_count": 10,
   "metadata": {},
   "outputs": [
    {
     "name": "stdout",
     "output_type": "stream",
     "text": [
      "The UTC offset in Chile is  -4.0  hours\n"
     ]
    }
   ],
   "source": [
    "utcoffset=timezone.utcoffset(dt).total_seconds()/60./60.\n",
    "print(\"The UTC offset in Chile is \",utcoffset,\" hours\")"
   ]
  },
  {
   "cell_type": "markdown",
   "metadata": {},
   "source": [
    "## Target"
   ]
  },
  {
   "cell_type": "code",
   "execution_count": 11,
   "metadata": {},
   "outputs": [],
   "source": [
    "target_name='hd111980'"
   ]
  },
  {
   "cell_type": "code",
   "execution_count": 12,
   "metadata": {
    "collapsed": false,
    "jupyter": {
     "outputs_hidden": false
    }
   },
   "outputs": [],
   "source": [
    "target_location = SkyCoord.from_name(target_name)"
   ]
  },
  {
   "cell_type": "code",
   "execution_count": 13,
   "metadata": {},
   "outputs": [
    {
     "data": {
      "text/plain": [
       "<SkyCoord (ICRS): (ra, dec) in deg\n",
       "    (193.31272008, -18.52222474)>"
      ]
     },
     "execution_count": 13,
     "metadata": {},
     "output_type": "execute_result"
    }
   ],
   "source": [
    "target_location"
   ]
  },
  {
   "cell_type": "markdown",
   "metadata": {},
   "source": [
    "## Observation Date"
   ]
  },
  {
   "cell_type": "code",
   "execution_count": 14,
   "metadata": {},
   "outputs": [],
   "source": [
    "NYEAR=2021\n",
    "NMONTH=7\n",
    "NDAY=7"
   ]
  },
  {
   "cell_type": "code",
   "execution_count": 15,
   "metadata": {},
   "outputs": [],
   "source": [
    "night_obs= datetime.datetime(NYEAR, NMONTH, NDAY, 0, 0)\n",
    "night_obs_midnight= datetime.datetime(NYEAR, NMONTH, NDAY, 23, 59,59)"
   ]
  },
  {
   "cell_type": "code",
   "execution_count": 16,
   "metadata": {},
   "outputs": [
    {
     "data": {
      "text/plain": [
       "datetime.datetime(2021, 7, 7, 23, 59, 59)"
      ]
     },
     "execution_count": 16,
     "metadata": {},
     "output_type": "execute_result"
    }
   ],
   "source": [
    "night_obs_midnight"
   ]
  },
  {
   "cell_type": "code",
   "execution_count": 17,
   "metadata": {},
   "outputs": [
    {
     "data": {
      "text/plain": [
       "'2021-07-07 00:00:00'"
      ]
     },
     "execution_count": 17,
     "metadata": {},
     "output_type": "execute_result"
    }
   ],
   "source": [
    "night_obs_str=night_obs.strftime(\"%Y-%m-%d %H:%M:%S\")\n",
    "night_obs_str"
   ]
  },
  {
   "cell_type": "code",
   "execution_count": 18,
   "metadata": {},
   "outputs": [
    {
     "data": {
      "text/plain": [
       "'2021-07-07 23:59:59'"
      ]
     },
     "execution_count": 18,
     "metadata": {},
     "output_type": "execute_result"
    }
   ],
   "source": [
    "night_obs_midnight_str=night_obs_midnight.strftime(\"%Y-%m-%d %H:%M:%S\")\n",
    "night_obs_midnight_str"
   ]
  },
  {
   "cell_type": "markdown",
   "metadata": {},
   "source": [
    "## Time zone at observation"
   ]
  },
  {
   "cell_type": "code",
   "execution_count": 19,
   "metadata": {},
   "outputs": [
    {
     "name": "stdout",
     "output_type": "stream",
     "text": [
      "The UTC Time at observation 2021-07-07 23:59:59\n",
      "The actual time in America/Santiago is 2021-07-07 19:59:59\n"
     ]
    }
   ],
   "source": [
    "if timezone_str is None:\n",
    "    print(\"Could not determine the time zone\")\n",
    "else:\n",
    "    # Display the current time in that time zone\n",
    "    \n",
    "    #tz = pytz.timezone('Europe/Berlin')\n",
    "    #berlin_now = datetime.now(tz)\n",
    "    \n",
    "    timezone = pytz.timezone(timezone_str)\n",
    "    timezone0 = pytz.timezone('UTC')\n",
    "    \n",
    "    dt = night_obs_midnight\n",
    "    \n",
    "    print(\"The UTC Time at observation %s\" % dt)\n",
    "    print(\"The actual time in %s is %s\" % (timezone_str, dt + timezone.utcoffset(dt)))"
   ]
  },
  {
   "cell_type": "code",
   "execution_count": 20,
   "metadata": {},
   "outputs": [
    {
     "name": "stdout",
     "output_type": "stream",
     "text": [
      "The UTC offset in Chile is  -4.0  hours\n"
     ]
    }
   ],
   "source": [
    "utcoffset=timezone.utcoffset(dt).total_seconds()/60./60.\n",
    "print(\"The UTC offset in Chile is \",utcoffset,\" hours\")"
   ]
  },
  {
   "cell_type": "code",
   "execution_count": 21,
   "metadata": {},
   "outputs": [],
   "source": [
    "utcoffset=utcoffset*u.hour  # need hours units"
   ]
  },
  {
   "cell_type": "markdown",
   "metadata": {},
   "source": [
    "## Observation Location"
   ]
  },
  {
   "cell_type": "code",
   "execution_count": 22,
   "metadata": {},
   "outputs": [],
   "source": [
    "LSSTNAME='Cerro Pachon'\n",
    "lsst_location=EarthLocation.of_site(LSSTNAME)\n",
    "longitude=lsst_location.lon\n",
    "latitude=lsst_location.lat\n",
    "altitude=lsst_location.height"
   ]
  },
  {
   "cell_type": "code",
   "execution_count": 23,
   "metadata": {
    "collapsed": false,
    "jupyter": {
     "outputs_hidden": false
    }
   },
   "outputs": [],
   "source": [
    "cerro_pachon = EarthLocation(lat=latitude.degree*u.deg, lon=longitude.degree*u.deg, height=altitude)"
   ]
  },
  {
   "cell_type": "markdown",
   "metadata": {},
   "source": [
    "## Check Position of target at midnight\n",
    "\n",
    "http://catserver.ing.iac.es/staralt/"
   ]
  },
  {
   "cell_type": "code",
   "execution_count": 24,
   "metadata": {},
   "outputs": [
    {
     "data": {
      "text/plain": [
       "'2021-07-07 23:59:59'"
      ]
     },
     "execution_count": 24,
     "metadata": {},
     "output_type": "execute_result"
    }
   ],
   "source": [
    "night_obs_midnight_str"
   ]
  },
  {
   "cell_type": "code",
   "execution_count": 25,
   "metadata": {},
   "outputs": [
    {
     "data": {
      "text/plain": [
       "<Time object: scale='utc' format='iso' value=2021-07-08 03:59:59.000>"
      ]
     },
     "execution_count": 25,
     "metadata": {},
     "output_type": "execute_result"
    }
   ],
   "source": [
    "time_utc = Time(night_obs_midnight_str) - utcoffset\n",
    "time_utc"
   ]
  },
  {
   "cell_type": "code",
   "execution_count": 26,
   "metadata": {
    "collapsed": false,
    "jupyter": {
     "outputs_hidden": false
    }
   },
   "outputs": [
    {
     "name": "stdout",
     "output_type": "stream",
     "text": [
      "target's Altitude = 15.96 deg\n"
     ]
    }
   ],
   "source": [
    "altaz = target_location.transform_to(AltAz(obstime=time_utc,location=cerro_pachon))\n",
    "print(\"target's Altitude = {0.alt:.2f}\".format(altaz))"
   ]
  },
  {
   "cell_type": "markdown",
   "metadata": {},
   "source": [
    "# Observation frame"
   ]
  },
  {
   "cell_type": "code",
   "execution_count": 27,
   "metadata": {
    "collapsed": false,
    "jupyter": {
     "outputs_hidden": false
    }
   },
   "outputs": [],
   "source": [
    "midnight_utc = Time(night_obs_midnight_str) - utcoffset\n",
    "delta_midnight = np.linspace(-2, 10, 100)*u.hour\n",
    "frame_night = AltAz(obstime=midnight_utc+delta_midnight,location=cerro_pachon)\n",
    "target_altazs_night = target_location.transform_to(frame_night)"
   ]
  },
  {
   "cell_type": "markdown",
   "metadata": {},
   "source": [
    "convert alt, az to airmass with `~astropy.coordinates.AltAz.secz` attribute:\n",
    "\n"
   ]
  },
  {
   "cell_type": "code",
   "execution_count": 28,
   "metadata": {
    "collapsed": false,
    "jupyter": {
     "outputs_hidden": false
    }
   },
   "outputs": [],
   "source": [
    "target_airmass_night = target_altazs_night.secz"
   ]
  },
  {
   "cell_type": "markdown",
   "metadata": {},
   "source": [
    "Plot the airmass as a function of time:\n",
    "\n"
   ]
  },
  {
   "cell_type": "code",
   "execution_count": 29,
   "metadata": {
    "collapsed": false,
    "jupyter": {
     "outputs_hidden": false
    }
   },
   "outputs": [
    {
     "data": {
      "image/png": "[encoded data removed]",
      "text/plain": [
       "<Figure size 864x576 with 1 Axes>"
      ]
     },
     "metadata": {
      "needs_background": "light"
     },
     "output_type": "display_data"
    }
   ],
   "source": [
    "plt.plot(delta_midnight, target_airmass_night)\n",
    "plt.xlim(-2, 10)\n",
    "plt.ylim(1, 4)\n",
    "plt.xlabel('Hours from Midnight')\n",
    "plt.ylabel('Airmass [Sec(z)]')\n",
    "plt.show()"
   ]
  },
  {
   "cell_type": "code",
   "execution_count": 30,
   "metadata": {},
   "outputs": [],
   "source": [
    "delta_midnight = np.linspace(-12, 12, 1000)*u.hour\n",
    "times_evening_to_morning = midnight_utc + delta_midnight\n",
    "frame_evening_to_morning = AltAz(obstime=times_evening_to_morning, location=cerro_pachon)"
   ]
  },
  {
   "cell_type": "markdown",
   "metadata": {},
   "source": [
    "### Sun frame"
   ]
  },
  {
   "cell_type": "code",
   "execution_count": 31,
   "metadata": {
    "collapsed": false,
    "jupyter": {
     "outputs_hidden": false
    }
   },
   "outputs": [],
   "source": [
    "from astropy.coordinates import get_sun\n",
    "sunaltazs_evening_to_morning = get_sun(times_evening_to_morning).transform_to(frame_evening_to_morning)"
   ]
  },
  {
   "cell_type": "markdown",
   "metadata": {},
   "source": [
    "### Moon frame"
   ]
  },
  {
   "cell_type": "code",
   "execution_count": 32,
   "metadata": {
    "collapsed": false,
    "jupyter": {
     "outputs_hidden": false
    }
   },
   "outputs": [],
   "source": [
    "from astropy.coordinates import get_moon\n",
    "moon_evening_to_morning = get_moon(times_evening_to_morning)\n",
    "moonaltazs_evening_to_morning = moon_evening_to_morning.transform_to(frame_evening_to_morning)"
   ]
  },
  {
   "cell_type": "markdown",
   "metadata": {},
   "source": [
    "### Target frame"
   ]
  },
  {
   "cell_type": "markdown",
   "metadata": {},
   "source": [
    "\n",
    "\n",
    "\n"
   ]
  },
  {
   "cell_type": "code",
   "execution_count": 33,
   "metadata": {
    "collapsed": false,
    "jupyter": {
     "outputs_hidden": false
    }
   },
   "outputs": [],
   "source": [
    "target_altazs_evening_to_morning = target_location.transform_to(frame_evening_to_morning)"
   ]
  },
  {
   "cell_type": "markdown",
   "metadata": {},
   "source": [
    "Make a beautiful figure illustrating nighttime and the altitudes of M33 and\n",
    "the Sun over that time:\n",
    "\n"
   ]
  },
  {
   "cell_type": "code",
   "execution_count": 35,
   "metadata": {
    "collapsed": false,
    "jupyter": {
     "outputs_hidden": false
    }
   },
   "outputs": [
    {
     "data": {
      "image/png": "[encoded data removed]",
      "text/plain": [
       "<Figure size 864x576 with 2 Axes>"
      ]
     },
     "metadata": {
      "needs_background": "light"
     },
     "output_type": "display_data"
    }
   ],
   "source": [
    "plt.figure(figsize=(12,8))\n",
    "plt.plot(delta_midnight, sunaltazs_evening_to_morning.alt, color='r', label='Sun')\n",
    "plt.plot(delta_midnight, moonaltazs_evening_to_morning.alt, color=[0.75]*3, ls='--', label='Moon')\n",
    "plt.scatter(delta_midnight, target_altazs_evening_to_morning.alt,c=target_altazs_evening_to_morning.az, label=target_name, lw=0, s=8,cmap='viridis')\n",
    "plt.fill_between(delta_midnight, 0*u.deg, 90*u.deg,sunaltazs_evening_to_morning.alt < -0*u.deg, color='0.5', zorder=0)\n",
    "plt.fill_between(delta_midnight, 0*u.deg, 90*u.deg,sunaltazs_evening_to_morning.alt < -18*u.deg, color='k', zorder=0)\n",
    "plt.colorbar().set_label('Azimuth [deg]')\n",
    "plt.legend(loc='upper left')\n",
    "plt.xlim(-12*u.hour, 12*u.hour)\n",
    "plt.xticks((np.arange(13)*2-12)*u.hour)\n",
    "plt.ylim(0*u.deg, 90*u.deg)\n",
    "plt.xlabel('Hours from Midnight local time')\n",
    "plt.ylabel('Altitude [deg]')\n",
    "plt.show()"
   ]
  },
  {
   "cell_type": "code",
   "execution_count": null,
   "metadata": {},
   "outputs": [],
   "source": []
  }
 ],
 "metadata": {
  "kernelspec": {
   "display_name": "anaconda3pbs",
   "language": "python",
   "name": "anaconda3_pbs"
  },
  "language_info": {
   "codemirror_mode": {
    "name": "ipython",
    "version": 3
   },
   "file_extension": ".py",
   "mimetype": "text/x-python",
   "name": "python",
   "nbconvert_exporter": "python",
   "pygments_lexer": "ipython3",
   "version": "3.8.8"
  }
 },
 "nbformat": 4,
 "nbformat_minor": 4
}
