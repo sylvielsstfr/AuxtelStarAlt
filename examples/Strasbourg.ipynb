{
 "cells": [
  {
   "cell_type": "markdown",
   "id": "b3f54aa4",
   "metadata": {},
   "source": [
    "# Strasbourg"
   ]
  },
  {
   "cell_type": "code",
   "execution_count": 9,
   "id": "976553fa",
   "metadata": {},
   "outputs": [],
   "source": [
    "import numpy as np\n",
    "import matplotlib.pyplot as plt\n",
    "from astropy.visualization import astropy_mpl_style, quantity_support\n",
    "plt.style.use(astropy_mpl_style)\n",
    "quantity_support()\n",
    "\n",
    "%matplotlib inline"
   ]
  },
  {
   "cell_type": "code",
   "execution_count": 10,
   "id": "c02a4512",
   "metadata": {},
   "outputs": [],
   "source": [
    "from astroplan import Observer\n",
    "from astroplan import FixedTarget"
   ]
  },
  {
   "cell_type": "code",
   "execution_count": 11,
   "id": "95d8076a",
   "metadata": {},
   "outputs": [],
   "source": [
    "import astropy.units as u\n",
    "from astropy.time import Time\n",
    "from astropy.coordinates import SkyCoord, EarthLocation, AltAz"
   ]
  },
  {
   "cell_type": "code",
   "execution_count": 12,
   "id": "60d28c03",
   "metadata": {},
   "outputs": [],
   "source": [
    "from astropy.coordinates import get_sun,get_moon"
   ]
  },
  {
   "cell_type": "code",
   "execution_count": 13,
   "id": "3341932a",
   "metadata": {},
   "outputs": [],
   "source": [
    "import datetime\n",
    "import timezonefinder, pytz\n",
    "from calendar import monthrange\n",
    "import calendar"
   ]
  },
  {
   "cell_type": "code",
   "execution_count": 14,
   "id": "b85591b0",
   "metadata": {},
   "outputs": [],
   "source": [
    "plt.rcParams[\"axes.labelsize\"]=\"large\"\n",
    "plt.rcParams[\"axes.linewidth\"]=2.0\n",
    "plt.rcParams[\"xtick.major.size\"]=8\n",
    "plt.rcParams[\"ytick.major.size\"]=8\n",
    "plt.rcParams[\"ytick.minor.size\"]=5\n",
    "plt.rcParams[\"xtick.labelsize\"]=\"large\"\n",
    "plt.rcParams[\"ytick.labelsize\"]=\"large\"\n",
    "\n",
    "plt.rcParams[\"figure.figsize\"]=(12,8)\n",
    "plt.rcParams['axes.titlesize'] = 16\n",
    "plt.rcParams['axes.titleweight'] = 'bold'\n",
    "#plt.rcParams['axes.facecolor'] = 'blue'\n",
    "plt.rcParams['xtick.direction'] = 'out'\n",
    "plt.rcParams['ytick.direction'] = 'out'\n",
    "plt.rcParams['lines.markeredgewidth'] = 0.3 # the line width around the marker symbol\n",
    "plt.rcParams['lines.markersize'] = 5  # markersize, in points\n",
    "plt.rcParams['grid.alpha'] = 0.75 # transparency, between 0.0 and 1.0\n",
    "plt.rcParams['grid.linestyle'] = '-' # simple line\n",
    "plt.rcParams['grid.linewidth'] = 0.4 # in points\n",
    "plt.rcParams['font.size'] = 13"
   ]
  },
  {
   "cell_type": "code",
   "execution_count": 15,
   "id": "8ed347e9",
   "metadata": {
    "scrolled": false
   },
   "outputs": [],
   "source": [
    "#EarthLocation.get_site_names()"
   ]
  },
  {
   "cell_type": "markdown",
   "id": "1ed20f3e",
   "metadata": {},
   "source": [
    "https://python.hotexamples.com/examples/astropy.time/Time/sidereal_time/python-time-sidereal_time-method-examples.html"
   ]
  },
  {
   "cell_type": "code",
   "execution_count": 16,
   "id": "01513534",
   "metadata": {},
   "outputs": [],
   "source": [
    "def radec2altaz(ra, dec, obstime, lat=None, long=None, debug=False):\n",
    "    \"\"\"\n",
    "    calculates the altitude and azimuth, given an ra, dec, time, and observatory location\n",
    "    :param ra: right ascension of the target (in degrees)\n",
    "    :param dec: declination of the target (in degrees)\n",
    "    :param obstime: an astropy.time.Time object containing the time of the observation.\n",
    "                    Can also contain the observatory location\n",
    "    :param lat: The latitude of the observatory. Not needed if given in the obstime object\n",
    "    :param long: The longitude of the observatory. Not needed if given in the obstime object\n",
    "    :return:\n",
    "    \"\"\"\n",
    "\n",
    "    if lat is None:\n",
    "        lat = obstime.lat.degree\n",
    "    if long is None:\n",
    "        long = obstime.lon.degree\n",
    "    obstime = Time(obstime.isot, format='isot', scale='utc', location=(long, lat))\n",
    "\n",
    "    # Find the number of days since J2000\n",
    "    j2000 = Time(\"2000-01-01T12:00:00.0\", format='isot', scale='utc')\n",
    "    dt = (obstime - j2000).value  # number of days since J2000 epoch\n",
    "\n",
    "    # get the UT time\n",
    "    tstring = obstime.isot.split(\"T\")[-1]\n",
    "    segments = tstring.split(\":\")\n",
    "    ut = float(segments[0]) + float(segments[1]) / 60.0 + float(segments[2]) / 3600\n",
    "\n",
    "    # Calculate Local Sidereal Time\n",
    "    lst = obstime.sidereal_time('mean').deg\n",
    "\n",
    "    # Calculate the hour angle\n",
    "    HA = lst - ra\n",
    "    while HA < 0.0 or HA > 360.0:\n",
    "        s = -np.sign(HA)\n",
    "        HA += s * 360.0\n",
    "\n",
    "    # convert everything to radians\n",
    "    dec *= np.pi / 180.0\n",
    "    ra *= np.pi / 180.0\n",
    "    lat *= np.pi / 180.0\n",
    "    long *= np.pi / 180.0\n",
    "    HA *= np.pi / 180.0\n",
    "\n",
    "    # Calculate the altitude\n",
    "    alt = np.arcsin(np.sin(dec) * np.sin(lat) + np.cos(dec) * np.cos(lat) * np.cos(HA))\n",
    "\n",
    "    # calculate the azimuth\n",
    "    az = np.arccos((np.sin(dec) - np.sin(alt) * np.sin(lat)) / (np.cos(alt) * np.cos(lat)))\n",
    "    if np.sin(HA) > 0:\n",
    "        az = 2.0 * np.pi - az\n",
    "\n",
    "    if debug:\n",
    "        print(\"UT: \", ut)\n",
    "        print(\"LST: \", lst)\n",
    "        print(\"HA: \", HA * 180.0 / np.pi)\n",
    "\n",
    "    return alt * 180.0 / np.pi, az * 180.0 / np.pi"
   ]
  },
  {
   "cell_type": "markdown",
   "id": "2cba96ae",
   "metadata": {},
   "source": [
    "# Observatoire Astronomique de Strasbourg/Coordinates\n",
    "- 48.5832° N, 7.7678° E\n",
    "- Latitude: 48° 34' 59.99\" N Longitude: 7° 46' 2.99\" E. "
   ]
  },
  {
   "cell_type": "code",
   "execution_count": 17,
   "id": "e5d958f1",
   "metadata": {},
   "outputs": [],
   "source": [
    "strasbourg_location=EarthLocation(lon=7.7678,lat=48.5832,height=142)"
   ]
  },
  {
   "cell_type": "markdown",
   "id": "9c176c86",
   "metadata": {},
   "source": [
    "# Find time zone"
   ]
  },
  {
   "cell_type": "code",
   "execution_count": 18,
   "id": "2781ad9a",
   "metadata": {},
   "outputs": [],
   "source": [
    "tf = timezonefinder.TimezoneFinder()"
   ]
  },
  {
   "cell_type": "code",
   "execution_count": 19,
   "id": "d90b73d0",
   "metadata": {},
   "outputs": [
    {
     "data": {
      "text/plain": [
       "'Europe/Paris'"
      ]
     },
     "execution_count": 19,
     "metadata": {},
     "output_type": "execute_result"
    }
   ],
   "source": [
    "timezone_str = tf.certain_timezone_at(lat=strasbourg_location.lat.degree, lng=strasbourg_location.lon.degree)\n",
    "timezone_str "
   ]
  },
  {
   "cell_type": "code",
   "execution_count": 20,
   "id": "4c5489f2",
   "metadata": {},
   "outputs": [
    {
     "name": "stdout",
     "output_type": "stream",
     "text": [
      "The UTC Time now 2021-10-11 15:09:38.263961\n",
      "The actual time in Europe/Paris is 2021-10-11 17:09:38.263961\n"
     ]
    }
   ],
   "source": [
    "if timezone_str is None:\n",
    "    print(\"Could not determine the time zone\")\n",
    "else:\n",
    "    # Display the current time in that time zone\n",
    "    \n",
    "    #tz = pytz.timezone('Europe/Berlin')\n",
    "    #berlin_now = datetime.now(tz)\n",
    "    \n",
    "    timezone = pytz.timezone(timezone_str)\n",
    "    timezone0 = pytz.timezone('UTC')\n",
    "    \n",
    "    dt = datetime.datetime.utcnow()\n",
    "    timeStrasbourg_now = datetime.datetime.now(timezone)\n",
    "    \n",
    "    print(\"The UTC Time now %s\" % dt)\n",
    "    print(\"The actual time in %s is %s\" % (timezone_str, dt + timezone.utcoffset(dt)))"
   ]
  },
  {
   "cell_type": "code",
   "execution_count": 21,
   "id": "5caaefd3",
   "metadata": {},
   "outputs": [
    {
     "name": "stdout",
     "output_type": "stream",
     "text": [
      "The UTC offset in Strasbourg is  2.0  hours\n"
     ]
    }
   ],
   "source": [
    "utcoffset=timezone.utcoffset(dt).total_seconds()/60./60.\n",
    "print(\"The UTC offset in Strasbourg is \",utcoffset,\" hours\")"
   ]
  },
  {
   "cell_type": "markdown",
   "id": "364a5535",
   "metadata": {},
   "source": [
    "# Current time"
   ]
  },
  {
   "cell_type": "markdown",
   "id": "fcd1da74",
   "metadata": {},
   "source": [
    "## Current local time"
   ]
  },
  {
   "cell_type": "code",
   "execution_count": 22,
   "id": "d4b766d8",
   "metadata": {},
   "outputs": [],
   "source": [
    "now = datetime.datetime.now()"
   ]
  },
  {
   "cell_type": "code",
   "execution_count": 23,
   "id": "3a112997",
   "metadata": {},
   "outputs": [
    {
     "data": {
      "text/plain": [
       "'2021-10-11T17:09:38'"
      ]
     },
     "execution_count": 23,
     "metadata": {},
     "output_type": "execute_result"
    }
   ],
   "source": [
    "now_str=now.strftime(\"%Y-%m-%dT%H:%M:%S\")\n",
    "now_str"
   ]
  },
  {
   "cell_type": "code",
   "execution_count": 24,
   "id": "f97848b3",
   "metadata": {},
   "outputs": [
    {
     "data": {
      "text/plain": [
       "datetime.datetime(2021, 10, 11, 17, 9, 38, 310363)"
      ]
     },
     "execution_count": 24,
     "metadata": {},
     "output_type": "execute_result"
    }
   ],
   "source": [
    "datetime.datetime.now()"
   ]
  },
  {
   "cell_type": "code",
   "execution_count": 26,
   "id": "01844d83",
   "metadata": {},
   "outputs": [
    {
     "data": {
      "text/plain": [
       "<SkyCoord (GCRS: obstime=2021-10-11T17:09:38.000, obsgeoloc=(0., 0., 0.) m, obsgeovel=(0., 0., 0.) m / s): (ra, dec, distance) in (deg, deg, AU)\n",
       "    (196.88340873, -7.17553166, 0.99820111)>"
      ]
     },
     "execution_count": 26,
     "metadata": {},
     "output_type": "execute_result"
    }
   ],
   "source": [
    "coord_sun_local=get_sun(Time(now_str,location=strasbourg_location))\n",
    "coord_sun_local"
   ]
  },
  {
   "cell_type": "code",
   "execution_count": 27,
   "id": "5882bf6a",
   "metadata": {},
   "outputs": [
    {
     "data": {
      "text/plain": [
       "13.125560581910946"
      ]
     },
     "execution_count": 27,
     "metadata": {},
     "output_type": "execute_result"
    }
   ],
   "source": [
    "coord_sun_local.ra.hourangle"
   ]
  },
  {
   "cell_type": "markdown",
   "id": "5896a0cc",
   "metadata": {},
   "source": [
    "## UTC"
   ]
  },
  {
   "cell_type": "code",
   "execution_count": 28,
   "id": "15051e0a",
   "metadata": {},
   "outputs": [],
   "source": [
    "utc_now = datetime.datetime.utcnow()"
   ]
  },
  {
   "cell_type": "code",
   "execution_count": 29,
   "id": "efc163cc",
   "metadata": {},
   "outputs": [
    {
     "data": {
      "text/plain": [
       "'2021-10-11T15:10:25'"
      ]
     },
     "execution_count": 29,
     "metadata": {},
     "output_type": "execute_result"
    }
   ],
   "source": [
    "utc_now_str=utc_now.strftime(\"%Y-%m-%dT%H:%M:%S\")\n",
    "utc_now_str"
   ]
  },
  {
   "cell_type": "code",
   "execution_count": 30,
   "id": "b83c31a5",
   "metadata": {},
   "outputs": [
    {
     "data": {
      "text/plain": [
       "'2021-10-11'"
      ]
     },
     "execution_count": 30,
     "metadata": {},
     "output_type": "execute_result"
    }
   ],
   "source": [
    "utc_date_today_str=utc_now.strftime(\"%Y-%m-%d\")\n",
    "utc_date_today_str"
   ]
  },
  {
   "cell_type": "code",
   "execution_count": 31,
   "id": "a1c73fcf",
   "metadata": {},
   "outputs": [
    {
     "data": {
      "text/plain": [
       "datetime.datetime(2021, 10, 11, 15, 10, 39, 62685)"
      ]
     },
     "execution_count": 31,
     "metadata": {},
     "output_type": "execute_result"
    }
   ],
   "source": [
    "datetime.datetime.utcnow()"
   ]
  },
  {
   "cell_type": "code",
   "execution_count": 32,
   "id": "4921e73a",
   "metadata": {},
   "outputs": [
    {
     "data": {
      "text/plain": [
       "<SkyCoord (GCRS: obstime=2021-10-11T15:10:25.000, obsgeoloc=(0., 0., 0.) m, obsgeovel=(0., 0., 0.) m / s): (ra, dec, distance) in (deg, deg, AU)\n",
       "    (196.80708758, -7.14435509, 0.9982253)>"
      ]
     },
     "execution_count": 32,
     "metadata": {},
     "output_type": "execute_result"
    }
   ],
   "source": [
    "coord_sun_utc=get_sun(Time(utc_now_str,scale=\"utc\"))\n",
    "coord_sun_utc"
   ]
  },
  {
   "cell_type": "code",
   "execution_count": 33,
   "id": "1a447141",
   "metadata": {},
   "outputs": [
    {
     "data": {
      "text/plain": [
       "13.120472505204932"
      ]
     },
     "execution_count": 33,
     "metadata": {},
     "output_type": "execute_result"
    }
   ],
   "source": [
    "coord_sun_utc.ra.hourangle"
   ]
  },
  {
   "cell_type": "code",
   "execution_count": 34,
   "id": "9f06310e",
   "metadata": {},
   "outputs": [],
   "source": [
    "the_sun = FixedTarget(coord=coord_sun_utc, name=\"Sun\")"
   ]
  },
  {
   "cell_type": "markdown",
   "id": "cc60a48b",
   "metadata": {},
   "source": [
    "## Local observation in AltAz frame"
   ]
  },
  {
   "cell_type": "code",
   "execution_count": 36,
   "id": "205031c8",
   "metadata": {},
   "outputs": [],
   "source": [
    "frame_strasbourg = AltAz(obstime=utc_now ,location=strasbourg_location)"
   ]
  },
  {
   "cell_type": "code",
   "execution_count": 37,
   "id": "bd6acbc4",
   "metadata": {},
   "outputs": [],
   "source": [
    "sunaltazs = get_sun(Time(utc_now_str,scale=\"utc\")).transform_to(frame_strasbourg)"
   ]
  },
  {
   "cell_type": "code",
   "execution_count": 38,
   "id": "92931ec1",
   "metadata": {},
   "outputs": [
    {
     "data": {
      "text/latex": [
       "$14^\\circ14{}^\\prime27.2806{}^{\\prime\\prime}$"
      ],
      "text/plain": [
       "<Latitude 14.24091129 deg>"
      ]
     },
     "execution_count": 38,
     "metadata": {},
     "output_type": "execute_result"
    }
   ],
   "source": [
    "sunaltazs.alt"
   ]
  },
  {
   "cell_type": "code",
   "execution_count": 39,
   "id": "09dff89a",
   "metadata": {},
   "outputs": [
    {
     "data": {
      "text/latex": [
       "$75^\\circ45{}^\\prime32.7194{}^{\\prime\\prime}$"
      ],
      "text/plain": [
       "<Angle 75.75908871 deg>"
      ]
     },
     "execution_count": 39,
     "metadata": {},
     "output_type": "execute_result"
    }
   ],
   "source": [
    "sunaltazs.zen"
   ]
  },
  {
   "cell_type": "code",
   "execution_count": 40,
   "id": "269e515b",
   "metadata": {},
   "outputs": [
    {
     "data": {
      "text/latex": [
       "$240^\\circ59{}^\\prime57.3949{}^{\\prime\\prime}$"
      ],
      "text/plain": [
       "<Longitude 240.99927636 deg>"
      ]
     },
     "execution_count": 40,
     "metadata": {},
     "output_type": "execute_result"
    }
   ],
   "source": [
    "sunaltazs.az"
   ]
  },
  {
   "cell_type": "markdown",
   "id": "90e7b98d",
   "metadata": {},
   "source": [
    "# Observer"
   ]
  },
  {
   "cell_type": "code",
   "execution_count": 41,
   "id": "bacd9433",
   "metadata": {},
   "outputs": [],
   "source": [
    "from astroplan import Observer"
   ]
  },
  {
   "cell_type": "code",
   "execution_count": 43,
   "id": "a0fa698c",
   "metadata": {},
   "outputs": [],
   "source": [
    "strasbourg_obs=Observer(location=strasbourg_location, name=\"Strasbourg\")"
   ]
  },
  {
   "cell_type": "code",
   "execution_count": 45,
   "id": "967a2f94",
   "metadata": {},
   "outputs": [
    {
     "name": "stdout",
     "output_type": "stream",
     "text": [
      "2021-10-11 17:09:38+00:00\n"
     ]
    }
   ],
   "source": [
    "print(strasbourg_obs.astropy_time_to_datetime(Time(now_str,location=strasbourg_location)))"
   ]
  },
  {
   "cell_type": "markdown",
   "id": "0275b91e",
   "metadata": {},
   "source": [
    "## Is it night ?"
   ]
  },
  {
   "cell_type": "code",
   "execution_count": 46,
   "id": "c1c509e0",
   "metadata": {},
   "outputs": [
    {
     "data": {
      "text/plain": [
       "False"
      ]
     },
     "execution_count": 46,
     "metadata": {},
     "output_type": "execute_result"
    }
   ],
   "source": [
    "strasbourg_obs.is_night(utc_now_str)"
   ]
  },
  {
   "cell_type": "markdown",
   "id": "56592386",
   "metadata": {},
   "source": [
    "## Sideral time"
   ]
  },
  {
   "cell_type": "code",
   "execution_count": 47,
   "id": "c74565fd",
   "metadata": {},
   "outputs": [
    {
     "data": {
      "text/latex": [
       "$17^\\mathrm{h}03^\\mathrm{m}11.3987^\\mathrm{s}$"
      ],
      "text/plain": [
       "<Longitude 17.05316631 hourangle>"
      ]
     },
     "execution_count": 47,
     "metadata": {},
     "output_type": "execute_result"
    }
   ],
   "source": [
    "lst=strasbourg_obs.local_sidereal_time(Time(utc_now_str))\n",
    "lst"
   ]
  },
  {
   "cell_type": "code",
   "execution_count": 48,
   "id": "c980e678",
   "metadata": {},
   "outputs": [
    {
     "data": {
      "text/plain": [
       "255.79749462370285"
      ]
     },
     "execution_count": 48,
     "metadata": {},
     "output_type": "execute_result"
    }
   ],
   "source": [
    "lst.deg"
   ]
  },
  {
   "cell_type": "markdown",
   "id": "c25292b7",
   "metadata": {},
   "source": [
    "## local solar midnight"
   ]
  },
  {
   "cell_type": "code",
   "execution_count": null,
   "id": "b10e9444",
   "metadata": {},
   "outputs": [],
   "source": [
    "strasbourg_obs.midnight(Time(utc_now_str)).strftime(\"%Y-%m-%dT%H:%M:%S\")"
   ]
  },
  {
   "cell_type": "markdown",
   "id": "81fbf4a2",
   "metadata": {},
   "source": [
    "## Alt, AZ"
   ]
  },
  {
   "cell_type": "code",
   "execution_count": null,
   "id": "39915ff0",
   "metadata": {},
   "outputs": [],
   "source": [
    "strasbourg_obs.sun_altaz(Time(utc_now_str))"
   ]
  },
  {
   "cell_type": "markdown",
   "id": "a3d8dfac",
   "metadata": {},
   "source": [
    "## Sun Set /sun rize"
   ]
  },
  {
   "cell_type": "code",
   "execution_count": null,
   "id": "832db081",
   "metadata": {},
   "outputs": [],
   "source": [
    "strasbourg_obs.sun_rise_time(Time(utc_date_today_str)).strftime(\"%Y-%m-%dT%H:%M:%S\")"
   ]
  },
  {
   "cell_type": "code",
   "execution_count": null,
   "id": "b536e0b8",
   "metadata": {},
   "outputs": [],
   "source": [
    "strasbourg_obs.sun_set_time(Time(utc_date_today_str),which=\"next\").strftime(\"%Y-%m-%dT%H:%M:%S\")"
   ]
  },
  {
   "cell_type": "markdown",
   "id": "e2a13b20",
   "metadata": {},
   "source": [
    "## Hour angle"
   ]
  },
  {
   "cell_type": "code",
   "execution_count": null,
   "id": "68a76d9a",
   "metadata": {},
   "outputs": [],
   "source": [
    "ha=strasbourg_obs.target_hour_angle(Time(utc_date_today_str), target=the_sun)\n",
    "ha"
   ]
  },
  {
   "cell_type": "code",
   "execution_count": null,
   "id": "0345a765",
   "metadata": {},
   "outputs": [],
   "source": [
    "ha.deg"
   ]
  },
  {
   "cell_type": "code",
   "execution_count": null,
   "id": "b885751b",
   "metadata": {},
   "outputs": [],
   "source": [
    "lst.deg"
   ]
  },
  {
   "cell_type": "code",
   "execution_count": null,
   "id": "673921f6",
   "metadata": {},
   "outputs": [],
   "source": [
    "ha.deg+the_sun.ra.deg"
   ]
  },
  {
   "cell_type": "code",
   "execution_count": null,
   "id": "ae0943f4",
   "metadata": {},
   "outputs": [],
   "source": []
  }
 ],
 "metadata": {
  "kernelspec": {
   "display_name": "Python 3",
   "language": "python",
   "name": "python3"
  },
  "language_info": {
   "codemirror_mode": {
    "name": "ipython",
    "version": 3
   },
   "file_extension": ".py",
   "mimetype": "text/x-python",
   "name": "python",
   "nbconvert_exporter": "python",
   "pygments_lexer": "ipython3",
   "version": "3.8.8"
  },
  "toc": {
   "base_numbering": 1,
   "nav_menu": {},
   "number_sections": true,
   "sideBar": true,
   "skip_h1_title": false,
   "title_cell": "Table of Contents",
   "title_sidebar": "Contents",
   "toc_cell": false,
   "toc_position": {},
   "toc_section_display": true,
   "toc_window_display": false
  }
 },
 "nbformat": 4,
 "nbformat_minor": 5
}
